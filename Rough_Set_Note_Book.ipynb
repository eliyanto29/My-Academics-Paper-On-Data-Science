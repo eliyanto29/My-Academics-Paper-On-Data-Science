{
  "nbformat": 4,
  "nbformat_minor": 0,
  "metadata": {
    "colab": {
      "name": "Rough Set Note Book.ipynb",
      "provenance": [],
      "collapsed_sections": [],
      "authorship_tag": "ABX9TyOI8kbVHPE0ae3crLKaU0SZ",
      "include_colab_link": true
    },
    "kernelspec": {
      "name": "python3",
      "display_name": "Python 3"
    }
  },
  "cells": [
    {
      "cell_type": "markdown",
      "metadata": {
        "id": "view-in-github",
        "colab_type": "text"
      },
      "source": [
        "<a href=\"https://colab.research.google.com/github/eliyanto29/My-Academics-Paper-On-Data-Science/blob/master/Rough_Set_Note_Book.ipynb\" target=\"_parent\"><img src=\"https://colab.research.google.com/assets/colab-badge.svg\" alt=\"Open In Colab\"/></a>"
      ]
    },
    {
      "cell_type": "code",
      "metadata": {
        "id": "6cSy4MsNangu"
      },
      "source": [
        "import pandas as pd\n",
        "import numpy as np"
      ],
      "execution_count": null,
      "outputs": []
    },
    {
      "cell_type": "markdown",
      "metadata": {
        "id": "8dXQtiyIa9mA"
      },
      "source": [
        "Information Sistem Tabel"
      ]
    },
    {
      "cell_type": "code",
      "metadata": {
        "id": "oAOE7HSDasd0",
        "outputId": "0d3b37cf-c530-4b51-8735-abcf24cd08bd",
        "colab": {
          "base_uri": "https://localhost:8080/",
          "height": 266
        }
      },
      "source": [
        "Age    =['16-30', '16-30', '31-45', '31-45', '46-60', '16-30', '46-60']\n",
        "LEMS   =['50', '0', '1-25', '1-25', '26-49', '26-49', '26-49']\n",
        "Walk   =['yes', 'no', 'no', 'yes', 'no', 'yes', 'no']\n",
        "\n",
        "data = {'Age':Age, 'LEMS':LEMS, 'Walk':Walk}\n",
        "df_0   = pd.DataFrame(data)\n",
        "df_0"
      ],
      "execution_count": null,
      "outputs": [
        {
          "output_type": "execute_result",
          "data": {
            "text/html": [
              "<div>\n",
              "<style scoped>\n",
              "    .dataframe tbody tr th:only-of-type {\n",
              "        vertical-align: middle;\n",
              "    }\n",
              "\n",
              "    .dataframe tbody tr th {\n",
              "        vertical-align: top;\n",
              "    }\n",
              "\n",
              "    .dataframe thead th {\n",
              "        text-align: right;\n",
              "    }\n",
              "</style>\n",
              "<table border=\"1\" class=\"dataframe\">\n",
              "  <thead>\n",
              "    <tr style=\"text-align: right;\">\n",
              "      <th></th>\n",
              "      <th>Age</th>\n",
              "      <th>LEMS</th>\n",
              "      <th>Walk</th>\n",
              "    </tr>\n",
              "  </thead>\n",
              "  <tbody>\n",
              "    <tr>\n",
              "      <th>0</th>\n",
              "      <td>16-30</td>\n",
              "      <td>50</td>\n",
              "      <td>yes</td>\n",
              "    </tr>\n",
              "    <tr>\n",
              "      <th>1</th>\n",
              "      <td>16-30</td>\n",
              "      <td>0</td>\n",
              "      <td>no</td>\n",
              "    </tr>\n",
              "    <tr>\n",
              "      <th>2</th>\n",
              "      <td>31-45</td>\n",
              "      <td>1-25</td>\n",
              "      <td>no</td>\n",
              "    </tr>\n",
              "    <tr>\n",
              "      <th>3</th>\n",
              "      <td>31-45</td>\n",
              "      <td>1-25</td>\n",
              "      <td>yes</td>\n",
              "    </tr>\n",
              "    <tr>\n",
              "      <th>4</th>\n",
              "      <td>46-60</td>\n",
              "      <td>26-49</td>\n",
              "      <td>no</td>\n",
              "    </tr>\n",
              "    <tr>\n",
              "      <th>5</th>\n",
              "      <td>16-30</td>\n",
              "      <td>26-49</td>\n",
              "      <td>yes</td>\n",
              "    </tr>\n",
              "    <tr>\n",
              "      <th>6</th>\n",
              "      <td>46-60</td>\n",
              "      <td>26-49</td>\n",
              "      <td>no</td>\n",
              "    </tr>\n",
              "  </tbody>\n",
              "</table>\n",
              "</div>"
            ],
            "text/plain": [
              "     Age   LEMS Walk\n",
              "0  16-30     50  yes\n",
              "1  16-30      0   no\n",
              "2  31-45   1-25   no\n",
              "3  31-45   1-25  yes\n",
              "4  46-60  26-49   no\n",
              "5  16-30  26-49  yes\n",
              "6  46-60  26-49   no"
            ]
          },
          "metadata": {
            "tags": []
          },
          "execution_count": 83
        }
      ]
    },
    {
      "cell_type": "markdown",
      "metadata": {
        "id": "6wRRNzjUdypt"
      },
      "source": [
        "Indiscernibility"
      ]
    },
    {
      "cell_type": "code",
      "metadata": {
        "id": "i0CwIpY8auXW",
        "outputId": "080d610d-04cb-455c-ce97-96b735d8c948",
        "colab": {
          "base_uri": "https://localhost:8080/"
        }
      },
      "source": [
        "df = df_0[['Age','LEMS']]\n",
        "\n",
        "df_r = df.groupby(list(df)).apply(lambda x: tuple(x.index)).tolist()\n",
        "\n",
        "\n",
        "df_baru=[]\n",
        "for i in df_r:\n",
        "  dfb=list(i)\n",
        "  df_baru.append(dfb)\n",
        "\n",
        "df_baru\n",
        "print(df_baru)"
      ],
      "execution_count": null,
      "outputs": [
        {
          "output_type": "stream",
          "text": [
            "[[1], [5], [0], [2, 3], [4, 6]]\n"
          ],
          "name": "stdout"
        }
      ]
    },
    {
      "cell_type": "markdown",
      "metadata": {
        "id": "tE65IF5Hd17M"
      },
      "source": [
        "Upper Approximation"
      ]
    },
    {
      "cell_type": "code",
      "metadata": {
        "id": "sXwFmdoKhinM",
        "outputId": "b88ab739-ee88-4d4a-e9a4-e0124354dfd8",
        "colab": {
          "base_uri": "https://localhost:8080/"
        }
      },
      "source": [
        "X=[[0],[3],[5]]\n",
        "X"
      ],
      "execution_count": null,
      "outputs": [
        {
          "output_type": "execute_result",
          "data": {
            "text/plain": [
              "[[0], [3], [5]]"
            ]
          },
          "metadata": {
            "tags": []
          },
          "execution_count": 85
        }
      ]
    },
    {
      "cell_type": "code",
      "metadata": {
        "id": "QPoa6iDad4OX",
        "outputId": "f5019605-2e9e-4a33-940b-70c715b83f8e",
        "colab": {
          "base_uri": "https://localhost:8080/"
        }
      },
      "source": [
        "df_baru"
      ],
      "execution_count": null,
      "outputs": [
        {
          "output_type": "execute_result",
          "data": {
            "text/plain": [
              "[[1], [5], [0], [2, 3], [4, 6]]"
            ]
          },
          "metadata": {
            "tags": []
          },
          "execution_count": 86
        }
      ]
    },
    {
      "cell_type": "code",
      "metadata": {
        "id": "Le5QQYN-gfLj"
      },
      "source": [
        "upper_app=[]\n",
        "for x in X:\n",
        "  #print('nilai x')\n",
        "  x=x[0]\n",
        "  #print(x)\n",
        "  \n",
        "  for d in df_baru:\n",
        "    #print('nilai d')\n",
        "    #print(d)\n",
        "    if (x in d):\n",
        "      #print('yes')\n",
        "      upper_app.append(d)\n",
        "      #print('=================')\n",
        "    else :\n",
        "      upper_app\n",
        "      #print('no') \n",
        "      #print('=================')"
      ],
      "execution_count": null,
      "outputs": []
    },
    {
      "cell_type": "code",
      "metadata": {
        "id": "LElCMNazgp53",
        "outputId": "4b45f329-eb44-4385-f486-c631a673f739",
        "colab": {
          "base_uri": "https://localhost:8080/"
        }
      },
      "source": [
        "upper_app\n",
        "upper_app2 = sum(upper_app, [])\n",
        "\n",
        "upper_app=[]\n",
        "for u in upper_app2:\n",
        "  ux=[u]\n",
        "  upper_app.append(ux)\n",
        "\n",
        "upper_app"
      ],
      "execution_count": null,
      "outputs": [
        {
          "output_type": "execute_result",
          "data": {
            "text/plain": [
              "[[0], [2], [3], [5]]"
            ]
          },
          "metadata": {
            "tags": []
          },
          "execution_count": 88
        }
      ]
    },
    {
      "cell_type": "markdown",
      "metadata": {
        "id": "fe0TTn-slpFi"
      },
      "source": [
        "Lower Approximation"
      ]
    },
    {
      "cell_type": "code",
      "metadata": {
        "id": "nLwnRU2jloQy"
      },
      "source": [
        "lower_app=[]\n",
        "for x in X:\n",
        "  if (x in df_baru):\n",
        "    lower_app.append(x)\n",
        "  else:\n",
        "    lower_app"
      ],
      "execution_count": null,
      "outputs": []
    },
    {
      "cell_type": "code",
      "metadata": {
        "id": "rsCbeXyql67B",
        "outputId": "395bc6ca-d414-457b-8131-3212bbcb1b83",
        "colab": {
          "base_uri": "https://localhost:8080/"
        }
      },
      "source": [
        "lower_app\n",
        "lower_app2 = sum(lower_app, [])\n",
        "\n",
        "lower_app=[]\n",
        "for l in lower_app2:\n",
        "  lx=[l]\n",
        "  lower_app.append(lx)\n",
        "\n",
        "lower_app"
      ],
      "execution_count": null,
      "outputs": [
        {
          "output_type": "execute_result",
          "data": {
            "text/plain": [
              "[[0], [5]]"
            ]
          },
          "metadata": {
            "tags": []
          },
          "execution_count": 90
        }
      ]
    },
    {
      "cell_type": "markdown",
      "metadata": {
        "id": "djD3wCFQmkWw"
      },
      "source": [
        "Boundary Region"
      ]
    },
    {
      "cell_type": "code",
      "metadata": {
        "id": "DRiRfkocmn0c"
      },
      "source": [
        "boundary_region=[]\n",
        "for i in upper_app:\n",
        "  if (i in lower_app):\n",
        "    boundary_region\n",
        "  else:\n",
        "    boundary_region.append(i)"
      ],
      "execution_count": null,
      "outputs": []
    },
    {
      "cell_type": "code",
      "metadata": {
        "id": "x58H0tXinrCT",
        "outputId": "b8106946-ddb1-4852-9f1f-990596082b82",
        "colab": {
          "base_uri": "https://localhost:8080/"
        }
      },
      "source": [
        "boundary_region"
      ],
      "execution_count": null,
      "outputs": [
        {
          "output_type": "execute_result",
          "data": {
            "text/plain": [
              "[[2], [3]]"
            ]
          },
          "metadata": {
            "tags": []
          },
          "execution_count": 92
        }
      ]
    },
    {
      "cell_type": "markdown",
      "metadata": {
        "id": "6pHVcZTdntoz"
      },
      "source": [
        "Outside region"
      ]
    },
    {
      "cell_type": "code",
      "metadata": {
        "id": "feKgmmVrnx4C",
        "outputId": "13b09fc4-0410-44fb-9139-61f63a85956b",
        "colab": {
          "base_uri": "https://localhost:8080/"
        }
      },
      "source": [
        "u=np.arange(0,len(df_0))\n",
        "U=[]\n",
        "for ui in u:\n",
        "  ux=[ui]\n",
        "  U.append(ux)\n",
        "U"
      ],
      "execution_count": null,
      "outputs": [
        {
          "output_type": "execute_result",
          "data": {
            "text/plain": [
              "[[0], [1], [2], [3], [4], [5], [6]]"
            ]
          },
          "metadata": {
            "tags": []
          },
          "execution_count": 93
        }
      ]
    },
    {
      "cell_type": "code",
      "metadata": {
        "id": "JF9IveNKobVP",
        "outputId": "0f8555e5-d9da-408e-ace7-362ff11681b2",
        "colab": {
          "base_uri": "https://localhost:8080/"
        }
      },
      "source": [
        "upper_app"
      ],
      "execution_count": null,
      "outputs": [
        {
          "output_type": "execute_result",
          "data": {
            "text/plain": [
              "[[0], [2], [3], [5]]"
            ]
          },
          "metadata": {
            "tags": []
          },
          "execution_count": 94
        }
      ]
    },
    {
      "cell_type": "code",
      "metadata": {
        "id": "HfYGVdgloH4s"
      },
      "source": [
        "outside_region=[]\n",
        "for i in U:\n",
        "  if (i in upper_app):\n",
        "    outside_region\n",
        "  else:\n",
        "    outside_region.append(i)"
      ],
      "execution_count": null,
      "outputs": []
    },
    {
      "cell_type": "code",
      "metadata": {
        "id": "n-F9v6hkowva",
        "outputId": "da9c8bef-4e6e-41c0-a607-d20539618ff8",
        "colab": {
          "base_uri": "https://localhost:8080/"
        }
      },
      "source": [
        "outside_region"
      ],
      "execution_count": null,
      "outputs": [
        {
          "output_type": "execute_result",
          "data": {
            "text/plain": [
              "[[1], [4], [6]]"
            ]
          },
          "metadata": {
            "tags": []
          },
          "execution_count": 96
        }
      ]
    },
    {
      "cell_type": "markdown",
      "metadata": {
        "id": "-dKsRXlBq88q"
      },
      "source": [
        "PART2"
      ]
    },
    {
      "cell_type": "code",
      "metadata": {
        "id": "gbSj_ewPq-kr",
        "outputId": "7f33e90b-7d80-49b9-c640-ae63b1779766",
        "colab": {
          "base_uri": "https://localhost:8080/",
          "height": 235
        }
      },
      "source": [
        "x   =['A', 'A', 'P', 'A', 'S', 'S']\n",
        "y   =['P', 'P', 'P', 'R', 'N', 'N']\n",
        "z   =['A', 'S', 'A', 'A', 'S', 'S']\n",
        "w   =[3, 1, 1, 2, 2, 2]\n",
        "D   =[1, 1, 1, 2, 2, 1]\n",
        "\n",
        "data = {'x':x, 'y':y, 'z':z, 'w':w, 'D':D}\n",
        "df_1   = pd.DataFrame(data)\n",
        "df_1"
      ],
      "execution_count": null,
      "outputs": [
        {
          "output_type": "execute_result",
          "data": {
            "text/html": [
              "<div>\n",
              "<style scoped>\n",
              "    .dataframe tbody tr th:only-of-type {\n",
              "        vertical-align: middle;\n",
              "    }\n",
              "\n",
              "    .dataframe tbody tr th {\n",
              "        vertical-align: top;\n",
              "    }\n",
              "\n",
              "    .dataframe thead th {\n",
              "        text-align: right;\n",
              "    }\n",
              "</style>\n",
              "<table border=\"1\" class=\"dataframe\">\n",
              "  <thead>\n",
              "    <tr style=\"text-align: right;\">\n",
              "      <th></th>\n",
              "      <th>x</th>\n",
              "      <th>y</th>\n",
              "      <th>z</th>\n",
              "      <th>w</th>\n",
              "      <th>D</th>\n",
              "    </tr>\n",
              "  </thead>\n",
              "  <tbody>\n",
              "    <tr>\n",
              "      <th>0</th>\n",
              "      <td>A</td>\n",
              "      <td>P</td>\n",
              "      <td>A</td>\n",
              "      <td>3</td>\n",
              "      <td>1</td>\n",
              "    </tr>\n",
              "    <tr>\n",
              "      <th>1</th>\n",
              "      <td>A</td>\n",
              "      <td>P</td>\n",
              "      <td>S</td>\n",
              "      <td>1</td>\n",
              "      <td>1</td>\n",
              "    </tr>\n",
              "    <tr>\n",
              "      <th>2</th>\n",
              "      <td>P</td>\n",
              "      <td>P</td>\n",
              "      <td>A</td>\n",
              "      <td>1</td>\n",
              "      <td>1</td>\n",
              "    </tr>\n",
              "    <tr>\n",
              "      <th>3</th>\n",
              "      <td>A</td>\n",
              "      <td>R</td>\n",
              "      <td>A</td>\n",
              "      <td>2</td>\n",
              "      <td>2</td>\n",
              "    </tr>\n",
              "    <tr>\n",
              "      <th>4</th>\n",
              "      <td>S</td>\n",
              "      <td>N</td>\n",
              "      <td>S</td>\n",
              "      <td>2</td>\n",
              "      <td>2</td>\n",
              "    </tr>\n",
              "    <tr>\n",
              "      <th>5</th>\n",
              "      <td>S</td>\n",
              "      <td>N</td>\n",
              "      <td>S</td>\n",
              "      <td>2</td>\n",
              "      <td>1</td>\n",
              "    </tr>\n",
              "  </tbody>\n",
              "</table>\n",
              "</div>"
            ],
            "text/plain": [
              "   x  y  z  w  D\n",
              "0  A  P  A  3  1\n",
              "1  A  P  S  1  1\n",
              "2  P  P  A  1  1\n",
              "3  A  R  A  2  2\n",
              "4  S  N  S  2  2\n",
              "5  S  N  S  2  1"
            ]
          },
          "metadata": {
            "tags": []
          },
          "execution_count": 97
        }
      ]
    },
    {
      "cell_type": "code",
      "metadata": {
        "id": "J8vziCi7yjQR",
        "outputId": "b21f5cc2-fff6-4b3f-cf73-8223f4deb663",
        "colab": {
          "base_uri": "https://localhost:8080/",
          "height": 297
        }
      },
      "source": [
        "P   =[1, 2, 3, 1, 1, 4, 4, 2]\n",
        "Q   =[5, 7, 5, 7, 5, 6, 7, 7]\n",
        "R   =[8, 10, 11, 11, 8, 9, 10, 10]\n",
        "\n",
        "data = {'P':P, 'Q':Q, 'R':R}\n",
        "df_2   = pd.DataFrame(data)\n",
        "df_2"
      ],
      "execution_count": null,
      "outputs": [
        {
          "output_type": "execute_result",
          "data": {
            "text/html": [
              "<div>\n",
              "<style scoped>\n",
              "    .dataframe tbody tr th:only-of-type {\n",
              "        vertical-align: middle;\n",
              "    }\n",
              "\n",
              "    .dataframe tbody tr th {\n",
              "        vertical-align: top;\n",
              "    }\n",
              "\n",
              "    .dataframe thead th {\n",
              "        text-align: right;\n",
              "    }\n",
              "</style>\n",
              "<table border=\"1\" class=\"dataframe\">\n",
              "  <thead>\n",
              "    <tr style=\"text-align: right;\">\n",
              "      <th></th>\n",
              "      <th>P</th>\n",
              "      <th>Q</th>\n",
              "      <th>R</th>\n",
              "    </tr>\n",
              "  </thead>\n",
              "  <tbody>\n",
              "    <tr>\n",
              "      <th>0</th>\n",
              "      <td>1</td>\n",
              "      <td>5</td>\n",
              "      <td>8</td>\n",
              "    </tr>\n",
              "    <tr>\n",
              "      <th>1</th>\n",
              "      <td>2</td>\n",
              "      <td>7</td>\n",
              "      <td>10</td>\n",
              "    </tr>\n",
              "    <tr>\n",
              "      <th>2</th>\n",
              "      <td>3</td>\n",
              "      <td>5</td>\n",
              "      <td>11</td>\n",
              "    </tr>\n",
              "    <tr>\n",
              "      <th>3</th>\n",
              "      <td>1</td>\n",
              "      <td>7</td>\n",
              "      <td>11</td>\n",
              "    </tr>\n",
              "    <tr>\n",
              "      <th>4</th>\n",
              "      <td>1</td>\n",
              "      <td>5</td>\n",
              "      <td>8</td>\n",
              "    </tr>\n",
              "    <tr>\n",
              "      <th>5</th>\n",
              "      <td>4</td>\n",
              "      <td>6</td>\n",
              "      <td>9</td>\n",
              "    </tr>\n",
              "    <tr>\n",
              "      <th>6</th>\n",
              "      <td>4</td>\n",
              "      <td>7</td>\n",
              "      <td>10</td>\n",
              "    </tr>\n",
              "    <tr>\n",
              "      <th>7</th>\n",
              "      <td>2</td>\n",
              "      <td>7</td>\n",
              "      <td>10</td>\n",
              "    </tr>\n",
              "  </tbody>\n",
              "</table>\n",
              "</div>"
            ],
            "text/plain": [
              "   P  Q   R\n",
              "0  1  5   8\n",
              "1  2  7  10\n",
              "2  3  5  11\n",
              "3  1  7  11\n",
              "4  1  5   8\n",
              "5  4  6   9\n",
              "6  4  7  10\n",
              "7  2  7  10"
            ]
          },
          "metadata": {
            "tags": []
          },
          "execution_count": 98
        }
      ]
    },
    {
      "cell_type": "code",
      "metadata": {
        "id": "vPcNVQ_ZzKWT",
        "outputId": "7eacd83e-377f-44a2-ecf7-8cffb15ca67e",
        "colab": {
          "base_uri": "https://localhost:8080/"
        }
      },
      "source": [
        "df = df_2\n",
        "\n",
        "df_r = df.groupby(list(df)).apply(lambda x: tuple(x.index)).tolist()\n",
        "\n",
        "\n",
        "df_baru=[]\n",
        "for i in df_r:\n",
        "  dfb=list(i)\n",
        "  df_baru.append(dfb)\n",
        "\n",
        "R=df_baru\n",
        "print(R)"
      ],
      "execution_count": null,
      "outputs": [
        {
          "output_type": "stream",
          "text": [
            "[[0, 4], [3], [1, 7], [2], [5], [6]]\n"
          ],
          "name": "stdout"
        }
      ]
    },
    {
      "cell_type": "code",
      "metadata": {
        "id": "6RYAwOHNzoAy",
        "outputId": "cd4cbc20-af7e-4014-81fb-e33c5a5c63a9",
        "colab": {
          "base_uri": "https://localhost:8080/"
        }
      },
      "source": [
        "#Check P\n",
        "df = df_2[['Q','R']]\n",
        "\n",
        "df_r = df.groupby(list(df)).apply(lambda x: tuple(x.index)).tolist()\n",
        "\n",
        "\n",
        "df_baru=[]\n",
        "for i in df_r:\n",
        "  dfb=list(i)\n",
        "  df_baru.append(dfb)\n",
        "\n",
        "df_baru\n",
        "print(df_baru)"
      ],
      "execution_count": null,
      "outputs": [
        {
          "output_type": "stream",
          "text": [
            "[[0, 4], [2], [5], [1, 6, 7], [3]]\n"
          ],
          "name": "stdout"
        }
      ]
    },
    {
      "cell_type": "markdown",
      "metadata": {
        "id": "sZOqabigJIAO"
      },
      "source": [
        "P idispensible(tidak bisa dihapus)"
      ]
    },
    {
      "cell_type": "code",
      "metadata": {
        "id": "WKWuYuii1aRf",
        "outputId": "0106db8b-b163-41b1-c76c-9ea6f8154401",
        "colab": {
          "base_uri": "https://localhost:8080/"
        }
      },
      "source": [
        "#Check Q\n",
        "df = df_2[['P','R']]\n",
        "\n",
        "df_r = df.groupby(list(df)).apply(lambda x: tuple(x.index)).tolist()\n",
        "\n",
        "\n",
        "df_baru=[]\n",
        "for i in df_r:\n",
        "  dfb=list(i)\n",
        "  df_baru.append(dfb)\n",
        "\n",
        "df_baru\n",
        "print(df_baru)"
      ],
      "execution_count": null,
      "outputs": [
        {
          "output_type": "stream",
          "text": [
            "[[0, 4], [3], [1, 7], [2], [5], [6]]\n"
          ],
          "name": "stdout"
        }
      ]
    },
    {
      "cell_type": "markdown",
      "metadata": {
        "id": "q8JSE5Qt1eXQ"
      },
      "source": [
        "Q is dispensible [bisa dihapus]"
      ]
    },
    {
      "cell_type": "code",
      "metadata": {
        "id": "TBUycQk31hfW",
        "outputId": "709b6105-feed-47e4-ad0c-2e4b97ffb2c4",
        "colab": {
          "base_uri": "https://localhost:8080/"
        }
      },
      "source": [
        "#Check R\n",
        "df = df_2[['P','Q']]\n",
        "\n",
        "df_r = df.groupby(list(df)).apply(lambda x: tuple(x.index)).tolist()\n",
        "\n",
        "\n",
        "df_baru=[]\n",
        "for i in df_r:\n",
        "  dfb=list(i)\n",
        "  df_baru.append(dfb)\n",
        "\n",
        "df_baru\n",
        "print(df_baru)"
      ],
      "execution_count": null,
      "outputs": [
        {
          "output_type": "stream",
          "text": [
            "[[0, 4], [3], [1, 7], [2], [5], [6]]\n"
          ],
          "name": "stdout"
        }
      ]
    },
    {
      "cell_type": "markdown",
      "metadata": {
        "id": "Np_Zhb9U6hKp"
      },
      "source": [
        "Q is dispensible [bisa dihapus]"
      ]
    },
    {
      "cell_type": "markdown",
      "metadata": {
        "id": "rGqIyK_aJa76"
      },
      "source": [
        "Jadi, Hasil Reductnya adalah P,Q atau P,R\n",
        "\n",
        "Kemudian Hasil Corenya adalah Irisan Dari Keduanya Yaitu P"
      ]
    },
    {
      "cell_type": "markdown",
      "metadata": {
        "id": "y8YM_KDCJ8jB"
      },
      "source": [
        "## Core And Reduct "
      ]
    },
    {
      "cell_type": "code",
      "metadata": {
        "id": "SA5Hn9-BKAZf"
      },
      "source": [
        "def indiscrenibility(df):\n",
        "  df_r = df.groupby(list(df)).apply(lambda x: tuple(x.index)).tolist()\n",
        "  df_baru=[]\n",
        "  for i in df_r:\n",
        "    dfb=list(i)\n",
        "    df_baru.append(dfb)\n",
        "  return df_baru"
      ],
      "execution_count": null,
      "outputs": []
    },
    {
      "cell_type": "code",
      "metadata": {
        "id": "2OGBrZe0KUlx",
        "outputId": "a038b9f8-2ff9-4f4d-ac35-b1ea75c7935a",
        "colab": {
          "base_uri": "https://localhost:8080/",
          "height": 204
        }
      },
      "source": [
        "iris_df=pd.read_csv('https://gist.githubusercontent.com/curran/a08a1080b88344b0c8a7/raw/0e7a9b0a5d22642a06d3d5b9bcbad9890c8ee534/iris.csv')\n",
        "iris_df.head()"
      ],
      "execution_count": null,
      "outputs": [
        {
          "output_type": "execute_result",
          "data": {
            "text/html": [
              "<div>\n",
              "<style scoped>\n",
              "    .dataframe tbody tr th:only-of-type {\n",
              "        vertical-align: middle;\n",
              "    }\n",
              "\n",
              "    .dataframe tbody tr th {\n",
              "        vertical-align: top;\n",
              "    }\n",
              "\n",
              "    .dataframe thead th {\n",
              "        text-align: right;\n",
              "    }\n",
              "</style>\n",
              "<table border=\"1\" class=\"dataframe\">\n",
              "  <thead>\n",
              "    <tr style=\"text-align: right;\">\n",
              "      <th></th>\n",
              "      <th>sepal_length</th>\n",
              "      <th>sepal_width</th>\n",
              "      <th>petal_length</th>\n",
              "      <th>petal_width</th>\n",
              "      <th>species</th>\n",
              "    </tr>\n",
              "  </thead>\n",
              "  <tbody>\n",
              "    <tr>\n",
              "      <th>0</th>\n",
              "      <td>5.1</td>\n",
              "      <td>3.5</td>\n",
              "      <td>1.4</td>\n",
              "      <td>0.2</td>\n",
              "      <td>setosa</td>\n",
              "    </tr>\n",
              "    <tr>\n",
              "      <th>1</th>\n",
              "      <td>4.9</td>\n",
              "      <td>3.0</td>\n",
              "      <td>1.4</td>\n",
              "      <td>0.2</td>\n",
              "      <td>setosa</td>\n",
              "    </tr>\n",
              "    <tr>\n",
              "      <th>2</th>\n",
              "      <td>4.7</td>\n",
              "      <td>3.2</td>\n",
              "      <td>1.3</td>\n",
              "      <td>0.2</td>\n",
              "      <td>setosa</td>\n",
              "    </tr>\n",
              "    <tr>\n",
              "      <th>3</th>\n",
              "      <td>4.6</td>\n",
              "      <td>3.1</td>\n",
              "      <td>1.5</td>\n",
              "      <td>0.2</td>\n",
              "      <td>setosa</td>\n",
              "    </tr>\n",
              "    <tr>\n",
              "      <th>4</th>\n",
              "      <td>5.0</td>\n",
              "      <td>3.6</td>\n",
              "      <td>1.4</td>\n",
              "      <td>0.2</td>\n",
              "      <td>setosa</td>\n",
              "    </tr>\n",
              "  </tbody>\n",
              "</table>\n",
              "</div>"
            ],
            "text/plain": [
              "   sepal_length  sepal_width  petal_length  petal_width species\n",
              "0           5.1          3.5           1.4          0.2  setosa\n",
              "1           4.9          3.0           1.4          0.2  setosa\n",
              "2           4.7          3.2           1.3          0.2  setosa\n",
              "3           4.6          3.1           1.5          0.2  setosa\n",
              "4           5.0          3.6           1.4          0.2  setosa"
            ]
          },
          "metadata": {
            "tags": []
          },
          "execution_count": 104
        }
      ]
    },
    {
      "cell_type": "code",
      "metadata": {
        "id": "bxOpdX0PL8aH",
        "outputId": "c75dfb23-f2e0-4993-a28c-a9765521b8d1",
        "colab": {
          "base_uri": "https://localhost:8080/"
        }
      },
      "source": [
        "kolom=list(iris_df.columns)\n",
        "kolom"
      ],
      "execution_count": null,
      "outputs": [
        {
          "output_type": "execute_result",
          "data": {
            "text/plain": [
              "['sepal_length', 'sepal_width', 'petal_length', 'petal_width', 'species']"
            ]
          },
          "metadata": {
            "tags": []
          },
          "execution_count": 105
        }
      ]
    },
    {
      "cell_type": "code",
      "metadata": {
        "id": "vlza9Hl2LVjk"
      },
      "source": [
        "R=indiscrenibility(iris_df)"
      ],
      "execution_count": null,
      "outputs": []
    },
    {
      "cell_type": "code",
      "metadata": {
        "id": "olMIm1NTLwXI"
      },
      "source": [
        "def Core_and_Reduct(df):\n",
        "  R=indiscrenibility(df)\n",
        "  kolom=list(df.columns)\n",
        "  indis_vector=[]\n",
        "  for k in kolom:\n",
        "    k=str(k)\n",
        "    df2=df.drop(columns=[k])\n",
        "    K=indiscrenibility(df2)\n",
        "    if (K==R):\n",
        "      indis=True\n",
        "      indis_vector.append(indis)\n",
        "    else:\n",
        "      indis=False\n",
        "      indis_vector.append(indis)\n",
        "  indeks = []\n",
        "  for i in range(len(indis_vector)):\n",
        "    if indis_vector[i] == False:\n",
        "      indeks.append(i)\n",
        "  indis_var = [kolom[i] for i in indeks] \n",
        "  df_CR=df[indis_var]\n",
        "  return df_CR"
      ],
      "execution_count": null,
      "outputs": []
    },
    {
      "cell_type": "code",
      "metadata": {
        "id": "na4JiRT8NFhX",
        "outputId": "77e2b36a-e798-49d1-a86d-6af3092100c0",
        "colab": {
          "base_uri": "https://localhost:8080/",
          "height": 297
        }
      },
      "source": [
        "Core_and_Reduct(df_2)"
      ],
      "execution_count": null,
      "outputs": [
        {
          "output_type": "execute_result",
          "data": {
            "text/html": [
              "<div>\n",
              "<style scoped>\n",
              "    .dataframe tbody tr th:only-of-type {\n",
              "        vertical-align: middle;\n",
              "    }\n",
              "\n",
              "    .dataframe tbody tr th {\n",
              "        vertical-align: top;\n",
              "    }\n",
              "\n",
              "    .dataframe thead th {\n",
              "        text-align: right;\n",
              "    }\n",
              "</style>\n",
              "<table border=\"1\" class=\"dataframe\">\n",
              "  <thead>\n",
              "    <tr style=\"text-align: right;\">\n",
              "      <th></th>\n",
              "      <th>P</th>\n",
              "    </tr>\n",
              "  </thead>\n",
              "  <tbody>\n",
              "    <tr>\n",
              "      <th>0</th>\n",
              "      <td>1</td>\n",
              "    </tr>\n",
              "    <tr>\n",
              "      <th>1</th>\n",
              "      <td>2</td>\n",
              "    </tr>\n",
              "    <tr>\n",
              "      <th>2</th>\n",
              "      <td>3</td>\n",
              "    </tr>\n",
              "    <tr>\n",
              "      <th>3</th>\n",
              "      <td>1</td>\n",
              "    </tr>\n",
              "    <tr>\n",
              "      <th>4</th>\n",
              "      <td>1</td>\n",
              "    </tr>\n",
              "    <tr>\n",
              "      <th>5</th>\n",
              "      <td>4</td>\n",
              "    </tr>\n",
              "    <tr>\n",
              "      <th>6</th>\n",
              "      <td>4</td>\n",
              "    </tr>\n",
              "    <tr>\n",
              "      <th>7</th>\n",
              "      <td>2</td>\n",
              "    </tr>\n",
              "  </tbody>\n",
              "</table>\n",
              "</div>"
            ],
            "text/plain": [
              "   P\n",
              "0  1\n",
              "1  2\n",
              "2  3\n",
              "3  1\n",
              "4  1\n",
              "5  4\n",
              "6  4\n",
              "7  2"
            ]
          },
          "metadata": {
            "tags": []
          },
          "execution_count": 108
        }
      ]
    }
  ]
}