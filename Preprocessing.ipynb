{
  "nbformat": 4,
  "nbformat_minor": 0,
  "metadata": {
    "kernelspec": {
      "display_name": "Python 3",
      "language": "python",
      "name": "python3"
    },
    "language_info": {
      "codemirror_mode": {
        "name": "ipython",
        "version": 3
      },
      "file_extension": ".py",
      "mimetype": "text/x-python",
      "name": "python",
      "nbconvert_exporter": "python",
      "pygments_lexer": "ipython3",
      "version": "3.7.4"
    },
    "colab": {
      "name": "Preprocessing",
      "provenance": [],
      "collapsed_sections": [
        "hPae_JUZvz_u",
        "ahoS1GXlt4qA"
      ],
      "toc_visible": true,
      "include_colab_link": true
    },
    "accelerator": "GPU"
  },
  "cells": [
    {
      "cell_type": "markdown",
      "metadata": {
        "id": "view-in-github",
        "colab_type": "text"
      },
      "source": [
        "<a href=\"https://colab.research.google.com/github/eliyanto29/My-Academics-Paper-On-Data-Science/blob/master/Preprocessing.ipynb\" target=\"_parent\"><img src=\"https://colab.research.google.com/assets/colab-badge.svg\" alt=\"Open In Colab\"/></a>"
      ]
    },
    {
      "cell_type": "markdown",
      "metadata": {
        "id": "w6kc1X5FOmM6"
      },
      "source": [
        "# **Sentimen Analisis Bahasa Indonesia Menggunakan Python**"
      ]
    },
    {
      "cell_type": "markdown",
      "metadata": {
        "id": "SOF6SEQSOwit"
      },
      "source": [
        "## Data Cleansing & Preparation"
      ]
    },
    {
      "cell_type": "markdown",
      "metadata": {
        "id": "ReTyxtXrQh3t"
      },
      "source": [
        "### Mengakses Dataset"
      ]
    },
    {
      "cell_type": "code",
      "metadata": {
        "id": "CRMw7GVD2vGn",
        "outputId": "c25efc50-f802-4ccf-ff8a-9525ec75217a",
        "colab": {
          "base_uri": "https://localhost:8080/",
          "height": 34
        }
      },
      "source": [
        "from google.colab import drive\n",
        "#Membuka akses ke google drive\n",
        "drive.mount('/content/gdrive')"
      ],
      "execution_count": null,
      "outputs": [
        {
          "output_type": "stream",
          "text": [
            "Mounted at /content/gdrive\n"
          ],
          "name": "stdout"
        }
      ]
    },
    {
      "cell_type": "code",
      "metadata": {
        "id": "98ltDYXqW-A2"
      },
      "source": [
        "import pandas as pd\n",
        "from pandas import DataFrame\n",
        "import numpy as np\n",
        "import re\n",
        "import seaborn as sns\n",
        "import matplotlib.pyplot as plt"
      ],
      "execution_count": null,
      "outputs": []
    },
    {
      "cell_type": "code",
      "metadata": {
        "id": "CXCnnThXXI3K",
        "outputId": "243596a2-73ee-42aa-f3bc-4734d34826f7",
        "colab": {
          "base_uri": "https://localhost:8080/",
          "height": 289
        }
      },
      "source": [
        "df=pd.read_csv(\"https://raw.githubusercontent.com/eliyanto29/My-Academics-Paper-On-Data-Science/master/Sentiment%20Analisis/21Sept-2Okt/Gibran-Teguh-21Sept-2Okt.csv\")\n",
        "df.tail()"
      ],
      "execution_count": null,
      "outputs": [
        {
          "output_type": "execute_result",
          "data": {
            "text/html": [
              "<div>\n",
              "<style scoped>\n",
              "    .dataframe tbody tr th:only-of-type {\n",
              "        vertical-align: middle;\n",
              "    }\n",
              "\n",
              "    .dataframe tbody tr th {\n",
              "        vertical-align: top;\n",
              "    }\n",
              "\n",
              "    .dataframe thead th {\n",
              "        text-align: right;\n",
              "    }\n",
              "</style>\n",
              "<table border=\"1\" class=\"dataframe\">\n",
              "  <thead>\n",
              "    <tr style=\"text-align: right;\">\n",
              "      <th></th>\n",
              "      <th>screen_name</th>\n",
              "      <th>lang</th>\n",
              "      <th>created_at</th>\n",
              "      <th>fav_count</th>\n",
              "      <th>retweet_count</th>\n",
              "      <th>text</th>\n",
              "      <th>location</th>\n",
              "    </tr>\n",
              "  </thead>\n",
              "  <tbody>\n",
              "    <tr>\n",
              "      <th>907</th>\n",
              "      <td>AbellineB</td>\n",
              "      <td>in</td>\n",
              "      <td>9/21/2020 8:28</td>\n",
              "      <td>0</td>\n",
              "      <td>0</td>\n",
              "      <td>Saat Menghadiri “Deklarasi Adaptasi Kebiasaan ...</td>\n",
              "      <td>Tuscany, Amsterdam, Denpasar</td>\n",
              "    </tr>\n",
              "    <tr>\n",
              "      <th>908</th>\n",
              "      <td>AbellineB</td>\n",
              "      <td>in</td>\n",
              "      <td>9/21/2020 8:27</td>\n",
              "      <td>0</td>\n",
              "      <td>0</td>\n",
              "      <td>Saat Menghadiri “Deklarasi Adaptasi Kebiasaan ...</td>\n",
              "      <td>Tuscany, Amsterdam, Denpasar</td>\n",
              "    </tr>\n",
              "    <tr>\n",
              "      <th>909</th>\n",
              "      <td>DetaxId</td>\n",
              "      <td>in</td>\n",
              "      <td>9/21/2020 8:13</td>\n",
              "      <td>0</td>\n",
              "      <td>0</td>\n",
              "      <td>[Hoax] Presiden Jadi Tim Sukses Gibran-Teguh h...</td>\n",
              "      <td>NaN</td>\n",
              "    </tr>\n",
              "    <tr>\n",
              "      <th>910</th>\n",
              "      <td>tribunsolocom</td>\n",
              "      <td>in</td>\n",
              "      <td>9/21/2020 3:19</td>\n",
              "      <td>0</td>\n",
              "      <td>0</td>\n",
              "      <td>Visi-Misi Pilkada 2020 Gibran - Teguh: Kota So...</td>\n",
              "      <td>Karanganyar, Jawa Tengah</td>\n",
              "    </tr>\n",
              "    <tr>\n",
              "      <th>911</th>\n",
              "      <td>SeputariNews</td>\n",
              "      <td>in</td>\n",
              "      <td>9/21/2020 3:00</td>\n",
              "      <td>1</td>\n",
              "      <td>0</td>\n",
              "      <td>Partai Perindo Resmi Dukung Pasangan Gibran-Te...</td>\n",
              "      <td>MNC News Center Lt.11 Jakarta</td>\n",
              "    </tr>\n",
              "  </tbody>\n",
              "</table>\n",
              "</div>"
            ],
            "text/plain": [
              "       screen_name  ...                       location\n",
              "907      AbellineB  ...   Tuscany, Amsterdam, Denpasar\n",
              "908      AbellineB  ...   Tuscany, Amsterdam, Denpasar\n",
              "909        DetaxId  ...                            NaN\n",
              "910  tribunsolocom  ...       Karanganyar, Jawa Tengah\n",
              "911   SeputariNews  ...  MNC News Center Lt.11 Jakarta\n",
              "\n",
              "[5 rows x 7 columns]"
            ]
          },
          "metadata": {
            "tags": []
          },
          "execution_count": 3
        }
      ]
    },
    {
      "cell_type": "code",
      "metadata": {
        "id": "tM_ulomDXOJT",
        "outputId": "9e4f1e18-9c9a-4c45-ac41-43f8143583ff",
        "colab": {
          "base_uri": "https://localhost:8080/",
          "height": 419
        }
      },
      "source": [
        "tweet_data0=df[['created_at','text']]\n",
        "tweet_data0"
      ],
      "execution_count": null,
      "outputs": [
        {
          "output_type": "execute_result",
          "data": {
            "text/html": [
              "<div>\n",
              "<style scoped>\n",
              "    .dataframe tbody tr th:only-of-type {\n",
              "        vertical-align: middle;\n",
              "    }\n",
              "\n",
              "    .dataframe tbody tr th {\n",
              "        vertical-align: top;\n",
              "    }\n",
              "\n",
              "    .dataframe thead th {\n",
              "        text-align: right;\n",
              "    }\n",
              "</style>\n",
              "<table border=\"1\" class=\"dataframe\">\n",
              "  <thead>\n",
              "    <tr style=\"text-align: right;\">\n",
              "      <th></th>\n",
              "      <th>created_at</th>\n",
              "      <th>text</th>\n",
              "    </tr>\n",
              "  </thead>\n",
              "  <tbody>\n",
              "    <tr>\n",
              "      <th>0</th>\n",
              "      <td>10/2/2020 22:49</td>\n",
              "      <td>Populer nusantara antara lain konlik antara Ka...</td>\n",
              "    </tr>\n",
              "    <tr>\n",
              "      <th>1</th>\n",
              "      <td>10/2/2020 22:16</td>\n",
              "      <td>RT @DiniHrdianti: Sandiaga Uno menjadi juru ka...</td>\n",
              "    </tr>\n",
              "    <tr>\n",
              "      <th>2</th>\n",
              "      <td>10/2/2020 21:51</td>\n",
              "      <td>RT @OposisiCerdas: Sandiaga Uno Jadi Juru Kamp...</td>\n",
              "    </tr>\n",
              "    <tr>\n",
              "      <th>3</th>\n",
              "      <td>10/2/2020 21:38</td>\n",
              "      <td>RT @DiniHrdianti: Sandiaga Uno menjadi juru ka...</td>\n",
              "    </tr>\n",
              "    <tr>\n",
              "      <th>4</th>\n",
              "      <td>10/2/2020 20:43</td>\n",
              "      <td>~Ninggal Tatu~\\n\\nKowe tak sayang-sayang saiki...</td>\n",
              "    </tr>\n",
              "    <tr>\n",
              "      <th>...</th>\n",
              "      <td>...</td>\n",
              "      <td>...</td>\n",
              "    </tr>\n",
              "    <tr>\n",
              "      <th>907</th>\n",
              "      <td>9/21/2020 8:28</td>\n",
              "      <td>Saat Menghadiri “Deklarasi Adaptasi Kebiasaan ...</td>\n",
              "    </tr>\n",
              "    <tr>\n",
              "      <th>908</th>\n",
              "      <td>9/21/2020 8:27</td>\n",
              "      <td>Saat Menghadiri “Deklarasi Adaptasi Kebiasaan ...</td>\n",
              "    </tr>\n",
              "    <tr>\n",
              "      <th>909</th>\n",
              "      <td>9/21/2020 8:13</td>\n",
              "      <td>[Hoax] Presiden Jadi Tim Sukses Gibran-Teguh h...</td>\n",
              "    </tr>\n",
              "    <tr>\n",
              "      <th>910</th>\n",
              "      <td>9/21/2020 3:19</td>\n",
              "      <td>Visi-Misi Pilkada 2020 Gibran - Teguh: Kota So...</td>\n",
              "    </tr>\n",
              "    <tr>\n",
              "      <th>911</th>\n",
              "      <td>9/21/2020 3:00</td>\n",
              "      <td>Partai Perindo Resmi Dukung Pasangan Gibran-Te...</td>\n",
              "    </tr>\n",
              "  </tbody>\n",
              "</table>\n",
              "<p>912 rows × 2 columns</p>\n",
              "</div>"
            ],
            "text/plain": [
              "          created_at                                               text\n",
              "0    10/2/2020 22:49  Populer nusantara antara lain konlik antara Ka...\n",
              "1    10/2/2020 22:16  RT @DiniHrdianti: Sandiaga Uno menjadi juru ka...\n",
              "2    10/2/2020 21:51  RT @OposisiCerdas: Sandiaga Uno Jadi Juru Kamp...\n",
              "3    10/2/2020 21:38  RT @DiniHrdianti: Sandiaga Uno menjadi juru ka...\n",
              "4    10/2/2020 20:43  ~Ninggal Tatu~\\n\\nKowe tak sayang-sayang saiki...\n",
              "..               ...                                                ...\n",
              "907   9/21/2020 8:28  Saat Menghadiri “Deklarasi Adaptasi Kebiasaan ...\n",
              "908   9/21/2020 8:27  Saat Menghadiri “Deklarasi Adaptasi Kebiasaan ...\n",
              "909   9/21/2020 8:13  [Hoax] Presiden Jadi Tim Sukses Gibran-Teguh h...\n",
              "910   9/21/2020 3:19  Visi-Misi Pilkada 2020 Gibran - Teguh: Kota So...\n",
              "911   9/21/2020 3:00  Partai Perindo Resmi Dukung Pasangan Gibran-Te...\n",
              "\n",
              "[912 rows x 2 columns]"
            ]
          },
          "metadata": {
            "tags": []
          },
          "execution_count": 4
        }
      ]
    },
    {
      "cell_type": "code",
      "metadata": {
        "id": "oRALNS4to_4M",
        "outputId": "690ab050-8fad-49df-f875-dd56cd4e863f",
        "colab": {
          "base_uri": "https://localhost:8080/",
          "height": 419
        }
      },
      "source": [
        "#Menghapus teks yang sama\n",
        "tweet_data = tweet_data0.drop_duplicates(subset=['text'], keep='first')\n",
        "tweet_data\n",
        "#print(tweet_data)\n",
        "#print(len(tweet_data0))\n",
        "#print(len(tweet_data))"
      ],
      "execution_count": null,
      "outputs": [
        {
          "output_type": "execute_result",
          "data": {
            "text/html": [
              "<div>\n",
              "<style scoped>\n",
              "    .dataframe tbody tr th:only-of-type {\n",
              "        vertical-align: middle;\n",
              "    }\n",
              "\n",
              "    .dataframe tbody tr th {\n",
              "        vertical-align: top;\n",
              "    }\n",
              "\n",
              "    .dataframe thead th {\n",
              "        text-align: right;\n",
              "    }\n",
              "</style>\n",
              "<table border=\"1\" class=\"dataframe\">\n",
              "  <thead>\n",
              "    <tr style=\"text-align: right;\">\n",
              "      <th></th>\n",
              "      <th>created_at</th>\n",
              "      <th>text</th>\n",
              "    </tr>\n",
              "  </thead>\n",
              "  <tbody>\n",
              "    <tr>\n",
              "      <th>0</th>\n",
              "      <td>10/2/2020 22:49</td>\n",
              "      <td>Populer nusantara antara lain konlik antara Ka...</td>\n",
              "    </tr>\n",
              "    <tr>\n",
              "      <th>1</th>\n",
              "      <td>10/2/2020 22:16</td>\n",
              "      <td>RT @DiniHrdianti: Sandiaga Uno menjadi juru ka...</td>\n",
              "    </tr>\n",
              "    <tr>\n",
              "      <th>2</th>\n",
              "      <td>10/2/2020 21:51</td>\n",
              "      <td>RT @OposisiCerdas: Sandiaga Uno Jadi Juru Kamp...</td>\n",
              "    </tr>\n",
              "    <tr>\n",
              "      <th>4</th>\n",
              "      <td>10/2/2020 20:43</td>\n",
              "      <td>~Ninggal Tatu~\\n\\nKowe tak sayang-sayang saiki...</td>\n",
              "    </tr>\n",
              "    <tr>\n",
              "      <th>5</th>\n",
              "      <td>10/2/2020 19:31</td>\n",
              "      <td>RT @Kanseulir: Sandi Uno Jadi Juru Kampanye Gi...</td>\n",
              "    </tr>\n",
              "    <tr>\n",
              "      <th>...</th>\n",
              "      <td>...</td>\n",
              "      <td>...</td>\n",
              "    </tr>\n",
              "    <tr>\n",
              "      <th>907</th>\n",
              "      <td>9/21/2020 8:28</td>\n",
              "      <td>Saat Menghadiri “Deklarasi Adaptasi Kebiasaan ...</td>\n",
              "    </tr>\n",
              "    <tr>\n",
              "      <th>908</th>\n",
              "      <td>9/21/2020 8:27</td>\n",
              "      <td>Saat Menghadiri “Deklarasi Adaptasi Kebiasaan ...</td>\n",
              "    </tr>\n",
              "    <tr>\n",
              "      <th>909</th>\n",
              "      <td>9/21/2020 8:13</td>\n",
              "      <td>[Hoax] Presiden Jadi Tim Sukses Gibran-Teguh h...</td>\n",
              "    </tr>\n",
              "    <tr>\n",
              "      <th>910</th>\n",
              "      <td>9/21/2020 3:19</td>\n",
              "      <td>Visi-Misi Pilkada 2020 Gibran - Teguh: Kota So...</td>\n",
              "    </tr>\n",
              "    <tr>\n",
              "      <th>911</th>\n",
              "      <td>9/21/2020 3:00</td>\n",
              "      <td>Partai Perindo Resmi Dukung Pasangan Gibran-Te...</td>\n",
              "    </tr>\n",
              "  </tbody>\n",
              "</table>\n",
              "<p>428 rows × 2 columns</p>\n",
              "</div>"
            ],
            "text/plain": [
              "          created_at                                               text\n",
              "0    10/2/2020 22:49  Populer nusantara antara lain konlik antara Ka...\n",
              "1    10/2/2020 22:16  RT @DiniHrdianti: Sandiaga Uno menjadi juru ka...\n",
              "2    10/2/2020 21:51  RT @OposisiCerdas: Sandiaga Uno Jadi Juru Kamp...\n",
              "4    10/2/2020 20:43  ~Ninggal Tatu~\\n\\nKowe tak sayang-sayang saiki...\n",
              "5    10/2/2020 19:31  RT @Kanseulir: Sandi Uno Jadi Juru Kampanye Gi...\n",
              "..               ...                                                ...\n",
              "907   9/21/2020 8:28  Saat Menghadiri “Deklarasi Adaptasi Kebiasaan ...\n",
              "908   9/21/2020 8:27  Saat Menghadiri “Deklarasi Adaptasi Kebiasaan ...\n",
              "909   9/21/2020 8:13  [Hoax] Presiden Jadi Tim Sukses Gibran-Teguh h...\n",
              "910   9/21/2020 3:19  Visi-Misi Pilkada 2020 Gibran - Teguh: Kota So...\n",
              "911   9/21/2020 3:00  Partai Perindo Resmi Dukung Pasangan Gibran-Te...\n",
              "\n",
              "[428 rows x 2 columns]"
            ]
          },
          "metadata": {
            "tags": []
          },
          "execution_count": 5
        }
      ]
    },
    {
      "cell_type": "markdown",
      "metadata": {
        "id": "-frCkgBoQnOr"
      },
      "source": [
        "### Case Folding"
      ]
    },
    {
      "cell_type": "markdown",
      "metadata": {
        "id": "Do99xmbcekVb"
      },
      "source": [
        "\n",
        "\n",
        "Case folding adalah salah satu bentuk text preprocessing yang paling sederhana dan efektif meskipun sering diabaikan. Tujuan dari case folding untuk mengubah semua huruf dalam dokumen menjadi huruf kecil. Hanya huruf ‘a’ sampai ‘z’ yang diterima. Karakter selain huruf dihilangkan dan dianggap delimiter. \n",
        "\n",
        "Ada beberapa cara yang dapat digunakan dalam tahap case folding, diantaranya:\n",
        "* Mengubah text menjadi lowercase\n",
        "* Menghapus alamat web\n",
        "* Menghapus emotikon\n",
        "* Menghapus angka\n",
        "* Menghapus akun name\n",
        "* Menghapus rt tag\n",
        "* Menghapus tanda baca\n",
        "* Menghapus whitepace (karakter kosong)\n"
      ]
    },
    {
      "cell_type": "code",
      "metadata": {
        "id": "IrWHNaeNejxQ",
        "outputId": "83438b37-a5cc-4369-b406-0c1bbf56ed8b",
        "colab": {
          "base_uri": "https://localhost:8080/",
          "height": 54
        }
      },
      "source": [
        "#Mengubah text menjadi lowercase\n",
        "tweet_data_1=[]\n",
        "for teks in tweet_data.text:\n",
        "  teks_process = [teks.lower()]\n",
        "  tweet_data_1=tweet_data_1+teks_process\n",
        "print(tweet_data_1)"
      ],
      "execution_count": null,
      "outputs": [
        {
          "output_type": "stream",
          "text": [
            "['populer nusantara antara lain konlik antara kapolres blitar dengan kasat sabhara. sementara di solo, sandiaga ipers… https://t.co/axdnesh2yo', 'rt @dinihrdianti: sandiaga uno menjadi juru kampanye pasangan calon wali kota dan wakil wali kota solo, gibran rakabuming raka-teguh prakos…', 'rt @oposisicerdas: sandiaga uno jadi juru kampanye gibran-teguh di pilkada solo, disebut ada lobi jokowi\\nhttps://t.co/relkqnvlvg', \"~ninggal tatu~\\n\\nkowe tak sayang-sayang saiki malah ngilang' 🎶\\ntresnamu karo aku, kuwi mung kiasan🎶\\nkowe tak gadhang… https://t.co/ki4krlu8x8\", 'rt @kanseulir: sandi uno jadi juru kampanye gibran-teguh di pilkada solo, disebut ada lobi jokowi.\\n\\nperjuangan bapak perbaiki martabak anak…', 'tidur dulu ah sakit badan nihh', 'nyeri awak', 'ngantukkkk', 'sandi uno jadi juru kampanye gibran-teguh di pilkada solo, disebut ada lobi jokowi.\\n\\nperjuangan bapak perbaiki mart… https://t.co/bebznta6wt', 'rt @kompascom: selain sandiaga uno, ada nama besar lain yang juga akan menjadi jurkam paslon gibran-teguh di solo | #pilkada2020  \\n https:/…', 'respons kabar sandiaga bakal jadi jurkam, gibran rancang kampanye daring: wakil ketua dewan pembina partai gerindra… https://t.co/xucx2j2osi', 'selain sandiaga uno, ada nama besar lain yang juga akan menjadi jurkam paslon gibran-teguh di solo | #pilkada2020  \\n https://t.co/podrri69h9', '@rikiandre8 @bolangwebberii @ustadtengkuzul udah baca ini belom blog? \\nhttps://t.co/kxoclh88pj', 'rt @christwamea: sandiaga uno jadi juru kampanye gibran-teguh di pilkada solo, disebut ada lobi jokowi. borong dari medan sampai solo. \\nhtt…', 'hoammmmmm', 'gibran – teguh: pilkada sesuai jadwal, demokratis dan aman dari covid-19. https://t.co/7psu93htsu', 'solo ber – satu, gibran – teguh pilihanku. https://t.co/y0jlarr8ef', 'gibran – teguh mendapat nomor urut satu untuk pilkada solo 2020. part 2 https://t.co/8eajqehkbb', 'gibran – teguh mendapat nomor urut satu untuk pilkada solo 2020. part 1 https://t.co/ndjr0ch5bp', 'gibran: saya dan pak teguh tetap berkomitmen menjaga protokol kesehatan selama kampanye. https://t.co/2spcbnjklb', 'gibran – teguh: untuk mendukung pilkada aman, secret clean (pt victoria care) memberikan bantuan hand sanitizer. https://t.co/rnqwbp75jy', 'capek euy', 'sandiaga uno digadang-gadang menjadi jurkam paslon gibran-teguh dalam pilkada solo 2020. sandiaga menjadi jurkam ta… https://t.co/gxqsnwyip2', 'mantan wakil gubernur dki jakarta sandiaga uno bakal menjadi juru kampanye pasangan calon gibran rakabuming raka-te… https://t.co/ur5meg73yh', '@naydonuts @airinairin_nz @tjhinfar21 @chilli_pari gk butuh jurkam dari pusat spt @sandiuno \\nwarga solo cukup berdi… https://t.co/pevsagxjeu', 'rt @katadatacoid: wakil ketua dpp gerindra @sandiuno akan menjadi juru kampanye untuk pasangan calon wali kota dan wakil wali kota solo, gi…', 'rt @geloraco: sandiaga uno jadi juru kampanye gibran-teguh di pilkada solo, disebut ada lobi jokowi\\nhttps://t.co/3nbxrfhb9e', 'wakil ketua dpp gerindra @sandiuno akan menjadi juru kampanye untuk pasangan calon wali kota dan wakil wali kota so… https://t.co/duh0cnlilo', 'asyiikkk', 'laparrr', '\\U0001f970\\U0001f970\\U0001f970\\nhttps://t.co/2nzqgkpguw', 'mantap! sandiaga uno jadi jurkam gibran-teguh di pilkada solo 2020 https://t.co/zyq3a5jhov', 'lebih lanjut ardianto mengatakan, saat ini pihaknya sedang mengkaji persiapan deklarasi tim pemenangan untuk paslon gibran-teguh.', 'mantan wakil gubernur dki jakarta ini dimungkinkan akan mengkampanyekan pasangan gibran-teguh juga secara virtual.', 'termasuk model kampanye yang digunakan sandiaga untuk paslon gibran-teguh. menurutnya, antara gibran dengan sandi, sangat bisa disatukan.', 'menurutnya, faktor kedekatan antara sandiaga, prabowo subianto (ketua dpp partai gerindra) dengan presiden jokowi s… https://t.co/cwopvcyuk6', 'kabar sandiaga akan menjadi juru kampanye untuk pasangan gibran teguh, dibenarkan oleh ketua dpc partai gerindra solo ardianto kuswinarno.', 'menurutnya, faktor kedekatan antara sandiaga, prabowo subianto (ketua dpp partai gerindra) dengan presiden jokowi s… https://t.co/ypvfyuxzxe', 'wakil ketua dewan pembina partai gerindra sandiaga salahudin uno akan menjadi juru kampanye (jurkam) untuk pasangan… https://t.co/wncwar2ucw', 'menurutnya, faktor kedekatan antara sandiaga, prabowo subianto (ketua dpp partai gerindra) dengan presiden jokowi s… https://t.co/rxgxhwzpk5', 'wakil ketua dewan pembina partai gerindra sandiaga salahudin uno akan menjadi juru kampanye (jurkam) untuk pasangan… https://t.co/fgzxqa1eyo', 'wakil ketua dewan pembina partai gerindra sandiaga salahudin uno akan menjadi juru kampanye (jurkam) untuk pasangan… https://t.co/g1qa2vx6qh', 'menurutnya, faktor kedekatan antara sandiaga, prabowo subianto (ketua dpp partai gerindra) dengan presiden jokowi s… https://t.co/idrnvnidpp', 'menurutnya, faktor kedekatan antara sandiaga, prabowo subianto (ketua dpp partai gerindra) dengan presiden jokowi s… https://t.co/wn9i2kxbok', 'wakil ketua dewan pembina partai gerindra sandiaga salahudin uno akan menjadi juru kampanye (jurkam) untuk pasangan… https://t.co/bxy80bt9hu', 'wakil ketua dewan pembina partai gerindra sandiaga salahudin uno akan menjadi juru kampanye (jurkam) untuk pasangan… https://t.co/miy8yltxce', 'menurutnya, faktor kedekatan antara sandiaga, prabowo subianto (ketua dpp partai gerindra) dengan presiden jokowi s… https://t.co/ratlagpsfd', 'wakil ketua dewan pembina partai gerindra sandiaga salahudin uno akan menjadi juru kampanye (jurkam) untuk pasangan… https://t.co/46vvp1ciwq', 'orang amerika mungkin jadi mikir2, jangan2 nanti kalau biden menang dan trump kalah \\nkemudian anaknya biden nyalon… https://t.co/u1t4osit5g', 'rt @ferdinandhaean3: selamat bang @sandiuno , semoga solo kedepan bisa bebas dari kaum intoleransi..!!\\n\\n https://t.co/ztnggfo3f0', '@asik_mulu @p_eneste @irmadlukman @vita_avp @yradianto @j_aryoko @southoldman @isalfatur @mazzini_gsp… https://t.co/jw7rmkmqor', 'selamat bang @sandiuno , semoga solo kedepan bisa bebas dari kaum intoleransi..!!\\n\\n https://t.co/ztnggfo3f0', 'politisi partai gerindra sandiaga solahuddin uno akan menjadi juru kampanye (jurkam) pasangan calon wali kota dan w… https://t.co/odg4qlk96i', 'sandiaga uno menjadi juru kampanye pasangan calon wali kota dan wakil wali kota solo, gibran rakabuming raka-teguh… https://t.co/oosu9yjmne', 'pilwalkot solo, sandiaga uno siap diterjunkan jadi jurkam gibran-teguh https://t.co/pnvqxmvner https://t.co/95awpjsder', '@pulpenaibon @lembolah @anakkolong_ oh jadi ini ya 🤣🤣\\n https://t.co/mzezmuaenz', 'sandiaga akan jadi jurkam gibran di solo dan bobby di medan: menurutnya, faktor kedekatan antara sandiaga, prabowo… https://t.co/yyyioluylu', 'https://t.co/rgyhg3wrqq\\n#sandiagauno #prabowo #gerindra #pdiperjuangan', 'sandiaga uno jadi juru kampanye gibran-teguh di pilkada solo, disebut ada lobi jokowi\\nhttps://t.co/relkqnvlvg', 'politisi partai gerindra sandiaga solahuddin uno dipersiapkan menjadi jukam pasangan calon wali kota dan wakil wali… https://t.co/o71mjla1px', 'rt @matanajwa: \"apbd kota solo tiap hari kita bahas dengan pak teguh, ini adalah masa-masa di mana kita harus bersabar dan banyak sekali an…', 'rt @matanajwa: \"saya berkomitmen untuk menaati protokol kesehatan. setiap hari saya dengungkan ke warga program prioritas saya dan pak tegu…', 'sandiaga uno jadi juru kampanye gibran-teguh di pilkada solo, disebut ada lobi jokowi. borong dari medan sampai sol… https://t.co/qmtum3pgjz', '@trans7 kalau gibran nggak bermanuver kira-kira ibu ketum bakal milih dia atau enggak ya??? sementara pdip sudah ng… https://t.co/aepeudqnbl', 'mantap! sandiaga uno jadi jurkam gibran-teguh di pilkada solo 2020 https://t.co/ufie20l7hk', '\"lobi-lobinya politik tingkat tinggi. karena ketum kami (prabowo subianto) dengan pak jokowi sangat dekat sekali.… https://t.co/daasr9i66y', '@asmubaroq_ @afiandry @betakopites_ wkwkw jadi jasa terawang gini dah \\n\\ngibran-teguh yang menang kalo dia kalah kalem ada leg kedua wkwkkw', 'rt @kompascom: politisi partai gerindra sandiaga solahuddin uno dipersiapkan menjadi jukam pasangan calon wali kota dan wakil wali kota sol…', 'sandiaga uno jadi juru kampanye gibran-teguh di pilkada solo, disebut ada lobi jokowi\\nhttps://t.co/3nbxrfhb9e', 'apa kabar papa online \\n😃😃😃\\n\\nsandiaga uno jadi jurkam gibran-teguh di pilkada solo 2020\\nklik untuk baca:… https://t.co/fyn9s8asq3', 'politisi partai gerindra sandiaga solahuddin uno dipersiapkan menjadi jukam pasangan calon wali kota dan wakil wali… https://t.co/wfnd6iqf8u', 'gotong royong melawan covid-19 bersama gibran – teguh. https://t.co/rzfbmpimuv', 'gibran genap 33 tahun, teguh doakan putra jokowi terpilih jadi wali kota dan bisa membangun solo https://t.co/y2pnbiazeq', 'rt @trans7: \"apbd kota solo tiap hari kita bahas dengan pak teguh, ini adalah masa-masa di mana kita harus bersabar dan banyak sekali angga…', 'rt @psi_id: pengurus dpd psi solo dipimpin langsung bro antonius yoga melakukan fogging di permukiman warga.\\n\\npada kesempatan yang sama, me…', 'gibran-teguh melakukan blusukan ke masyarakat dalam rangka membantu masyarakat yang terkena dampak pandemi https://t.co/s80tldf13h', '@gabisaganti pertanyaan najwa tidak perlu kita ragukan lagi, namun apakah jawaban mas gibran n cara menjawab nya su… https://t.co/igrodezjmk', 'rt @trans7: \"saya berkomitmen untuk menaati protokol kesehatan. setiap hari saya dengungkan ke warga program prioritas saya dan pak teguh a…', 'paslon gibran-teguh kembali melakukan blusukan online ke beberapa kelurahan di solo. dalam kesempatan itu, gibran a… https://t.co/bzfrrkuqxa', 'paslon gibran-teguh kembali melakukan blusukan online ke beberapa kelurahan di solo. dalam kesempatan itu, gibran a… https://t.co/mxxrvqg2bt', 'rt @kompascom: putra presiden joko widodo, gibran rakabuming raka, yang berpasangan dengan teguh prakosa di pilwalkot surakarta. / #nasiona…', 'putra presiden joko widodo, gibran rakabuming raka, yang berpasangan dengan teguh prakosa di pilwalkot surakarta. /… https://t.co/pgxuhszapd', '\"apbd kota solo tiap hari kita bahas dengan pak teguh, ini adalah masa-masa di mana kita harus bersabar dan banyak… https://t.co/ez7gjvvwsb', '\"apbd kota solo tiap hari kita bahas dengan pak teguh, ini adalah masa-masa di mana kita harus bersabar dan banyak… https://t.co/u7ke4gin9x', '\"saya berkomitmen untuk menaati protokol kesehatan. setiap hari saya dengungkan ke warga program prioritas saya dan… https://t.co/irx8ziidcv', '\"saya berkomitmen untuk menaati protokol kesehatan. setiap hari saya dengungkan ke warga program prioritas saya dan… https://t.co/6zwbdlglno', 'rt @solohebat_id: solo bersatu, gibran - teguh pilihanku!!\\n.\\n#solohebat #sobatsolohebat #solomelompatlebihjauh #lompatananakmudauntuksolo #…', 'bajo blusukan langsung ke tokoh agama, gibran-teguh pakai virtualbox \\n\\nhttps://t.co/ygqscxhtlb', 'rt @solohebat_id: identitas yang satu ini akan menjadi tugas bersama masyarakat solo dan pasangan mas gibran &amp; mas teguh untuk membawa solo…', 'rt @solohebat_id: identitas yang satu ini akan menjadi tugas bersama masyarakat solo dan pasangan mas gibran &amp; mas teguh prakasa untuk memb…', 'amunisi bertambah, pkpi dukung gibran – teguh di pilkada solo. https://t.co/iqnghlxzoa', 'rt @radarmasnetwork: dana kampanye gibran-teguh &amp; bajo masing-masing dibatasi rp 19,7\\xa0m https://t.co/zzys5xt0vi', 'dana kampanye gibran-teguh &amp; bajo masing-masing dibatasi rp 19,7\\xa0m https://t.co/zzys5xt0vi', 'gibran-teguh for solo 1 #gibranforsolo https://t.co/gwvtsmndvr', 'bajo blusukan langsung ke tokoh agama, gibran-teguh pakai virtualbox \\n\\nhttps://t.co/wy58ohbhdv', 'pasangan gibran-teguh dan bajo memiliki cara tersendiri untuk menggaet suara warga kota solo. simak gaya kampanye m… https://t.co/ykkqp9bvsr', 'mas gibran mohon maaf, jadinya mas fans apa mas? kok semuanya mas wkwkwk\\n\\ngibran-teguh 1! https://t.co/1x0iuwykyq', 'pengurus dpd psi solo dipimpin langsung bro antonius yoga melakukan fogging di permukiman warga.\\n\\npada kesempatan y… https://t.co/nqyj2mebwm', 'rt @bisniscom: pilkada solo 2020, sandiaga uno bakal kampanyekan gibran-teguh https://t.co/gvsengkzou', 'pilkada solo 2020, sandiaga uno bakal kampanyekan gibran-teguh https://t.co/gvsengkzou', 'rt @aryprasetyo85: #kampanyepilkadavirtual\\nkampanye perdana gibran-teguh blusukan daring dengan virtual box\\n\\nkampanye gibran berupa blusuka…', '@pdi_perjuangan rapatkan barisan, menangkan gibran-teguh', 'rt @pdi_perjuangan: seluruh ranting pdi perjuangan se-kota surakarta siap memenangkan gibran-teguh dengan menaati dan patuh protokol keseha…', 'ijin bal rapopo di tahan sik , sing penting ijin dodolanku tetep metu seko polri, bekingane gibran teguh og :| https://t.co/qp3lvd3fkd', '#pilwakotsolo kampanye, gibran-teguh bagi tugas https://t.co/e37kefc6o2 https://t.co/x51jodv4d6', '#pilwakotsolo kampanye, gibran-teguh bagi tugas https://t.co/d7e2bn4qjg https://t.co/emzscyroo7', '#pilwakotsolo kampanye, gibran-teguh bagi tugas https://t.co/dldjw0puah https://t.co/3gfigrlskc', 'rt @id_indicator: pilwakot surakarta menjadi pilkada teramai nomor pertama dengan 13.693 berita. selain membahas sosok gibran, media menyor…', 'sudahlah paslon bajo biasa gegaruk bidjie aja gegayaan luh ikutan #pilkada2020 segala. 😋\\n\\nkalo boleh usul mendingan… https://t.co/xfeapbjq1f', 'rt @cnnindonesia: dana awal kampanye: gibran-teguh rp25 juta, bajo rp0 #pilkada2020 https://t.co/ji6v6te9h3', 'dana awal kampanye: gibran-teguh rp25 juta, bajo rp0 #pilkada2020 https://t.co/ji6v6te9h3', 'komisi pemilihan umum (kpu) solo, jawa tengah telah menerima pendaftaran 40 akun media sosial (medsos) milik kedua… https://t.co/omwiftqeo7', 'megawati turun gunung jadi jurkam gibran-teguh, pengamat: kalau kalah harga diri pdip-jokowi hancur https://t.co/y0zvqj5j9s', 'pilkada solo: lawan gibran-teguh, dana kampanye pasangan bajo rp0 - https://t.co/xauiuwr3uf https://t.co/pci7qbs6iw', '@kevin_asgudier siap akhi, saya masih memegang teguh sepenggal kalimat dari khalil gibran wkwk', 'rt @kumparan: warga solo antusias dengan adanya box virtual kampanye yang disediakan paslon gibran-teguh. warga pun dapat berkeluh kesah de…', 'warga solo antusias dengan adanya box virtual kampanye yang disediakan paslon gibran-teguh. warga pun dapat berkelu… https://t.co/xpjxhtbtwk', '@pdi_perjuangan ayo rapatkann barisan utk memenangkan gibran - teguh dgn menerapkan disiplin protok kesehatan.\\n\\n*sa… https://t.co/u440j747mu', 'pilkada solo: lawan gibran-teguh, dana kampanye pasangan bajo rp0 #kelurahannusukan #panjipanji… https://t.co/uskwo4koci', 'rt @dewibulan74: seperti diberitakan, kampanye virtual antara lain sdh dilakukan oleh paslon walikota dan calon wakil walikota solo nomor u…', 'rt @prasetyoedi_: selamat berjuang gibran-teguh.\\nsemangat mewujudkan surakarta sebagai kota budaya yang modern, tangguh, gesit, kreatif, da…', 'rt @prasetyoedi_: saya optimis gibran-teguh mampu menerapkan kampanye sehat dari bahaya penularan virus korona dan menang dalam pilkada ini…', 'seluruh ranting pdi perjuangan se-kota surakarta siap memenangkan gibran-teguh dengan menaati dan patuh protokol ke… https://t.co/jie9qauc1v', 'kampanye virtual gibran rakabuming-teguh prakosa dipuji warga solo https://t.co/vovphdkyoc', 'kampanye virtual gibran rakabuming-teguh prakosa diapresiasi\\xa0warga https://t.co/7b6mybnn6c', 'rt @escobart_idn: kampanye virtual antara lain sdh dilakukan oleh pasangan calon walikota dan calon wakil walikota solo nomor urut 01, gibr…', 'selamat berjuang gibran-teguh.\\nsemangat mewujudkan surakarta sebagai kota budaya yang modern, tangguh, gesit, kreat… https://t.co/hkjsm482qh', 'saya optimis gibran-teguh mampu menerapkan kampanye sehat dari bahaya penularan virus korona dan menang dalam pilka… https://t.co/1u2rteav9x', 'rt @tjhinfar21: perlu diketahui kampanye virtual antara lain sdh dilakukan oleh paslon cawalkot solo dgn no urut 1\\n\\ndi hari pertama kampany…', 'gibran kembali menyapa masyarakat dengan virtual box dengan keliling kampung, sedangkan teguh melakukan blusukan of… https://t.co/4qhjqoirno', 'awal kampanye gibran – teguh sudah kantongi dana rp 25 m, bajo rp 0 https://t.co/qlv3unz5og', 'rt @billray2019: agar tidak menimbulkan kerumunan massa, pasangan calon walikota solo gibran rakabuming raka dan teguh prakoso melakukan te…', 'rt @kumparan: dpc pdip solo menargetkan perolehan suara 92% untuk kemenangan gibran-teguh. perolehan suara itu tentunya dengan kontribusi y…', 'selamat berjuang mas gibran. gibran – teguh untuk solo 1. https://t.co/bdvugpbgee', 'gibran - teguh melakukan kampanye unik blusukan online, guna menghindari pengumpulan massa dan mematuhi protocol ke… https://t.co/uqctbrrqoo', 'gibran - teguh melakukan kampanye unik blusukan online, guna menghindari pengumpulan massa dan mematuhi protocol ke… https://t.co/x6hbvnqbvh', 'gibran - teguh melakukan kampanye unik blusukan online, guna menghindari pengumpulan massa dan mematuhi protocol ke… https://t.co/avbsrelchf', 'gibran - teguh melakukan kampanye unik blusukan online, guna menghindari pengumpulan massa dan mematuhi protocol ke… https://t.co/bzd1bvepdt', 'gibran - teguh melakukan kampanye unik blusukan online, guna menghindari pengumpulan massa dan mematuhi protocol ke… https://t.co/p9koqh5yot', 'gibran - teguh melakukan kampanye unik blusukan online, guna menghindari pengumpulan massa dan mematuhi protocol ke… https://t.co/wern79gaxu', 'gibran - teguh melakukan kampanye unik blusukan online, guna menghindari pengumpulan massa dan mematuhi protocol ke… https://t.co/hwhtmy9gpj', 'gibran - teguh melakukan kampanye unik blusukan online, guna menghindari pengumpulan massa dan mematuhi protocol ke… https://t.co/s7pz8idge0', 'gibran - teguh melakukan kampanye unik blusukan online, guna menghindari pengumpulan massa dan mematuhi protocol ke… https://t.co/4oswdoswd1', 'rt @lilapama2011: kampanye virtual sudah dilakukan oleh pasangan calon wali kota dan calon wakil wali kota solo nomor urut 01, gibran rakab…', 'pilwakot surakarta menjadi pilkada teramai nomor pertama dengan 13.693 berita. selain membahas sosok gibran, media… https://t.co/l7mapm68hl', 'rt @jitoe02: kampanye virtual sdh dilakukan oleh paslon gibran-teguh pd kampanye di bonorejo, kel nusukan, kec banjarsari, solo, jawa tenga…', 'rt @markonah76: pandemi covid-19 telah mengubah hampir semua mekanisme pertemuan menjadi online, ini bisa dicontoh paslon lain.\\nkampanye vi…', '@aryprasetyo85 @bawaslu_ri @kpu_id @kemendagri @jokowi wah gibran - teguh inilah generasi yg sesungguhnya 👍👍👍', 'kampanye virtual antara lain sdh dilakukan oleh pasangan calon walikota dan calon wakil walikota solo nomor urut 01… https://t.co/jik2z48myi', 'rt @kumparan: pasangan cawali dan cawawali solo nomor urut 01, gibran rakabuming raka-teguh prakosa, langsung melakukan blusukan online di…', 'gibran rakabuming raka resmi menjadi calon wali kota solo dalam pemilihan kepala daerah (pilkada) serentak 2020.\\n\\nb… https://t.co/bnooyigupz', 'rt @athayahayya: #kampanyepilkadavirtual sdh dilakukan oleh paslon walikota dan calon wakil walikota solo nomor urut 01, gibran -teguh pd h…', 'seperti diberitakan, kampanye virtual antara lain sdh dilakukan oleh paslon walikota dan calon wakil walikota solo… https://t.co/direszewnv', '@pdi_perjuangan seluruh ranting pdi perjuangan se-kota surakarta siap memenangkan gibran-teguh dengan menaati dan p… https://t.co/by8zeqyy22', 'pasangan cawali dan cawawali solo nomor urut 01, gibran rakabuming raka-teguh prakosa, langsung melakukan blusukan… https://t.co/ee4qvcscs1', '#kampanyepilkadavirtual\\nkampanye perdana gibran-teguh blusukan daring dengan virtual box\\n\\nkampanye gibran berupa bl… https://t.co/qoiwoppqmz', 'agar tidak menimbulkan kerumunan massa, pasangan calon walikota solo gibran rakabuming raka dan teguh prakoso melak… https://t.co/3kqigemv3b', 'rt @aryprasetyo85: #kampanyepilkadavirtual\\nkampanye virtual jg dilakukan oleh paslon gibran rakabuming raka-teguh prakosa di pilkada solo.…', 'rt @aryprasetyo85: #kampanyepilkadavirtual\\nketua tim pemenangan gibran-teguh, putut gunawan, mengatakan, pada tahapan kampanye ini timnya a…', 'rt @aryprasetyo85: #kampanyepilkadavirtual\\nkampanye virtual antara lain sudah dilakukan oleh pasangan calon wali kota dan calon wakil wali…', 'rt @aryprasetyo85: #kampanyepilkadavirtual\\npasangan calon wali kota dan wakil wali kota solo, gibran rakabuming raka-teguh prakosa, lebih b…', 'rt @denni_loyz: yang sudah kampanye virtual antara lain dilakukan oleh pasangan calon wali kota dan wakil walikota solo nomor urut 01, gibr…', '5 fakta kampanye digital gibran - teguh di pilkada solo 2020, warga bisa sampaikan keluh kesahnya https://t.co/bikpnlfbq6', '[nomor urut pasangan calon]\\n\\nkpu kota surakarta menetapkan nomor urut 1 pasangan gibran rakabuming raka - teguh pra… https://t.co/q4h52dlb5u', 'dana kampanye gibran-teguh &amp; bajo masing-masing dibatasi rp 19,7 m https://t.co/onynwp4npv', 'rt @pdi_perjuangan: dapar nomor urut 1, gibran-teguh siap kampanye blusukan online\\n\\nhttps://t.co/aklablrtoi\\n\\n#pdiperjuangan\\n#gibranteguh ht…', 'yang sudah kampanye virtual antara lain dilakukan oleh pasangan calon wali kota dan wakil walikota solo nomor urut… https://t.co/ivtsoxgrcw', 'seluruh ranting pdi perjuangan se-kota surakarta siap memenangkan gibran-teguh dengan menaati dan patuh protokol ke… https://t.co/vkwjcrjp73', 'kampanye virtual sudah dilakukan oleh pasangan calon wali kota dan calon wakil wali kota solo nomor urut 01, gibran… https://t.co/mrajiddhrh', 'ruarrrr biasahhh........ tiati nek ini jaman covid, megawati turun gunung jadi jurkam gibran-teguh, pengamat: kalau… https://t.co/hmvef70p0p', 'perlu diketahui kampanye virtual antara lain sdh dilakukan oleh paslon cawalkot solo dgn no urut 1\\n\\ndi hari pertama… https://t.co/domkttukve', 'kampanye virtual sdh dilakukan oleh paslon gibran-teguh pd kampanye di bonorejo, kel nusukan, kec banjarsari, solo,… https://t.co/5sqpahbcfi', 'pandemi covid-19 telah mengubah hampir semua mekanisme pertemuan menjadi online, ini bisa dicontoh paslon lain.\\nkam… https://t.co/4rfwlyrf1t', '#kampanyepilkadavirtual sdh dilakukan oleh paslon walikota dan calon wakil walikota solo nomor urut 01, gibran -teg… https://t.co/7twvouzmtj', '#kampanyepilkadavirtual\\npasangan calon wali kota dan wakil wali kota solo, gibran rakabuming raka-teguh prakosa, le… https://t.co/v3stgushav', '#kampanyepilkadavirtual\\nkampanye virtual antara lain sudah dilakukan oleh pasangan calon wali kota dan calon wakil… https://t.co/fcoaubktx5', '#kampanyepilkadavirtual\\nketua tim pemenangan gibran-teguh, putut gunawan, mengatakan, pada tahapan kampanye ini tim… https://t.co/tvlqyp5rx8', '#kampanyepilkadavirtual\\nkampanye virtual jg dilakukan oleh paslon gibran rakabuming raka-teguh prakosa di pilkada s… https://t.co/vlonjutfyh', 'gibran-teguh vs bajo', 'pilkada solo: lawan gibran-teguh, dana kampanye pasangan bajo rp0 https://t.co/lfr4adlqn8 #darisuara', 'gibran-teguh laporkan dana awal kampanye pilkada solo rp25 juta, bajo nol rupiah https://t.co/zybon5m9zx https://t.co/qlgw2lsz0g', 'gibran-teguh lakukan kampanye virtual, pakar komunikasi politik nilai kurang efektif - pikiran rakyat tasikmalaya -… https://t.co/rjjoekzn2i', 'https://t.co/jtanjgjh53 lakukan kampanye virtual, pakar komunikasi politik nilai kurang efektif - pikiran rakyat ta… https://t.co/1j6qzonq1e', '@princes_spartan kampanye sehat kampanye cerdas, good luck buat gibran dan teguh semoga sukses', 'kampanye onlie dilakukan pasangan gibran-teguh prakosa untuk mencegah kerumunan. #kumparannews https://t.co/cesvclyi5s', '@princes_spartan saluut mas gibran dan mas teguh udah bikin contoh baik cara berkampanye dimasa pandemi', '@princes_spartan mantap banget paslon walikota solo gibran &amp; teguh nih blusukan pun bisa via virtual ya, kampanye n… https://t.co/wuvnmntcxm', '@princes_spartan wah keren banget nih monitor nya ini bukti bahwa paslon walikota solo gibran &amp; teguh itu kreatif b… https://t.co/zzucd1ris1', '@princes_spartan @ivan75426637 caranya bener bener keren menurut gua salut banget ama paslon gibran dan teguh', '@princes_spartan emang inovasi buat kampanye dimasa pandemi ini perlu dilakukan kaya ide kreatif dari paslon gibran dan teguh', '@princes_spartan keren nih monitor virtual paslon walikota solo gibran dan teguh semoga terpilih ya', '@princes_spartan @yummy_91 salut banget dengan cara kampanyenya paslon gibran dan teguh ini guys', '@princes_spartan tetep bisa kampanye dimasa pandemi?? bisa banget dengan monitor virtual bisa banget buat blusukan… https://t.co/e87osw4zpg', '@princes_spartan @yummy_91 bagus bet ide kampanyenya paslon gibran dan teguh ini guys, patut dicontoh', 'pengambilan nomer urut paslon pilkada solo #idntimesjateng https://t.co/2ejsyidezv', '10.30 #beritasonora - pengundian nomor urut peserta pilkada 2020, gibran-teguh dapat nomor urut 1… https://t.co/qnbkq8fdzw', 'rt @kompastv: pengundian nomor urut peserta pilkada 2020, gibran-teguh dapat nomor urut 1 https://t.co/jjxpbptsve https://t.co/lhhsjujom9', 'pengundian nomor urut peserta pilkada 2020, gibran-teguh dapat nomor urut 1 https://t.co/jjxpbptsve https://t.co/lhhsjujom9', 'gibran-teguh 1, bagyo-supardjo 2, sama-sama yakin menang pilkada solo https://t.co/fmg0iuxr8g', 'rt @pdi_perjuangan: resmi ditetapkan kpu kota surakarta dengan nomor urut 1, gibran-teguh yakin bakal meraih kemenangan\\n\\nhttps://t.co/v8ibo…', 'pilkada solo: gibran-teguh dapat nomor 1, bajo 2 https://t.co/djkazozswc', 'resmi ditetapkan kpu kota surakarta dengan nomor urut 1, gibran-teguh yakin bakal meraih kemenangan… https://t.co/vpi2fu4i3e', 'calon walikota solo tuh emang gibran teguh doang? aku ga pernah liat baliho atau spanduk lawannya di sepanjang jala… https://t.co/3pocnfyixx', 'kmi siap mengawal  mas gibran dan mas teguh prakosa dlm mimpin kota solo siap coblos nmor 1 ada pilihan kita https://t.co/er0z4nusks', 'pilkada solo, gibran-teguh dapat nomor urut 1 https://t.co/dqdu82ckq8 https://t.co/f8koxztrzc', 'undian nomor urut gibran-teguh tampil putih hitam, apa maknanya? #gibranrakabuming #jokowidodo #sbagio… https://t.co/b8nrvq0bzv', 'rt @detikcom: dua pasangan calon (paslon) pilkada solo mengikuti tahapan pengundian nomor urut. gibran rakabuming raka-teguh prakosa mendap…', 'dahsyat, gibran-teguh dapat nomor urut satu https://t.co/uessycg3ls https://t.co/w8rtlogq6f', 'dua pasangan calon (paslon) pilkada solo mengikuti tahapan pengundian nomor urut. gibran rakabuming raka-teguh prak… https://t.co/omwtvs8ohc', \"rt @fatimahsw33ty: 😇\\U0001f932selamat pagi assalamu'alaikum wr wb semoga kita selalu patuhi protokol kesehatan agar terhindar dari covid19. tagar ha…\", 'gibran – teguh nomor 1, bajo 2 https://t.co/ld0onhdvjs', 'sah, gibran-teguh dapat nomor urut 1 #gibranrakabuming #teguhprakosa #wakilwalikota #mencucitangan #kotasurakarta… https://t.co/y1lvpyvexg', 'berbudaya kreatif moderen tangguh\\ngibran-teguh pasti menang\\nsolo bermanfaat\\n\\n\"all out losss ra rewel\"… https://t.co/vph2yxvrpn', 'rt @indozonemedia: gibran rakabuming raka yang maju sebagai calon wali kota solo berpasangan dengan teguh prakosa. ternyata ia mempunyai ha…', 'gibran-teguh komitmen taati protokol kesehatan\\n#covidrangerantara\\n#rangerantara\\nhttps://t.co/l7cpqoeep4', 'gibran rakabuming raka yang maju sebagai calon wali kota solo berpasangan dengan teguh prakosa. ternyata ia mempuny… https://t.co/gyqco4bp33', 'rt @mycaffe0: anda tuh anak muda milenial..cari cara yg jitu buat meraup suara dg cara2 daring dan virtual..\\n#partaitaatprokespilkada \\ntari…', 'rt @_umamlik: setuju mas.bilngn ke semua pendukungnya juga..daring manfaatkan teknologi.anda itu calon milenial soalnya..inget prokes dan k…', 'gibran-teguh 1, bagyo-supardjo 2, sama-sama pede menang pilkada solo https://t.co/cvshwtfnmc', 'rt @mycaffe0: gw kira tuh gk ad lawanny ternyta ad juga tp lewat jalur independen toh..\\nseru juga nih lau kayak gini..jd lbh asyik dan hidu…', 'pilkada solo: gibran-teguh dapat nomor 1, bajo 2 https://t.co/ifmop21odb', 'anda tuh anak muda milenial..cari cara yg jitu buat meraup suara dg cara2 daring dan virtual..… https://t.co/gwnshlwaur', 'pkb resmi dukung gibran-teguh di pilwakot solo ,lihat berita di tautan https://t.co/5902qpkf94', 'setuju mas.bilngn ke semua pendukungnya juga..daring manfaatkan teknologi.anda itu calon milenial soalnya..inget pr… https://t.co/xrippbehls', 'gw kira tuh gk ad lawanny ternyta ad juga tp lewat jalur independen toh..\\nseru juga nih lau kayak gini..jd lbh asyi… https://t.co/px9ghlbqyo', 'selamat berjuang\\ngibran - teguh\\nsukses selalu. @ salemba raya https://t.co/yypqjhl2p6', '\"saya bersama pak teguh berkomitmen untuk selalu menaati protokol kesehatan, tetapi yang paling penting nomor satu… https://t.co/voejkne5ez', 'pemilune slamet rakyate iso ngeliwet, gibran-teguh bersilahturahmi ke warga keprabon kota surakarta (24/9)… https://t.co/lwzvnmylrs', 'gibran-teguh siapkan blusukan online di tengah pandemi covid-19 #gibranrakabumingraka #gibranrakabuming… https://t.co/slxsbk3e3o', 'rt @kompascom: komisi pemilihan umum (kpu) solo menggelar rapat pleno terbuka pengundian nomor urut pasangan calon wali kota dan wakil wali…', 'pilwalkot solo, gibran-teguh nomor urut 1 dan bajo 2 #8ukasindonews #bangkitdaripandemi #gibran https://t.co/mayh18bb7q', 'komisi pemilihan umum (kpu) solo menggelar rapat pleno terbuka pengundian nomor urut pasangan calon wali kota dan w… https://t.co/1q2tis7vzu', '@_awasipilkada \\ndua pasangan calon walikota di the sunan hotel solo.\\npasangan\\xa0gibran-teguh mendapat nomor urut 01.… https://t.co/us2gdvzv9s', 'rt @jawapos: gibran-teguh nomor 1 dan bajo 2 di pilkada surakarta 2020 https://t.co/0qqyqkpkta', 'rt @terasid: gibran-teguh dapat nomor urut 1, sedangkan penantangnya pasangan bajo nomor 2. nomor mana yang dicoblos masyarakat solo?\\n\\narti…', 'gibran-teguh nomor 1 dan bajo 2 di pilkada surakarta 2020 https://t.co/0qqyqkpkta', 'gibran-teguh dapat nomor urut 1, sedangkan penantangnya pasangan bajo nomor 2. nomor mana yang dicoblos masyarakat… https://t.co/ciaofh14yq', 'gibran menilai nomor satu sama nomor dua sama baiknya https://t.co/jbgk7cozq6', 'gibran-teguh nomor 1 dan bajo 2 di pilkada surakarta - antara news bengkulu https://t.co/lsj5rmeogi', 'pilkada surakarta, gibran-teguh nomor 1 dan bajo nomor 2 - antara jateng https://t.co/7wa3lg2w5i', 'pilwalkot solo, gibran-teguh nomor urut 1 dan bajo 2 https://t.co/mayh18jafs', 'naik mobil bertiga, gibran-teguh dan sukasno hadiri pleno kpu di the sunan\\xa0hotel https://t.co/5fog5dh2qt', 'gibran-teguh siapkan blusukan dan konser online https://t.co/lnyb0jnxts', 'sah, gibran-teguh nomor 1, lawannya bajo nomor 2 https://t.co/sel8n6cwao', 'pasangan calon walikota dan wakil walikota surakarta periode 2021-2024 gibran-teguh mendapatkan nomor urut 1\\npasti… https://t.co/gztlydcwhz', 'pilkada solo, gibran-teguh dapat nomor urut 1, bajo nomor 2\\n\\nhttps://t.co/mx3p9ope5t', 'nomor urut di pilwalkot solo: gibran-teguh 1, bagyo-supardjo 2 #gibranrakabuming #disinfektan #komisipemilihanumum… https://t.co/rlsba9ylfu', 'pengundian nomer urut, gibran-teguh nomer urut satu, bajo nomer urut dua https://t.co/jonv5xavgo', 'pilwalkot solo, gibran-teguh dapat nomor urut\\xa01 https://t.co/lmmxx1w7er', 'pilwalkot solo, gibran-teguh dapat nomor urut\\xa01 https://t.co/vnoybyzng0', 'gibran – teguh nomor 1, bajo\\xa02 https://t.co/xrsdjgkepu', 'gibran teguh nomor urut 1, bajo nomor 2 https://t.co/qfugo6l9hk', 'hadiri pengambilan nomor urut paslon, begini penampilan gibran-teguh dan bajo https://t.co/ztaxq4ujyf', 'nomer urut calon walikota &amp; wakil walikota surakarta\\n\\n1. gibran rakabuming raka - teguh prakosa ( pdi perjuangan )… https://t.co/lf1egcahmc', 'rt @kompastv: kpu kota solo, jawa tengah, menetapkan dua pasangan calon wali kota pilkada 2020. dua pasangan itu yakni putra jokowi, gibran…', 'paslon gibran-teguh dapat nomor urut 1 di pilkada solo, tim sorak gembira https://t.co/jiwhjqhfpc', 'kpu kota solo, jawa tengah, menetapkan dua pasangan calon wali kota pilkada 2020. dua pasangan itu yakni putra joko… https://t.co/sum0dq6xky', 'gibran-teguh dapat nomor urut 1 di pilkada solo #taucepattanpabatas #beritaterkini  . https://t.co/ntunpt7cro', 'sah, gibran-teguh dapat nomor urut 1, bajo dapat nomor urut 2 pada pilkada solo 2020 https://t.co/lqfrcibr8u', 'gibran-teguh nomor urut 1, bajo 2 pada pilwalkot solo https://t.co/fwj6oj4xbk', 'rt @merdekadotcom: pilkada solo, gibran-teguh dapat nomor urut 1, bajo nomor 2: kepada wartawan, gibran mengaku tidak mempermasalahkan mend…', 'rapat pleno penetapan nomor urut dan daftar pasangan calon peserta pemilihan wali kota dan wakil wali kota surakart… https://t.co/eazxqczcsc', 'rt @kumparan: paslon gibran-teguh secara sah mendapat nomor urut 1 dalam pilkada solo 2020. sedangkan paslon independen bajo mendapat nomor…', 'pilkada solo 2020: gibran-teguh nomor urut 1, bajo 2 https://t.co/ysknxcvtry', 'paslon gibran-teguh secara sah mendapat nomor urut 1 dalam pilkada solo 2020. sedangkan paslon independen bajo mend… https://t.co/hsp1dniq6x', 'sah, gibran-teguh dapat nomor urut 1, bajo nomor\\xa02 https://t.co/sojgjfu2lw', 'pilkada solo, gibran-teguh dapat nomor urut 1, bajo nomor 2: kepada wartawan, gibran mengaku tidak mempermasalahkan… https://t.co/4e76ecpgyh', 'saat hadir dalam rapat pleno kpu pengundian nomor urut, gibran dan teguh memakai kemeja putih. berlawanan dengan wa… https://t.co/wkkdwclk3e', 'teguh, yang mendampingi gibran, langsung tepuk tangan saat mengetahui gibran mendapat nomor urut 1. tim lain yang h… https://t.co/s5ebu56jrg', 'pasangan calon pilkada kota solo 2020, gibran rakabuming raka-teguh prakosa mendapat nomor urut 1, sementara lawann… https://t.co/vz24dydybr', '\"pengundian nomor urut paslon telah kita lakukan, paslon gibran-teguh mendapatkan nomor satu dan bajo nomor urut du… https://t.co/9xothm4wjn', 'rt @kompastv: kpu tetapkan 2 paslon pilwakot solo, gibran-teguh dan bagyo-supardjo https://t.co/bu7hn0gezx', 'pasangan gibran rakabuming raka-teguh prakosa (gibran-teguh) dan bagyo wahyono-fx supardjo (bajo) menghadiri pengun… https://t.co/52cd2ynbup', 'solo bersatu, gibran - teguh pilihanku!!\\n.\\n#solohebat #sobatsolohebat #solomelompatlebihjauh… https://t.co/ywsrx9t0gc', 'kpu tetapkan 2 paslon pilwakot solo, gibran-teguh dan bagyo-supardjo https://t.co/bu7hn0gezx', 'rt @marvel7214: mari kita doakan mak nek penggemar serial pembunuhan\\nini . . \\n\\npilkada solo, megawati turun tangan jadi jurkam gibran-teguh…', 'tarik pemilih milenial, gibran-teguh akan gelar konser musik virtual: tim pemenangan bakal pasangan calon wali kota… https://t.co/b8hbwzntuj', 'sah jadi paslon, gibran-teguh &amp; bagyo-supardjo tak soalkan nomor\\xa0urut https://t.co/dal12yhapy', 'rt @cobeh09: lbp protes...\\nkarena saat\\nlbp sedang \"bla bla bla\"\\ntiba-2\\nnajwa shihab\\nmenayangkan\\npelanggaran protokol covid-19\\noleh peserta…', 'rt @kumparan: paslon gibran-teguh telah menyiapkan blusukan online untuk menyapa masyarakat solo. terkait bagaimana sistemnya, gibran masih…', '@ariabima99 @chilli_pari ranting timuran bersama ibu-ibu penggerak timuran\\nsiap menangkan gibran-teguh\\n\\npemilune sl… https://t.co/rzflteqbv2', 'paslon gibran-teguh telah menyiapkan blusukan online untuk menyapa masyarakat solo. terkait bagaimana sistemnya, gi… https://t.co/dp2wgckv9j', 'https://t.co/xbykcmgbvx', \"😇\\U0001f932selamat pagi assalamu'alaikum wr wb semoga kita selalu patuhi protokol kesehatan agar terhindar dari covid19. tag… https://t.co/wf9dtruflf\", 'pasangan gibran-teguh dan bagyo-supardjo secara resmi akan bertarung memperebutkan kursi wali kota solo. kedua pasa… https://t.co/jrunxewlui', 'dukungan semakin gemuk, kini giliran pkpi merapat ke gibran-teguh di pilkada solo 2020 https://t.co/pwumnww0p3', 'gencarkan protokol kesehatan jelang pilkada serentak 2020, gibran-teguh\\xa0terima hand sanitizer https://t.co/mrrlazdiys', 'rt @yohandewa: anak yg baik sekali mencontoh perilaku bapaknya...\\nnjrit blusukan online!!\\nsekalian gorong2 online!! \\n\\nhttps://t.co/iyjeqzm8…', 'gibran-teguh dan bajo incar nomor urut 1 di pilkada solo https://t.co/nui59sxmqu', '@fermendkis pak purnomo. bentar lagi bisa jadi pak teguh kalau pak gibran jadi walkotnya.', 'rt @pdi_perjuangan: semakin sejahtera dibawah kepemimpinan kader pdi perjuangan, petugas penarik sampah banjarsari siap memenangkan gibran-…', 'bagyo wahyono dan f.x. supardjo dipastikan menjadi lawan gibran-teguh dalam pilwalkot solo 2020. bagyo-supardjo maj… https://t.co/qgqkgne46z', 'udah kayak kepanitiaan ya ada rekening baru #merahputihcom #rekening #kampanye https://t.co/qnuldhej3d', 'dukung pilkada solo aman, secret clean suport hand sanitizer melalui paslon gibran-teguh https://t.co/yxkucouodr', 'rt @detikcom: kpu solo secara resmi menetapkan gibran rakabuming raka-teguh prakosa dan bagyo wahyono-fx supardjo (bajo) sebagai pasangan c…', 'anak yg baik sekali mencontoh perilaku bapaknya...\\nnjrit blusukan online!!\\nsekalian gorong2 online!! \\n\\nhttps://t.co/iyjeqzm8qv', 'mari kita doakan mak nek penggemar serial pembunuhan\\nini . . \\n\\npilkada solo, megawati turun tangan jadi jurkam gibr… https://t.co/apmg8pao1e', 'kpu solo secara resmi menetapkan gibran rakabuming raka-teguh prakosa dan bagyo wahyono-fx supardjo (bajo) sebagai… https://t.co/7ukkblrscp', 'dukung gibran-teguh, pkpi: pemimpin solo paling wow! https://t.co/dt3cneqo0x', 'rt @kompastv: sah! gibran rakabuming-teguh dan bajo jadi calon wali kota solo https://t.co/pwphazcnfr https://t.co/9pq2wxmpbu', 'gibran-teguh siapkan blusukan online https://t.co/mdawhutqds', 'kpu tetapkan gibran-teguh dan bagyo-supardjo paslon di pilwalkot solo 2020 #gibranrakabuming #komisipemilihanumum… https://t.co/fpovzrbrva', 'sah jadi paslon, gibran-teguh &amp; bagyo-supardjo tak soalkan nomor urut https://t.co/qpetnj0zqn', 'dukungan semakin gemuk, kini giliran pkpi merapat ke gibran-teguh di pilkada solo 2020 https://t.co/gq55t9qhgw', 'gibran - teguh dan bajo resmi sebagai paslon wali kota solo di pilkada 2020\\xa0 https://t.co/jematyrzgk https://t.co/gs35vjrni5', 'semua kembali pada rakyat / masyarakat.\\napakah masih mau dibodohi ?\\nfakta dan realitanya, setelah mereka menduduki… https://t.co/tqjjdghiqc', 'ketua tim pemenangan gibran-teguh berharap agar mendapat nomor urut 1. https://t.co/htf14r7xmv', 'rapat pleno tertutup kpu surakarta menetapkan pasangan\\xa0gibran-teguh dan bagyo-supardjo maju dalam pilkada\\xa0 wali kot… https://t.co/gacuyhtatn', 'rt @kompasiana: demi memperjuangkan gibran-teguh, megawati, puan dan hasto siap jadi juru kampanye https://t.co/3jhm2ef6un', 'demi memperjuangkan gibran-teguh, megawati, puan dan hasto siap jadi juru kampanye\\nhttps://t.co/7ysy8jkeub', 'semakin sejahtera dibawah kepemimpinan kader pdi perjuangan, petugas penarik sampah banjarsari siap memenangkan gib… https://t.co/wmvp4aa845', 'demi memperjuangkan gibran-teguh, megawati, puan dan hasto siap jadi juru kampanye https://t.co/3jhm2ef6un', 'megawati dan puan bakal jadi jurkam gibran-teguh https://t.co/wie8wcfuka https://t.co/isdq905rzy', 'megawati dan puan bakal jadi jurkam gibran-teguh https://t.co/ui5p14rtbp https://t.co/urdvsob4jh', 'banteng solotengah\\nberhimpun &amp; bergerak \\nsiap memenangkan\\ngibran-teguh\\n\\npemilune slamet wargane iso ngliwet https://t.co/fg1ccjj4lx', 'banteng solotengah\\nberhimpun &amp; bergerak \\nsiap memenangkan\\ngibran-teguh\\n\\npemilune slamet wargane iso ngliwet', 'konsolidasi ranting anting &amp; satgas timuran\\nsolid bergerak gibran-teguh\\n\\npemilune slamet...wargane iso ngliwet https://t.co/3d3xihjuli', 'kpu tetapkan gibran-teguh dan bajo sebagai peserta pilkada solo: nurul menjelaskan, rapat pleno penetapan calon tid… https://t.co/bc0wcxvca2', 'bajo sah jadi lawan gibran-teguh dalam pilwakot solo 2020 https://t.co/ltiufyhnty', 'sah! gibran-teguh bakal bertemu bajo di pilkada surakarta 2020 https://t.co/tbe829fazu', 'rt @detikcom: megawati soekarnoputri dan puan maharani akan turun gunung menjadi juru kampanye gibran rakabuming-teguh prakosa di pilkada s…', 'kpu tetapkan gibran-teguh dan bajo sebagai peserta pilkada solo: nurul menjelaskan, rapat pleno penetapan calon tid… https://t.co/4jvdgrlzga', 'rt @republikaonline: gibran-teguh dan bagyo-suparjo ditetapkan kpu untuk bertarung dalam pilkada solo https://t.co/cn9o1sw95z', 'gibran-teguh dan bagyo-suparjo ditetapkan kpu untuk bertarung dalam pilkada solo https://t.co/cn9o1sw95z', 'resmi bersaing. pengundian nomor urut paslon akan dilakukan besok melalui pleno terbuka.\\n\\n#validnews #nasional\\n\\nhttps://t.co/weosduodpm', 'kpu resmikan paslon pilkada solo: teguh-gibran vs bajo #pilkadasolo #gibranrakabuming https://t.co/syhrlstdih', 'sah! gibran rakabuming-teguh dan bajo jadi calon wali kota solo https://t.co/pwphazcnfr https://t.co/9pq2wxmpbu', 'megawati dan puan bakal jadi jurkam gibran-teguh https://t.co/jod8ftcwkb', 'gibran-teguh dan bajo resmi jadi paslon pilkada solo https://t.co/l8a6a7yehz', 'sah,  gibran-teguh dan bajo jadi peserta pilkada solo https://t.co/nbrycgci92', 'kpu tetapkan gibran-teguh dan bajo calon pilkada surakarta https://t.co/07fbroh1ub', 'rt @ariefnoviandi_: warga solo, yang gak suka gibran, yang nuduh dinasti politik, sila pilih bajo. jangan golput. \\n\\nhttps://t.co/hd8rylzasy', 'dua paslon yakni gibran rakabuming raka-teguh prakosa dan bagyo wahyono-fx supardjo (bajo) akan bertarung dalam pil… https://t.co/ybj8o8px8s', 'batal lawan kotak kosong, gibran-teguh bakal ditantang bagyo-suparjo di pilkada solo https://t.co/snqavnefft #pilkada2020 #pilwakotsolo', 'kpu solo sahkan pertarungan gibran-teguh lawan bajo di pilkada https://t.co/ylknlvy1mr', 'sah! gibran-teguh vs bajo bersaing di pilkada solo 2020 https://t.co/hcrwcbqaei https://t.co/ktjrlr7vkm', 'kpu tetapkan gibran-teguh dan bajo paslon pilkada solo https://t.co/ycwqr7yc7f', 'ketua umum pdip megawati soekarnoputri dan ketua dpp puan maharani serta sekjen hasto kristianto bakal \"turun gunun… https://t.co/uyrnzcxaov', 'kpu tetapkan gibran-teguh dan bagyo-supardjo sebagai paslon di pilwalkot solo\\xa02020 https://t.co/nazt7th5xr', 'warga solo, yang gak suka gibran, yang nuduh dinasti politik, sila pilih bajo. jangan golput. \\n\\nhttps://t.co/hd8rylzasy', 'patuihi protokol kesehatan saat kampanye di solo, gibran-teguh bakal gelar konser musik virtual https://t.co/ewt2mumc4v', 'pengumuman penetapan calon pilkada solo online, gibran – teguh &amp; bagyo – supardjo tak datang ke kpu https://t.co/tcldtjq2um', 'begini kata tim pemenangan gibran dan teguh soal penundaan pilkada 2020 https://t.co/gfcxkmjior https://t.co/qcdlyi02ol', '\"asyik pilkadanya jadi ya...\" teriak rakyat yang lagi pusing ganti masker  scuba nya, dan di-aminin sama tenaga kes… https://t.co/elnj4h9zev', 'sah! tukang jahit &amp; ketua rw tanding lawan putra presiden jokowi gibran &amp; teguh di pilkada solo 2020 https://t.co/firm1eabts', 'bajunya keren mas @markobar1996\\n😁😁\\nkenalkan seragam kampanye gibran-teguh di pilkada solo, ini maknanya https://t.co/jqjql0nsif', 'ketua tim pemenangan bakal pasangan calon gibran - teguh, putut gunawan mengatakan kehadiran megawati diharapkan da… https://t.co/jrxw9bagpc', 'menangkan gibran-teguh, puan maharani dan megawati turun gunung jadi jurkam di pilkada solo\\n#soloraya #pilkadasolo… https://t.co/mtkd3bpf04', 'rt @kumparan: kpu menyatakan paslon gibran-teguh dan paslon bagyo-supardjo sebagai calon wali kota solo. #publisherstory https://t.co/iwblw…', 'kpu tetapkan gibran-teguh dan bagyo-supardjo paslon di pilwalkot solo 2020 https://t.co/lwvik7rr0o', 'kpu menyatakan paslon gibran-teguh dan paslon bagyo-supardjo sebagai calon wali kota solo. #publisherstory https://t.co/iwblwfffpa', '\"ada dua pasangan yang kami tetapkan, yakni gibran-teguh dan bagyo-supardjo,\" ujar ketua kpu solo, nurul sutarti. https://t.co/pl5hiawak7', 'ranting timuran bersama ibu-ibu penggerak timuran siap menangkan gibran-teguh\\n\\npemilune slamet wargane iso ngliwet… https://t.co/xe1f2hq8wm', 'ranting timuran bersama ibu-ibu se timuran siap bergerak &amp; memenangkan gibran-teguh\\n\\n#pdiperjuangan… https://t.co/xsncva4izd', 'rt @sindonews: megawati menjadi jurkam gibran-teguh di pilwalkot solo https://t.co/3adufbzoum', 'rt @gli_hagiasophia: paling jurus nangis yang akan diandalkan,seperti halnya waktu jadi presiden hasil dari gusdur lengser,kalau nggak nang…', 'paling jurus nangis yang akan diandalkan,seperti halnya waktu jadi presiden hasil dari gusdur lengser,kalau nggak n… https://t.co/nvvb691juk', 'nomor urut 01 di pilkada solo 2020 jadi rebutan bajo independen dan pasangan calon pdip gibran-teguh https://t.co/cwf3h1xfaz', 'ketum pdip megawati soekarno putri dan ketua dpr puan maharani disebut bakal menjadi juru kampanye gibran rakabumin… https://t.co/wl0n3pytcs', 'kampanye gibran-teguh, pertimbangkan gelar konser https://t.co/1h6pmyxgdi', 'rt @idtodayco: pilkada solo, megawati turun tangan jadi jurkam gibran-teguh https://t.co/oxoyykbl77', 'pilkada solo, megawati turun tangan jadi jurkam gibran-teguh - follow @demokrasicoid  https://t.co/ptqqdrdt5z', 'puan hingga megawati bakal jadi juru kampanye gibran-teguh - https://t.co/x1b0sau6wp\\n\\n#indonesia', 'tim pemenangan pasangan gibran rakabuming raka-teguh prakosa yang diusung pdip serta didukung delapan parpol tidak… https://t.co/lwziw4e5c5', 'pilkada solo, megawati turun tangan jadi jurkam gibran-teguh https://t.co/oxoyykbl77', 'ketua dpr dan mantan presiden bakal jadi jurkam gibran-teguh di pilkada solo https://t.co/mtre1o2m9h', '@teguh_gibran ashiaap', 'mantan presiden masuk tim juru kampanye gibran-teguh di pilkada solo https://t.co/obt8pnbmsx', 'megawati soekarnoputri dan puan maharani akan turun gunung menjadi juru kampanye gibran rakabuming-teguh prakosa di… https://t.co/ik4woefxer', 'namun, belum dipastikan apakah megawati akan datang langsung ke solo atau melalui daring. https://t.co/9lhtrsg2i7', 'megawati menjadi jurkam gibran-teguh di pilwalkot solo https://t.co/3adufbzoum', 'kampanye gibran-teguh, pertimbangkan gelar konser https://t.co/ges0ftvccj', 'kpu solo: penetapan gibran-teguh dan bagyo-suparjo tertutup https://t.co/nw3h4dpwmq', 'dua pasangan bacalon wali kota solo usung konsep berbeda soal tata ruang. https://t.co/yyvgq0dbw1', '#darimks ketua dpr ri hingga mantan presiden ri jadi tim jurkam gibran-teguh: https://t.co/qxh1ixk5pr… https://t.co/gknlg9h2lc', 'pilkada ditunda, tim pemenangan gibran-teguh: kami pasti diuntungkan\\nhttps://t.co/vzcet4yooy https://t.co/0lcwrvpcni', 'pilkada ditunda, tim pemenangan gibran-teguh: kami pasti diuntungkan\\nhttps://t.co/xsisc4laxj https://t.co/gdpwa1elpd', 'pilkada ditunda, tim pemenangan gibran-teguh: kami pasti diuntungkan\\nhttps://t.co/gscvgfvacy https://t.co/zwtrdkvdvi', 'megawati dan para elit partai akan turun gunung kampanyekan gibran - teguh #temponasional https://t.co/jip8uttkk8', 'timses paslon gibran-teguh akan menghadirkan megawati hingga puan maharani untuk menjadi juru kampanye. https://t.co/ovutks3qtq', '@pdi_perjuangan ayo, pilih gibran - teguh 🇮🇩', 'rt @detikcom: pdip menyiapkan juru kampanye untuk memenangkan pilkada 2020. di pilkada solo, ketua umum pdip megawati soekarnoputri akan me…', 'rt @tempodotco: para tokoh partai politik bakal berdatangan ke solo selama masa kampanye. megawati soekarnoputri juga akan dihadirkan untuk…', 'para tokoh partai politik bakal berdatangan ke solo selama masa kampanye. megawati soekarnoputri juga akan dihadirk… https://t.co/horvpaicy9', 'ketua umum pdip megawati soekarnoputri akan menjadi salah satu juru kampanye pasangan gibran rakabuming raka-teguh… https://t.co/x5amtlsuqw', 'pdip menyiapkan juru kampanye untuk memenangkan pilkada 2020. di pilkada solo, ketua umum pdip megawati soekarnoput… https://t.co/ro5a2oi5rm', 'rt @merdekadotcom: tim pemenangan gibran-teguh minta kpu gelar rapat pleno terbuka penetapan calon: pernyataan tersebut dikemukakan lo (lia…', 'tim pemenangan gibran-teguh minta kpu gelar rapat pleno terbuka penetapan calon: pernyataan tersebut dikemukakan lo… https://t.co/givjxxjdg6', '#tim gibran-teguh memprotes kpu solo - jawa pos https://t.co/xiavz3rc49 #demokrasi #indonesia', 'gaet pemilih milenial, gibran rakabuming-teguh prakosa bakal gelar konser virtual https://t.co/qatimmwhv8', 'konser musik virtual menjadi bagian dari menggalang dukungan warga terhadap pasangan gibran dan teguh. setidaknya i… https://t.co/0flhpmgvum', 'megawati dan puan bakal jadi jurkam gibran-teguh: kehadiran para tokoh partai berlambang kepala banteng moncong put… https://t.co/a7get11m1t', 'rt @kumparan: siapa saja yang bakal menjadi juru kampanye gibran dan teguh di pilwalkot solo? https://t.co/cakh2fd9hu', 'siapa saja yang bakal menjadi juru kampanye gibran dan teguh di pilwalkot solo? https://t.co/cakh2fd9hu', '@aci_loebis @telkomsel @detikcom keren banget nih acaranya, kemaren gua nonton pengisi acaranya itu keren2 , semoga… https://t.co/8lxdd4ccms', '@ekihifa92 @telkomsel @detikcom keren banget nih acaranya, kemaren gua nonton pengisi acaranya itu keren2 , semoga… https://t.co/s6wfalgbrx', '@lilyhani_ilfani @telkomsel @detikcom keren banget nih acaranya, kemaren gua nonton pengisi acaranya itu keren2 , s… https://t.co/ghgaks8nys', '@thia_phiinoo @telkomsel @detikcom keren banget nih acaranya, kemaren gua nonton pengisi acaranya itu keren2 , semo… https://t.co/ffvbbe6pzv', '@yunita_aryani92 @detikcom @telkomsel keren banget nih acaranya, kemaren gua nonton pengisi acaranya itu keren2 , s… https://t.co/y56i2fzwsw', '@renayku mantul nih film', '@kurniaar8 @detikcom @telkomsel keren banget nih acaranya, kemaren gua nonton pengisi acaranya itu keren2 , semoga… https://t.co/v4zx3afo6t', '@kurniaar8 @detikcom @telkomsel keren banget nih acaranya, kemaren gua nonton pengisi acaranya itu keren2 , semoga… https://t.co/fg8zxbw9wf', '@devyfristivany @detikcom @telkomsel keren banget nih acaranya, kemaren gua nonton pengisi acaranya itu keren2 , se… https://t.co/xwgwvdteaw', '@henyper aku liat2 dulu ya kak ig nya', 'tim gibran-teguh memprotes kpu solo https://t.co/utgxsnmfzs', 'cara kampanye di tengah pandemi covid-19, gibran-teguh bakal blusukan online  https://t.co/totvampbqg', 'band apa yang cocok? \\n\\npatuhi protokol kesehatan saat kampanye di solo, gibran-teguh bakal gelar konser musik virtu… https://t.co/yrgapkzahp', 'gelar konser musik virtual cara gibran-teguh lebih dekat dengan pemilih\\xa0milenial https://t.co/kwue8vlhsy', '@puanokta @telkomsel @detikcom pasti seru banget acaranya apalagi ada boy william', 'rt @pdi_perjuangan: angkat jargon pemilune slamet wargane iso ngliwet, ketua dpc pdi perjuangan surakarta ajak penarik sampah laweyan sukse…', '@pdi_perjuangan rapatkan barisan utk kemenangan gibran-teguh demi keberlanjutan program kebijakan yang pro wong cil… https://t.co/2pbhqit5wv', 'angkat jargon pemilune slamet wargane iso ngliwet, ketua dpc pdi perjuangan surakarta ajak penarik sampah laweyan s… https://t.co/vbauyopjg0', 'patuihi protokol kesehatan saat kampanye di solo, gibran-teguh bakal gelar konser musik virtual https://t.co/ewt2mv4cw3', 'rt @soloposdotcom: rebut hati milenial solo, gibran-teguh siapkan konser musik virtual https://t.co/pup2z8fg2n https://t.co/6gepb8t9pz', 'rt @soloposdotcom: target raih 85% suara, gibran-teguh andalkan jurkam nasional hingga influencer https://t.co/mqmadv93gr https://t.co/ydrx…', 'rebut hati milenial solo, gibran-teguh siapkan konser musik virtual https://t.co/pup2z8fg2n https://t.co/6gepb8t9pz', 'silaturahmi ke tegalharjo, gibran-teguh janji lanjutkan program 3wmp rudy-poernomo hingga percepatan pemulihan ekon… https://t.co/mwj3xbfg0o', 'target raih 85% suara, gibran-teguh andalkan jurkam nasional hingga influencer https://t.co/mqmadv93gr https://t.co/ydrx4xpkjr', 'kpu putuskan tak undang gibran-teguh dan bajo saat penetapan calon pilkada solo: “itu nanti pleno internal, kemudia… https://t.co/gj4blx4b7h', 'mantap jiwa! puan hingga megawati terjun jadi jurkam gibran-teguh di pilkada 2020 https://t.co/mmucqxbzst https://t.co/ap08ob6515', 'perindo dukung pasangan gibran - teguh jadi wali kota dan wakil wali kota solo\\n\\nhttps://t.co/pi0rlk2zsz', 'saat menghadiri “deklarasi adaptasi kebiasaan baru untuk mendukung percepatan penanganan covid 19” gibran - teguh j… https://t.co/nujkhk4emq', 'saat menghadiri “deklarasi adaptasi kebiasaan baru untuk mendukung percepatan penanganan covid 19” gibran - teguh j… https://t.co/n01b4ybvvn', 'saat menghadiri “deklarasi adaptasi kebiasaan baru untuk mendukung percepatan penanganan covid 19” gibran - teguh j… https://t.co/lu93bu3dl3', 'saat menghadiri “deklarasi adaptasi kebiasaan baru untuk mendukung percepatan penanganan covid 19” gibran - teguh j… https://t.co/d11qwul8pk', '[hoax] presiden jadi tim sukses gibran-teguh https://t.co/nfqucg5gl8 via @detaxid', 'visi-misi pilkada 2020 gibran - teguh: kota solo sebagai kota budaya modern &amp; lanjutkan program rudy https://t.co/j3rkltx0pw', 'partai perindo resmi dukung pasangan gibran-teguh di pilwakot solo 2020\\n\\nhttps://t.co/lvmdjbob3f']\n"
          ],
          "name": "stdout"
        }
      ]
    },
    {
      "cell_type": "code",
      "metadata": {
        "id": "sbIsBkEAh718",
        "outputId": "96c954a2-e6af-4887-94d6-67dacd062b80",
        "colab": {
          "base_uri": "https://localhost:8080/",
          "height": 54
        }
      },
      "source": [
        "#Menghapus alamat web\n",
        "tweet_data_2=[]\n",
        "for teks in tweet_data_1:\n",
        "  teks_process = [re.sub(r\"http\\S+\", \"\", teks)]\n",
        "  tweet_data_2=tweet_data_2+teks_process\n",
        "print(tweet_data_2)"
      ],
      "execution_count": null,
      "outputs": [
        {
          "output_type": "stream",
          "text": [
            "['populer nusantara antara lain konlik antara kapolres blitar dengan kasat sabhara. sementara di solo, sandiaga ipers… ', 'rt @dinihrdianti: sandiaga uno menjadi juru kampanye pasangan calon wali kota dan wakil wali kota solo, gibran rakabuming raka-teguh prakos…', 'rt @oposisicerdas: sandiaga uno jadi juru kampanye gibran-teguh di pilkada solo, disebut ada lobi jokowi\\n', \"~ninggal tatu~\\n\\nkowe tak sayang-sayang saiki malah ngilang' 🎶\\ntresnamu karo aku, kuwi mung kiasan🎶\\nkowe tak gadhang… \", 'rt @kanseulir: sandi uno jadi juru kampanye gibran-teguh di pilkada solo, disebut ada lobi jokowi.\\n\\nperjuangan bapak perbaiki martabak anak…', 'tidur dulu ah sakit badan nihh', 'nyeri awak', 'ngantukkkk', 'sandi uno jadi juru kampanye gibran-teguh di pilkada solo, disebut ada lobi jokowi.\\n\\nperjuangan bapak perbaiki mart… ', 'rt @kompascom: selain sandiaga uno, ada nama besar lain yang juga akan menjadi jurkam paslon gibran-teguh di solo | #pilkada2020  \\n ', 'respons kabar sandiaga bakal jadi jurkam, gibran rancang kampanye daring: wakil ketua dewan pembina partai gerindra… ', 'selain sandiaga uno, ada nama besar lain yang juga akan menjadi jurkam paslon gibran-teguh di solo | #pilkada2020  \\n ', '@rikiandre8 @bolangwebberii @ustadtengkuzul udah baca ini belom blog? \\n', 'rt @christwamea: sandiaga uno jadi juru kampanye gibran-teguh di pilkada solo, disebut ada lobi jokowi. borong dari medan sampai solo. \\nhtt…', 'hoammmmmm', 'gibran – teguh: pilkada sesuai jadwal, demokratis dan aman dari covid-19. ', 'solo ber – satu, gibran – teguh pilihanku. ', 'gibran – teguh mendapat nomor urut satu untuk pilkada solo 2020. part 2 ', 'gibran – teguh mendapat nomor urut satu untuk pilkada solo 2020. part 1 ', 'gibran: saya dan pak teguh tetap berkomitmen menjaga protokol kesehatan selama kampanye. ', 'gibran – teguh: untuk mendukung pilkada aman, secret clean (pt victoria care) memberikan bantuan hand sanitizer. ', 'capek euy', 'sandiaga uno digadang-gadang menjadi jurkam paslon gibran-teguh dalam pilkada solo 2020. sandiaga menjadi jurkam ta… ', 'mantan wakil gubernur dki jakarta sandiaga uno bakal menjadi juru kampanye pasangan calon gibran rakabuming raka-te… ', '@naydonuts @airinairin_nz @tjhinfar21 @chilli_pari gk butuh jurkam dari pusat spt @sandiuno \\nwarga solo cukup berdi… ', 'rt @katadatacoid: wakil ketua dpp gerindra @sandiuno akan menjadi juru kampanye untuk pasangan calon wali kota dan wakil wali kota solo, gi…', 'rt @geloraco: sandiaga uno jadi juru kampanye gibran-teguh di pilkada solo, disebut ada lobi jokowi\\n', 'wakil ketua dpp gerindra @sandiuno akan menjadi juru kampanye untuk pasangan calon wali kota dan wakil wali kota so… ', 'asyiikkk', 'laparrr', '\\U0001f970\\U0001f970\\U0001f970\\n', 'mantap! sandiaga uno jadi jurkam gibran-teguh di pilkada solo 2020 ', 'lebih lanjut ardianto mengatakan, saat ini pihaknya sedang mengkaji persiapan deklarasi tim pemenangan untuk paslon gibran-teguh.', 'mantan wakil gubernur dki jakarta ini dimungkinkan akan mengkampanyekan pasangan gibran-teguh juga secara virtual.', 'termasuk model kampanye yang digunakan sandiaga untuk paslon gibran-teguh. menurutnya, antara gibran dengan sandi, sangat bisa disatukan.', 'menurutnya, faktor kedekatan antara sandiaga, prabowo subianto (ketua dpp partai gerindra) dengan presiden jokowi s… ', 'kabar sandiaga akan menjadi juru kampanye untuk pasangan gibran teguh, dibenarkan oleh ketua dpc partai gerindra solo ardianto kuswinarno.', 'menurutnya, faktor kedekatan antara sandiaga, prabowo subianto (ketua dpp partai gerindra) dengan presiden jokowi s… ', 'wakil ketua dewan pembina partai gerindra sandiaga salahudin uno akan menjadi juru kampanye (jurkam) untuk pasangan… ', 'menurutnya, faktor kedekatan antara sandiaga, prabowo subianto (ketua dpp partai gerindra) dengan presiden jokowi s… ', 'wakil ketua dewan pembina partai gerindra sandiaga salahudin uno akan menjadi juru kampanye (jurkam) untuk pasangan… ', 'wakil ketua dewan pembina partai gerindra sandiaga salahudin uno akan menjadi juru kampanye (jurkam) untuk pasangan… ', 'menurutnya, faktor kedekatan antara sandiaga, prabowo subianto (ketua dpp partai gerindra) dengan presiden jokowi s… ', 'menurutnya, faktor kedekatan antara sandiaga, prabowo subianto (ketua dpp partai gerindra) dengan presiden jokowi s… ', 'wakil ketua dewan pembina partai gerindra sandiaga salahudin uno akan menjadi juru kampanye (jurkam) untuk pasangan… ', 'wakil ketua dewan pembina partai gerindra sandiaga salahudin uno akan menjadi juru kampanye (jurkam) untuk pasangan… ', 'menurutnya, faktor kedekatan antara sandiaga, prabowo subianto (ketua dpp partai gerindra) dengan presiden jokowi s… ', 'wakil ketua dewan pembina partai gerindra sandiaga salahudin uno akan menjadi juru kampanye (jurkam) untuk pasangan… ', 'orang amerika mungkin jadi mikir2, jangan2 nanti kalau biden menang dan trump kalah \\nkemudian anaknya biden nyalon… ', 'rt @ferdinandhaean3: selamat bang @sandiuno , semoga solo kedepan bisa bebas dari kaum intoleransi..!!\\n\\n ', '@asik_mulu @p_eneste @irmadlukman @vita_avp @yradianto @j_aryoko @southoldman @isalfatur @mazzini_gsp… ', 'selamat bang @sandiuno , semoga solo kedepan bisa bebas dari kaum intoleransi..!!\\n\\n ', 'politisi partai gerindra sandiaga solahuddin uno akan menjadi juru kampanye (jurkam) pasangan calon wali kota dan w… ', 'sandiaga uno menjadi juru kampanye pasangan calon wali kota dan wakil wali kota solo, gibran rakabuming raka-teguh… ', 'pilwalkot solo, sandiaga uno siap diterjunkan jadi jurkam gibran-teguh  ', '@pulpenaibon @lembolah @anakkolong_ oh jadi ini ya 🤣🤣\\n ', 'sandiaga akan jadi jurkam gibran di solo dan bobby di medan: menurutnya, faktor kedekatan antara sandiaga, prabowo… ', '\\n#sandiagauno #prabowo #gerindra #pdiperjuangan', 'sandiaga uno jadi juru kampanye gibran-teguh di pilkada solo, disebut ada lobi jokowi\\n', 'politisi partai gerindra sandiaga solahuddin uno dipersiapkan menjadi jukam pasangan calon wali kota dan wakil wali… ', 'rt @matanajwa: \"apbd kota solo tiap hari kita bahas dengan pak teguh, ini adalah masa-masa di mana kita harus bersabar dan banyak sekali an…', 'rt @matanajwa: \"saya berkomitmen untuk menaati protokol kesehatan. setiap hari saya dengungkan ke warga program prioritas saya dan pak tegu…', 'sandiaga uno jadi juru kampanye gibran-teguh di pilkada solo, disebut ada lobi jokowi. borong dari medan sampai sol… ', '@trans7 kalau gibran nggak bermanuver kira-kira ibu ketum bakal milih dia atau enggak ya??? sementara pdip sudah ng… ', 'mantap! sandiaga uno jadi jurkam gibran-teguh di pilkada solo 2020 ', '\"lobi-lobinya politik tingkat tinggi. karena ketum kami (prabowo subianto) dengan pak jokowi sangat dekat sekali.… ', '@asmubaroq_ @afiandry @betakopites_ wkwkw jadi jasa terawang gini dah \\n\\ngibran-teguh yang menang kalo dia kalah kalem ada leg kedua wkwkkw', 'rt @kompascom: politisi partai gerindra sandiaga solahuddin uno dipersiapkan menjadi jukam pasangan calon wali kota dan wakil wali kota sol…', 'sandiaga uno jadi juru kampanye gibran-teguh di pilkada solo, disebut ada lobi jokowi\\n', 'apa kabar papa online \\n😃😃😃\\n\\nsandiaga uno jadi jurkam gibran-teguh di pilkada solo 2020\\nklik untuk baca:… ', 'politisi partai gerindra sandiaga solahuddin uno dipersiapkan menjadi jukam pasangan calon wali kota dan wakil wali… ', 'gotong royong melawan covid-19 bersama gibran – teguh. ', 'gibran genap 33 tahun, teguh doakan putra jokowi terpilih jadi wali kota dan bisa membangun solo ', 'rt @trans7: \"apbd kota solo tiap hari kita bahas dengan pak teguh, ini adalah masa-masa di mana kita harus bersabar dan banyak sekali angga…', 'rt @psi_id: pengurus dpd psi solo dipimpin langsung bro antonius yoga melakukan fogging di permukiman warga.\\n\\npada kesempatan yang sama, me…', 'gibran-teguh melakukan blusukan ke masyarakat dalam rangka membantu masyarakat yang terkena dampak pandemi ', '@gabisaganti pertanyaan najwa tidak perlu kita ragukan lagi, namun apakah jawaban mas gibran n cara menjawab nya su… ', 'rt @trans7: \"saya berkomitmen untuk menaati protokol kesehatan. setiap hari saya dengungkan ke warga program prioritas saya dan pak teguh a…', 'paslon gibran-teguh kembali melakukan blusukan online ke beberapa kelurahan di solo. dalam kesempatan itu, gibran a… ', 'paslon gibran-teguh kembali melakukan blusukan online ke beberapa kelurahan di solo. dalam kesempatan itu, gibran a… ', 'rt @kompascom: putra presiden joko widodo, gibran rakabuming raka, yang berpasangan dengan teguh prakosa di pilwalkot surakarta. / #nasiona…', 'putra presiden joko widodo, gibran rakabuming raka, yang berpasangan dengan teguh prakosa di pilwalkot surakarta. /… ', '\"apbd kota solo tiap hari kita bahas dengan pak teguh, ini adalah masa-masa di mana kita harus bersabar dan banyak… ', '\"apbd kota solo tiap hari kita bahas dengan pak teguh, ini adalah masa-masa di mana kita harus bersabar dan banyak… ', '\"saya berkomitmen untuk menaati protokol kesehatan. setiap hari saya dengungkan ke warga program prioritas saya dan… ', '\"saya berkomitmen untuk menaati protokol kesehatan. setiap hari saya dengungkan ke warga program prioritas saya dan… ', 'rt @solohebat_id: solo bersatu, gibran - teguh pilihanku!!\\n.\\n#solohebat #sobatsolohebat #solomelompatlebihjauh #lompatananakmudauntuksolo #…', 'bajo blusukan langsung ke tokoh agama, gibran-teguh pakai virtualbox \\n\\n', 'rt @solohebat_id: identitas yang satu ini akan menjadi tugas bersama masyarakat solo dan pasangan mas gibran &amp; mas teguh untuk membawa solo…', 'rt @solohebat_id: identitas yang satu ini akan menjadi tugas bersama masyarakat solo dan pasangan mas gibran &amp; mas teguh prakasa untuk memb…', 'amunisi bertambah, pkpi dukung gibran – teguh di pilkada solo. ', 'rt @radarmasnetwork: dana kampanye gibran-teguh &amp; bajo masing-masing dibatasi rp 19,7\\xa0m ', 'dana kampanye gibran-teguh &amp; bajo masing-masing dibatasi rp 19,7\\xa0m ', 'gibran-teguh for solo 1 #gibranforsolo ', 'bajo blusukan langsung ke tokoh agama, gibran-teguh pakai virtualbox \\n\\n', 'pasangan gibran-teguh dan bajo memiliki cara tersendiri untuk menggaet suara warga kota solo. simak gaya kampanye m… ', 'mas gibran mohon maaf, jadinya mas fans apa mas? kok semuanya mas wkwkwk\\n\\ngibran-teguh 1! ', 'pengurus dpd psi solo dipimpin langsung bro antonius yoga melakukan fogging di permukiman warga.\\n\\npada kesempatan y… ', 'rt @bisniscom: pilkada solo 2020, sandiaga uno bakal kampanyekan gibran-teguh ', 'pilkada solo 2020, sandiaga uno bakal kampanyekan gibran-teguh ', 'rt @aryprasetyo85: #kampanyepilkadavirtual\\nkampanye perdana gibran-teguh blusukan daring dengan virtual box\\n\\nkampanye gibran berupa blusuka…', '@pdi_perjuangan rapatkan barisan, menangkan gibran-teguh', 'rt @pdi_perjuangan: seluruh ranting pdi perjuangan se-kota surakarta siap memenangkan gibran-teguh dengan menaati dan patuh protokol keseha…', 'ijin bal rapopo di tahan sik , sing penting ijin dodolanku tetep metu seko polri, bekingane gibran teguh og :| ', '#pilwakotsolo kampanye, gibran-teguh bagi tugas  ', '#pilwakotsolo kampanye, gibran-teguh bagi tugas  ', '#pilwakotsolo kampanye, gibran-teguh bagi tugas  ', 'rt @id_indicator: pilwakot surakarta menjadi pilkada teramai nomor pertama dengan 13.693 berita. selain membahas sosok gibran, media menyor…', 'sudahlah paslon bajo biasa gegaruk bidjie aja gegayaan luh ikutan #pilkada2020 segala. 😋\\n\\nkalo boleh usul mendingan… ', 'rt @cnnindonesia: dana awal kampanye: gibran-teguh rp25 juta, bajo rp0 #pilkada2020 ', 'dana awal kampanye: gibran-teguh rp25 juta, bajo rp0 #pilkada2020 ', 'komisi pemilihan umum (kpu) solo, jawa tengah telah menerima pendaftaran 40 akun media sosial (medsos) milik kedua… ', 'megawati turun gunung jadi jurkam gibran-teguh, pengamat: kalau kalah harga diri pdip-jokowi hancur ', 'pilkada solo: lawan gibran-teguh, dana kampanye pasangan bajo rp0 -  ', '@kevin_asgudier siap akhi, saya masih memegang teguh sepenggal kalimat dari khalil gibran wkwk', 'rt @kumparan: warga solo antusias dengan adanya box virtual kampanye yang disediakan paslon gibran-teguh. warga pun dapat berkeluh kesah de…', 'warga solo antusias dengan adanya box virtual kampanye yang disediakan paslon gibran-teguh. warga pun dapat berkelu… ', '@pdi_perjuangan ayo rapatkann barisan utk memenangkan gibran - teguh dgn menerapkan disiplin protok kesehatan.\\n\\n*sa… ', 'pilkada solo: lawan gibran-teguh, dana kampanye pasangan bajo rp0 #kelurahannusukan #panjipanji… ', 'rt @dewibulan74: seperti diberitakan, kampanye virtual antara lain sdh dilakukan oleh paslon walikota dan calon wakil walikota solo nomor u…', 'rt @prasetyoedi_: selamat berjuang gibran-teguh.\\nsemangat mewujudkan surakarta sebagai kota budaya yang modern, tangguh, gesit, kreatif, da…', 'rt @prasetyoedi_: saya optimis gibran-teguh mampu menerapkan kampanye sehat dari bahaya penularan virus korona dan menang dalam pilkada ini…', 'seluruh ranting pdi perjuangan se-kota surakarta siap memenangkan gibran-teguh dengan menaati dan patuh protokol ke… ', 'kampanye virtual gibran rakabuming-teguh prakosa dipuji warga solo ', 'kampanye virtual gibran rakabuming-teguh prakosa diapresiasi\\xa0warga ', 'rt @escobart_idn: kampanye virtual antara lain sdh dilakukan oleh pasangan calon walikota dan calon wakil walikota solo nomor urut 01, gibr…', 'selamat berjuang gibran-teguh.\\nsemangat mewujudkan surakarta sebagai kota budaya yang modern, tangguh, gesit, kreat… ', 'saya optimis gibran-teguh mampu menerapkan kampanye sehat dari bahaya penularan virus korona dan menang dalam pilka… ', 'rt @tjhinfar21: perlu diketahui kampanye virtual antara lain sdh dilakukan oleh paslon cawalkot solo dgn no urut 1\\n\\ndi hari pertama kampany…', 'gibran kembali menyapa masyarakat dengan virtual box dengan keliling kampung, sedangkan teguh melakukan blusukan of… ', 'awal kampanye gibran – teguh sudah kantongi dana rp 25 m, bajo rp 0 ', 'rt @billray2019: agar tidak menimbulkan kerumunan massa, pasangan calon walikota solo gibran rakabuming raka dan teguh prakoso melakukan te…', 'rt @kumparan: dpc pdip solo menargetkan perolehan suara 92% untuk kemenangan gibran-teguh. perolehan suara itu tentunya dengan kontribusi y…', 'selamat berjuang mas gibran. gibran – teguh untuk solo 1. ', 'gibran - teguh melakukan kampanye unik blusukan online, guna menghindari pengumpulan massa dan mematuhi protocol ke… ', 'gibran - teguh melakukan kampanye unik blusukan online, guna menghindari pengumpulan massa dan mematuhi protocol ke… ', 'gibran - teguh melakukan kampanye unik blusukan online, guna menghindari pengumpulan massa dan mematuhi protocol ke… ', 'gibran - teguh melakukan kampanye unik blusukan online, guna menghindari pengumpulan massa dan mematuhi protocol ke… ', 'gibran - teguh melakukan kampanye unik blusukan online, guna menghindari pengumpulan massa dan mematuhi protocol ke… ', 'gibran - teguh melakukan kampanye unik blusukan online, guna menghindari pengumpulan massa dan mematuhi protocol ke… ', 'gibran - teguh melakukan kampanye unik blusukan online, guna menghindari pengumpulan massa dan mematuhi protocol ke… ', 'gibran - teguh melakukan kampanye unik blusukan online, guna menghindari pengumpulan massa dan mematuhi protocol ke… ', 'gibran - teguh melakukan kampanye unik blusukan online, guna menghindari pengumpulan massa dan mematuhi protocol ke… ', 'rt @lilapama2011: kampanye virtual sudah dilakukan oleh pasangan calon wali kota dan calon wakil wali kota solo nomor urut 01, gibran rakab…', 'pilwakot surakarta menjadi pilkada teramai nomor pertama dengan 13.693 berita. selain membahas sosok gibran, media… ', 'rt @jitoe02: kampanye virtual sdh dilakukan oleh paslon gibran-teguh pd kampanye di bonorejo, kel nusukan, kec banjarsari, solo, jawa tenga…', 'rt @markonah76: pandemi covid-19 telah mengubah hampir semua mekanisme pertemuan menjadi online, ini bisa dicontoh paslon lain.\\nkampanye vi…', '@aryprasetyo85 @bawaslu_ri @kpu_id @kemendagri @jokowi wah gibran - teguh inilah generasi yg sesungguhnya 👍👍👍', 'kampanye virtual antara lain sdh dilakukan oleh pasangan calon walikota dan calon wakil walikota solo nomor urut 01… ', 'rt @kumparan: pasangan cawali dan cawawali solo nomor urut 01, gibran rakabuming raka-teguh prakosa, langsung melakukan blusukan online di…', 'gibran rakabuming raka resmi menjadi calon wali kota solo dalam pemilihan kepala daerah (pilkada) serentak 2020.\\n\\nb… ', 'rt @athayahayya: #kampanyepilkadavirtual sdh dilakukan oleh paslon walikota dan calon wakil walikota solo nomor urut 01, gibran -teguh pd h…', 'seperti diberitakan, kampanye virtual antara lain sdh dilakukan oleh paslon walikota dan calon wakil walikota solo… ', '@pdi_perjuangan seluruh ranting pdi perjuangan se-kota surakarta siap memenangkan gibran-teguh dengan menaati dan p… ', 'pasangan cawali dan cawawali solo nomor urut 01, gibran rakabuming raka-teguh prakosa, langsung melakukan blusukan… ', '#kampanyepilkadavirtual\\nkampanye perdana gibran-teguh blusukan daring dengan virtual box\\n\\nkampanye gibran berupa bl… ', 'agar tidak menimbulkan kerumunan massa, pasangan calon walikota solo gibran rakabuming raka dan teguh prakoso melak… ', 'rt @aryprasetyo85: #kampanyepilkadavirtual\\nkampanye virtual jg dilakukan oleh paslon gibran rakabuming raka-teguh prakosa di pilkada solo.…', 'rt @aryprasetyo85: #kampanyepilkadavirtual\\nketua tim pemenangan gibran-teguh, putut gunawan, mengatakan, pada tahapan kampanye ini timnya a…', 'rt @aryprasetyo85: #kampanyepilkadavirtual\\nkampanye virtual antara lain sudah dilakukan oleh pasangan calon wali kota dan calon wakil wali…', 'rt @aryprasetyo85: #kampanyepilkadavirtual\\npasangan calon wali kota dan wakil wali kota solo, gibran rakabuming raka-teguh prakosa, lebih b…', 'rt @denni_loyz: yang sudah kampanye virtual antara lain dilakukan oleh pasangan calon wali kota dan wakil walikota solo nomor urut 01, gibr…', '5 fakta kampanye digital gibran - teguh di pilkada solo 2020, warga bisa sampaikan keluh kesahnya ', '[nomor urut pasangan calon]\\n\\nkpu kota surakarta menetapkan nomor urut 1 pasangan gibran rakabuming raka - teguh pra… ', 'dana kampanye gibran-teguh &amp; bajo masing-masing dibatasi rp 19,7 m ', 'rt @pdi_perjuangan: dapar nomor urut 1, gibran-teguh siap kampanye blusukan online\\n\\n\\n\\n#pdiperjuangan\\n#gibranteguh ht…', 'yang sudah kampanye virtual antara lain dilakukan oleh pasangan calon wali kota dan wakil walikota solo nomor urut… ', 'seluruh ranting pdi perjuangan se-kota surakarta siap memenangkan gibran-teguh dengan menaati dan patuh protokol ke… ', 'kampanye virtual sudah dilakukan oleh pasangan calon wali kota dan calon wakil wali kota solo nomor urut 01, gibran… ', 'ruarrrr biasahhh........ tiati nek ini jaman covid, megawati turun gunung jadi jurkam gibran-teguh, pengamat: kalau… ', 'perlu diketahui kampanye virtual antara lain sdh dilakukan oleh paslon cawalkot solo dgn no urut 1\\n\\ndi hari pertama… ', 'kampanye virtual sdh dilakukan oleh paslon gibran-teguh pd kampanye di bonorejo, kel nusukan, kec banjarsari, solo,… ', 'pandemi covid-19 telah mengubah hampir semua mekanisme pertemuan menjadi online, ini bisa dicontoh paslon lain.\\nkam… ', '#kampanyepilkadavirtual sdh dilakukan oleh paslon walikota dan calon wakil walikota solo nomor urut 01, gibran -teg… ', '#kampanyepilkadavirtual\\npasangan calon wali kota dan wakil wali kota solo, gibran rakabuming raka-teguh prakosa, le… ', '#kampanyepilkadavirtual\\nkampanye virtual antara lain sudah dilakukan oleh pasangan calon wali kota dan calon wakil… ', '#kampanyepilkadavirtual\\nketua tim pemenangan gibran-teguh, putut gunawan, mengatakan, pada tahapan kampanye ini tim… ', '#kampanyepilkadavirtual\\nkampanye virtual jg dilakukan oleh paslon gibran rakabuming raka-teguh prakosa di pilkada s… ', 'gibran-teguh vs bajo', 'pilkada solo: lawan gibran-teguh, dana kampanye pasangan bajo rp0  #darisuara', 'gibran-teguh laporkan dana awal kampanye pilkada solo rp25 juta, bajo nol rupiah  ', 'gibran-teguh lakukan kampanye virtual, pakar komunikasi politik nilai kurang efektif - pikiran rakyat tasikmalaya -… ', ' lakukan kampanye virtual, pakar komunikasi politik nilai kurang efektif - pikiran rakyat ta… ', '@princes_spartan kampanye sehat kampanye cerdas, good luck buat gibran dan teguh semoga sukses', 'kampanye onlie dilakukan pasangan gibran-teguh prakosa untuk mencegah kerumunan. #kumparannews ', '@princes_spartan saluut mas gibran dan mas teguh udah bikin contoh baik cara berkampanye dimasa pandemi', '@princes_spartan mantap banget paslon walikota solo gibran &amp; teguh nih blusukan pun bisa via virtual ya, kampanye n… ', '@princes_spartan wah keren banget nih monitor nya ini bukti bahwa paslon walikota solo gibran &amp; teguh itu kreatif b… ', '@princes_spartan @ivan75426637 caranya bener bener keren menurut gua salut banget ama paslon gibran dan teguh', '@princes_spartan emang inovasi buat kampanye dimasa pandemi ini perlu dilakukan kaya ide kreatif dari paslon gibran dan teguh', '@princes_spartan keren nih monitor virtual paslon walikota solo gibran dan teguh semoga terpilih ya', '@princes_spartan @yummy_91 salut banget dengan cara kampanyenya paslon gibran dan teguh ini guys', '@princes_spartan tetep bisa kampanye dimasa pandemi?? bisa banget dengan monitor virtual bisa banget buat blusukan… ', '@princes_spartan @yummy_91 bagus bet ide kampanyenya paslon gibran dan teguh ini guys, patut dicontoh', 'pengambilan nomer urut paslon pilkada solo #idntimesjateng ', '10.30 #beritasonora - pengundian nomor urut peserta pilkada 2020, gibran-teguh dapat nomor urut 1… ', 'rt @kompastv: pengundian nomor urut peserta pilkada 2020, gibran-teguh dapat nomor urut 1  ', 'pengundian nomor urut peserta pilkada 2020, gibran-teguh dapat nomor urut 1  ', 'gibran-teguh 1, bagyo-supardjo 2, sama-sama yakin menang pilkada solo ', 'rt @pdi_perjuangan: resmi ditetapkan kpu kota surakarta dengan nomor urut 1, gibran-teguh yakin bakal meraih kemenangan\\n\\n', 'pilkada solo: gibran-teguh dapat nomor 1, bajo 2 ', 'resmi ditetapkan kpu kota surakarta dengan nomor urut 1, gibran-teguh yakin bakal meraih kemenangan… ', 'calon walikota solo tuh emang gibran teguh doang? aku ga pernah liat baliho atau spanduk lawannya di sepanjang jala… ', 'kmi siap mengawal  mas gibran dan mas teguh prakosa dlm mimpin kota solo siap coblos nmor 1 ada pilihan kita ', 'pilkada solo, gibran-teguh dapat nomor urut 1  ', 'undian nomor urut gibran-teguh tampil putih hitam, apa maknanya? #gibranrakabuming #jokowidodo #sbagio… ', 'rt @detikcom: dua pasangan calon (paslon) pilkada solo mengikuti tahapan pengundian nomor urut. gibran rakabuming raka-teguh prakosa mendap…', 'dahsyat, gibran-teguh dapat nomor urut satu  ', 'dua pasangan calon (paslon) pilkada solo mengikuti tahapan pengundian nomor urut. gibran rakabuming raka-teguh prak… ', \"rt @fatimahsw33ty: 😇\\U0001f932selamat pagi assalamu'alaikum wr wb semoga kita selalu patuhi protokol kesehatan agar terhindar dari covid19. tagar ha…\", 'gibran – teguh nomor 1, bajo 2 ', 'sah, gibran-teguh dapat nomor urut 1 #gibranrakabuming #teguhprakosa #wakilwalikota #mencucitangan #kotasurakarta… ', 'berbudaya kreatif moderen tangguh\\ngibran-teguh pasti menang\\nsolo bermanfaat\\n\\n\"all out losss ra rewel\"… ', 'rt @indozonemedia: gibran rakabuming raka yang maju sebagai calon wali kota solo berpasangan dengan teguh prakosa. ternyata ia mempunyai ha…', 'gibran-teguh komitmen taati protokol kesehatan\\n#covidrangerantara\\n#rangerantara\\n', 'gibran rakabuming raka yang maju sebagai calon wali kota solo berpasangan dengan teguh prakosa. ternyata ia mempuny… ', 'rt @mycaffe0: anda tuh anak muda milenial..cari cara yg jitu buat meraup suara dg cara2 daring dan virtual..\\n#partaitaatprokespilkada \\ntari…', 'rt @_umamlik: setuju mas.bilngn ke semua pendukungnya juga..daring manfaatkan teknologi.anda itu calon milenial soalnya..inget prokes dan k…', 'gibran-teguh 1, bagyo-supardjo 2, sama-sama pede menang pilkada solo ', 'rt @mycaffe0: gw kira tuh gk ad lawanny ternyta ad juga tp lewat jalur independen toh..\\nseru juga nih lau kayak gini..jd lbh asyik dan hidu…', 'pilkada solo: gibran-teguh dapat nomor 1, bajo 2 ', 'anda tuh anak muda milenial..cari cara yg jitu buat meraup suara dg cara2 daring dan virtual..… ', 'pkb resmi dukung gibran-teguh di pilwakot solo ,lihat berita di tautan ', 'setuju mas.bilngn ke semua pendukungnya juga..daring manfaatkan teknologi.anda itu calon milenial soalnya..inget pr… ', 'gw kira tuh gk ad lawanny ternyta ad juga tp lewat jalur independen toh..\\nseru juga nih lau kayak gini..jd lbh asyi… ', 'selamat berjuang\\ngibran - teguh\\nsukses selalu. @ salemba raya ', '\"saya bersama pak teguh berkomitmen untuk selalu menaati protokol kesehatan, tetapi yang paling penting nomor satu… ', 'pemilune slamet rakyate iso ngeliwet, gibran-teguh bersilahturahmi ke warga keprabon kota surakarta (24/9)… ', 'gibran-teguh siapkan blusukan online di tengah pandemi covid-19 #gibranrakabumingraka #gibranrakabuming… ', 'rt @kompascom: komisi pemilihan umum (kpu) solo menggelar rapat pleno terbuka pengundian nomor urut pasangan calon wali kota dan wakil wali…', 'pilwalkot solo, gibran-teguh nomor urut 1 dan bajo 2 #8ukasindonews #bangkitdaripandemi #gibran ', 'komisi pemilihan umum (kpu) solo menggelar rapat pleno terbuka pengundian nomor urut pasangan calon wali kota dan w… ', '@_awasipilkada \\ndua pasangan calon walikota di the sunan hotel solo.\\npasangan\\xa0gibran-teguh mendapat nomor urut 01.… ', 'rt @jawapos: gibran-teguh nomor 1 dan bajo 2 di pilkada surakarta 2020 ', 'rt @terasid: gibran-teguh dapat nomor urut 1, sedangkan penantangnya pasangan bajo nomor 2. nomor mana yang dicoblos masyarakat solo?\\n\\narti…', 'gibran-teguh nomor 1 dan bajo 2 di pilkada surakarta 2020 ', 'gibran-teguh dapat nomor urut 1, sedangkan penantangnya pasangan bajo nomor 2. nomor mana yang dicoblos masyarakat… ', 'gibran menilai nomor satu sama nomor dua sama baiknya ', 'gibran-teguh nomor 1 dan bajo 2 di pilkada surakarta - antara news bengkulu ', 'pilkada surakarta, gibran-teguh nomor 1 dan bajo nomor 2 - antara jateng ', 'pilwalkot solo, gibran-teguh nomor urut 1 dan bajo 2 ', 'naik mobil bertiga, gibran-teguh dan sukasno hadiri pleno kpu di the sunan\\xa0hotel ', 'gibran-teguh siapkan blusukan dan konser online ', 'sah, gibran-teguh nomor 1, lawannya bajo nomor 2 ', 'pasangan calon walikota dan wakil walikota surakarta periode 2021-2024 gibran-teguh mendapatkan nomor urut 1\\npasti… ', 'pilkada solo, gibran-teguh dapat nomor urut 1, bajo nomor 2\\n\\n', 'nomor urut di pilwalkot solo: gibran-teguh 1, bagyo-supardjo 2 #gibranrakabuming #disinfektan #komisipemilihanumum… ', 'pengundian nomer urut, gibran-teguh nomer urut satu, bajo nomer urut dua ', 'pilwalkot solo, gibran-teguh dapat nomor urut\\xa01 ', 'pilwalkot solo, gibran-teguh dapat nomor urut\\xa01 ', 'gibran – teguh nomor 1, bajo\\xa02 ', 'gibran teguh nomor urut 1, bajo nomor 2 ', 'hadiri pengambilan nomor urut paslon, begini penampilan gibran-teguh dan bajo ', 'nomer urut calon walikota &amp; wakil walikota surakarta\\n\\n1. gibran rakabuming raka - teguh prakosa ( pdi perjuangan )… ', 'rt @kompastv: kpu kota solo, jawa tengah, menetapkan dua pasangan calon wali kota pilkada 2020. dua pasangan itu yakni putra jokowi, gibran…', 'paslon gibran-teguh dapat nomor urut 1 di pilkada solo, tim sorak gembira ', 'kpu kota solo, jawa tengah, menetapkan dua pasangan calon wali kota pilkada 2020. dua pasangan itu yakni putra joko… ', 'gibran-teguh dapat nomor urut 1 di pilkada solo #taucepattanpabatas #beritaterkini  . ', 'sah, gibran-teguh dapat nomor urut 1, bajo dapat nomor urut 2 pada pilkada solo 2020 ', 'gibran-teguh nomor urut 1, bajo 2 pada pilwalkot solo ', 'rt @merdekadotcom: pilkada solo, gibran-teguh dapat nomor urut 1, bajo nomor 2: kepada wartawan, gibran mengaku tidak mempermasalahkan mend…', 'rapat pleno penetapan nomor urut dan daftar pasangan calon peserta pemilihan wali kota dan wakil wali kota surakart… ', 'rt @kumparan: paslon gibran-teguh secara sah mendapat nomor urut 1 dalam pilkada solo 2020. sedangkan paslon independen bajo mendapat nomor…', 'pilkada solo 2020: gibran-teguh nomor urut 1, bajo 2 ', 'paslon gibran-teguh secara sah mendapat nomor urut 1 dalam pilkada solo 2020. sedangkan paslon independen bajo mend… ', 'sah, gibran-teguh dapat nomor urut 1, bajo nomor\\xa02 ', 'pilkada solo, gibran-teguh dapat nomor urut 1, bajo nomor 2: kepada wartawan, gibran mengaku tidak mempermasalahkan… ', 'saat hadir dalam rapat pleno kpu pengundian nomor urut, gibran dan teguh memakai kemeja putih. berlawanan dengan wa… ', 'teguh, yang mendampingi gibran, langsung tepuk tangan saat mengetahui gibran mendapat nomor urut 1. tim lain yang h… ', 'pasangan calon pilkada kota solo 2020, gibran rakabuming raka-teguh prakosa mendapat nomor urut 1, sementara lawann… ', '\"pengundian nomor urut paslon telah kita lakukan, paslon gibran-teguh mendapatkan nomor satu dan bajo nomor urut du… ', 'rt @kompastv: kpu tetapkan 2 paslon pilwakot solo, gibran-teguh dan bagyo-supardjo ', 'pasangan gibran rakabuming raka-teguh prakosa (gibran-teguh) dan bagyo wahyono-fx supardjo (bajo) menghadiri pengun… ', 'solo bersatu, gibran - teguh pilihanku!!\\n.\\n#solohebat #sobatsolohebat #solomelompatlebihjauh… ', 'kpu tetapkan 2 paslon pilwakot solo, gibran-teguh dan bagyo-supardjo ', 'rt @marvel7214: mari kita doakan mak nek penggemar serial pembunuhan\\nini . . \\n\\npilkada solo, megawati turun tangan jadi jurkam gibran-teguh…', 'tarik pemilih milenial, gibran-teguh akan gelar konser musik virtual: tim pemenangan bakal pasangan calon wali kota… ', 'sah jadi paslon, gibran-teguh &amp; bagyo-supardjo tak soalkan nomor\\xa0urut ', 'rt @cobeh09: lbp protes...\\nkarena saat\\nlbp sedang \"bla bla bla\"\\ntiba-2\\nnajwa shihab\\nmenayangkan\\npelanggaran protokol covid-19\\noleh peserta…', 'rt @kumparan: paslon gibran-teguh telah menyiapkan blusukan online untuk menyapa masyarakat solo. terkait bagaimana sistemnya, gibran masih…', '@ariabima99 @chilli_pari ranting timuran bersama ibu-ibu penggerak timuran\\nsiap menangkan gibran-teguh\\n\\npemilune sl… ', 'paslon gibran-teguh telah menyiapkan blusukan online untuk menyapa masyarakat solo. terkait bagaimana sistemnya, gi… ', '', \"😇\\U0001f932selamat pagi assalamu'alaikum wr wb semoga kita selalu patuhi protokol kesehatan agar terhindar dari covid19. tag… \", 'pasangan gibran-teguh dan bagyo-supardjo secara resmi akan bertarung memperebutkan kursi wali kota solo. kedua pasa… ', 'dukungan semakin gemuk, kini giliran pkpi merapat ke gibran-teguh di pilkada solo 2020 ', 'gencarkan protokol kesehatan jelang pilkada serentak 2020, gibran-teguh\\xa0terima hand sanitizer ', 'rt @yohandewa: anak yg baik sekali mencontoh perilaku bapaknya...\\nnjrit blusukan online!!\\nsekalian gorong2 online!! \\n\\n', 'gibran-teguh dan bajo incar nomor urut 1 di pilkada solo ', '@fermendkis pak purnomo. bentar lagi bisa jadi pak teguh kalau pak gibran jadi walkotnya.', 'rt @pdi_perjuangan: semakin sejahtera dibawah kepemimpinan kader pdi perjuangan, petugas penarik sampah banjarsari siap memenangkan gibran-…', 'bagyo wahyono dan f.x. supardjo dipastikan menjadi lawan gibran-teguh dalam pilwalkot solo 2020. bagyo-supardjo maj… ', 'udah kayak kepanitiaan ya ada rekening baru #merahputihcom #rekening #kampanye ', 'dukung pilkada solo aman, secret clean suport hand sanitizer melalui paslon gibran-teguh ', 'rt @detikcom: kpu solo secara resmi menetapkan gibran rakabuming raka-teguh prakosa dan bagyo wahyono-fx supardjo (bajo) sebagai pasangan c…', 'anak yg baik sekali mencontoh perilaku bapaknya...\\nnjrit blusukan online!!\\nsekalian gorong2 online!! \\n\\n', 'mari kita doakan mak nek penggemar serial pembunuhan\\nini . . \\n\\npilkada solo, megawati turun tangan jadi jurkam gibr… ', 'kpu solo secara resmi menetapkan gibran rakabuming raka-teguh prakosa dan bagyo wahyono-fx supardjo (bajo) sebagai… ', 'dukung gibran-teguh, pkpi: pemimpin solo paling wow! ', 'rt @kompastv: sah! gibran rakabuming-teguh dan bajo jadi calon wali kota solo  ', 'gibran-teguh siapkan blusukan online ', 'kpu tetapkan gibran-teguh dan bagyo-supardjo paslon di pilwalkot solo 2020 #gibranrakabuming #komisipemilihanumum… ', 'sah jadi paslon, gibran-teguh &amp; bagyo-supardjo tak soalkan nomor urut ', 'dukungan semakin gemuk, kini giliran pkpi merapat ke gibran-teguh di pilkada solo 2020 ', 'gibran - teguh dan bajo resmi sebagai paslon wali kota solo di pilkada 2020\\xa0  ', 'semua kembali pada rakyat / masyarakat.\\napakah masih mau dibodohi ?\\nfakta dan realitanya, setelah mereka menduduki… ', 'ketua tim pemenangan gibran-teguh berharap agar mendapat nomor urut 1. ', 'rapat pleno tertutup kpu surakarta menetapkan pasangan\\xa0gibran-teguh dan bagyo-supardjo maju dalam pilkada\\xa0 wali kot… ', 'rt @kompasiana: demi memperjuangkan gibran-teguh, megawati, puan dan hasto siap jadi juru kampanye ', 'demi memperjuangkan gibran-teguh, megawati, puan dan hasto siap jadi juru kampanye\\n', 'semakin sejahtera dibawah kepemimpinan kader pdi perjuangan, petugas penarik sampah banjarsari siap memenangkan gib… ', 'demi memperjuangkan gibran-teguh, megawati, puan dan hasto siap jadi juru kampanye ', 'megawati dan puan bakal jadi jurkam gibran-teguh  ', 'megawati dan puan bakal jadi jurkam gibran-teguh  ', 'banteng solotengah\\nberhimpun &amp; bergerak \\nsiap memenangkan\\ngibran-teguh\\n\\npemilune slamet wargane iso ngliwet ', 'banteng solotengah\\nberhimpun &amp; bergerak \\nsiap memenangkan\\ngibran-teguh\\n\\npemilune slamet wargane iso ngliwet', 'konsolidasi ranting anting &amp; satgas timuran\\nsolid bergerak gibran-teguh\\n\\npemilune slamet...wargane iso ngliwet ', 'kpu tetapkan gibran-teguh dan bajo sebagai peserta pilkada solo: nurul menjelaskan, rapat pleno penetapan calon tid… ', 'bajo sah jadi lawan gibran-teguh dalam pilwakot solo 2020 ', 'sah! gibran-teguh bakal bertemu bajo di pilkada surakarta 2020 ', 'rt @detikcom: megawati soekarnoputri dan puan maharani akan turun gunung menjadi juru kampanye gibran rakabuming-teguh prakosa di pilkada s…', 'kpu tetapkan gibran-teguh dan bajo sebagai peserta pilkada solo: nurul menjelaskan, rapat pleno penetapan calon tid… ', 'rt @republikaonline: gibran-teguh dan bagyo-suparjo ditetapkan kpu untuk bertarung dalam pilkada solo ', 'gibran-teguh dan bagyo-suparjo ditetapkan kpu untuk bertarung dalam pilkada solo ', 'resmi bersaing. pengundian nomor urut paslon akan dilakukan besok melalui pleno terbuka.\\n\\n#validnews #nasional\\n\\n', 'kpu resmikan paslon pilkada solo: teguh-gibran vs bajo #pilkadasolo #gibranrakabuming ', 'sah! gibran rakabuming-teguh dan bajo jadi calon wali kota solo  ', 'megawati dan puan bakal jadi jurkam gibran-teguh ', 'gibran-teguh dan bajo resmi jadi paslon pilkada solo ', 'sah,  gibran-teguh dan bajo jadi peserta pilkada solo ', 'kpu tetapkan gibran-teguh dan bajo calon pilkada surakarta ', 'rt @ariefnoviandi_: warga solo, yang gak suka gibran, yang nuduh dinasti politik, sila pilih bajo. jangan golput. \\n\\n', 'dua paslon yakni gibran rakabuming raka-teguh prakosa dan bagyo wahyono-fx supardjo (bajo) akan bertarung dalam pil… ', 'batal lawan kotak kosong, gibran-teguh bakal ditantang bagyo-suparjo di pilkada solo  #pilkada2020 #pilwakotsolo', 'kpu solo sahkan pertarungan gibran-teguh lawan bajo di pilkada ', 'sah! gibran-teguh vs bajo bersaing di pilkada solo 2020  ', 'kpu tetapkan gibran-teguh dan bajo paslon pilkada solo ', 'ketua umum pdip megawati soekarnoputri dan ketua dpp puan maharani serta sekjen hasto kristianto bakal \"turun gunun… ', 'kpu tetapkan gibran-teguh dan bagyo-supardjo sebagai paslon di pilwalkot solo\\xa02020 ', 'warga solo, yang gak suka gibran, yang nuduh dinasti politik, sila pilih bajo. jangan golput. \\n\\n', 'patuihi protokol kesehatan saat kampanye di solo, gibran-teguh bakal gelar konser musik virtual ', 'pengumuman penetapan calon pilkada solo online, gibran – teguh &amp; bagyo – supardjo tak datang ke kpu ', 'begini kata tim pemenangan gibran dan teguh soal penundaan pilkada 2020  ', '\"asyik pilkadanya jadi ya...\" teriak rakyat yang lagi pusing ganti masker  scuba nya, dan di-aminin sama tenaga kes… ', 'sah! tukang jahit &amp; ketua rw tanding lawan putra presiden jokowi gibran &amp; teguh di pilkada solo 2020 ', 'bajunya keren mas @markobar1996\\n😁😁\\nkenalkan seragam kampanye gibran-teguh di pilkada solo, ini maknanya ', 'ketua tim pemenangan bakal pasangan calon gibran - teguh, putut gunawan mengatakan kehadiran megawati diharapkan da… ', 'menangkan gibran-teguh, puan maharani dan megawati turun gunung jadi jurkam di pilkada solo\\n#soloraya #pilkadasolo… ', 'rt @kumparan: kpu menyatakan paslon gibran-teguh dan paslon bagyo-supardjo sebagai calon wali kota solo. #publisherstory ', 'kpu tetapkan gibran-teguh dan bagyo-supardjo paslon di pilwalkot solo 2020 ', 'kpu menyatakan paslon gibran-teguh dan paslon bagyo-supardjo sebagai calon wali kota solo. #publisherstory ', '\"ada dua pasangan yang kami tetapkan, yakni gibran-teguh dan bagyo-supardjo,\" ujar ketua kpu solo, nurul sutarti. ', 'ranting timuran bersama ibu-ibu penggerak timuran siap menangkan gibran-teguh\\n\\npemilune slamet wargane iso ngliwet… ', 'ranting timuran bersama ibu-ibu se timuran siap bergerak &amp; memenangkan gibran-teguh\\n\\n#pdiperjuangan… ', 'rt @sindonews: megawati menjadi jurkam gibran-teguh di pilwalkot solo ', 'rt @gli_hagiasophia: paling jurus nangis yang akan diandalkan,seperti halnya waktu jadi presiden hasil dari gusdur lengser,kalau nggak nang…', 'paling jurus nangis yang akan diandalkan,seperti halnya waktu jadi presiden hasil dari gusdur lengser,kalau nggak n… ', 'nomor urut 01 di pilkada solo 2020 jadi rebutan bajo independen dan pasangan calon pdip gibran-teguh ', 'ketum pdip megawati soekarno putri dan ketua dpr puan maharani disebut bakal menjadi juru kampanye gibran rakabumin… ', 'kampanye gibran-teguh, pertimbangkan gelar konser ', 'rt @idtodayco: pilkada solo, megawati turun tangan jadi jurkam gibran-teguh ', 'pilkada solo, megawati turun tangan jadi jurkam gibran-teguh - follow @demokrasicoid  ', 'puan hingga megawati bakal jadi juru kampanye gibran-teguh - \\n\\n#indonesia', 'tim pemenangan pasangan gibran rakabuming raka-teguh prakosa yang diusung pdip serta didukung delapan parpol tidak… ', 'pilkada solo, megawati turun tangan jadi jurkam gibran-teguh ', 'ketua dpr dan mantan presiden bakal jadi jurkam gibran-teguh di pilkada solo ', '@teguh_gibran ashiaap', 'mantan presiden masuk tim juru kampanye gibran-teguh di pilkada solo ', 'megawati soekarnoputri dan puan maharani akan turun gunung menjadi juru kampanye gibran rakabuming-teguh prakosa di… ', 'namun, belum dipastikan apakah megawati akan datang langsung ke solo atau melalui daring. ', 'megawati menjadi jurkam gibran-teguh di pilwalkot solo ', 'kampanye gibran-teguh, pertimbangkan gelar konser ', 'kpu solo: penetapan gibran-teguh dan bagyo-suparjo tertutup ', 'dua pasangan bacalon wali kota solo usung konsep berbeda soal tata ruang. ', '#darimks ketua dpr ri hingga mantan presiden ri jadi tim jurkam gibran-teguh:  ', 'pilkada ditunda, tim pemenangan gibran-teguh: kami pasti diuntungkan\\n ', 'pilkada ditunda, tim pemenangan gibran-teguh: kami pasti diuntungkan\\n ', 'pilkada ditunda, tim pemenangan gibran-teguh: kami pasti diuntungkan\\n ', 'megawati dan para elit partai akan turun gunung kampanyekan gibran - teguh #temponasional ', 'timses paslon gibran-teguh akan menghadirkan megawati hingga puan maharani untuk menjadi juru kampanye. ', '@pdi_perjuangan ayo, pilih gibran - teguh 🇮🇩', 'rt @detikcom: pdip menyiapkan juru kampanye untuk memenangkan pilkada 2020. di pilkada solo, ketua umum pdip megawati soekarnoputri akan me…', 'rt @tempodotco: para tokoh partai politik bakal berdatangan ke solo selama masa kampanye. megawati soekarnoputri juga akan dihadirkan untuk…', 'para tokoh partai politik bakal berdatangan ke solo selama masa kampanye. megawati soekarnoputri juga akan dihadirk… ', 'ketua umum pdip megawati soekarnoputri akan menjadi salah satu juru kampanye pasangan gibran rakabuming raka-teguh… ', 'pdip menyiapkan juru kampanye untuk memenangkan pilkada 2020. di pilkada solo, ketua umum pdip megawati soekarnoput… ', 'rt @merdekadotcom: tim pemenangan gibran-teguh minta kpu gelar rapat pleno terbuka penetapan calon: pernyataan tersebut dikemukakan lo (lia…', 'tim pemenangan gibran-teguh minta kpu gelar rapat pleno terbuka penetapan calon: pernyataan tersebut dikemukakan lo… ', '#tim gibran-teguh memprotes kpu solo - jawa pos  #demokrasi #indonesia', 'gaet pemilih milenial, gibran rakabuming-teguh prakosa bakal gelar konser virtual ', 'konser musik virtual menjadi bagian dari menggalang dukungan warga terhadap pasangan gibran dan teguh. setidaknya i… ', 'megawati dan puan bakal jadi jurkam gibran-teguh: kehadiran para tokoh partai berlambang kepala banteng moncong put… ', 'rt @kumparan: siapa saja yang bakal menjadi juru kampanye gibran dan teguh di pilwalkot solo? ', 'siapa saja yang bakal menjadi juru kampanye gibran dan teguh di pilwalkot solo? ', '@aci_loebis @telkomsel @detikcom keren banget nih acaranya, kemaren gua nonton pengisi acaranya itu keren2 , semoga… ', '@ekihifa92 @telkomsel @detikcom keren banget nih acaranya, kemaren gua nonton pengisi acaranya itu keren2 , semoga… ', '@lilyhani_ilfani @telkomsel @detikcom keren banget nih acaranya, kemaren gua nonton pengisi acaranya itu keren2 , s… ', '@thia_phiinoo @telkomsel @detikcom keren banget nih acaranya, kemaren gua nonton pengisi acaranya itu keren2 , semo… ', '@yunita_aryani92 @detikcom @telkomsel keren banget nih acaranya, kemaren gua nonton pengisi acaranya itu keren2 , s… ', '@renayku mantul nih film', '@kurniaar8 @detikcom @telkomsel keren banget nih acaranya, kemaren gua nonton pengisi acaranya itu keren2 , semoga… ', '@kurniaar8 @detikcom @telkomsel keren banget nih acaranya, kemaren gua nonton pengisi acaranya itu keren2 , semoga… ', '@devyfristivany @detikcom @telkomsel keren banget nih acaranya, kemaren gua nonton pengisi acaranya itu keren2 , se… ', '@henyper aku liat2 dulu ya kak ig nya', 'tim gibran-teguh memprotes kpu solo ', 'cara kampanye di tengah pandemi covid-19, gibran-teguh bakal blusukan online  ', 'band apa yang cocok? \\n\\npatuhi protokol kesehatan saat kampanye di solo, gibran-teguh bakal gelar konser musik virtu… ', 'gelar konser musik virtual cara gibran-teguh lebih dekat dengan pemilih\\xa0milenial ', '@puanokta @telkomsel @detikcom pasti seru banget acaranya apalagi ada boy william', 'rt @pdi_perjuangan: angkat jargon pemilune slamet wargane iso ngliwet, ketua dpc pdi perjuangan surakarta ajak penarik sampah laweyan sukse…', '@pdi_perjuangan rapatkan barisan utk kemenangan gibran-teguh demi keberlanjutan program kebijakan yang pro wong cil… ', 'angkat jargon pemilune slamet wargane iso ngliwet, ketua dpc pdi perjuangan surakarta ajak penarik sampah laweyan s… ', 'patuihi protokol kesehatan saat kampanye di solo, gibran-teguh bakal gelar konser musik virtual ', 'rt @soloposdotcom: rebut hati milenial solo, gibran-teguh siapkan konser musik virtual  ', 'rt @soloposdotcom: target raih 85% suara, gibran-teguh andalkan jurkam nasional hingga influencer  ', 'rebut hati milenial solo, gibran-teguh siapkan konser musik virtual  ', 'silaturahmi ke tegalharjo, gibran-teguh janji lanjutkan program 3wmp rudy-poernomo hingga percepatan pemulihan ekon… ', 'target raih 85% suara, gibran-teguh andalkan jurkam nasional hingga influencer  ', 'kpu putuskan tak undang gibran-teguh dan bajo saat penetapan calon pilkada solo: “itu nanti pleno internal, kemudia… ', 'mantap jiwa! puan hingga megawati terjun jadi jurkam gibran-teguh di pilkada 2020  ', 'perindo dukung pasangan gibran - teguh jadi wali kota dan wakil wali kota solo\\n\\n', 'saat menghadiri “deklarasi adaptasi kebiasaan baru untuk mendukung percepatan penanganan covid 19” gibran - teguh j… ', 'saat menghadiri “deklarasi adaptasi kebiasaan baru untuk mendukung percepatan penanganan covid 19” gibran - teguh j… ', 'saat menghadiri “deklarasi adaptasi kebiasaan baru untuk mendukung percepatan penanganan covid 19” gibran - teguh j… ', 'saat menghadiri “deklarasi adaptasi kebiasaan baru untuk mendukung percepatan penanganan covid 19” gibran - teguh j… ', '[hoax] presiden jadi tim sukses gibran-teguh  via @detaxid', 'visi-misi pilkada 2020 gibran - teguh: kota solo sebagai kota budaya modern &amp; lanjutkan program rudy ', 'partai perindo resmi dukung pasangan gibran-teguh di pilwakot solo 2020\\n\\n']\n"
          ],
          "name": "stdout"
        }
      ]
    },
    {
      "cell_type": "code",
      "metadata": {
        "id": "iEP6F18rjl_F",
        "outputId": "d12c2247-2545-44b1-ec22-7f2981334802",
        "colab": {
          "base_uri": "https://localhost:8080/",
          "height": 54
        }
      },
      "source": [
        "#Menghapus emoji\n",
        "tweet_data_3=[]\n",
        "for teks in tweet_data_2:\n",
        "  regrex_pattern = re.compile(pattern = \"[\"\n",
        "        u\"\\U0001F600-\\U0001F64F\"  # emoticons\n",
        "        u\"\\U0001F300-\\U0001F5FF\"  # symbols & pictographs\n",
        "        u\"\\U0001F680-\\U0001F6FF\"  # transport & map symbols\n",
        "        u\"\\U0001F1E0-\\U0001F1FF\"  # flags (iOS)\n",
        "                           \"]+\", flags = re.UNICODE)\n",
        "  teks_process = [regrex_pattern.sub(r'',teks)]\n",
        "  tweet_data_3=tweet_data_3+teks_process\n",
        "print(tweet_data_3)"
      ],
      "execution_count": null,
      "outputs": [
        {
          "output_type": "stream",
          "text": [
            "['populer nusantara antara lain konlik antara kapolres blitar dengan kasat sabhara. sementara di solo, sandiaga ipers… ', 'rt @dinihrdianti: sandiaga uno menjadi juru kampanye pasangan calon wali kota dan wakil wali kota solo, gibran rakabuming raka-teguh prakos…', 'rt @oposisicerdas: sandiaga uno jadi juru kampanye gibran-teguh di pilkada solo, disebut ada lobi jokowi\\n', \"~ninggal tatu~\\n\\nkowe tak sayang-sayang saiki malah ngilang' \\ntresnamu karo aku, kuwi mung kiasan\\nkowe tak gadhang… \", 'rt @kanseulir: sandi uno jadi juru kampanye gibran-teguh di pilkada solo, disebut ada lobi jokowi.\\n\\nperjuangan bapak perbaiki martabak anak…', 'tidur dulu ah sakit badan nihh', 'nyeri awak', 'ngantukkkk', 'sandi uno jadi juru kampanye gibran-teguh di pilkada solo, disebut ada lobi jokowi.\\n\\nperjuangan bapak perbaiki mart… ', 'rt @kompascom: selain sandiaga uno, ada nama besar lain yang juga akan menjadi jurkam paslon gibran-teguh di solo | #pilkada2020  \\n ', 'respons kabar sandiaga bakal jadi jurkam, gibran rancang kampanye daring: wakil ketua dewan pembina partai gerindra… ', 'selain sandiaga uno, ada nama besar lain yang juga akan menjadi jurkam paslon gibran-teguh di solo | #pilkada2020  \\n ', '@rikiandre8 @bolangwebberii @ustadtengkuzul udah baca ini belom blog? \\n', 'rt @christwamea: sandiaga uno jadi juru kampanye gibran-teguh di pilkada solo, disebut ada lobi jokowi. borong dari medan sampai solo. \\nhtt…', 'hoammmmmm', 'gibran – teguh: pilkada sesuai jadwal, demokratis dan aman dari covid-19. ', 'solo ber – satu, gibran – teguh pilihanku. ', 'gibran – teguh mendapat nomor urut satu untuk pilkada solo 2020. part 2 ', 'gibran – teguh mendapat nomor urut satu untuk pilkada solo 2020. part 1 ', 'gibran: saya dan pak teguh tetap berkomitmen menjaga protokol kesehatan selama kampanye. ', 'gibran – teguh: untuk mendukung pilkada aman, secret clean (pt victoria care) memberikan bantuan hand sanitizer. ', 'capek euy', 'sandiaga uno digadang-gadang menjadi jurkam paslon gibran-teguh dalam pilkada solo 2020. sandiaga menjadi jurkam ta… ', 'mantan wakil gubernur dki jakarta sandiaga uno bakal menjadi juru kampanye pasangan calon gibran rakabuming raka-te… ', '@naydonuts @airinairin_nz @tjhinfar21 @chilli_pari gk butuh jurkam dari pusat spt @sandiuno \\nwarga solo cukup berdi… ', 'rt @katadatacoid: wakil ketua dpp gerindra @sandiuno akan menjadi juru kampanye untuk pasangan calon wali kota dan wakil wali kota solo, gi…', 'rt @geloraco: sandiaga uno jadi juru kampanye gibran-teguh di pilkada solo, disebut ada lobi jokowi\\n', 'wakil ketua dpp gerindra @sandiuno akan menjadi juru kampanye untuk pasangan calon wali kota dan wakil wali kota so… ', 'asyiikkk', 'laparrr', '\\U0001f970\\U0001f970\\U0001f970\\n', 'mantap! sandiaga uno jadi jurkam gibran-teguh di pilkada solo 2020 ', 'lebih lanjut ardianto mengatakan, saat ini pihaknya sedang mengkaji persiapan deklarasi tim pemenangan untuk paslon gibran-teguh.', 'mantan wakil gubernur dki jakarta ini dimungkinkan akan mengkampanyekan pasangan gibran-teguh juga secara virtual.', 'termasuk model kampanye yang digunakan sandiaga untuk paslon gibran-teguh. menurutnya, antara gibran dengan sandi, sangat bisa disatukan.', 'menurutnya, faktor kedekatan antara sandiaga, prabowo subianto (ketua dpp partai gerindra) dengan presiden jokowi s… ', 'kabar sandiaga akan menjadi juru kampanye untuk pasangan gibran teguh, dibenarkan oleh ketua dpc partai gerindra solo ardianto kuswinarno.', 'menurutnya, faktor kedekatan antara sandiaga, prabowo subianto (ketua dpp partai gerindra) dengan presiden jokowi s… ', 'wakil ketua dewan pembina partai gerindra sandiaga salahudin uno akan menjadi juru kampanye (jurkam) untuk pasangan… ', 'menurutnya, faktor kedekatan antara sandiaga, prabowo subianto (ketua dpp partai gerindra) dengan presiden jokowi s… ', 'wakil ketua dewan pembina partai gerindra sandiaga salahudin uno akan menjadi juru kampanye (jurkam) untuk pasangan… ', 'wakil ketua dewan pembina partai gerindra sandiaga salahudin uno akan menjadi juru kampanye (jurkam) untuk pasangan… ', 'menurutnya, faktor kedekatan antara sandiaga, prabowo subianto (ketua dpp partai gerindra) dengan presiden jokowi s… ', 'menurutnya, faktor kedekatan antara sandiaga, prabowo subianto (ketua dpp partai gerindra) dengan presiden jokowi s… ', 'wakil ketua dewan pembina partai gerindra sandiaga salahudin uno akan menjadi juru kampanye (jurkam) untuk pasangan… ', 'wakil ketua dewan pembina partai gerindra sandiaga salahudin uno akan menjadi juru kampanye (jurkam) untuk pasangan… ', 'menurutnya, faktor kedekatan antara sandiaga, prabowo subianto (ketua dpp partai gerindra) dengan presiden jokowi s… ', 'wakil ketua dewan pembina partai gerindra sandiaga salahudin uno akan menjadi juru kampanye (jurkam) untuk pasangan… ', 'orang amerika mungkin jadi mikir2, jangan2 nanti kalau biden menang dan trump kalah \\nkemudian anaknya biden nyalon… ', 'rt @ferdinandhaean3: selamat bang @sandiuno , semoga solo kedepan bisa bebas dari kaum intoleransi..!!\\n\\n ', '@asik_mulu @p_eneste @irmadlukman @vita_avp @yradianto @j_aryoko @southoldman @isalfatur @mazzini_gsp… ', 'selamat bang @sandiuno , semoga solo kedepan bisa bebas dari kaum intoleransi..!!\\n\\n ', 'politisi partai gerindra sandiaga solahuddin uno akan menjadi juru kampanye (jurkam) pasangan calon wali kota dan w… ', 'sandiaga uno menjadi juru kampanye pasangan calon wali kota dan wakil wali kota solo, gibran rakabuming raka-teguh… ', 'pilwalkot solo, sandiaga uno siap diterjunkan jadi jurkam gibran-teguh  ', '@pulpenaibon @lembolah @anakkolong_ oh jadi ini ya 🤣🤣\\n ', 'sandiaga akan jadi jurkam gibran di solo dan bobby di medan: menurutnya, faktor kedekatan antara sandiaga, prabowo… ', '\\n#sandiagauno #prabowo #gerindra #pdiperjuangan', 'sandiaga uno jadi juru kampanye gibran-teguh di pilkada solo, disebut ada lobi jokowi\\n', 'politisi partai gerindra sandiaga solahuddin uno dipersiapkan menjadi jukam pasangan calon wali kota dan wakil wali… ', 'rt @matanajwa: \"apbd kota solo tiap hari kita bahas dengan pak teguh, ini adalah masa-masa di mana kita harus bersabar dan banyak sekali an…', 'rt @matanajwa: \"saya berkomitmen untuk menaati protokol kesehatan. setiap hari saya dengungkan ke warga program prioritas saya dan pak tegu…', 'sandiaga uno jadi juru kampanye gibran-teguh di pilkada solo, disebut ada lobi jokowi. borong dari medan sampai sol… ', '@trans7 kalau gibran nggak bermanuver kira-kira ibu ketum bakal milih dia atau enggak ya??? sementara pdip sudah ng… ', 'mantap! sandiaga uno jadi jurkam gibran-teguh di pilkada solo 2020 ', '\"lobi-lobinya politik tingkat tinggi. karena ketum kami (prabowo subianto) dengan pak jokowi sangat dekat sekali.… ', '@asmubaroq_ @afiandry @betakopites_ wkwkw jadi jasa terawang gini dah \\n\\ngibran-teguh yang menang kalo dia kalah kalem ada leg kedua wkwkkw', 'rt @kompascom: politisi partai gerindra sandiaga solahuddin uno dipersiapkan menjadi jukam pasangan calon wali kota dan wakil wali kota sol…', 'sandiaga uno jadi juru kampanye gibran-teguh di pilkada solo, disebut ada lobi jokowi\\n', 'apa kabar papa online \\n\\n\\nsandiaga uno jadi jurkam gibran-teguh di pilkada solo 2020\\nklik untuk baca:… ', 'politisi partai gerindra sandiaga solahuddin uno dipersiapkan menjadi jukam pasangan calon wali kota dan wakil wali… ', 'gotong royong melawan covid-19 bersama gibran – teguh. ', 'gibran genap 33 tahun, teguh doakan putra jokowi terpilih jadi wali kota dan bisa membangun solo ', 'rt @trans7: \"apbd kota solo tiap hari kita bahas dengan pak teguh, ini adalah masa-masa di mana kita harus bersabar dan banyak sekali angga…', 'rt @psi_id: pengurus dpd psi solo dipimpin langsung bro antonius yoga melakukan fogging di permukiman warga.\\n\\npada kesempatan yang sama, me…', 'gibran-teguh melakukan blusukan ke masyarakat dalam rangka membantu masyarakat yang terkena dampak pandemi ', '@gabisaganti pertanyaan najwa tidak perlu kita ragukan lagi, namun apakah jawaban mas gibran n cara menjawab nya su… ', 'rt @trans7: \"saya berkomitmen untuk menaati protokol kesehatan. setiap hari saya dengungkan ke warga program prioritas saya dan pak teguh a…', 'paslon gibran-teguh kembali melakukan blusukan online ke beberapa kelurahan di solo. dalam kesempatan itu, gibran a… ', 'paslon gibran-teguh kembali melakukan blusukan online ke beberapa kelurahan di solo. dalam kesempatan itu, gibran a… ', 'rt @kompascom: putra presiden joko widodo, gibran rakabuming raka, yang berpasangan dengan teguh prakosa di pilwalkot surakarta. / #nasiona…', 'putra presiden joko widodo, gibran rakabuming raka, yang berpasangan dengan teguh prakosa di pilwalkot surakarta. /… ', '\"apbd kota solo tiap hari kita bahas dengan pak teguh, ini adalah masa-masa di mana kita harus bersabar dan banyak… ', '\"apbd kota solo tiap hari kita bahas dengan pak teguh, ini adalah masa-masa di mana kita harus bersabar dan banyak… ', '\"saya berkomitmen untuk menaati protokol kesehatan. setiap hari saya dengungkan ke warga program prioritas saya dan… ', '\"saya berkomitmen untuk menaati protokol kesehatan. setiap hari saya dengungkan ke warga program prioritas saya dan… ', 'rt @solohebat_id: solo bersatu, gibran - teguh pilihanku!!\\n.\\n#solohebat #sobatsolohebat #solomelompatlebihjauh #lompatananakmudauntuksolo #…', 'bajo blusukan langsung ke tokoh agama, gibran-teguh pakai virtualbox \\n\\n', 'rt @solohebat_id: identitas yang satu ini akan menjadi tugas bersama masyarakat solo dan pasangan mas gibran &amp; mas teguh untuk membawa solo…', 'rt @solohebat_id: identitas yang satu ini akan menjadi tugas bersama masyarakat solo dan pasangan mas gibran &amp; mas teguh prakasa untuk memb…', 'amunisi bertambah, pkpi dukung gibran – teguh di pilkada solo. ', 'rt @radarmasnetwork: dana kampanye gibran-teguh &amp; bajo masing-masing dibatasi rp 19,7\\xa0m ', 'dana kampanye gibran-teguh &amp; bajo masing-masing dibatasi rp 19,7\\xa0m ', 'gibran-teguh for solo 1 #gibranforsolo ', 'bajo blusukan langsung ke tokoh agama, gibran-teguh pakai virtualbox \\n\\n', 'pasangan gibran-teguh dan bajo memiliki cara tersendiri untuk menggaet suara warga kota solo. simak gaya kampanye m… ', 'mas gibran mohon maaf, jadinya mas fans apa mas? kok semuanya mas wkwkwk\\n\\ngibran-teguh 1! ', 'pengurus dpd psi solo dipimpin langsung bro antonius yoga melakukan fogging di permukiman warga.\\n\\npada kesempatan y… ', 'rt @bisniscom: pilkada solo 2020, sandiaga uno bakal kampanyekan gibran-teguh ', 'pilkada solo 2020, sandiaga uno bakal kampanyekan gibran-teguh ', 'rt @aryprasetyo85: #kampanyepilkadavirtual\\nkampanye perdana gibran-teguh blusukan daring dengan virtual box\\n\\nkampanye gibran berupa blusuka…', '@pdi_perjuangan rapatkan barisan, menangkan gibran-teguh', 'rt @pdi_perjuangan: seluruh ranting pdi perjuangan se-kota surakarta siap memenangkan gibran-teguh dengan menaati dan patuh protokol keseha…', 'ijin bal rapopo di tahan sik , sing penting ijin dodolanku tetep metu seko polri, bekingane gibran teguh og :| ', '#pilwakotsolo kampanye, gibran-teguh bagi tugas  ', '#pilwakotsolo kampanye, gibran-teguh bagi tugas  ', '#pilwakotsolo kampanye, gibran-teguh bagi tugas  ', 'rt @id_indicator: pilwakot surakarta menjadi pilkada teramai nomor pertama dengan 13.693 berita. selain membahas sosok gibran, media menyor…', 'sudahlah paslon bajo biasa gegaruk bidjie aja gegayaan luh ikutan #pilkada2020 segala. \\n\\nkalo boleh usul mendingan… ', 'rt @cnnindonesia: dana awal kampanye: gibran-teguh rp25 juta, bajo rp0 #pilkada2020 ', 'dana awal kampanye: gibran-teguh rp25 juta, bajo rp0 #pilkada2020 ', 'komisi pemilihan umum (kpu) solo, jawa tengah telah menerima pendaftaran 40 akun media sosial (medsos) milik kedua… ', 'megawati turun gunung jadi jurkam gibran-teguh, pengamat: kalau kalah harga diri pdip-jokowi hancur ', 'pilkada solo: lawan gibran-teguh, dana kampanye pasangan bajo rp0 -  ', '@kevin_asgudier siap akhi, saya masih memegang teguh sepenggal kalimat dari khalil gibran wkwk', 'rt @kumparan: warga solo antusias dengan adanya box virtual kampanye yang disediakan paslon gibran-teguh. warga pun dapat berkeluh kesah de…', 'warga solo antusias dengan adanya box virtual kampanye yang disediakan paslon gibran-teguh. warga pun dapat berkelu… ', '@pdi_perjuangan ayo rapatkann barisan utk memenangkan gibran - teguh dgn menerapkan disiplin protok kesehatan.\\n\\n*sa… ', 'pilkada solo: lawan gibran-teguh, dana kampanye pasangan bajo rp0 #kelurahannusukan #panjipanji… ', 'rt @dewibulan74: seperti diberitakan, kampanye virtual antara lain sdh dilakukan oleh paslon walikota dan calon wakil walikota solo nomor u…', 'rt @prasetyoedi_: selamat berjuang gibran-teguh.\\nsemangat mewujudkan surakarta sebagai kota budaya yang modern, tangguh, gesit, kreatif, da…', 'rt @prasetyoedi_: saya optimis gibran-teguh mampu menerapkan kampanye sehat dari bahaya penularan virus korona dan menang dalam pilkada ini…', 'seluruh ranting pdi perjuangan se-kota surakarta siap memenangkan gibran-teguh dengan menaati dan patuh protokol ke… ', 'kampanye virtual gibran rakabuming-teguh prakosa dipuji warga solo ', 'kampanye virtual gibran rakabuming-teguh prakosa diapresiasi\\xa0warga ', 'rt @escobart_idn: kampanye virtual antara lain sdh dilakukan oleh pasangan calon walikota dan calon wakil walikota solo nomor urut 01, gibr…', 'selamat berjuang gibran-teguh.\\nsemangat mewujudkan surakarta sebagai kota budaya yang modern, tangguh, gesit, kreat… ', 'saya optimis gibran-teguh mampu menerapkan kampanye sehat dari bahaya penularan virus korona dan menang dalam pilka… ', 'rt @tjhinfar21: perlu diketahui kampanye virtual antara lain sdh dilakukan oleh paslon cawalkot solo dgn no urut 1\\n\\ndi hari pertama kampany…', 'gibran kembali menyapa masyarakat dengan virtual box dengan keliling kampung, sedangkan teguh melakukan blusukan of… ', 'awal kampanye gibran – teguh sudah kantongi dana rp 25 m, bajo rp 0 ', 'rt @billray2019: agar tidak menimbulkan kerumunan massa, pasangan calon walikota solo gibran rakabuming raka dan teguh prakoso melakukan te…', 'rt @kumparan: dpc pdip solo menargetkan perolehan suara 92% untuk kemenangan gibran-teguh. perolehan suara itu tentunya dengan kontribusi y…', 'selamat berjuang mas gibran. gibran – teguh untuk solo 1. ', 'gibran - teguh melakukan kampanye unik blusukan online, guna menghindari pengumpulan massa dan mematuhi protocol ke… ', 'gibran - teguh melakukan kampanye unik blusukan online, guna menghindari pengumpulan massa dan mematuhi protocol ke… ', 'gibran - teguh melakukan kampanye unik blusukan online, guna menghindari pengumpulan massa dan mematuhi protocol ke… ', 'gibran - teguh melakukan kampanye unik blusukan online, guna menghindari pengumpulan massa dan mematuhi protocol ke… ', 'gibran - teguh melakukan kampanye unik blusukan online, guna menghindari pengumpulan massa dan mematuhi protocol ke… ', 'gibran - teguh melakukan kampanye unik blusukan online, guna menghindari pengumpulan massa dan mematuhi protocol ke… ', 'gibran - teguh melakukan kampanye unik blusukan online, guna menghindari pengumpulan massa dan mematuhi protocol ke… ', 'gibran - teguh melakukan kampanye unik blusukan online, guna menghindari pengumpulan massa dan mematuhi protocol ke… ', 'gibran - teguh melakukan kampanye unik blusukan online, guna menghindari pengumpulan massa dan mematuhi protocol ke… ', 'rt @lilapama2011: kampanye virtual sudah dilakukan oleh pasangan calon wali kota dan calon wakil wali kota solo nomor urut 01, gibran rakab…', 'pilwakot surakarta menjadi pilkada teramai nomor pertama dengan 13.693 berita. selain membahas sosok gibran, media… ', 'rt @jitoe02: kampanye virtual sdh dilakukan oleh paslon gibran-teguh pd kampanye di bonorejo, kel nusukan, kec banjarsari, solo, jawa tenga…', 'rt @markonah76: pandemi covid-19 telah mengubah hampir semua mekanisme pertemuan menjadi online, ini bisa dicontoh paslon lain.\\nkampanye vi…', '@aryprasetyo85 @bawaslu_ri @kpu_id @kemendagri @jokowi wah gibran - teguh inilah generasi yg sesungguhnya ', 'kampanye virtual antara lain sdh dilakukan oleh pasangan calon walikota dan calon wakil walikota solo nomor urut 01… ', 'rt @kumparan: pasangan cawali dan cawawali solo nomor urut 01, gibran rakabuming raka-teguh prakosa, langsung melakukan blusukan online di…', 'gibran rakabuming raka resmi menjadi calon wali kota solo dalam pemilihan kepala daerah (pilkada) serentak 2020.\\n\\nb… ', 'rt @athayahayya: #kampanyepilkadavirtual sdh dilakukan oleh paslon walikota dan calon wakil walikota solo nomor urut 01, gibran -teguh pd h…', 'seperti diberitakan, kampanye virtual antara lain sdh dilakukan oleh paslon walikota dan calon wakil walikota solo… ', '@pdi_perjuangan seluruh ranting pdi perjuangan se-kota surakarta siap memenangkan gibran-teguh dengan menaati dan p… ', 'pasangan cawali dan cawawali solo nomor urut 01, gibran rakabuming raka-teguh prakosa, langsung melakukan blusukan… ', '#kampanyepilkadavirtual\\nkampanye perdana gibran-teguh blusukan daring dengan virtual box\\n\\nkampanye gibran berupa bl… ', 'agar tidak menimbulkan kerumunan massa, pasangan calon walikota solo gibran rakabuming raka dan teguh prakoso melak… ', 'rt @aryprasetyo85: #kampanyepilkadavirtual\\nkampanye virtual jg dilakukan oleh paslon gibran rakabuming raka-teguh prakosa di pilkada solo.…', 'rt @aryprasetyo85: #kampanyepilkadavirtual\\nketua tim pemenangan gibran-teguh, putut gunawan, mengatakan, pada tahapan kampanye ini timnya a…', 'rt @aryprasetyo85: #kampanyepilkadavirtual\\nkampanye virtual antara lain sudah dilakukan oleh pasangan calon wali kota dan calon wakil wali…', 'rt @aryprasetyo85: #kampanyepilkadavirtual\\npasangan calon wali kota dan wakil wali kota solo, gibran rakabuming raka-teguh prakosa, lebih b…', 'rt @denni_loyz: yang sudah kampanye virtual antara lain dilakukan oleh pasangan calon wali kota dan wakil walikota solo nomor urut 01, gibr…', '5 fakta kampanye digital gibran - teguh di pilkada solo 2020, warga bisa sampaikan keluh kesahnya ', '[nomor urut pasangan calon]\\n\\nkpu kota surakarta menetapkan nomor urut 1 pasangan gibran rakabuming raka - teguh pra… ', 'dana kampanye gibran-teguh &amp; bajo masing-masing dibatasi rp 19,7 m ', 'rt @pdi_perjuangan: dapar nomor urut 1, gibran-teguh siap kampanye blusukan online\\n\\n\\n\\n#pdiperjuangan\\n#gibranteguh ht…', 'yang sudah kampanye virtual antara lain dilakukan oleh pasangan calon wali kota dan wakil walikota solo nomor urut… ', 'seluruh ranting pdi perjuangan se-kota surakarta siap memenangkan gibran-teguh dengan menaati dan patuh protokol ke… ', 'kampanye virtual sudah dilakukan oleh pasangan calon wali kota dan calon wakil wali kota solo nomor urut 01, gibran… ', 'ruarrrr biasahhh........ tiati nek ini jaman covid, megawati turun gunung jadi jurkam gibran-teguh, pengamat: kalau… ', 'perlu diketahui kampanye virtual antara lain sdh dilakukan oleh paslon cawalkot solo dgn no urut 1\\n\\ndi hari pertama… ', 'kampanye virtual sdh dilakukan oleh paslon gibran-teguh pd kampanye di bonorejo, kel nusukan, kec banjarsari, solo,… ', 'pandemi covid-19 telah mengubah hampir semua mekanisme pertemuan menjadi online, ini bisa dicontoh paslon lain.\\nkam… ', '#kampanyepilkadavirtual sdh dilakukan oleh paslon walikota dan calon wakil walikota solo nomor urut 01, gibran -teg… ', '#kampanyepilkadavirtual\\npasangan calon wali kota dan wakil wali kota solo, gibran rakabuming raka-teguh prakosa, le… ', '#kampanyepilkadavirtual\\nkampanye virtual antara lain sudah dilakukan oleh pasangan calon wali kota dan calon wakil… ', '#kampanyepilkadavirtual\\nketua tim pemenangan gibran-teguh, putut gunawan, mengatakan, pada tahapan kampanye ini tim… ', '#kampanyepilkadavirtual\\nkampanye virtual jg dilakukan oleh paslon gibran rakabuming raka-teguh prakosa di pilkada s… ', 'gibran-teguh vs bajo', 'pilkada solo: lawan gibran-teguh, dana kampanye pasangan bajo rp0  #darisuara', 'gibran-teguh laporkan dana awal kampanye pilkada solo rp25 juta, bajo nol rupiah  ', 'gibran-teguh lakukan kampanye virtual, pakar komunikasi politik nilai kurang efektif - pikiran rakyat tasikmalaya -… ', ' lakukan kampanye virtual, pakar komunikasi politik nilai kurang efektif - pikiran rakyat ta… ', '@princes_spartan kampanye sehat kampanye cerdas, good luck buat gibran dan teguh semoga sukses', 'kampanye onlie dilakukan pasangan gibran-teguh prakosa untuk mencegah kerumunan. #kumparannews ', '@princes_spartan saluut mas gibran dan mas teguh udah bikin contoh baik cara berkampanye dimasa pandemi', '@princes_spartan mantap banget paslon walikota solo gibran &amp; teguh nih blusukan pun bisa via virtual ya, kampanye n… ', '@princes_spartan wah keren banget nih monitor nya ini bukti bahwa paslon walikota solo gibran &amp; teguh itu kreatif b… ', '@princes_spartan @ivan75426637 caranya bener bener keren menurut gua salut banget ama paslon gibran dan teguh', '@princes_spartan emang inovasi buat kampanye dimasa pandemi ini perlu dilakukan kaya ide kreatif dari paslon gibran dan teguh', '@princes_spartan keren nih monitor virtual paslon walikota solo gibran dan teguh semoga terpilih ya', '@princes_spartan @yummy_91 salut banget dengan cara kampanyenya paslon gibran dan teguh ini guys', '@princes_spartan tetep bisa kampanye dimasa pandemi?? bisa banget dengan monitor virtual bisa banget buat blusukan… ', '@princes_spartan @yummy_91 bagus bet ide kampanyenya paslon gibran dan teguh ini guys, patut dicontoh', 'pengambilan nomer urut paslon pilkada solo #idntimesjateng ', '10.30 #beritasonora - pengundian nomor urut peserta pilkada 2020, gibran-teguh dapat nomor urut 1… ', 'rt @kompastv: pengundian nomor urut peserta pilkada 2020, gibran-teguh dapat nomor urut 1  ', 'pengundian nomor urut peserta pilkada 2020, gibran-teguh dapat nomor urut 1  ', 'gibran-teguh 1, bagyo-supardjo 2, sama-sama yakin menang pilkada solo ', 'rt @pdi_perjuangan: resmi ditetapkan kpu kota surakarta dengan nomor urut 1, gibran-teguh yakin bakal meraih kemenangan\\n\\n', 'pilkada solo: gibran-teguh dapat nomor 1, bajo 2 ', 'resmi ditetapkan kpu kota surakarta dengan nomor urut 1, gibran-teguh yakin bakal meraih kemenangan… ', 'calon walikota solo tuh emang gibran teguh doang? aku ga pernah liat baliho atau spanduk lawannya di sepanjang jala… ', 'kmi siap mengawal  mas gibran dan mas teguh prakosa dlm mimpin kota solo siap coblos nmor 1 ada pilihan kita ', 'pilkada solo, gibran-teguh dapat nomor urut 1  ', 'undian nomor urut gibran-teguh tampil putih hitam, apa maknanya? #gibranrakabuming #jokowidodo #sbagio… ', 'rt @detikcom: dua pasangan calon (paslon) pilkada solo mengikuti tahapan pengundian nomor urut. gibran rakabuming raka-teguh prakosa mendap…', 'dahsyat, gibran-teguh dapat nomor urut satu  ', 'dua pasangan calon (paslon) pilkada solo mengikuti tahapan pengundian nomor urut. gibran rakabuming raka-teguh prak… ', \"rt @fatimahsw33ty: \\U0001f932selamat pagi assalamu'alaikum wr wb semoga kita selalu patuhi protokol kesehatan agar terhindar dari covid19. tagar ha…\", 'gibran – teguh nomor 1, bajo 2 ', 'sah, gibran-teguh dapat nomor urut 1 #gibranrakabuming #teguhprakosa #wakilwalikota #mencucitangan #kotasurakarta… ', 'berbudaya kreatif moderen tangguh\\ngibran-teguh pasti menang\\nsolo bermanfaat\\n\\n\"all out losss ra rewel\"… ', 'rt @indozonemedia: gibran rakabuming raka yang maju sebagai calon wali kota solo berpasangan dengan teguh prakosa. ternyata ia mempunyai ha…', 'gibran-teguh komitmen taati protokol kesehatan\\n#covidrangerantara\\n#rangerantara\\n', 'gibran rakabuming raka yang maju sebagai calon wali kota solo berpasangan dengan teguh prakosa. ternyata ia mempuny… ', 'rt @mycaffe0: anda tuh anak muda milenial..cari cara yg jitu buat meraup suara dg cara2 daring dan virtual..\\n#partaitaatprokespilkada \\ntari…', 'rt @_umamlik: setuju mas.bilngn ke semua pendukungnya juga..daring manfaatkan teknologi.anda itu calon milenial soalnya..inget prokes dan k…', 'gibran-teguh 1, bagyo-supardjo 2, sama-sama pede menang pilkada solo ', 'rt @mycaffe0: gw kira tuh gk ad lawanny ternyta ad juga tp lewat jalur independen toh..\\nseru juga nih lau kayak gini..jd lbh asyik dan hidu…', 'pilkada solo: gibran-teguh dapat nomor 1, bajo 2 ', 'anda tuh anak muda milenial..cari cara yg jitu buat meraup suara dg cara2 daring dan virtual..… ', 'pkb resmi dukung gibran-teguh di pilwakot solo ,lihat berita di tautan ', 'setuju mas.bilngn ke semua pendukungnya juga..daring manfaatkan teknologi.anda itu calon milenial soalnya..inget pr… ', 'gw kira tuh gk ad lawanny ternyta ad juga tp lewat jalur independen toh..\\nseru juga nih lau kayak gini..jd lbh asyi… ', 'selamat berjuang\\ngibran - teguh\\nsukses selalu. @ salemba raya ', '\"saya bersama pak teguh berkomitmen untuk selalu menaati protokol kesehatan, tetapi yang paling penting nomor satu… ', 'pemilune slamet rakyate iso ngeliwet, gibran-teguh bersilahturahmi ke warga keprabon kota surakarta (24/9)… ', 'gibran-teguh siapkan blusukan online di tengah pandemi covid-19 #gibranrakabumingraka #gibranrakabuming… ', 'rt @kompascom: komisi pemilihan umum (kpu) solo menggelar rapat pleno terbuka pengundian nomor urut pasangan calon wali kota dan wakil wali…', 'pilwalkot solo, gibran-teguh nomor urut 1 dan bajo 2 #8ukasindonews #bangkitdaripandemi #gibran ', 'komisi pemilihan umum (kpu) solo menggelar rapat pleno terbuka pengundian nomor urut pasangan calon wali kota dan w… ', '@_awasipilkada \\ndua pasangan calon walikota di the sunan hotel solo.\\npasangan\\xa0gibran-teguh mendapat nomor urut 01.… ', 'rt @jawapos: gibran-teguh nomor 1 dan bajo 2 di pilkada surakarta 2020 ', 'rt @terasid: gibran-teguh dapat nomor urut 1, sedangkan penantangnya pasangan bajo nomor 2. nomor mana yang dicoblos masyarakat solo?\\n\\narti…', 'gibran-teguh nomor 1 dan bajo 2 di pilkada surakarta 2020 ', 'gibran-teguh dapat nomor urut 1, sedangkan penantangnya pasangan bajo nomor 2. nomor mana yang dicoblos masyarakat… ', 'gibran menilai nomor satu sama nomor dua sama baiknya ', 'gibran-teguh nomor 1 dan bajo 2 di pilkada surakarta - antara news bengkulu ', 'pilkada surakarta, gibran-teguh nomor 1 dan bajo nomor 2 - antara jateng ', 'pilwalkot solo, gibran-teguh nomor urut 1 dan bajo 2 ', 'naik mobil bertiga, gibran-teguh dan sukasno hadiri pleno kpu di the sunan\\xa0hotel ', 'gibran-teguh siapkan blusukan dan konser online ', 'sah, gibran-teguh nomor 1, lawannya bajo nomor 2 ', 'pasangan calon walikota dan wakil walikota surakarta periode 2021-2024 gibran-teguh mendapatkan nomor urut 1\\npasti… ', 'pilkada solo, gibran-teguh dapat nomor urut 1, bajo nomor 2\\n\\n', 'nomor urut di pilwalkot solo: gibran-teguh 1, bagyo-supardjo 2 #gibranrakabuming #disinfektan #komisipemilihanumum… ', 'pengundian nomer urut, gibran-teguh nomer urut satu, bajo nomer urut dua ', 'pilwalkot solo, gibran-teguh dapat nomor urut\\xa01 ', 'pilwalkot solo, gibran-teguh dapat nomor urut\\xa01 ', 'gibran – teguh nomor 1, bajo\\xa02 ', 'gibran teguh nomor urut 1, bajo nomor 2 ', 'hadiri pengambilan nomor urut paslon, begini penampilan gibran-teguh dan bajo ', 'nomer urut calon walikota &amp; wakil walikota surakarta\\n\\n1. gibran rakabuming raka - teguh prakosa ( pdi perjuangan )… ', 'rt @kompastv: kpu kota solo, jawa tengah, menetapkan dua pasangan calon wali kota pilkada 2020. dua pasangan itu yakni putra jokowi, gibran…', 'paslon gibran-teguh dapat nomor urut 1 di pilkada solo, tim sorak gembira ', 'kpu kota solo, jawa tengah, menetapkan dua pasangan calon wali kota pilkada 2020. dua pasangan itu yakni putra joko… ', 'gibran-teguh dapat nomor urut 1 di pilkada solo #taucepattanpabatas #beritaterkini  . ', 'sah, gibran-teguh dapat nomor urut 1, bajo dapat nomor urut 2 pada pilkada solo 2020 ', 'gibran-teguh nomor urut 1, bajo 2 pada pilwalkot solo ', 'rt @merdekadotcom: pilkada solo, gibran-teguh dapat nomor urut 1, bajo nomor 2: kepada wartawan, gibran mengaku tidak mempermasalahkan mend…', 'rapat pleno penetapan nomor urut dan daftar pasangan calon peserta pemilihan wali kota dan wakil wali kota surakart… ', 'rt @kumparan: paslon gibran-teguh secara sah mendapat nomor urut 1 dalam pilkada solo 2020. sedangkan paslon independen bajo mendapat nomor…', 'pilkada solo 2020: gibran-teguh nomor urut 1, bajo 2 ', 'paslon gibran-teguh secara sah mendapat nomor urut 1 dalam pilkada solo 2020. sedangkan paslon independen bajo mend… ', 'sah, gibran-teguh dapat nomor urut 1, bajo nomor\\xa02 ', 'pilkada solo, gibran-teguh dapat nomor urut 1, bajo nomor 2: kepada wartawan, gibran mengaku tidak mempermasalahkan… ', 'saat hadir dalam rapat pleno kpu pengundian nomor urut, gibran dan teguh memakai kemeja putih. berlawanan dengan wa… ', 'teguh, yang mendampingi gibran, langsung tepuk tangan saat mengetahui gibran mendapat nomor urut 1. tim lain yang h… ', 'pasangan calon pilkada kota solo 2020, gibran rakabuming raka-teguh prakosa mendapat nomor urut 1, sementara lawann… ', '\"pengundian nomor urut paslon telah kita lakukan, paslon gibran-teguh mendapatkan nomor satu dan bajo nomor urut du… ', 'rt @kompastv: kpu tetapkan 2 paslon pilwakot solo, gibran-teguh dan bagyo-supardjo ', 'pasangan gibran rakabuming raka-teguh prakosa (gibran-teguh) dan bagyo wahyono-fx supardjo (bajo) menghadiri pengun… ', 'solo bersatu, gibran - teguh pilihanku!!\\n.\\n#solohebat #sobatsolohebat #solomelompatlebihjauh… ', 'kpu tetapkan 2 paslon pilwakot solo, gibran-teguh dan bagyo-supardjo ', 'rt @marvel7214: mari kita doakan mak nek penggemar serial pembunuhan\\nini . . \\n\\npilkada solo, megawati turun tangan jadi jurkam gibran-teguh…', 'tarik pemilih milenial, gibran-teguh akan gelar konser musik virtual: tim pemenangan bakal pasangan calon wali kota… ', 'sah jadi paslon, gibran-teguh &amp; bagyo-supardjo tak soalkan nomor\\xa0urut ', 'rt @cobeh09: lbp protes...\\nkarena saat\\nlbp sedang \"bla bla bla\"\\ntiba-2\\nnajwa shihab\\nmenayangkan\\npelanggaran protokol covid-19\\noleh peserta…', 'rt @kumparan: paslon gibran-teguh telah menyiapkan blusukan online untuk menyapa masyarakat solo. terkait bagaimana sistemnya, gibran masih…', '@ariabima99 @chilli_pari ranting timuran bersama ibu-ibu penggerak timuran\\nsiap menangkan gibran-teguh\\n\\npemilune sl… ', 'paslon gibran-teguh telah menyiapkan blusukan online untuk menyapa masyarakat solo. terkait bagaimana sistemnya, gi… ', '', \"\\U0001f932selamat pagi assalamu'alaikum wr wb semoga kita selalu patuhi protokol kesehatan agar terhindar dari covid19. tag… \", 'pasangan gibran-teguh dan bagyo-supardjo secara resmi akan bertarung memperebutkan kursi wali kota solo. kedua pasa… ', 'dukungan semakin gemuk, kini giliran pkpi merapat ke gibran-teguh di pilkada solo 2020 ', 'gencarkan protokol kesehatan jelang pilkada serentak 2020, gibran-teguh\\xa0terima hand sanitizer ', 'rt @yohandewa: anak yg baik sekali mencontoh perilaku bapaknya...\\nnjrit blusukan online!!\\nsekalian gorong2 online!! \\n\\n', 'gibran-teguh dan bajo incar nomor urut 1 di pilkada solo ', '@fermendkis pak purnomo. bentar lagi bisa jadi pak teguh kalau pak gibran jadi walkotnya.', 'rt @pdi_perjuangan: semakin sejahtera dibawah kepemimpinan kader pdi perjuangan, petugas penarik sampah banjarsari siap memenangkan gibran-…', 'bagyo wahyono dan f.x. supardjo dipastikan menjadi lawan gibran-teguh dalam pilwalkot solo 2020. bagyo-supardjo maj… ', 'udah kayak kepanitiaan ya ada rekening baru #merahputihcom #rekening #kampanye ', 'dukung pilkada solo aman, secret clean suport hand sanitizer melalui paslon gibran-teguh ', 'rt @detikcom: kpu solo secara resmi menetapkan gibran rakabuming raka-teguh prakosa dan bagyo wahyono-fx supardjo (bajo) sebagai pasangan c…', 'anak yg baik sekali mencontoh perilaku bapaknya...\\nnjrit blusukan online!!\\nsekalian gorong2 online!! \\n\\n', 'mari kita doakan mak nek penggemar serial pembunuhan\\nini . . \\n\\npilkada solo, megawati turun tangan jadi jurkam gibr… ', 'kpu solo secara resmi menetapkan gibran rakabuming raka-teguh prakosa dan bagyo wahyono-fx supardjo (bajo) sebagai… ', 'dukung gibran-teguh, pkpi: pemimpin solo paling wow! ', 'rt @kompastv: sah! gibran rakabuming-teguh dan bajo jadi calon wali kota solo  ', 'gibran-teguh siapkan blusukan online ', 'kpu tetapkan gibran-teguh dan bagyo-supardjo paslon di pilwalkot solo 2020 #gibranrakabuming #komisipemilihanumum… ', 'sah jadi paslon, gibran-teguh &amp; bagyo-supardjo tak soalkan nomor urut ', 'dukungan semakin gemuk, kini giliran pkpi merapat ke gibran-teguh di pilkada solo 2020 ', 'gibran - teguh dan bajo resmi sebagai paslon wali kota solo di pilkada 2020\\xa0  ', 'semua kembali pada rakyat / masyarakat.\\napakah masih mau dibodohi ?\\nfakta dan realitanya, setelah mereka menduduki… ', 'ketua tim pemenangan gibran-teguh berharap agar mendapat nomor urut 1. ', 'rapat pleno tertutup kpu surakarta menetapkan pasangan\\xa0gibran-teguh dan bagyo-supardjo maju dalam pilkada\\xa0 wali kot… ', 'rt @kompasiana: demi memperjuangkan gibran-teguh, megawati, puan dan hasto siap jadi juru kampanye ', 'demi memperjuangkan gibran-teguh, megawati, puan dan hasto siap jadi juru kampanye\\n', 'semakin sejahtera dibawah kepemimpinan kader pdi perjuangan, petugas penarik sampah banjarsari siap memenangkan gib… ', 'demi memperjuangkan gibran-teguh, megawati, puan dan hasto siap jadi juru kampanye ', 'megawati dan puan bakal jadi jurkam gibran-teguh  ', 'megawati dan puan bakal jadi jurkam gibran-teguh  ', 'banteng solotengah\\nberhimpun &amp; bergerak \\nsiap memenangkan\\ngibran-teguh\\n\\npemilune slamet wargane iso ngliwet ', 'banteng solotengah\\nberhimpun &amp; bergerak \\nsiap memenangkan\\ngibran-teguh\\n\\npemilune slamet wargane iso ngliwet', 'konsolidasi ranting anting &amp; satgas timuran\\nsolid bergerak gibran-teguh\\n\\npemilune slamet...wargane iso ngliwet ', 'kpu tetapkan gibran-teguh dan bajo sebagai peserta pilkada solo: nurul menjelaskan, rapat pleno penetapan calon tid… ', 'bajo sah jadi lawan gibran-teguh dalam pilwakot solo 2020 ', 'sah! gibran-teguh bakal bertemu bajo di pilkada surakarta 2020 ', 'rt @detikcom: megawati soekarnoputri dan puan maharani akan turun gunung menjadi juru kampanye gibran rakabuming-teguh prakosa di pilkada s…', 'kpu tetapkan gibran-teguh dan bajo sebagai peserta pilkada solo: nurul menjelaskan, rapat pleno penetapan calon tid… ', 'rt @republikaonline: gibran-teguh dan bagyo-suparjo ditetapkan kpu untuk bertarung dalam pilkada solo ', 'gibran-teguh dan bagyo-suparjo ditetapkan kpu untuk bertarung dalam pilkada solo ', 'resmi bersaing. pengundian nomor urut paslon akan dilakukan besok melalui pleno terbuka.\\n\\n#validnews #nasional\\n\\n', 'kpu resmikan paslon pilkada solo: teguh-gibran vs bajo #pilkadasolo #gibranrakabuming ', 'sah! gibran rakabuming-teguh dan bajo jadi calon wali kota solo  ', 'megawati dan puan bakal jadi jurkam gibran-teguh ', 'gibran-teguh dan bajo resmi jadi paslon pilkada solo ', 'sah,  gibran-teguh dan bajo jadi peserta pilkada solo ', 'kpu tetapkan gibran-teguh dan bajo calon pilkada surakarta ', 'rt @ariefnoviandi_: warga solo, yang gak suka gibran, yang nuduh dinasti politik, sila pilih bajo. jangan golput. \\n\\n', 'dua paslon yakni gibran rakabuming raka-teguh prakosa dan bagyo wahyono-fx supardjo (bajo) akan bertarung dalam pil… ', 'batal lawan kotak kosong, gibran-teguh bakal ditantang bagyo-suparjo di pilkada solo  #pilkada2020 #pilwakotsolo', 'kpu solo sahkan pertarungan gibran-teguh lawan bajo di pilkada ', 'sah! gibran-teguh vs bajo bersaing di pilkada solo 2020  ', 'kpu tetapkan gibran-teguh dan bajo paslon pilkada solo ', 'ketua umum pdip megawati soekarnoputri dan ketua dpp puan maharani serta sekjen hasto kristianto bakal \"turun gunun… ', 'kpu tetapkan gibran-teguh dan bagyo-supardjo sebagai paslon di pilwalkot solo\\xa02020 ', 'warga solo, yang gak suka gibran, yang nuduh dinasti politik, sila pilih bajo. jangan golput. \\n\\n', 'patuihi protokol kesehatan saat kampanye di solo, gibran-teguh bakal gelar konser musik virtual ', 'pengumuman penetapan calon pilkada solo online, gibran – teguh &amp; bagyo – supardjo tak datang ke kpu ', 'begini kata tim pemenangan gibran dan teguh soal penundaan pilkada 2020  ', '\"asyik pilkadanya jadi ya...\" teriak rakyat yang lagi pusing ganti masker  scuba nya, dan di-aminin sama tenaga kes… ', 'sah! tukang jahit &amp; ketua rw tanding lawan putra presiden jokowi gibran &amp; teguh di pilkada solo 2020 ', 'bajunya keren mas @markobar1996\\n\\nkenalkan seragam kampanye gibran-teguh di pilkada solo, ini maknanya ', 'ketua tim pemenangan bakal pasangan calon gibran - teguh, putut gunawan mengatakan kehadiran megawati diharapkan da… ', 'menangkan gibran-teguh, puan maharani dan megawati turun gunung jadi jurkam di pilkada solo\\n#soloraya #pilkadasolo… ', 'rt @kumparan: kpu menyatakan paslon gibran-teguh dan paslon bagyo-supardjo sebagai calon wali kota solo. #publisherstory ', 'kpu tetapkan gibran-teguh dan bagyo-supardjo paslon di pilwalkot solo 2020 ', 'kpu menyatakan paslon gibran-teguh dan paslon bagyo-supardjo sebagai calon wali kota solo. #publisherstory ', '\"ada dua pasangan yang kami tetapkan, yakni gibran-teguh dan bagyo-supardjo,\" ujar ketua kpu solo, nurul sutarti. ', 'ranting timuran bersama ibu-ibu penggerak timuran siap menangkan gibran-teguh\\n\\npemilune slamet wargane iso ngliwet… ', 'ranting timuran bersama ibu-ibu se timuran siap bergerak &amp; memenangkan gibran-teguh\\n\\n#pdiperjuangan… ', 'rt @sindonews: megawati menjadi jurkam gibran-teguh di pilwalkot solo ', 'rt @gli_hagiasophia: paling jurus nangis yang akan diandalkan,seperti halnya waktu jadi presiden hasil dari gusdur lengser,kalau nggak nang…', 'paling jurus nangis yang akan diandalkan,seperti halnya waktu jadi presiden hasil dari gusdur lengser,kalau nggak n… ', 'nomor urut 01 di pilkada solo 2020 jadi rebutan bajo independen dan pasangan calon pdip gibran-teguh ', 'ketum pdip megawati soekarno putri dan ketua dpr puan maharani disebut bakal menjadi juru kampanye gibran rakabumin… ', 'kampanye gibran-teguh, pertimbangkan gelar konser ', 'rt @idtodayco: pilkada solo, megawati turun tangan jadi jurkam gibran-teguh ', 'pilkada solo, megawati turun tangan jadi jurkam gibran-teguh - follow @demokrasicoid  ', 'puan hingga megawati bakal jadi juru kampanye gibran-teguh - \\n\\n#indonesia', 'tim pemenangan pasangan gibran rakabuming raka-teguh prakosa yang diusung pdip serta didukung delapan parpol tidak… ', 'pilkada solo, megawati turun tangan jadi jurkam gibran-teguh ', 'ketua dpr dan mantan presiden bakal jadi jurkam gibran-teguh di pilkada solo ', '@teguh_gibran ashiaap', 'mantan presiden masuk tim juru kampanye gibran-teguh di pilkada solo ', 'megawati soekarnoputri dan puan maharani akan turun gunung menjadi juru kampanye gibran rakabuming-teguh prakosa di… ', 'namun, belum dipastikan apakah megawati akan datang langsung ke solo atau melalui daring. ', 'megawati menjadi jurkam gibran-teguh di pilwalkot solo ', 'kampanye gibran-teguh, pertimbangkan gelar konser ', 'kpu solo: penetapan gibran-teguh dan bagyo-suparjo tertutup ', 'dua pasangan bacalon wali kota solo usung konsep berbeda soal tata ruang. ', '#darimks ketua dpr ri hingga mantan presiden ri jadi tim jurkam gibran-teguh:  ', 'pilkada ditunda, tim pemenangan gibran-teguh: kami pasti diuntungkan\\n ', 'pilkada ditunda, tim pemenangan gibran-teguh: kami pasti diuntungkan\\n ', 'pilkada ditunda, tim pemenangan gibran-teguh: kami pasti diuntungkan\\n ', 'megawati dan para elit partai akan turun gunung kampanyekan gibran - teguh #temponasional ', 'timses paslon gibran-teguh akan menghadirkan megawati hingga puan maharani untuk menjadi juru kampanye. ', '@pdi_perjuangan ayo, pilih gibran - teguh ', 'rt @detikcom: pdip menyiapkan juru kampanye untuk memenangkan pilkada 2020. di pilkada solo, ketua umum pdip megawati soekarnoputri akan me…', 'rt @tempodotco: para tokoh partai politik bakal berdatangan ke solo selama masa kampanye. megawati soekarnoputri juga akan dihadirkan untuk…', 'para tokoh partai politik bakal berdatangan ke solo selama masa kampanye. megawati soekarnoputri juga akan dihadirk… ', 'ketua umum pdip megawati soekarnoputri akan menjadi salah satu juru kampanye pasangan gibran rakabuming raka-teguh… ', 'pdip menyiapkan juru kampanye untuk memenangkan pilkada 2020. di pilkada solo, ketua umum pdip megawati soekarnoput… ', 'rt @merdekadotcom: tim pemenangan gibran-teguh minta kpu gelar rapat pleno terbuka penetapan calon: pernyataan tersebut dikemukakan lo (lia…', 'tim pemenangan gibran-teguh minta kpu gelar rapat pleno terbuka penetapan calon: pernyataan tersebut dikemukakan lo… ', '#tim gibran-teguh memprotes kpu solo - jawa pos  #demokrasi #indonesia', 'gaet pemilih milenial, gibran rakabuming-teguh prakosa bakal gelar konser virtual ', 'konser musik virtual menjadi bagian dari menggalang dukungan warga terhadap pasangan gibran dan teguh. setidaknya i… ', 'megawati dan puan bakal jadi jurkam gibran-teguh: kehadiran para tokoh partai berlambang kepala banteng moncong put… ', 'rt @kumparan: siapa saja yang bakal menjadi juru kampanye gibran dan teguh di pilwalkot solo? ', 'siapa saja yang bakal menjadi juru kampanye gibran dan teguh di pilwalkot solo? ', '@aci_loebis @telkomsel @detikcom keren banget nih acaranya, kemaren gua nonton pengisi acaranya itu keren2 , semoga… ', '@ekihifa92 @telkomsel @detikcom keren banget nih acaranya, kemaren gua nonton pengisi acaranya itu keren2 , semoga… ', '@lilyhani_ilfani @telkomsel @detikcom keren banget nih acaranya, kemaren gua nonton pengisi acaranya itu keren2 , s… ', '@thia_phiinoo @telkomsel @detikcom keren banget nih acaranya, kemaren gua nonton pengisi acaranya itu keren2 , semo… ', '@yunita_aryani92 @detikcom @telkomsel keren banget nih acaranya, kemaren gua nonton pengisi acaranya itu keren2 , s… ', '@renayku mantul nih film', '@kurniaar8 @detikcom @telkomsel keren banget nih acaranya, kemaren gua nonton pengisi acaranya itu keren2 , semoga… ', '@kurniaar8 @detikcom @telkomsel keren banget nih acaranya, kemaren gua nonton pengisi acaranya itu keren2 , semoga… ', '@devyfristivany @detikcom @telkomsel keren banget nih acaranya, kemaren gua nonton pengisi acaranya itu keren2 , se… ', '@henyper aku liat2 dulu ya kak ig nya', 'tim gibran-teguh memprotes kpu solo ', 'cara kampanye di tengah pandemi covid-19, gibran-teguh bakal blusukan online  ', 'band apa yang cocok? \\n\\npatuhi protokol kesehatan saat kampanye di solo, gibran-teguh bakal gelar konser musik virtu… ', 'gelar konser musik virtual cara gibran-teguh lebih dekat dengan pemilih\\xa0milenial ', '@puanokta @telkomsel @detikcom pasti seru banget acaranya apalagi ada boy william', 'rt @pdi_perjuangan: angkat jargon pemilune slamet wargane iso ngliwet, ketua dpc pdi perjuangan surakarta ajak penarik sampah laweyan sukse…', '@pdi_perjuangan rapatkan barisan utk kemenangan gibran-teguh demi keberlanjutan program kebijakan yang pro wong cil… ', 'angkat jargon pemilune slamet wargane iso ngliwet, ketua dpc pdi perjuangan surakarta ajak penarik sampah laweyan s… ', 'patuihi protokol kesehatan saat kampanye di solo, gibran-teguh bakal gelar konser musik virtual ', 'rt @soloposdotcom: rebut hati milenial solo, gibran-teguh siapkan konser musik virtual  ', 'rt @soloposdotcom: target raih 85% suara, gibran-teguh andalkan jurkam nasional hingga influencer  ', 'rebut hati milenial solo, gibran-teguh siapkan konser musik virtual  ', 'silaturahmi ke tegalharjo, gibran-teguh janji lanjutkan program 3wmp rudy-poernomo hingga percepatan pemulihan ekon… ', 'target raih 85% suara, gibran-teguh andalkan jurkam nasional hingga influencer  ', 'kpu putuskan tak undang gibran-teguh dan bajo saat penetapan calon pilkada solo: “itu nanti pleno internal, kemudia… ', 'mantap jiwa! puan hingga megawati terjun jadi jurkam gibran-teguh di pilkada 2020  ', 'perindo dukung pasangan gibran - teguh jadi wali kota dan wakil wali kota solo\\n\\n', 'saat menghadiri “deklarasi adaptasi kebiasaan baru untuk mendukung percepatan penanganan covid 19” gibran - teguh j… ', 'saat menghadiri “deklarasi adaptasi kebiasaan baru untuk mendukung percepatan penanganan covid 19” gibran - teguh j… ', 'saat menghadiri “deklarasi adaptasi kebiasaan baru untuk mendukung percepatan penanganan covid 19” gibran - teguh j… ', 'saat menghadiri “deklarasi adaptasi kebiasaan baru untuk mendukung percepatan penanganan covid 19” gibran - teguh j… ', '[hoax] presiden jadi tim sukses gibran-teguh  via @detaxid', 'visi-misi pilkada 2020 gibran - teguh: kota solo sebagai kota budaya modern &amp; lanjutkan program rudy ', 'partai perindo resmi dukung pasangan gibran-teguh di pilwakot solo 2020\\n\\n']\n"
          ],
          "name": "stdout"
        }
      ]
    },
    {
      "cell_type": "code",
      "metadata": {
        "id": "vwoMsAQkflRO",
        "outputId": "4c1b5f5a-2430-4b9f-89a4-63f7abd7abc4",
        "colab": {
          "base_uri": "https://localhost:8080/",
          "height": 54
        }
      },
      "source": [
        "#Menghapus angka\n",
        "tweet_data_4=[]\n",
        "for teks in tweet_data_3:\n",
        "  teks_process = [re.sub(r\"\\d+\", \"\", teks)]\n",
        "  tweet_data_4=tweet_data_4+teks_process\n",
        "print(tweet_data_4)"
      ],
      "execution_count": null,
      "outputs": [
        {
          "output_type": "stream",
          "text": [
            "['populer nusantara antara lain konlik antara kapolres blitar dengan kasat sabhara. sementara di solo, sandiaga ipers… ', 'rt @dinihrdianti: sandiaga uno menjadi juru kampanye pasangan calon wali kota dan wakil wali kota solo, gibran rakabuming raka-teguh prakos…', 'rt @oposisicerdas: sandiaga uno jadi juru kampanye gibran-teguh di pilkada solo, disebut ada lobi jokowi\\n', \"~ninggal tatu~\\n\\nkowe tak sayang-sayang saiki malah ngilang' \\ntresnamu karo aku, kuwi mung kiasan\\nkowe tak gadhang… \", 'rt @kanseulir: sandi uno jadi juru kampanye gibran-teguh di pilkada solo, disebut ada lobi jokowi.\\n\\nperjuangan bapak perbaiki martabak anak…', 'tidur dulu ah sakit badan nihh', 'nyeri awak', 'ngantukkkk', 'sandi uno jadi juru kampanye gibran-teguh di pilkada solo, disebut ada lobi jokowi.\\n\\nperjuangan bapak perbaiki mart… ', 'rt @kompascom: selain sandiaga uno, ada nama besar lain yang juga akan menjadi jurkam paslon gibran-teguh di solo | #pilkada  \\n ', 'respons kabar sandiaga bakal jadi jurkam, gibran rancang kampanye daring: wakil ketua dewan pembina partai gerindra… ', 'selain sandiaga uno, ada nama besar lain yang juga akan menjadi jurkam paslon gibran-teguh di solo | #pilkada  \\n ', '@rikiandre @bolangwebberii @ustadtengkuzul udah baca ini belom blog? \\n', 'rt @christwamea: sandiaga uno jadi juru kampanye gibran-teguh di pilkada solo, disebut ada lobi jokowi. borong dari medan sampai solo. \\nhtt…', 'hoammmmmm', 'gibran – teguh: pilkada sesuai jadwal, demokratis dan aman dari covid-. ', 'solo ber – satu, gibran – teguh pilihanku. ', 'gibran – teguh mendapat nomor urut satu untuk pilkada solo . part  ', 'gibran – teguh mendapat nomor urut satu untuk pilkada solo . part  ', 'gibran: saya dan pak teguh tetap berkomitmen menjaga protokol kesehatan selama kampanye. ', 'gibran – teguh: untuk mendukung pilkada aman, secret clean (pt victoria care) memberikan bantuan hand sanitizer. ', 'capek euy', 'sandiaga uno digadang-gadang menjadi jurkam paslon gibran-teguh dalam pilkada solo . sandiaga menjadi jurkam ta… ', 'mantan wakil gubernur dki jakarta sandiaga uno bakal menjadi juru kampanye pasangan calon gibran rakabuming raka-te… ', '@naydonuts @airinairin_nz @tjhinfar @chilli_pari gk butuh jurkam dari pusat spt @sandiuno \\nwarga solo cukup berdi… ', 'rt @katadatacoid: wakil ketua dpp gerindra @sandiuno akan menjadi juru kampanye untuk pasangan calon wali kota dan wakil wali kota solo, gi…', 'rt @geloraco: sandiaga uno jadi juru kampanye gibran-teguh di pilkada solo, disebut ada lobi jokowi\\n', 'wakil ketua dpp gerindra @sandiuno akan menjadi juru kampanye untuk pasangan calon wali kota dan wakil wali kota so… ', 'asyiikkk', 'laparrr', '\\U0001f970\\U0001f970\\U0001f970\\n', 'mantap! sandiaga uno jadi jurkam gibran-teguh di pilkada solo  ', 'lebih lanjut ardianto mengatakan, saat ini pihaknya sedang mengkaji persiapan deklarasi tim pemenangan untuk paslon gibran-teguh.', 'mantan wakil gubernur dki jakarta ini dimungkinkan akan mengkampanyekan pasangan gibran-teguh juga secara virtual.', 'termasuk model kampanye yang digunakan sandiaga untuk paslon gibran-teguh. menurutnya, antara gibran dengan sandi, sangat bisa disatukan.', 'menurutnya, faktor kedekatan antara sandiaga, prabowo subianto (ketua dpp partai gerindra) dengan presiden jokowi s… ', 'kabar sandiaga akan menjadi juru kampanye untuk pasangan gibran teguh, dibenarkan oleh ketua dpc partai gerindra solo ardianto kuswinarno.', 'menurutnya, faktor kedekatan antara sandiaga, prabowo subianto (ketua dpp partai gerindra) dengan presiden jokowi s… ', 'wakil ketua dewan pembina partai gerindra sandiaga salahudin uno akan menjadi juru kampanye (jurkam) untuk pasangan… ', 'menurutnya, faktor kedekatan antara sandiaga, prabowo subianto (ketua dpp partai gerindra) dengan presiden jokowi s… ', 'wakil ketua dewan pembina partai gerindra sandiaga salahudin uno akan menjadi juru kampanye (jurkam) untuk pasangan… ', 'wakil ketua dewan pembina partai gerindra sandiaga salahudin uno akan menjadi juru kampanye (jurkam) untuk pasangan… ', 'menurutnya, faktor kedekatan antara sandiaga, prabowo subianto (ketua dpp partai gerindra) dengan presiden jokowi s… ', 'menurutnya, faktor kedekatan antara sandiaga, prabowo subianto (ketua dpp partai gerindra) dengan presiden jokowi s… ', 'wakil ketua dewan pembina partai gerindra sandiaga salahudin uno akan menjadi juru kampanye (jurkam) untuk pasangan… ', 'wakil ketua dewan pembina partai gerindra sandiaga salahudin uno akan menjadi juru kampanye (jurkam) untuk pasangan… ', 'menurutnya, faktor kedekatan antara sandiaga, prabowo subianto (ketua dpp partai gerindra) dengan presiden jokowi s… ', 'wakil ketua dewan pembina partai gerindra sandiaga salahudin uno akan menjadi juru kampanye (jurkam) untuk pasangan… ', 'orang amerika mungkin jadi mikir, jangan nanti kalau biden menang dan trump kalah \\nkemudian anaknya biden nyalon… ', 'rt @ferdinandhaean: selamat bang @sandiuno , semoga solo kedepan bisa bebas dari kaum intoleransi..!!\\n\\n ', '@asik_mulu @p_eneste @irmadlukman @vita_avp @yradianto @j_aryoko @southoldman @isalfatur @mazzini_gsp… ', 'selamat bang @sandiuno , semoga solo kedepan bisa bebas dari kaum intoleransi..!!\\n\\n ', 'politisi partai gerindra sandiaga solahuddin uno akan menjadi juru kampanye (jurkam) pasangan calon wali kota dan w… ', 'sandiaga uno menjadi juru kampanye pasangan calon wali kota dan wakil wali kota solo, gibran rakabuming raka-teguh… ', 'pilwalkot solo, sandiaga uno siap diterjunkan jadi jurkam gibran-teguh  ', '@pulpenaibon @lembolah @anakkolong_ oh jadi ini ya 🤣🤣\\n ', 'sandiaga akan jadi jurkam gibran di solo dan bobby di medan: menurutnya, faktor kedekatan antara sandiaga, prabowo… ', '\\n#sandiagauno #prabowo #gerindra #pdiperjuangan', 'sandiaga uno jadi juru kampanye gibran-teguh di pilkada solo, disebut ada lobi jokowi\\n', 'politisi partai gerindra sandiaga solahuddin uno dipersiapkan menjadi jukam pasangan calon wali kota dan wakil wali… ', 'rt @matanajwa: \"apbd kota solo tiap hari kita bahas dengan pak teguh, ini adalah masa-masa di mana kita harus bersabar dan banyak sekali an…', 'rt @matanajwa: \"saya berkomitmen untuk menaati protokol kesehatan. setiap hari saya dengungkan ke warga program prioritas saya dan pak tegu…', 'sandiaga uno jadi juru kampanye gibran-teguh di pilkada solo, disebut ada lobi jokowi. borong dari medan sampai sol… ', '@trans kalau gibran nggak bermanuver kira-kira ibu ketum bakal milih dia atau enggak ya??? sementara pdip sudah ng… ', 'mantap! sandiaga uno jadi jurkam gibran-teguh di pilkada solo  ', '\"lobi-lobinya politik tingkat tinggi. karena ketum kami (prabowo subianto) dengan pak jokowi sangat dekat sekali.… ', '@asmubaroq_ @afiandry @betakopites_ wkwkw jadi jasa terawang gini dah \\n\\ngibran-teguh yang menang kalo dia kalah kalem ada leg kedua wkwkkw', 'rt @kompascom: politisi partai gerindra sandiaga solahuddin uno dipersiapkan menjadi jukam pasangan calon wali kota dan wakil wali kota sol…', 'sandiaga uno jadi juru kampanye gibran-teguh di pilkada solo, disebut ada lobi jokowi\\n', 'apa kabar papa online \\n\\n\\nsandiaga uno jadi jurkam gibran-teguh di pilkada solo \\nklik untuk baca:… ', 'politisi partai gerindra sandiaga solahuddin uno dipersiapkan menjadi jukam pasangan calon wali kota dan wakil wali… ', 'gotong royong melawan covid- bersama gibran – teguh. ', 'gibran genap  tahun, teguh doakan putra jokowi terpilih jadi wali kota dan bisa membangun solo ', 'rt @trans: \"apbd kota solo tiap hari kita bahas dengan pak teguh, ini adalah masa-masa di mana kita harus bersabar dan banyak sekali angga…', 'rt @psi_id: pengurus dpd psi solo dipimpin langsung bro antonius yoga melakukan fogging di permukiman warga.\\n\\npada kesempatan yang sama, me…', 'gibran-teguh melakukan blusukan ke masyarakat dalam rangka membantu masyarakat yang terkena dampak pandemi ', '@gabisaganti pertanyaan najwa tidak perlu kita ragukan lagi, namun apakah jawaban mas gibran n cara menjawab nya su… ', 'rt @trans: \"saya berkomitmen untuk menaati protokol kesehatan. setiap hari saya dengungkan ke warga program prioritas saya dan pak teguh a…', 'paslon gibran-teguh kembali melakukan blusukan online ke beberapa kelurahan di solo. dalam kesempatan itu, gibran a… ', 'paslon gibran-teguh kembali melakukan blusukan online ke beberapa kelurahan di solo. dalam kesempatan itu, gibran a… ', 'rt @kompascom: putra presiden joko widodo, gibran rakabuming raka, yang berpasangan dengan teguh prakosa di pilwalkot surakarta. / #nasiona…', 'putra presiden joko widodo, gibran rakabuming raka, yang berpasangan dengan teguh prakosa di pilwalkot surakarta. /… ', '\"apbd kota solo tiap hari kita bahas dengan pak teguh, ini adalah masa-masa di mana kita harus bersabar dan banyak… ', '\"apbd kota solo tiap hari kita bahas dengan pak teguh, ini adalah masa-masa di mana kita harus bersabar dan banyak… ', '\"saya berkomitmen untuk menaati protokol kesehatan. setiap hari saya dengungkan ke warga program prioritas saya dan… ', '\"saya berkomitmen untuk menaati protokol kesehatan. setiap hari saya dengungkan ke warga program prioritas saya dan… ', 'rt @solohebat_id: solo bersatu, gibran - teguh pilihanku!!\\n.\\n#solohebat #sobatsolohebat #solomelompatlebihjauh #lompatananakmudauntuksolo #…', 'bajo blusukan langsung ke tokoh agama, gibran-teguh pakai virtualbox \\n\\n', 'rt @solohebat_id: identitas yang satu ini akan menjadi tugas bersama masyarakat solo dan pasangan mas gibran &amp; mas teguh untuk membawa solo…', 'rt @solohebat_id: identitas yang satu ini akan menjadi tugas bersama masyarakat solo dan pasangan mas gibran &amp; mas teguh prakasa untuk memb…', 'amunisi bertambah, pkpi dukung gibran – teguh di pilkada solo. ', 'rt @radarmasnetwork: dana kampanye gibran-teguh &amp; bajo masing-masing dibatasi rp ,\\xa0m ', 'dana kampanye gibran-teguh &amp; bajo masing-masing dibatasi rp ,\\xa0m ', 'gibran-teguh for solo  #gibranforsolo ', 'bajo blusukan langsung ke tokoh agama, gibran-teguh pakai virtualbox \\n\\n', 'pasangan gibran-teguh dan bajo memiliki cara tersendiri untuk menggaet suara warga kota solo. simak gaya kampanye m… ', 'mas gibran mohon maaf, jadinya mas fans apa mas? kok semuanya mas wkwkwk\\n\\ngibran-teguh ! ', 'pengurus dpd psi solo dipimpin langsung bro antonius yoga melakukan fogging di permukiman warga.\\n\\npada kesempatan y… ', 'rt @bisniscom: pilkada solo , sandiaga uno bakal kampanyekan gibran-teguh ', 'pilkada solo , sandiaga uno bakal kampanyekan gibran-teguh ', 'rt @aryprasetyo: #kampanyepilkadavirtual\\nkampanye perdana gibran-teguh blusukan daring dengan virtual box\\n\\nkampanye gibran berupa blusuka…', '@pdi_perjuangan rapatkan barisan, menangkan gibran-teguh', 'rt @pdi_perjuangan: seluruh ranting pdi perjuangan se-kota surakarta siap memenangkan gibran-teguh dengan menaati dan patuh protokol keseha…', 'ijin bal rapopo di tahan sik , sing penting ijin dodolanku tetep metu seko polri, bekingane gibran teguh og :| ', '#pilwakotsolo kampanye, gibran-teguh bagi tugas  ', '#pilwakotsolo kampanye, gibran-teguh bagi tugas  ', '#pilwakotsolo kampanye, gibran-teguh bagi tugas  ', 'rt @id_indicator: pilwakot surakarta menjadi pilkada teramai nomor pertama dengan . berita. selain membahas sosok gibran, media menyor…', 'sudahlah paslon bajo biasa gegaruk bidjie aja gegayaan luh ikutan #pilkada segala. \\n\\nkalo boleh usul mendingan… ', 'rt @cnnindonesia: dana awal kampanye: gibran-teguh rp juta, bajo rp #pilkada ', 'dana awal kampanye: gibran-teguh rp juta, bajo rp #pilkada ', 'komisi pemilihan umum (kpu) solo, jawa tengah telah menerima pendaftaran  akun media sosial (medsos) milik kedua… ', 'megawati turun gunung jadi jurkam gibran-teguh, pengamat: kalau kalah harga diri pdip-jokowi hancur ', 'pilkada solo: lawan gibran-teguh, dana kampanye pasangan bajo rp -  ', '@kevin_asgudier siap akhi, saya masih memegang teguh sepenggal kalimat dari khalil gibran wkwk', 'rt @kumparan: warga solo antusias dengan adanya box virtual kampanye yang disediakan paslon gibran-teguh. warga pun dapat berkeluh kesah de…', 'warga solo antusias dengan adanya box virtual kampanye yang disediakan paslon gibran-teguh. warga pun dapat berkelu… ', '@pdi_perjuangan ayo rapatkann barisan utk memenangkan gibran - teguh dgn menerapkan disiplin protok kesehatan.\\n\\n*sa… ', 'pilkada solo: lawan gibran-teguh, dana kampanye pasangan bajo rp #kelurahannusukan #panjipanji… ', 'rt @dewibulan: seperti diberitakan, kampanye virtual antara lain sdh dilakukan oleh paslon walikota dan calon wakil walikota solo nomor u…', 'rt @prasetyoedi_: selamat berjuang gibran-teguh.\\nsemangat mewujudkan surakarta sebagai kota budaya yang modern, tangguh, gesit, kreatif, da…', 'rt @prasetyoedi_: saya optimis gibran-teguh mampu menerapkan kampanye sehat dari bahaya penularan virus korona dan menang dalam pilkada ini…', 'seluruh ranting pdi perjuangan se-kota surakarta siap memenangkan gibran-teguh dengan menaati dan patuh protokol ke… ', 'kampanye virtual gibran rakabuming-teguh prakosa dipuji warga solo ', 'kampanye virtual gibran rakabuming-teguh prakosa diapresiasi\\xa0warga ', 'rt @escobart_idn: kampanye virtual antara lain sdh dilakukan oleh pasangan calon walikota dan calon wakil walikota solo nomor urut , gibr…', 'selamat berjuang gibran-teguh.\\nsemangat mewujudkan surakarta sebagai kota budaya yang modern, tangguh, gesit, kreat… ', 'saya optimis gibran-teguh mampu menerapkan kampanye sehat dari bahaya penularan virus korona dan menang dalam pilka… ', 'rt @tjhinfar: perlu diketahui kampanye virtual antara lain sdh dilakukan oleh paslon cawalkot solo dgn no urut \\n\\ndi hari pertama kampany…', 'gibran kembali menyapa masyarakat dengan virtual box dengan keliling kampung, sedangkan teguh melakukan blusukan of… ', 'awal kampanye gibran – teguh sudah kantongi dana rp  m, bajo rp  ', 'rt @billray: agar tidak menimbulkan kerumunan massa, pasangan calon walikota solo gibran rakabuming raka dan teguh prakoso melakukan te…', 'rt @kumparan: dpc pdip solo menargetkan perolehan suara % untuk kemenangan gibran-teguh. perolehan suara itu tentunya dengan kontribusi y…', 'selamat berjuang mas gibran. gibran – teguh untuk solo . ', 'gibran - teguh melakukan kampanye unik blusukan online, guna menghindari pengumpulan massa dan mematuhi protocol ke… ', 'gibran - teguh melakukan kampanye unik blusukan online, guna menghindari pengumpulan massa dan mematuhi protocol ke… ', 'gibran - teguh melakukan kampanye unik blusukan online, guna menghindari pengumpulan massa dan mematuhi protocol ke… ', 'gibran - teguh melakukan kampanye unik blusukan online, guna menghindari pengumpulan massa dan mematuhi protocol ke… ', 'gibran - teguh melakukan kampanye unik blusukan online, guna menghindari pengumpulan massa dan mematuhi protocol ke… ', 'gibran - teguh melakukan kampanye unik blusukan online, guna menghindari pengumpulan massa dan mematuhi protocol ke… ', 'gibran - teguh melakukan kampanye unik blusukan online, guna menghindari pengumpulan massa dan mematuhi protocol ke… ', 'gibran - teguh melakukan kampanye unik blusukan online, guna menghindari pengumpulan massa dan mematuhi protocol ke… ', 'gibran - teguh melakukan kampanye unik blusukan online, guna menghindari pengumpulan massa dan mematuhi protocol ke… ', 'rt @lilapama: kampanye virtual sudah dilakukan oleh pasangan calon wali kota dan calon wakil wali kota solo nomor urut , gibran rakab…', 'pilwakot surakarta menjadi pilkada teramai nomor pertama dengan . berita. selain membahas sosok gibran, media… ', 'rt @jitoe: kampanye virtual sdh dilakukan oleh paslon gibran-teguh pd kampanye di bonorejo, kel nusukan, kec banjarsari, solo, jawa tenga…', 'rt @markonah: pandemi covid- telah mengubah hampir semua mekanisme pertemuan menjadi online, ini bisa dicontoh paslon lain.\\nkampanye vi…', '@aryprasetyo @bawaslu_ri @kpu_id @kemendagri @jokowi wah gibran - teguh inilah generasi yg sesungguhnya ', 'kampanye virtual antara lain sdh dilakukan oleh pasangan calon walikota dan calon wakil walikota solo nomor urut … ', 'rt @kumparan: pasangan cawali dan cawawali solo nomor urut , gibran rakabuming raka-teguh prakosa, langsung melakukan blusukan online di…', 'gibran rakabuming raka resmi menjadi calon wali kota solo dalam pemilihan kepala daerah (pilkada) serentak .\\n\\nb… ', 'rt @athayahayya: #kampanyepilkadavirtual sdh dilakukan oleh paslon walikota dan calon wakil walikota solo nomor urut , gibran -teguh pd h…', 'seperti diberitakan, kampanye virtual antara lain sdh dilakukan oleh paslon walikota dan calon wakil walikota solo… ', '@pdi_perjuangan seluruh ranting pdi perjuangan se-kota surakarta siap memenangkan gibran-teguh dengan menaati dan p… ', 'pasangan cawali dan cawawali solo nomor urut , gibran rakabuming raka-teguh prakosa, langsung melakukan blusukan… ', '#kampanyepilkadavirtual\\nkampanye perdana gibran-teguh blusukan daring dengan virtual box\\n\\nkampanye gibran berupa bl… ', 'agar tidak menimbulkan kerumunan massa, pasangan calon walikota solo gibran rakabuming raka dan teguh prakoso melak… ', 'rt @aryprasetyo: #kampanyepilkadavirtual\\nkampanye virtual jg dilakukan oleh paslon gibran rakabuming raka-teguh prakosa di pilkada solo.…', 'rt @aryprasetyo: #kampanyepilkadavirtual\\nketua tim pemenangan gibran-teguh, putut gunawan, mengatakan, pada tahapan kampanye ini timnya a…', 'rt @aryprasetyo: #kampanyepilkadavirtual\\nkampanye virtual antara lain sudah dilakukan oleh pasangan calon wali kota dan calon wakil wali…', 'rt @aryprasetyo: #kampanyepilkadavirtual\\npasangan calon wali kota dan wakil wali kota solo, gibran rakabuming raka-teguh prakosa, lebih b…', 'rt @denni_loyz: yang sudah kampanye virtual antara lain dilakukan oleh pasangan calon wali kota dan wakil walikota solo nomor urut , gibr…', ' fakta kampanye digital gibran - teguh di pilkada solo , warga bisa sampaikan keluh kesahnya ', '[nomor urut pasangan calon]\\n\\nkpu kota surakarta menetapkan nomor urut  pasangan gibran rakabuming raka - teguh pra… ', 'dana kampanye gibran-teguh &amp; bajo masing-masing dibatasi rp , m ', 'rt @pdi_perjuangan: dapar nomor urut , gibran-teguh siap kampanye blusukan online\\n\\n\\n\\n#pdiperjuangan\\n#gibranteguh ht…', 'yang sudah kampanye virtual antara lain dilakukan oleh pasangan calon wali kota dan wakil walikota solo nomor urut… ', 'seluruh ranting pdi perjuangan se-kota surakarta siap memenangkan gibran-teguh dengan menaati dan patuh protokol ke… ', 'kampanye virtual sudah dilakukan oleh pasangan calon wali kota dan calon wakil wali kota solo nomor urut , gibran… ', 'ruarrrr biasahhh........ tiati nek ini jaman covid, megawati turun gunung jadi jurkam gibran-teguh, pengamat: kalau… ', 'perlu diketahui kampanye virtual antara lain sdh dilakukan oleh paslon cawalkot solo dgn no urut \\n\\ndi hari pertama… ', 'kampanye virtual sdh dilakukan oleh paslon gibran-teguh pd kampanye di bonorejo, kel nusukan, kec banjarsari, solo,… ', 'pandemi covid- telah mengubah hampir semua mekanisme pertemuan menjadi online, ini bisa dicontoh paslon lain.\\nkam… ', '#kampanyepilkadavirtual sdh dilakukan oleh paslon walikota dan calon wakil walikota solo nomor urut , gibran -teg… ', '#kampanyepilkadavirtual\\npasangan calon wali kota dan wakil wali kota solo, gibran rakabuming raka-teguh prakosa, le… ', '#kampanyepilkadavirtual\\nkampanye virtual antara lain sudah dilakukan oleh pasangan calon wali kota dan calon wakil… ', '#kampanyepilkadavirtual\\nketua tim pemenangan gibran-teguh, putut gunawan, mengatakan, pada tahapan kampanye ini tim… ', '#kampanyepilkadavirtual\\nkampanye virtual jg dilakukan oleh paslon gibran rakabuming raka-teguh prakosa di pilkada s… ', 'gibran-teguh vs bajo', 'pilkada solo: lawan gibran-teguh, dana kampanye pasangan bajo rp  #darisuara', 'gibran-teguh laporkan dana awal kampanye pilkada solo rp juta, bajo nol rupiah  ', 'gibran-teguh lakukan kampanye virtual, pakar komunikasi politik nilai kurang efektif - pikiran rakyat tasikmalaya -… ', ' lakukan kampanye virtual, pakar komunikasi politik nilai kurang efektif - pikiran rakyat ta… ', '@princes_spartan kampanye sehat kampanye cerdas, good luck buat gibran dan teguh semoga sukses', 'kampanye onlie dilakukan pasangan gibran-teguh prakosa untuk mencegah kerumunan. #kumparannews ', '@princes_spartan saluut mas gibran dan mas teguh udah bikin contoh baik cara berkampanye dimasa pandemi', '@princes_spartan mantap banget paslon walikota solo gibran &amp; teguh nih blusukan pun bisa via virtual ya, kampanye n… ', '@princes_spartan wah keren banget nih monitor nya ini bukti bahwa paslon walikota solo gibran &amp; teguh itu kreatif b… ', '@princes_spartan @ivan caranya bener bener keren menurut gua salut banget ama paslon gibran dan teguh', '@princes_spartan emang inovasi buat kampanye dimasa pandemi ini perlu dilakukan kaya ide kreatif dari paslon gibran dan teguh', '@princes_spartan keren nih monitor virtual paslon walikota solo gibran dan teguh semoga terpilih ya', '@princes_spartan @yummy_ salut banget dengan cara kampanyenya paslon gibran dan teguh ini guys', '@princes_spartan tetep bisa kampanye dimasa pandemi?? bisa banget dengan monitor virtual bisa banget buat blusukan… ', '@princes_spartan @yummy_ bagus bet ide kampanyenya paslon gibran dan teguh ini guys, patut dicontoh', 'pengambilan nomer urut paslon pilkada solo #idntimesjateng ', '. #beritasonora - pengundian nomor urut peserta pilkada , gibran-teguh dapat nomor urut … ', 'rt @kompastv: pengundian nomor urut peserta pilkada , gibran-teguh dapat nomor urut   ', 'pengundian nomor urut peserta pilkada , gibran-teguh dapat nomor urut   ', 'gibran-teguh , bagyo-supardjo , sama-sama yakin menang pilkada solo ', 'rt @pdi_perjuangan: resmi ditetapkan kpu kota surakarta dengan nomor urut , gibran-teguh yakin bakal meraih kemenangan\\n\\n', 'pilkada solo: gibran-teguh dapat nomor , bajo  ', 'resmi ditetapkan kpu kota surakarta dengan nomor urut , gibran-teguh yakin bakal meraih kemenangan… ', 'calon walikota solo tuh emang gibran teguh doang? aku ga pernah liat baliho atau spanduk lawannya di sepanjang jala… ', 'kmi siap mengawal  mas gibran dan mas teguh prakosa dlm mimpin kota solo siap coblos nmor  ada pilihan kita ', 'pilkada solo, gibran-teguh dapat nomor urut   ', 'undian nomor urut gibran-teguh tampil putih hitam, apa maknanya? #gibranrakabuming #jokowidodo #sbagio… ', 'rt @detikcom: dua pasangan calon (paslon) pilkada solo mengikuti tahapan pengundian nomor urut. gibran rakabuming raka-teguh prakosa mendap…', 'dahsyat, gibran-teguh dapat nomor urut satu  ', 'dua pasangan calon (paslon) pilkada solo mengikuti tahapan pengundian nomor urut. gibran rakabuming raka-teguh prak… ', \"rt @fatimahswty: \\U0001f932selamat pagi assalamu'alaikum wr wb semoga kita selalu patuhi protokol kesehatan agar terhindar dari covid. tagar ha…\", 'gibran – teguh nomor , bajo  ', 'sah, gibran-teguh dapat nomor urut  #gibranrakabuming #teguhprakosa #wakilwalikota #mencucitangan #kotasurakarta… ', 'berbudaya kreatif moderen tangguh\\ngibran-teguh pasti menang\\nsolo bermanfaat\\n\\n\"all out losss ra rewel\"… ', 'rt @indozonemedia: gibran rakabuming raka yang maju sebagai calon wali kota solo berpasangan dengan teguh prakosa. ternyata ia mempunyai ha…', 'gibran-teguh komitmen taati protokol kesehatan\\n#covidrangerantara\\n#rangerantara\\n', 'gibran rakabuming raka yang maju sebagai calon wali kota solo berpasangan dengan teguh prakosa. ternyata ia mempuny… ', 'rt @mycaffe: anda tuh anak muda milenial..cari cara yg jitu buat meraup suara dg cara daring dan virtual..\\n#partaitaatprokespilkada \\ntari…', 'rt @_umamlik: setuju mas.bilngn ke semua pendukungnya juga..daring manfaatkan teknologi.anda itu calon milenial soalnya..inget prokes dan k…', 'gibran-teguh , bagyo-supardjo , sama-sama pede menang pilkada solo ', 'rt @mycaffe: gw kira tuh gk ad lawanny ternyta ad juga tp lewat jalur independen toh..\\nseru juga nih lau kayak gini..jd lbh asyik dan hidu…', 'pilkada solo: gibran-teguh dapat nomor , bajo  ', 'anda tuh anak muda milenial..cari cara yg jitu buat meraup suara dg cara daring dan virtual..… ', 'pkb resmi dukung gibran-teguh di pilwakot solo ,lihat berita di tautan ', 'setuju mas.bilngn ke semua pendukungnya juga..daring manfaatkan teknologi.anda itu calon milenial soalnya..inget pr… ', 'gw kira tuh gk ad lawanny ternyta ad juga tp lewat jalur independen toh..\\nseru juga nih lau kayak gini..jd lbh asyi… ', 'selamat berjuang\\ngibran - teguh\\nsukses selalu. @ salemba raya ', '\"saya bersama pak teguh berkomitmen untuk selalu menaati protokol kesehatan, tetapi yang paling penting nomor satu… ', 'pemilune slamet rakyate iso ngeliwet, gibran-teguh bersilahturahmi ke warga keprabon kota surakarta (/)… ', 'gibran-teguh siapkan blusukan online di tengah pandemi covid- #gibranrakabumingraka #gibranrakabuming… ', 'rt @kompascom: komisi pemilihan umum (kpu) solo menggelar rapat pleno terbuka pengundian nomor urut pasangan calon wali kota dan wakil wali…', 'pilwalkot solo, gibran-teguh nomor urut  dan bajo  #ukasindonews #bangkitdaripandemi #gibran ', 'komisi pemilihan umum (kpu) solo menggelar rapat pleno terbuka pengundian nomor urut pasangan calon wali kota dan w… ', '@_awasipilkada \\ndua pasangan calon walikota di the sunan hotel solo.\\npasangan\\xa0gibran-teguh mendapat nomor urut .… ', 'rt @jawapos: gibran-teguh nomor  dan bajo  di pilkada surakarta  ', 'rt @terasid: gibran-teguh dapat nomor urut , sedangkan penantangnya pasangan bajo nomor . nomor mana yang dicoblos masyarakat solo?\\n\\narti…', 'gibran-teguh nomor  dan bajo  di pilkada surakarta  ', 'gibran-teguh dapat nomor urut , sedangkan penantangnya pasangan bajo nomor . nomor mana yang dicoblos masyarakat… ', 'gibran menilai nomor satu sama nomor dua sama baiknya ', 'gibran-teguh nomor  dan bajo  di pilkada surakarta - antara news bengkulu ', 'pilkada surakarta, gibran-teguh nomor  dan bajo nomor  - antara jateng ', 'pilwalkot solo, gibran-teguh nomor urut  dan bajo  ', 'naik mobil bertiga, gibran-teguh dan sukasno hadiri pleno kpu di the sunan\\xa0hotel ', 'gibran-teguh siapkan blusukan dan konser online ', 'sah, gibran-teguh nomor , lawannya bajo nomor  ', 'pasangan calon walikota dan wakil walikota surakarta periode - gibran-teguh mendapatkan nomor urut \\npasti… ', 'pilkada solo, gibran-teguh dapat nomor urut , bajo nomor \\n\\n', 'nomor urut di pilwalkot solo: gibran-teguh , bagyo-supardjo  #gibranrakabuming #disinfektan #komisipemilihanumum… ', 'pengundian nomer urut, gibran-teguh nomer urut satu, bajo nomer urut dua ', 'pilwalkot solo, gibran-teguh dapat nomor urut\\xa0 ', 'pilwalkot solo, gibran-teguh dapat nomor urut\\xa0 ', 'gibran – teguh nomor , bajo\\xa0 ', 'gibran teguh nomor urut , bajo nomor  ', 'hadiri pengambilan nomor urut paslon, begini penampilan gibran-teguh dan bajo ', 'nomer urut calon walikota &amp; wakil walikota surakarta\\n\\n. gibran rakabuming raka - teguh prakosa ( pdi perjuangan )… ', 'rt @kompastv: kpu kota solo, jawa tengah, menetapkan dua pasangan calon wali kota pilkada . dua pasangan itu yakni putra jokowi, gibran…', 'paslon gibran-teguh dapat nomor urut  di pilkada solo, tim sorak gembira ', 'kpu kota solo, jawa tengah, menetapkan dua pasangan calon wali kota pilkada . dua pasangan itu yakni putra joko… ', 'gibran-teguh dapat nomor urut  di pilkada solo #taucepattanpabatas #beritaterkini  . ', 'sah, gibran-teguh dapat nomor urut , bajo dapat nomor urut  pada pilkada solo  ', 'gibran-teguh nomor urut , bajo  pada pilwalkot solo ', 'rt @merdekadotcom: pilkada solo, gibran-teguh dapat nomor urut , bajo nomor : kepada wartawan, gibran mengaku tidak mempermasalahkan mend…', 'rapat pleno penetapan nomor urut dan daftar pasangan calon peserta pemilihan wali kota dan wakil wali kota surakart… ', 'rt @kumparan: paslon gibran-teguh secara sah mendapat nomor urut  dalam pilkada solo . sedangkan paslon independen bajo mendapat nomor…', 'pilkada solo : gibran-teguh nomor urut , bajo  ', 'paslon gibran-teguh secara sah mendapat nomor urut  dalam pilkada solo . sedangkan paslon independen bajo mend… ', 'sah, gibran-teguh dapat nomor urut , bajo nomor\\xa0 ', 'pilkada solo, gibran-teguh dapat nomor urut , bajo nomor : kepada wartawan, gibran mengaku tidak mempermasalahkan… ', 'saat hadir dalam rapat pleno kpu pengundian nomor urut, gibran dan teguh memakai kemeja putih. berlawanan dengan wa… ', 'teguh, yang mendampingi gibran, langsung tepuk tangan saat mengetahui gibran mendapat nomor urut . tim lain yang h… ', 'pasangan calon pilkada kota solo , gibran rakabuming raka-teguh prakosa mendapat nomor urut , sementara lawann… ', '\"pengundian nomor urut paslon telah kita lakukan, paslon gibran-teguh mendapatkan nomor satu dan bajo nomor urut du… ', 'rt @kompastv: kpu tetapkan  paslon pilwakot solo, gibran-teguh dan bagyo-supardjo ', 'pasangan gibran rakabuming raka-teguh prakosa (gibran-teguh) dan bagyo wahyono-fx supardjo (bajo) menghadiri pengun… ', 'solo bersatu, gibran - teguh pilihanku!!\\n.\\n#solohebat #sobatsolohebat #solomelompatlebihjauh… ', 'kpu tetapkan  paslon pilwakot solo, gibran-teguh dan bagyo-supardjo ', 'rt @marvel: mari kita doakan mak nek penggemar serial pembunuhan\\nini . . \\n\\npilkada solo, megawati turun tangan jadi jurkam gibran-teguh…', 'tarik pemilih milenial, gibran-teguh akan gelar konser musik virtual: tim pemenangan bakal pasangan calon wali kota… ', 'sah jadi paslon, gibran-teguh &amp; bagyo-supardjo tak soalkan nomor\\xa0urut ', 'rt @cobeh: lbp protes...\\nkarena saat\\nlbp sedang \"bla bla bla\"\\ntiba-\\nnajwa shihab\\nmenayangkan\\npelanggaran protokol covid-\\noleh peserta…', 'rt @kumparan: paslon gibran-teguh telah menyiapkan blusukan online untuk menyapa masyarakat solo. terkait bagaimana sistemnya, gibran masih…', '@ariabima @chilli_pari ranting timuran bersama ibu-ibu penggerak timuran\\nsiap menangkan gibran-teguh\\n\\npemilune sl… ', 'paslon gibran-teguh telah menyiapkan blusukan online untuk menyapa masyarakat solo. terkait bagaimana sistemnya, gi… ', '', \"\\U0001f932selamat pagi assalamu'alaikum wr wb semoga kita selalu patuhi protokol kesehatan agar terhindar dari covid. tag… \", 'pasangan gibran-teguh dan bagyo-supardjo secara resmi akan bertarung memperebutkan kursi wali kota solo. kedua pasa… ', 'dukungan semakin gemuk, kini giliran pkpi merapat ke gibran-teguh di pilkada solo  ', 'gencarkan protokol kesehatan jelang pilkada serentak , gibran-teguh\\xa0terima hand sanitizer ', 'rt @yohandewa: anak yg baik sekali mencontoh perilaku bapaknya...\\nnjrit blusukan online!!\\nsekalian gorong online!! \\n\\n', 'gibran-teguh dan bajo incar nomor urut  di pilkada solo ', '@fermendkis pak purnomo. bentar lagi bisa jadi pak teguh kalau pak gibran jadi walkotnya.', 'rt @pdi_perjuangan: semakin sejahtera dibawah kepemimpinan kader pdi perjuangan, petugas penarik sampah banjarsari siap memenangkan gibran-…', 'bagyo wahyono dan f.x. supardjo dipastikan menjadi lawan gibran-teguh dalam pilwalkot solo . bagyo-supardjo maj… ', 'udah kayak kepanitiaan ya ada rekening baru #merahputihcom #rekening #kampanye ', 'dukung pilkada solo aman, secret clean suport hand sanitizer melalui paslon gibran-teguh ', 'rt @detikcom: kpu solo secara resmi menetapkan gibran rakabuming raka-teguh prakosa dan bagyo wahyono-fx supardjo (bajo) sebagai pasangan c…', 'anak yg baik sekali mencontoh perilaku bapaknya...\\nnjrit blusukan online!!\\nsekalian gorong online!! \\n\\n', 'mari kita doakan mak nek penggemar serial pembunuhan\\nini . . \\n\\npilkada solo, megawati turun tangan jadi jurkam gibr… ', 'kpu solo secara resmi menetapkan gibran rakabuming raka-teguh prakosa dan bagyo wahyono-fx supardjo (bajo) sebagai… ', 'dukung gibran-teguh, pkpi: pemimpin solo paling wow! ', 'rt @kompastv: sah! gibran rakabuming-teguh dan bajo jadi calon wali kota solo  ', 'gibran-teguh siapkan blusukan online ', 'kpu tetapkan gibran-teguh dan bagyo-supardjo paslon di pilwalkot solo  #gibranrakabuming #komisipemilihanumum… ', 'sah jadi paslon, gibran-teguh &amp; bagyo-supardjo tak soalkan nomor urut ', 'dukungan semakin gemuk, kini giliran pkpi merapat ke gibran-teguh di pilkada solo  ', 'gibran - teguh dan bajo resmi sebagai paslon wali kota solo di pilkada \\xa0  ', 'semua kembali pada rakyat / masyarakat.\\napakah masih mau dibodohi ?\\nfakta dan realitanya, setelah mereka menduduki… ', 'ketua tim pemenangan gibran-teguh berharap agar mendapat nomor urut . ', 'rapat pleno tertutup kpu surakarta menetapkan pasangan\\xa0gibran-teguh dan bagyo-supardjo maju dalam pilkada\\xa0 wali kot… ', 'rt @kompasiana: demi memperjuangkan gibran-teguh, megawati, puan dan hasto siap jadi juru kampanye ', 'demi memperjuangkan gibran-teguh, megawati, puan dan hasto siap jadi juru kampanye\\n', 'semakin sejahtera dibawah kepemimpinan kader pdi perjuangan, petugas penarik sampah banjarsari siap memenangkan gib… ', 'demi memperjuangkan gibran-teguh, megawati, puan dan hasto siap jadi juru kampanye ', 'megawati dan puan bakal jadi jurkam gibran-teguh  ', 'megawati dan puan bakal jadi jurkam gibran-teguh  ', 'banteng solotengah\\nberhimpun &amp; bergerak \\nsiap memenangkan\\ngibran-teguh\\n\\npemilune slamet wargane iso ngliwet ', 'banteng solotengah\\nberhimpun &amp; bergerak \\nsiap memenangkan\\ngibran-teguh\\n\\npemilune slamet wargane iso ngliwet', 'konsolidasi ranting anting &amp; satgas timuran\\nsolid bergerak gibran-teguh\\n\\npemilune slamet...wargane iso ngliwet ', 'kpu tetapkan gibran-teguh dan bajo sebagai peserta pilkada solo: nurul menjelaskan, rapat pleno penetapan calon tid… ', 'bajo sah jadi lawan gibran-teguh dalam pilwakot solo  ', 'sah! gibran-teguh bakal bertemu bajo di pilkada surakarta  ', 'rt @detikcom: megawati soekarnoputri dan puan maharani akan turun gunung menjadi juru kampanye gibran rakabuming-teguh prakosa di pilkada s…', 'kpu tetapkan gibran-teguh dan bajo sebagai peserta pilkada solo: nurul menjelaskan, rapat pleno penetapan calon tid… ', 'rt @republikaonline: gibran-teguh dan bagyo-suparjo ditetapkan kpu untuk bertarung dalam pilkada solo ', 'gibran-teguh dan bagyo-suparjo ditetapkan kpu untuk bertarung dalam pilkada solo ', 'resmi bersaing. pengundian nomor urut paslon akan dilakukan besok melalui pleno terbuka.\\n\\n#validnews #nasional\\n\\n', 'kpu resmikan paslon pilkada solo: teguh-gibran vs bajo #pilkadasolo #gibranrakabuming ', 'sah! gibran rakabuming-teguh dan bajo jadi calon wali kota solo  ', 'megawati dan puan bakal jadi jurkam gibran-teguh ', 'gibran-teguh dan bajo resmi jadi paslon pilkada solo ', 'sah,  gibran-teguh dan bajo jadi peserta pilkada solo ', 'kpu tetapkan gibran-teguh dan bajo calon pilkada surakarta ', 'rt @ariefnoviandi_: warga solo, yang gak suka gibran, yang nuduh dinasti politik, sila pilih bajo. jangan golput. \\n\\n', 'dua paslon yakni gibran rakabuming raka-teguh prakosa dan bagyo wahyono-fx supardjo (bajo) akan bertarung dalam pil… ', 'batal lawan kotak kosong, gibran-teguh bakal ditantang bagyo-suparjo di pilkada solo  #pilkada #pilwakotsolo', 'kpu solo sahkan pertarungan gibran-teguh lawan bajo di pilkada ', 'sah! gibran-teguh vs bajo bersaing di pilkada solo   ', 'kpu tetapkan gibran-teguh dan bajo paslon pilkada solo ', 'ketua umum pdip megawati soekarnoputri dan ketua dpp puan maharani serta sekjen hasto kristianto bakal \"turun gunun… ', 'kpu tetapkan gibran-teguh dan bagyo-supardjo sebagai paslon di pilwalkot solo\\xa0 ', 'warga solo, yang gak suka gibran, yang nuduh dinasti politik, sila pilih bajo. jangan golput. \\n\\n', 'patuihi protokol kesehatan saat kampanye di solo, gibran-teguh bakal gelar konser musik virtual ', 'pengumuman penetapan calon pilkada solo online, gibran – teguh &amp; bagyo – supardjo tak datang ke kpu ', 'begini kata tim pemenangan gibran dan teguh soal penundaan pilkada   ', '\"asyik pilkadanya jadi ya...\" teriak rakyat yang lagi pusing ganti masker  scuba nya, dan di-aminin sama tenaga kes… ', 'sah! tukang jahit &amp; ketua rw tanding lawan putra presiden jokowi gibran &amp; teguh di pilkada solo  ', 'bajunya keren mas @markobar\\n\\nkenalkan seragam kampanye gibran-teguh di pilkada solo, ini maknanya ', 'ketua tim pemenangan bakal pasangan calon gibran - teguh, putut gunawan mengatakan kehadiran megawati diharapkan da… ', 'menangkan gibran-teguh, puan maharani dan megawati turun gunung jadi jurkam di pilkada solo\\n#soloraya #pilkadasolo… ', 'rt @kumparan: kpu menyatakan paslon gibran-teguh dan paslon bagyo-supardjo sebagai calon wali kota solo. #publisherstory ', 'kpu tetapkan gibran-teguh dan bagyo-supardjo paslon di pilwalkot solo  ', 'kpu menyatakan paslon gibran-teguh dan paslon bagyo-supardjo sebagai calon wali kota solo. #publisherstory ', '\"ada dua pasangan yang kami tetapkan, yakni gibran-teguh dan bagyo-supardjo,\" ujar ketua kpu solo, nurul sutarti. ', 'ranting timuran bersama ibu-ibu penggerak timuran siap menangkan gibran-teguh\\n\\npemilune slamet wargane iso ngliwet… ', 'ranting timuran bersama ibu-ibu se timuran siap bergerak &amp; memenangkan gibran-teguh\\n\\n#pdiperjuangan… ', 'rt @sindonews: megawati menjadi jurkam gibran-teguh di pilwalkot solo ', 'rt @gli_hagiasophia: paling jurus nangis yang akan diandalkan,seperti halnya waktu jadi presiden hasil dari gusdur lengser,kalau nggak nang…', 'paling jurus nangis yang akan diandalkan,seperti halnya waktu jadi presiden hasil dari gusdur lengser,kalau nggak n… ', 'nomor urut  di pilkada solo  jadi rebutan bajo independen dan pasangan calon pdip gibran-teguh ', 'ketum pdip megawati soekarno putri dan ketua dpr puan maharani disebut bakal menjadi juru kampanye gibran rakabumin… ', 'kampanye gibran-teguh, pertimbangkan gelar konser ', 'rt @idtodayco: pilkada solo, megawati turun tangan jadi jurkam gibran-teguh ', 'pilkada solo, megawati turun tangan jadi jurkam gibran-teguh - follow @demokrasicoid  ', 'puan hingga megawati bakal jadi juru kampanye gibran-teguh - \\n\\n#indonesia', 'tim pemenangan pasangan gibran rakabuming raka-teguh prakosa yang diusung pdip serta didukung delapan parpol tidak… ', 'pilkada solo, megawati turun tangan jadi jurkam gibran-teguh ', 'ketua dpr dan mantan presiden bakal jadi jurkam gibran-teguh di pilkada solo ', '@teguh_gibran ashiaap', 'mantan presiden masuk tim juru kampanye gibran-teguh di pilkada solo ', 'megawati soekarnoputri dan puan maharani akan turun gunung menjadi juru kampanye gibran rakabuming-teguh prakosa di… ', 'namun, belum dipastikan apakah megawati akan datang langsung ke solo atau melalui daring. ', 'megawati menjadi jurkam gibran-teguh di pilwalkot solo ', 'kampanye gibran-teguh, pertimbangkan gelar konser ', 'kpu solo: penetapan gibran-teguh dan bagyo-suparjo tertutup ', 'dua pasangan bacalon wali kota solo usung konsep berbeda soal tata ruang. ', '#darimks ketua dpr ri hingga mantan presiden ri jadi tim jurkam gibran-teguh:  ', 'pilkada ditunda, tim pemenangan gibran-teguh: kami pasti diuntungkan\\n ', 'pilkada ditunda, tim pemenangan gibran-teguh: kami pasti diuntungkan\\n ', 'pilkada ditunda, tim pemenangan gibran-teguh: kami pasti diuntungkan\\n ', 'megawati dan para elit partai akan turun gunung kampanyekan gibran - teguh #temponasional ', 'timses paslon gibran-teguh akan menghadirkan megawati hingga puan maharani untuk menjadi juru kampanye. ', '@pdi_perjuangan ayo, pilih gibran - teguh ', 'rt @detikcom: pdip menyiapkan juru kampanye untuk memenangkan pilkada . di pilkada solo, ketua umum pdip megawati soekarnoputri akan me…', 'rt @tempodotco: para tokoh partai politik bakal berdatangan ke solo selama masa kampanye. megawati soekarnoputri juga akan dihadirkan untuk…', 'para tokoh partai politik bakal berdatangan ke solo selama masa kampanye. megawati soekarnoputri juga akan dihadirk… ', 'ketua umum pdip megawati soekarnoputri akan menjadi salah satu juru kampanye pasangan gibran rakabuming raka-teguh… ', 'pdip menyiapkan juru kampanye untuk memenangkan pilkada . di pilkada solo, ketua umum pdip megawati soekarnoput… ', 'rt @merdekadotcom: tim pemenangan gibran-teguh minta kpu gelar rapat pleno terbuka penetapan calon: pernyataan tersebut dikemukakan lo (lia…', 'tim pemenangan gibran-teguh minta kpu gelar rapat pleno terbuka penetapan calon: pernyataan tersebut dikemukakan lo… ', '#tim gibran-teguh memprotes kpu solo - jawa pos  #demokrasi #indonesia', 'gaet pemilih milenial, gibran rakabuming-teguh prakosa bakal gelar konser virtual ', 'konser musik virtual menjadi bagian dari menggalang dukungan warga terhadap pasangan gibran dan teguh. setidaknya i… ', 'megawati dan puan bakal jadi jurkam gibran-teguh: kehadiran para tokoh partai berlambang kepala banteng moncong put… ', 'rt @kumparan: siapa saja yang bakal menjadi juru kampanye gibran dan teguh di pilwalkot solo? ', 'siapa saja yang bakal menjadi juru kampanye gibran dan teguh di pilwalkot solo? ', '@aci_loebis @telkomsel @detikcom keren banget nih acaranya, kemaren gua nonton pengisi acaranya itu keren , semoga… ', '@ekihifa @telkomsel @detikcom keren banget nih acaranya, kemaren gua nonton pengisi acaranya itu keren , semoga… ', '@lilyhani_ilfani @telkomsel @detikcom keren banget nih acaranya, kemaren gua nonton pengisi acaranya itu keren , s… ', '@thia_phiinoo @telkomsel @detikcom keren banget nih acaranya, kemaren gua nonton pengisi acaranya itu keren , semo… ', '@yunita_aryani @detikcom @telkomsel keren banget nih acaranya, kemaren gua nonton pengisi acaranya itu keren , s… ', '@renayku mantul nih film', '@kurniaar @detikcom @telkomsel keren banget nih acaranya, kemaren gua nonton pengisi acaranya itu keren , semoga… ', '@kurniaar @detikcom @telkomsel keren banget nih acaranya, kemaren gua nonton pengisi acaranya itu keren , semoga… ', '@devyfristivany @detikcom @telkomsel keren banget nih acaranya, kemaren gua nonton pengisi acaranya itu keren , se… ', '@henyper aku liat dulu ya kak ig nya', 'tim gibran-teguh memprotes kpu solo ', 'cara kampanye di tengah pandemi covid-, gibran-teguh bakal blusukan online  ', 'band apa yang cocok? \\n\\npatuhi protokol kesehatan saat kampanye di solo, gibran-teguh bakal gelar konser musik virtu… ', 'gelar konser musik virtual cara gibran-teguh lebih dekat dengan pemilih\\xa0milenial ', '@puanokta @telkomsel @detikcom pasti seru banget acaranya apalagi ada boy william', 'rt @pdi_perjuangan: angkat jargon pemilune slamet wargane iso ngliwet, ketua dpc pdi perjuangan surakarta ajak penarik sampah laweyan sukse…', '@pdi_perjuangan rapatkan barisan utk kemenangan gibran-teguh demi keberlanjutan program kebijakan yang pro wong cil… ', 'angkat jargon pemilune slamet wargane iso ngliwet, ketua dpc pdi perjuangan surakarta ajak penarik sampah laweyan s… ', 'patuihi protokol kesehatan saat kampanye di solo, gibran-teguh bakal gelar konser musik virtual ', 'rt @soloposdotcom: rebut hati milenial solo, gibran-teguh siapkan konser musik virtual  ', 'rt @soloposdotcom: target raih % suara, gibran-teguh andalkan jurkam nasional hingga influencer  ', 'rebut hati milenial solo, gibran-teguh siapkan konser musik virtual  ', 'silaturahmi ke tegalharjo, gibran-teguh janji lanjutkan program wmp rudy-poernomo hingga percepatan pemulihan ekon… ', 'target raih % suara, gibran-teguh andalkan jurkam nasional hingga influencer  ', 'kpu putuskan tak undang gibran-teguh dan bajo saat penetapan calon pilkada solo: “itu nanti pleno internal, kemudia… ', 'mantap jiwa! puan hingga megawati terjun jadi jurkam gibran-teguh di pilkada   ', 'perindo dukung pasangan gibran - teguh jadi wali kota dan wakil wali kota solo\\n\\n', 'saat menghadiri “deklarasi adaptasi kebiasaan baru untuk mendukung percepatan penanganan covid ” gibran - teguh j… ', 'saat menghadiri “deklarasi adaptasi kebiasaan baru untuk mendukung percepatan penanganan covid ” gibran - teguh j… ', 'saat menghadiri “deklarasi adaptasi kebiasaan baru untuk mendukung percepatan penanganan covid ” gibran - teguh j… ', 'saat menghadiri “deklarasi adaptasi kebiasaan baru untuk mendukung percepatan penanganan covid ” gibran - teguh j… ', '[hoax] presiden jadi tim sukses gibran-teguh  via @detaxid', 'visi-misi pilkada  gibran - teguh: kota solo sebagai kota budaya modern &amp; lanjutkan program rudy ', 'partai perindo resmi dukung pasangan gibran-teguh di pilwakot solo \\n\\n']\n"
          ],
          "name": "stdout"
        }
      ]
    },
    {
      "cell_type": "code",
      "metadata": {
        "id": "YaOpLi32kESj",
        "outputId": "8e935f6f-7b16-45a4-d8e1-de6a59250fb3",
        "colab": {
          "base_uri": "https://localhost:8080/",
          "height": 54
        }
      },
      "source": [
        "#Menghapus @akun_name\n",
        "tweet_data_5=[]\n",
        "for teks in tweet_data_4:\n",
        "  teks_process = [re.sub('@[^\\s]+','',teks)]\n",
        "  tweet_data_5=tweet_data_5+teks_process\n",
        "print(tweet_data_5)"
      ],
      "execution_count": null,
      "outputs": [
        {
          "output_type": "stream",
          "text": [
            "['populer nusantara antara lain konlik antara kapolres blitar dengan kasat sabhara. sementara di solo, sandiaga ipers… ', 'rt  sandiaga uno menjadi juru kampanye pasangan calon wali kota dan wakil wali kota solo, gibran rakabuming raka-teguh prakos…', 'rt  sandiaga uno jadi juru kampanye gibran-teguh di pilkada solo, disebut ada lobi jokowi\\n', \"~ninggal tatu~\\n\\nkowe tak sayang-sayang saiki malah ngilang' \\ntresnamu karo aku, kuwi mung kiasan\\nkowe tak gadhang… \", 'rt  sandi uno jadi juru kampanye gibran-teguh di pilkada solo, disebut ada lobi jokowi.\\n\\nperjuangan bapak perbaiki martabak anak…', 'tidur dulu ah sakit badan nihh', 'nyeri awak', 'ngantukkkk', 'sandi uno jadi juru kampanye gibran-teguh di pilkada solo, disebut ada lobi jokowi.\\n\\nperjuangan bapak perbaiki mart… ', 'rt  selain sandiaga uno, ada nama besar lain yang juga akan menjadi jurkam paslon gibran-teguh di solo | #pilkada  \\n ', 'respons kabar sandiaga bakal jadi jurkam, gibran rancang kampanye daring: wakil ketua dewan pembina partai gerindra… ', 'selain sandiaga uno, ada nama besar lain yang juga akan menjadi jurkam paslon gibran-teguh di solo | #pilkada  \\n ', '   udah baca ini belom blog? \\n', 'rt  sandiaga uno jadi juru kampanye gibran-teguh di pilkada solo, disebut ada lobi jokowi. borong dari medan sampai solo. \\nhtt…', 'hoammmmmm', 'gibran – teguh: pilkada sesuai jadwal, demokratis dan aman dari covid-. ', 'solo ber – satu, gibran – teguh pilihanku. ', 'gibran – teguh mendapat nomor urut satu untuk pilkada solo . part  ', 'gibran – teguh mendapat nomor urut satu untuk pilkada solo . part  ', 'gibran: saya dan pak teguh tetap berkomitmen menjaga protokol kesehatan selama kampanye. ', 'gibran – teguh: untuk mendukung pilkada aman, secret clean (pt victoria care) memberikan bantuan hand sanitizer. ', 'capek euy', 'sandiaga uno digadang-gadang menjadi jurkam paslon gibran-teguh dalam pilkada solo . sandiaga menjadi jurkam ta… ', 'mantan wakil gubernur dki jakarta sandiaga uno bakal menjadi juru kampanye pasangan calon gibran rakabuming raka-te… ', '    gk butuh jurkam dari pusat spt  \\nwarga solo cukup berdi… ', 'rt  wakil ketua dpp gerindra  akan menjadi juru kampanye untuk pasangan calon wali kota dan wakil wali kota solo, gi…', 'rt  sandiaga uno jadi juru kampanye gibran-teguh di pilkada solo, disebut ada lobi jokowi\\n', 'wakil ketua dpp gerindra  akan menjadi juru kampanye untuk pasangan calon wali kota dan wakil wali kota so… ', 'asyiikkk', 'laparrr', '\\U0001f970\\U0001f970\\U0001f970\\n', 'mantap! sandiaga uno jadi jurkam gibran-teguh di pilkada solo  ', 'lebih lanjut ardianto mengatakan, saat ini pihaknya sedang mengkaji persiapan deklarasi tim pemenangan untuk paslon gibran-teguh.', 'mantan wakil gubernur dki jakarta ini dimungkinkan akan mengkampanyekan pasangan gibran-teguh juga secara virtual.', 'termasuk model kampanye yang digunakan sandiaga untuk paslon gibran-teguh. menurutnya, antara gibran dengan sandi, sangat bisa disatukan.', 'menurutnya, faktor kedekatan antara sandiaga, prabowo subianto (ketua dpp partai gerindra) dengan presiden jokowi s… ', 'kabar sandiaga akan menjadi juru kampanye untuk pasangan gibran teguh, dibenarkan oleh ketua dpc partai gerindra solo ardianto kuswinarno.', 'menurutnya, faktor kedekatan antara sandiaga, prabowo subianto (ketua dpp partai gerindra) dengan presiden jokowi s… ', 'wakil ketua dewan pembina partai gerindra sandiaga salahudin uno akan menjadi juru kampanye (jurkam) untuk pasangan… ', 'menurutnya, faktor kedekatan antara sandiaga, prabowo subianto (ketua dpp partai gerindra) dengan presiden jokowi s… ', 'wakil ketua dewan pembina partai gerindra sandiaga salahudin uno akan menjadi juru kampanye (jurkam) untuk pasangan… ', 'wakil ketua dewan pembina partai gerindra sandiaga salahudin uno akan menjadi juru kampanye (jurkam) untuk pasangan… ', 'menurutnya, faktor kedekatan antara sandiaga, prabowo subianto (ketua dpp partai gerindra) dengan presiden jokowi s… ', 'menurutnya, faktor kedekatan antara sandiaga, prabowo subianto (ketua dpp partai gerindra) dengan presiden jokowi s… ', 'wakil ketua dewan pembina partai gerindra sandiaga salahudin uno akan menjadi juru kampanye (jurkam) untuk pasangan… ', 'wakil ketua dewan pembina partai gerindra sandiaga salahudin uno akan menjadi juru kampanye (jurkam) untuk pasangan… ', 'menurutnya, faktor kedekatan antara sandiaga, prabowo subianto (ketua dpp partai gerindra) dengan presiden jokowi s… ', 'wakil ketua dewan pembina partai gerindra sandiaga salahudin uno akan menjadi juru kampanye (jurkam) untuk pasangan… ', 'orang amerika mungkin jadi mikir, jangan nanti kalau biden menang dan trump kalah \\nkemudian anaknya biden nyalon… ', 'rt  selamat bang  , semoga solo kedepan bisa bebas dari kaum intoleransi..!!\\n\\n ', '         ', 'selamat bang  , semoga solo kedepan bisa bebas dari kaum intoleransi..!!\\n\\n ', 'politisi partai gerindra sandiaga solahuddin uno akan menjadi juru kampanye (jurkam) pasangan calon wali kota dan w… ', 'sandiaga uno menjadi juru kampanye pasangan calon wali kota dan wakil wali kota solo, gibran rakabuming raka-teguh… ', 'pilwalkot solo, sandiaga uno siap diterjunkan jadi jurkam gibran-teguh  ', '   oh jadi ini ya 🤣🤣\\n ', 'sandiaga akan jadi jurkam gibran di solo dan bobby di medan: menurutnya, faktor kedekatan antara sandiaga, prabowo… ', '\\n#sandiagauno #prabowo #gerindra #pdiperjuangan', 'sandiaga uno jadi juru kampanye gibran-teguh di pilkada solo, disebut ada lobi jokowi\\n', 'politisi partai gerindra sandiaga solahuddin uno dipersiapkan menjadi jukam pasangan calon wali kota dan wakil wali… ', 'rt  \"apbd kota solo tiap hari kita bahas dengan pak teguh, ini adalah masa-masa di mana kita harus bersabar dan banyak sekali an…', 'rt  \"saya berkomitmen untuk menaati protokol kesehatan. setiap hari saya dengungkan ke warga program prioritas saya dan pak tegu…', 'sandiaga uno jadi juru kampanye gibran-teguh di pilkada solo, disebut ada lobi jokowi. borong dari medan sampai sol… ', ' kalau gibran nggak bermanuver kira-kira ibu ketum bakal milih dia atau enggak ya??? sementara pdip sudah ng… ', 'mantap! sandiaga uno jadi jurkam gibran-teguh di pilkada solo  ', '\"lobi-lobinya politik tingkat tinggi. karena ketum kami (prabowo subianto) dengan pak jokowi sangat dekat sekali.… ', '   wkwkw jadi jasa terawang gini dah \\n\\ngibran-teguh yang menang kalo dia kalah kalem ada leg kedua wkwkkw', 'rt  politisi partai gerindra sandiaga solahuddin uno dipersiapkan menjadi jukam pasangan calon wali kota dan wakil wali kota sol…', 'sandiaga uno jadi juru kampanye gibran-teguh di pilkada solo, disebut ada lobi jokowi\\n', 'apa kabar papa online \\n\\n\\nsandiaga uno jadi jurkam gibran-teguh di pilkada solo \\nklik untuk baca:… ', 'politisi partai gerindra sandiaga solahuddin uno dipersiapkan menjadi jukam pasangan calon wali kota dan wakil wali… ', 'gotong royong melawan covid- bersama gibran – teguh. ', 'gibran genap  tahun, teguh doakan putra jokowi terpilih jadi wali kota dan bisa membangun solo ', 'rt  \"apbd kota solo tiap hari kita bahas dengan pak teguh, ini adalah masa-masa di mana kita harus bersabar dan banyak sekali angga…', 'rt  pengurus dpd psi solo dipimpin langsung bro antonius yoga melakukan fogging di permukiman warga.\\n\\npada kesempatan yang sama, me…', 'gibran-teguh melakukan blusukan ke masyarakat dalam rangka membantu masyarakat yang terkena dampak pandemi ', ' pertanyaan najwa tidak perlu kita ragukan lagi, namun apakah jawaban mas gibran n cara menjawab nya su… ', 'rt  \"saya berkomitmen untuk menaati protokol kesehatan. setiap hari saya dengungkan ke warga program prioritas saya dan pak teguh a…', 'paslon gibran-teguh kembali melakukan blusukan online ke beberapa kelurahan di solo. dalam kesempatan itu, gibran a… ', 'paslon gibran-teguh kembali melakukan blusukan online ke beberapa kelurahan di solo. dalam kesempatan itu, gibran a… ', 'rt  putra presiden joko widodo, gibran rakabuming raka, yang berpasangan dengan teguh prakosa di pilwalkot surakarta. / #nasiona…', 'putra presiden joko widodo, gibran rakabuming raka, yang berpasangan dengan teguh prakosa di pilwalkot surakarta. /… ', '\"apbd kota solo tiap hari kita bahas dengan pak teguh, ini adalah masa-masa di mana kita harus bersabar dan banyak… ', '\"apbd kota solo tiap hari kita bahas dengan pak teguh, ini adalah masa-masa di mana kita harus bersabar dan banyak… ', '\"saya berkomitmen untuk menaati protokol kesehatan. setiap hari saya dengungkan ke warga program prioritas saya dan… ', '\"saya berkomitmen untuk menaati protokol kesehatan. setiap hari saya dengungkan ke warga program prioritas saya dan… ', 'rt  solo bersatu, gibran - teguh pilihanku!!\\n.\\n#solohebat #sobatsolohebat #solomelompatlebihjauh #lompatananakmudauntuksolo #…', 'bajo blusukan langsung ke tokoh agama, gibran-teguh pakai virtualbox \\n\\n', 'rt  identitas yang satu ini akan menjadi tugas bersama masyarakat solo dan pasangan mas gibran &amp; mas teguh untuk membawa solo…', 'rt  identitas yang satu ini akan menjadi tugas bersama masyarakat solo dan pasangan mas gibran &amp; mas teguh prakasa untuk memb…', 'amunisi bertambah, pkpi dukung gibran – teguh di pilkada solo. ', 'rt  dana kampanye gibran-teguh &amp; bajo masing-masing dibatasi rp ,\\xa0m ', 'dana kampanye gibran-teguh &amp; bajo masing-masing dibatasi rp ,\\xa0m ', 'gibran-teguh for solo  #gibranforsolo ', 'bajo blusukan langsung ke tokoh agama, gibran-teguh pakai virtualbox \\n\\n', 'pasangan gibran-teguh dan bajo memiliki cara tersendiri untuk menggaet suara warga kota solo. simak gaya kampanye m… ', 'mas gibran mohon maaf, jadinya mas fans apa mas? kok semuanya mas wkwkwk\\n\\ngibran-teguh ! ', 'pengurus dpd psi solo dipimpin langsung bro antonius yoga melakukan fogging di permukiman warga.\\n\\npada kesempatan y… ', 'rt  pilkada solo , sandiaga uno bakal kampanyekan gibran-teguh ', 'pilkada solo , sandiaga uno bakal kampanyekan gibran-teguh ', 'rt  #kampanyepilkadavirtual\\nkampanye perdana gibran-teguh blusukan daring dengan virtual box\\n\\nkampanye gibran berupa blusuka…', ' rapatkan barisan, menangkan gibran-teguh', 'rt  seluruh ranting pdi perjuangan se-kota surakarta siap memenangkan gibran-teguh dengan menaati dan patuh protokol keseha…', 'ijin bal rapopo di tahan sik , sing penting ijin dodolanku tetep metu seko polri, bekingane gibran teguh og :| ', '#pilwakotsolo kampanye, gibran-teguh bagi tugas  ', '#pilwakotsolo kampanye, gibran-teguh bagi tugas  ', '#pilwakotsolo kampanye, gibran-teguh bagi tugas  ', 'rt  pilwakot surakarta menjadi pilkada teramai nomor pertama dengan . berita. selain membahas sosok gibran, media menyor…', 'sudahlah paslon bajo biasa gegaruk bidjie aja gegayaan luh ikutan #pilkada segala. \\n\\nkalo boleh usul mendingan… ', 'rt  dana awal kampanye: gibran-teguh rp juta, bajo rp #pilkada ', 'dana awal kampanye: gibran-teguh rp juta, bajo rp #pilkada ', 'komisi pemilihan umum (kpu) solo, jawa tengah telah menerima pendaftaran  akun media sosial (medsos) milik kedua… ', 'megawati turun gunung jadi jurkam gibran-teguh, pengamat: kalau kalah harga diri pdip-jokowi hancur ', 'pilkada solo: lawan gibran-teguh, dana kampanye pasangan bajo rp -  ', ' siap akhi, saya masih memegang teguh sepenggal kalimat dari khalil gibran wkwk', 'rt  warga solo antusias dengan adanya box virtual kampanye yang disediakan paslon gibran-teguh. warga pun dapat berkeluh kesah de…', 'warga solo antusias dengan adanya box virtual kampanye yang disediakan paslon gibran-teguh. warga pun dapat berkelu… ', ' ayo rapatkann barisan utk memenangkan gibran - teguh dgn menerapkan disiplin protok kesehatan.\\n\\n*sa… ', 'pilkada solo: lawan gibran-teguh, dana kampanye pasangan bajo rp #kelurahannusukan #panjipanji… ', 'rt  seperti diberitakan, kampanye virtual antara lain sdh dilakukan oleh paslon walikota dan calon wakil walikota solo nomor u…', 'rt  selamat berjuang gibran-teguh.\\nsemangat mewujudkan surakarta sebagai kota budaya yang modern, tangguh, gesit, kreatif, da…', 'rt  saya optimis gibran-teguh mampu menerapkan kampanye sehat dari bahaya penularan virus korona dan menang dalam pilkada ini…', 'seluruh ranting pdi perjuangan se-kota surakarta siap memenangkan gibran-teguh dengan menaati dan patuh protokol ke… ', 'kampanye virtual gibran rakabuming-teguh prakosa dipuji warga solo ', 'kampanye virtual gibran rakabuming-teguh prakosa diapresiasi\\xa0warga ', 'rt  kampanye virtual antara lain sdh dilakukan oleh pasangan calon walikota dan calon wakil walikota solo nomor urut , gibr…', 'selamat berjuang gibran-teguh.\\nsemangat mewujudkan surakarta sebagai kota budaya yang modern, tangguh, gesit, kreat… ', 'saya optimis gibran-teguh mampu menerapkan kampanye sehat dari bahaya penularan virus korona dan menang dalam pilka… ', 'rt  perlu diketahui kampanye virtual antara lain sdh dilakukan oleh paslon cawalkot solo dgn no urut \\n\\ndi hari pertama kampany…', 'gibran kembali menyapa masyarakat dengan virtual box dengan keliling kampung, sedangkan teguh melakukan blusukan of… ', 'awal kampanye gibran – teguh sudah kantongi dana rp  m, bajo rp  ', 'rt  agar tidak menimbulkan kerumunan massa, pasangan calon walikota solo gibran rakabuming raka dan teguh prakoso melakukan te…', 'rt  dpc pdip solo menargetkan perolehan suara % untuk kemenangan gibran-teguh. perolehan suara itu tentunya dengan kontribusi y…', 'selamat berjuang mas gibran. gibran – teguh untuk solo . ', 'gibran - teguh melakukan kampanye unik blusukan online, guna menghindari pengumpulan massa dan mematuhi protocol ke… ', 'gibran - teguh melakukan kampanye unik blusukan online, guna menghindari pengumpulan massa dan mematuhi protocol ke… ', 'gibran - teguh melakukan kampanye unik blusukan online, guna menghindari pengumpulan massa dan mematuhi protocol ke… ', 'gibran - teguh melakukan kampanye unik blusukan online, guna menghindari pengumpulan massa dan mematuhi protocol ke… ', 'gibran - teguh melakukan kampanye unik blusukan online, guna menghindari pengumpulan massa dan mematuhi protocol ke… ', 'gibran - teguh melakukan kampanye unik blusukan online, guna menghindari pengumpulan massa dan mematuhi protocol ke… ', 'gibran - teguh melakukan kampanye unik blusukan online, guna menghindari pengumpulan massa dan mematuhi protocol ke… ', 'gibran - teguh melakukan kampanye unik blusukan online, guna menghindari pengumpulan massa dan mematuhi protocol ke… ', 'gibran - teguh melakukan kampanye unik blusukan online, guna menghindari pengumpulan massa dan mematuhi protocol ke… ', 'rt  kampanye virtual sudah dilakukan oleh pasangan calon wali kota dan calon wakil wali kota solo nomor urut , gibran rakab…', 'pilwakot surakarta menjadi pilkada teramai nomor pertama dengan . berita. selain membahas sosok gibran, media… ', 'rt  kampanye virtual sdh dilakukan oleh paslon gibran-teguh pd kampanye di bonorejo, kel nusukan, kec banjarsari, solo, jawa tenga…', 'rt  pandemi covid- telah mengubah hampir semua mekanisme pertemuan menjadi online, ini bisa dicontoh paslon lain.\\nkampanye vi…', '     wah gibran - teguh inilah generasi yg sesungguhnya ', 'kampanye virtual antara lain sdh dilakukan oleh pasangan calon walikota dan calon wakil walikota solo nomor urut … ', 'rt  pasangan cawali dan cawawali solo nomor urut , gibran rakabuming raka-teguh prakosa, langsung melakukan blusukan online di…', 'gibran rakabuming raka resmi menjadi calon wali kota solo dalam pemilihan kepala daerah (pilkada) serentak .\\n\\nb… ', 'rt  #kampanyepilkadavirtual sdh dilakukan oleh paslon walikota dan calon wakil walikota solo nomor urut , gibran -teguh pd h…', 'seperti diberitakan, kampanye virtual antara lain sdh dilakukan oleh paslon walikota dan calon wakil walikota solo… ', ' seluruh ranting pdi perjuangan se-kota surakarta siap memenangkan gibran-teguh dengan menaati dan p… ', 'pasangan cawali dan cawawali solo nomor urut , gibran rakabuming raka-teguh prakosa, langsung melakukan blusukan… ', '#kampanyepilkadavirtual\\nkampanye perdana gibran-teguh blusukan daring dengan virtual box\\n\\nkampanye gibran berupa bl… ', 'agar tidak menimbulkan kerumunan massa, pasangan calon walikota solo gibran rakabuming raka dan teguh prakoso melak… ', 'rt  #kampanyepilkadavirtual\\nkampanye virtual jg dilakukan oleh paslon gibran rakabuming raka-teguh prakosa di pilkada solo.…', 'rt  #kampanyepilkadavirtual\\nketua tim pemenangan gibran-teguh, putut gunawan, mengatakan, pada tahapan kampanye ini timnya a…', 'rt  #kampanyepilkadavirtual\\nkampanye virtual antara lain sudah dilakukan oleh pasangan calon wali kota dan calon wakil wali…', 'rt  #kampanyepilkadavirtual\\npasangan calon wali kota dan wakil wali kota solo, gibran rakabuming raka-teguh prakosa, lebih b…', 'rt  yang sudah kampanye virtual antara lain dilakukan oleh pasangan calon wali kota dan wakil walikota solo nomor urut , gibr…', ' fakta kampanye digital gibran - teguh di pilkada solo , warga bisa sampaikan keluh kesahnya ', '[nomor urut pasangan calon]\\n\\nkpu kota surakarta menetapkan nomor urut  pasangan gibran rakabuming raka - teguh pra… ', 'dana kampanye gibran-teguh &amp; bajo masing-masing dibatasi rp , m ', 'rt  dapar nomor urut , gibran-teguh siap kampanye blusukan online\\n\\n\\n\\n#pdiperjuangan\\n#gibranteguh ht…', 'yang sudah kampanye virtual antara lain dilakukan oleh pasangan calon wali kota dan wakil walikota solo nomor urut… ', 'seluruh ranting pdi perjuangan se-kota surakarta siap memenangkan gibran-teguh dengan menaati dan patuh protokol ke… ', 'kampanye virtual sudah dilakukan oleh pasangan calon wali kota dan calon wakil wali kota solo nomor urut , gibran… ', 'ruarrrr biasahhh........ tiati nek ini jaman covid, megawati turun gunung jadi jurkam gibran-teguh, pengamat: kalau… ', 'perlu diketahui kampanye virtual antara lain sdh dilakukan oleh paslon cawalkot solo dgn no urut \\n\\ndi hari pertama… ', 'kampanye virtual sdh dilakukan oleh paslon gibran-teguh pd kampanye di bonorejo, kel nusukan, kec banjarsari, solo,… ', 'pandemi covid- telah mengubah hampir semua mekanisme pertemuan menjadi online, ini bisa dicontoh paslon lain.\\nkam… ', '#kampanyepilkadavirtual sdh dilakukan oleh paslon walikota dan calon wakil walikota solo nomor urut , gibran -teg… ', '#kampanyepilkadavirtual\\npasangan calon wali kota dan wakil wali kota solo, gibran rakabuming raka-teguh prakosa, le… ', '#kampanyepilkadavirtual\\nkampanye virtual antara lain sudah dilakukan oleh pasangan calon wali kota dan calon wakil… ', '#kampanyepilkadavirtual\\nketua tim pemenangan gibran-teguh, putut gunawan, mengatakan, pada tahapan kampanye ini tim… ', '#kampanyepilkadavirtual\\nkampanye virtual jg dilakukan oleh paslon gibran rakabuming raka-teguh prakosa di pilkada s… ', 'gibran-teguh vs bajo', 'pilkada solo: lawan gibran-teguh, dana kampanye pasangan bajo rp  #darisuara', 'gibran-teguh laporkan dana awal kampanye pilkada solo rp juta, bajo nol rupiah  ', 'gibran-teguh lakukan kampanye virtual, pakar komunikasi politik nilai kurang efektif - pikiran rakyat tasikmalaya -… ', ' lakukan kampanye virtual, pakar komunikasi politik nilai kurang efektif - pikiran rakyat ta… ', ' kampanye sehat kampanye cerdas, good luck buat gibran dan teguh semoga sukses', 'kampanye onlie dilakukan pasangan gibran-teguh prakosa untuk mencegah kerumunan. #kumparannews ', ' saluut mas gibran dan mas teguh udah bikin contoh baik cara berkampanye dimasa pandemi', ' mantap banget paslon walikota solo gibran &amp; teguh nih blusukan pun bisa via virtual ya, kampanye n… ', ' wah keren banget nih monitor nya ini bukti bahwa paslon walikota solo gibran &amp; teguh itu kreatif b… ', '  caranya bener bener keren menurut gua salut banget ama paslon gibran dan teguh', ' emang inovasi buat kampanye dimasa pandemi ini perlu dilakukan kaya ide kreatif dari paslon gibran dan teguh', ' keren nih monitor virtual paslon walikota solo gibran dan teguh semoga terpilih ya', '  salut banget dengan cara kampanyenya paslon gibran dan teguh ini guys', ' tetep bisa kampanye dimasa pandemi?? bisa banget dengan monitor virtual bisa banget buat blusukan… ', '  bagus bet ide kampanyenya paslon gibran dan teguh ini guys, patut dicontoh', 'pengambilan nomer urut paslon pilkada solo #idntimesjateng ', '. #beritasonora - pengundian nomor urut peserta pilkada , gibran-teguh dapat nomor urut … ', 'rt  pengundian nomor urut peserta pilkada , gibran-teguh dapat nomor urut   ', 'pengundian nomor urut peserta pilkada , gibran-teguh dapat nomor urut   ', 'gibran-teguh , bagyo-supardjo , sama-sama yakin menang pilkada solo ', 'rt  resmi ditetapkan kpu kota surakarta dengan nomor urut , gibran-teguh yakin bakal meraih kemenangan\\n\\n', 'pilkada solo: gibran-teguh dapat nomor , bajo  ', 'resmi ditetapkan kpu kota surakarta dengan nomor urut , gibran-teguh yakin bakal meraih kemenangan… ', 'calon walikota solo tuh emang gibran teguh doang? aku ga pernah liat baliho atau spanduk lawannya di sepanjang jala… ', 'kmi siap mengawal  mas gibran dan mas teguh prakosa dlm mimpin kota solo siap coblos nmor  ada pilihan kita ', 'pilkada solo, gibran-teguh dapat nomor urut   ', 'undian nomor urut gibran-teguh tampil putih hitam, apa maknanya? #gibranrakabuming #jokowidodo #sbagio… ', 'rt  dua pasangan calon (paslon) pilkada solo mengikuti tahapan pengundian nomor urut. gibran rakabuming raka-teguh prakosa mendap…', 'dahsyat, gibran-teguh dapat nomor urut satu  ', 'dua pasangan calon (paslon) pilkada solo mengikuti tahapan pengundian nomor urut. gibran rakabuming raka-teguh prak… ', \"rt  \\U0001f932selamat pagi assalamu'alaikum wr wb semoga kita selalu patuhi protokol kesehatan agar terhindar dari covid. tagar ha…\", 'gibran – teguh nomor , bajo  ', 'sah, gibran-teguh dapat nomor urut  #gibranrakabuming #teguhprakosa #wakilwalikota #mencucitangan #kotasurakarta… ', 'berbudaya kreatif moderen tangguh\\ngibran-teguh pasti menang\\nsolo bermanfaat\\n\\n\"all out losss ra rewel\"… ', 'rt  gibran rakabuming raka yang maju sebagai calon wali kota solo berpasangan dengan teguh prakosa. ternyata ia mempunyai ha…', 'gibran-teguh komitmen taati protokol kesehatan\\n#covidrangerantara\\n#rangerantara\\n', 'gibran rakabuming raka yang maju sebagai calon wali kota solo berpasangan dengan teguh prakosa. ternyata ia mempuny… ', 'rt  anda tuh anak muda milenial..cari cara yg jitu buat meraup suara dg cara daring dan virtual..\\n#partaitaatprokespilkada \\ntari…', 'rt  setuju mas.bilngn ke semua pendukungnya juga..daring manfaatkan teknologi.anda itu calon milenial soalnya..inget prokes dan k…', 'gibran-teguh , bagyo-supardjo , sama-sama pede menang pilkada solo ', 'rt  gw kira tuh gk ad lawanny ternyta ad juga tp lewat jalur independen toh..\\nseru juga nih lau kayak gini..jd lbh asyik dan hidu…', 'pilkada solo: gibran-teguh dapat nomor , bajo  ', 'anda tuh anak muda milenial..cari cara yg jitu buat meraup suara dg cara daring dan virtual..… ', 'pkb resmi dukung gibran-teguh di pilwakot solo ,lihat berita di tautan ', 'setuju mas.bilngn ke semua pendukungnya juga..daring manfaatkan teknologi.anda itu calon milenial soalnya..inget pr… ', 'gw kira tuh gk ad lawanny ternyta ad juga tp lewat jalur independen toh..\\nseru juga nih lau kayak gini..jd lbh asyi… ', 'selamat berjuang\\ngibran - teguh\\nsukses selalu. @ salemba raya ', '\"saya bersama pak teguh berkomitmen untuk selalu menaati protokol kesehatan, tetapi yang paling penting nomor satu… ', 'pemilune slamet rakyate iso ngeliwet, gibran-teguh bersilahturahmi ke warga keprabon kota surakarta (/)… ', 'gibran-teguh siapkan blusukan online di tengah pandemi covid- #gibranrakabumingraka #gibranrakabuming… ', 'rt  komisi pemilihan umum (kpu) solo menggelar rapat pleno terbuka pengundian nomor urut pasangan calon wali kota dan wakil wali…', 'pilwalkot solo, gibran-teguh nomor urut  dan bajo  #ukasindonews #bangkitdaripandemi #gibran ', 'komisi pemilihan umum (kpu) solo menggelar rapat pleno terbuka pengundian nomor urut pasangan calon wali kota dan w… ', ' \\ndua pasangan calon walikota di the sunan hotel solo.\\npasangan\\xa0gibran-teguh mendapat nomor urut .… ', 'rt  gibran-teguh nomor  dan bajo  di pilkada surakarta  ', 'rt  gibran-teguh dapat nomor urut , sedangkan penantangnya pasangan bajo nomor . nomor mana yang dicoblos masyarakat solo?\\n\\narti…', 'gibran-teguh nomor  dan bajo  di pilkada surakarta  ', 'gibran-teguh dapat nomor urut , sedangkan penantangnya pasangan bajo nomor . nomor mana yang dicoblos masyarakat… ', 'gibran menilai nomor satu sama nomor dua sama baiknya ', 'gibran-teguh nomor  dan bajo  di pilkada surakarta - antara news bengkulu ', 'pilkada surakarta, gibran-teguh nomor  dan bajo nomor  - antara jateng ', 'pilwalkot solo, gibran-teguh nomor urut  dan bajo  ', 'naik mobil bertiga, gibran-teguh dan sukasno hadiri pleno kpu di the sunan\\xa0hotel ', 'gibran-teguh siapkan blusukan dan konser online ', 'sah, gibran-teguh nomor , lawannya bajo nomor  ', 'pasangan calon walikota dan wakil walikota surakarta periode - gibran-teguh mendapatkan nomor urut \\npasti… ', 'pilkada solo, gibran-teguh dapat nomor urut , bajo nomor \\n\\n', 'nomor urut di pilwalkot solo: gibran-teguh , bagyo-supardjo  #gibranrakabuming #disinfektan #komisipemilihanumum… ', 'pengundian nomer urut, gibran-teguh nomer urut satu, bajo nomer urut dua ', 'pilwalkot solo, gibran-teguh dapat nomor urut\\xa0 ', 'pilwalkot solo, gibran-teguh dapat nomor urut\\xa0 ', 'gibran – teguh nomor , bajo\\xa0 ', 'gibran teguh nomor urut , bajo nomor  ', 'hadiri pengambilan nomor urut paslon, begini penampilan gibran-teguh dan bajo ', 'nomer urut calon walikota &amp; wakil walikota surakarta\\n\\n. gibran rakabuming raka - teguh prakosa ( pdi perjuangan )… ', 'rt  kpu kota solo, jawa tengah, menetapkan dua pasangan calon wali kota pilkada . dua pasangan itu yakni putra jokowi, gibran…', 'paslon gibran-teguh dapat nomor urut  di pilkada solo, tim sorak gembira ', 'kpu kota solo, jawa tengah, menetapkan dua pasangan calon wali kota pilkada . dua pasangan itu yakni putra joko… ', 'gibran-teguh dapat nomor urut  di pilkada solo #taucepattanpabatas #beritaterkini  . ', 'sah, gibran-teguh dapat nomor urut , bajo dapat nomor urut  pada pilkada solo  ', 'gibran-teguh nomor urut , bajo  pada pilwalkot solo ', 'rt  pilkada solo, gibran-teguh dapat nomor urut , bajo nomor : kepada wartawan, gibran mengaku tidak mempermasalahkan mend…', 'rapat pleno penetapan nomor urut dan daftar pasangan calon peserta pemilihan wali kota dan wakil wali kota surakart… ', 'rt  paslon gibran-teguh secara sah mendapat nomor urut  dalam pilkada solo . sedangkan paslon independen bajo mendapat nomor…', 'pilkada solo : gibran-teguh nomor urut , bajo  ', 'paslon gibran-teguh secara sah mendapat nomor urut  dalam pilkada solo . sedangkan paslon independen bajo mend… ', 'sah, gibran-teguh dapat nomor urut , bajo nomor\\xa0 ', 'pilkada solo, gibran-teguh dapat nomor urut , bajo nomor : kepada wartawan, gibran mengaku tidak mempermasalahkan… ', 'saat hadir dalam rapat pleno kpu pengundian nomor urut, gibran dan teguh memakai kemeja putih. berlawanan dengan wa… ', 'teguh, yang mendampingi gibran, langsung tepuk tangan saat mengetahui gibran mendapat nomor urut . tim lain yang h… ', 'pasangan calon pilkada kota solo , gibran rakabuming raka-teguh prakosa mendapat nomor urut , sementara lawann… ', '\"pengundian nomor urut paslon telah kita lakukan, paslon gibran-teguh mendapatkan nomor satu dan bajo nomor urut du… ', 'rt  kpu tetapkan  paslon pilwakot solo, gibran-teguh dan bagyo-supardjo ', 'pasangan gibran rakabuming raka-teguh prakosa (gibran-teguh) dan bagyo wahyono-fx supardjo (bajo) menghadiri pengun… ', 'solo bersatu, gibran - teguh pilihanku!!\\n.\\n#solohebat #sobatsolohebat #solomelompatlebihjauh… ', 'kpu tetapkan  paslon pilwakot solo, gibran-teguh dan bagyo-supardjo ', 'rt  mari kita doakan mak nek penggemar serial pembunuhan\\nini . . \\n\\npilkada solo, megawati turun tangan jadi jurkam gibran-teguh…', 'tarik pemilih milenial, gibran-teguh akan gelar konser musik virtual: tim pemenangan bakal pasangan calon wali kota… ', 'sah jadi paslon, gibran-teguh &amp; bagyo-supardjo tak soalkan nomor\\xa0urut ', 'rt  lbp protes...\\nkarena saat\\nlbp sedang \"bla bla bla\"\\ntiba-\\nnajwa shihab\\nmenayangkan\\npelanggaran protokol covid-\\noleh peserta…', 'rt  paslon gibran-teguh telah menyiapkan blusukan online untuk menyapa masyarakat solo. terkait bagaimana sistemnya, gibran masih…', '  ranting timuran bersama ibu-ibu penggerak timuran\\nsiap menangkan gibran-teguh\\n\\npemilune sl… ', 'paslon gibran-teguh telah menyiapkan blusukan online untuk menyapa masyarakat solo. terkait bagaimana sistemnya, gi… ', '', \"\\U0001f932selamat pagi assalamu'alaikum wr wb semoga kita selalu patuhi protokol kesehatan agar terhindar dari covid. tag… \", 'pasangan gibran-teguh dan bagyo-supardjo secara resmi akan bertarung memperebutkan kursi wali kota solo. kedua pasa… ', 'dukungan semakin gemuk, kini giliran pkpi merapat ke gibran-teguh di pilkada solo  ', 'gencarkan protokol kesehatan jelang pilkada serentak , gibran-teguh\\xa0terima hand sanitizer ', 'rt  anak yg baik sekali mencontoh perilaku bapaknya...\\nnjrit blusukan online!!\\nsekalian gorong online!! \\n\\n', 'gibran-teguh dan bajo incar nomor urut  di pilkada solo ', ' pak purnomo. bentar lagi bisa jadi pak teguh kalau pak gibran jadi walkotnya.', 'rt  semakin sejahtera dibawah kepemimpinan kader pdi perjuangan, petugas penarik sampah banjarsari siap memenangkan gibran-…', 'bagyo wahyono dan f.x. supardjo dipastikan menjadi lawan gibran-teguh dalam pilwalkot solo . bagyo-supardjo maj… ', 'udah kayak kepanitiaan ya ada rekening baru #merahputihcom #rekening #kampanye ', 'dukung pilkada solo aman, secret clean suport hand sanitizer melalui paslon gibran-teguh ', 'rt  kpu solo secara resmi menetapkan gibran rakabuming raka-teguh prakosa dan bagyo wahyono-fx supardjo (bajo) sebagai pasangan c…', 'anak yg baik sekali mencontoh perilaku bapaknya...\\nnjrit blusukan online!!\\nsekalian gorong online!! \\n\\n', 'mari kita doakan mak nek penggemar serial pembunuhan\\nini . . \\n\\npilkada solo, megawati turun tangan jadi jurkam gibr… ', 'kpu solo secara resmi menetapkan gibran rakabuming raka-teguh prakosa dan bagyo wahyono-fx supardjo (bajo) sebagai… ', 'dukung gibran-teguh, pkpi: pemimpin solo paling wow! ', 'rt  sah! gibran rakabuming-teguh dan bajo jadi calon wali kota solo  ', 'gibran-teguh siapkan blusukan online ', 'kpu tetapkan gibran-teguh dan bagyo-supardjo paslon di pilwalkot solo  #gibranrakabuming #komisipemilihanumum… ', 'sah jadi paslon, gibran-teguh &amp; bagyo-supardjo tak soalkan nomor urut ', 'dukungan semakin gemuk, kini giliran pkpi merapat ke gibran-teguh di pilkada solo  ', 'gibran - teguh dan bajo resmi sebagai paslon wali kota solo di pilkada \\xa0  ', 'semua kembali pada rakyat / masyarakat.\\napakah masih mau dibodohi ?\\nfakta dan realitanya, setelah mereka menduduki… ', 'ketua tim pemenangan gibran-teguh berharap agar mendapat nomor urut . ', 'rapat pleno tertutup kpu surakarta menetapkan pasangan\\xa0gibran-teguh dan bagyo-supardjo maju dalam pilkada\\xa0 wali kot… ', 'rt  demi memperjuangkan gibran-teguh, megawati, puan dan hasto siap jadi juru kampanye ', 'demi memperjuangkan gibran-teguh, megawati, puan dan hasto siap jadi juru kampanye\\n', 'semakin sejahtera dibawah kepemimpinan kader pdi perjuangan, petugas penarik sampah banjarsari siap memenangkan gib… ', 'demi memperjuangkan gibran-teguh, megawati, puan dan hasto siap jadi juru kampanye ', 'megawati dan puan bakal jadi jurkam gibran-teguh  ', 'megawati dan puan bakal jadi jurkam gibran-teguh  ', 'banteng solotengah\\nberhimpun &amp; bergerak \\nsiap memenangkan\\ngibran-teguh\\n\\npemilune slamet wargane iso ngliwet ', 'banteng solotengah\\nberhimpun &amp; bergerak \\nsiap memenangkan\\ngibran-teguh\\n\\npemilune slamet wargane iso ngliwet', 'konsolidasi ranting anting &amp; satgas timuran\\nsolid bergerak gibran-teguh\\n\\npemilune slamet...wargane iso ngliwet ', 'kpu tetapkan gibran-teguh dan bajo sebagai peserta pilkada solo: nurul menjelaskan, rapat pleno penetapan calon tid… ', 'bajo sah jadi lawan gibran-teguh dalam pilwakot solo  ', 'sah! gibran-teguh bakal bertemu bajo di pilkada surakarta  ', 'rt  megawati soekarnoputri dan puan maharani akan turun gunung menjadi juru kampanye gibran rakabuming-teguh prakosa di pilkada s…', 'kpu tetapkan gibran-teguh dan bajo sebagai peserta pilkada solo: nurul menjelaskan, rapat pleno penetapan calon tid… ', 'rt  gibran-teguh dan bagyo-suparjo ditetapkan kpu untuk bertarung dalam pilkada solo ', 'gibran-teguh dan bagyo-suparjo ditetapkan kpu untuk bertarung dalam pilkada solo ', 'resmi bersaing. pengundian nomor urut paslon akan dilakukan besok melalui pleno terbuka.\\n\\n#validnews #nasional\\n\\n', 'kpu resmikan paslon pilkada solo: teguh-gibran vs bajo #pilkadasolo #gibranrakabuming ', 'sah! gibran rakabuming-teguh dan bajo jadi calon wali kota solo  ', 'megawati dan puan bakal jadi jurkam gibran-teguh ', 'gibran-teguh dan bajo resmi jadi paslon pilkada solo ', 'sah,  gibran-teguh dan bajo jadi peserta pilkada solo ', 'kpu tetapkan gibran-teguh dan bajo calon pilkada surakarta ', 'rt  warga solo, yang gak suka gibran, yang nuduh dinasti politik, sila pilih bajo. jangan golput. \\n\\n', 'dua paslon yakni gibran rakabuming raka-teguh prakosa dan bagyo wahyono-fx supardjo (bajo) akan bertarung dalam pil… ', 'batal lawan kotak kosong, gibran-teguh bakal ditantang bagyo-suparjo di pilkada solo  #pilkada #pilwakotsolo', 'kpu solo sahkan pertarungan gibran-teguh lawan bajo di pilkada ', 'sah! gibran-teguh vs bajo bersaing di pilkada solo   ', 'kpu tetapkan gibran-teguh dan bajo paslon pilkada solo ', 'ketua umum pdip megawati soekarnoputri dan ketua dpp puan maharani serta sekjen hasto kristianto bakal \"turun gunun… ', 'kpu tetapkan gibran-teguh dan bagyo-supardjo sebagai paslon di pilwalkot solo\\xa0 ', 'warga solo, yang gak suka gibran, yang nuduh dinasti politik, sila pilih bajo. jangan golput. \\n\\n', 'patuihi protokol kesehatan saat kampanye di solo, gibran-teguh bakal gelar konser musik virtual ', 'pengumuman penetapan calon pilkada solo online, gibran – teguh &amp; bagyo – supardjo tak datang ke kpu ', 'begini kata tim pemenangan gibran dan teguh soal penundaan pilkada   ', '\"asyik pilkadanya jadi ya...\" teriak rakyat yang lagi pusing ganti masker  scuba nya, dan di-aminin sama tenaga kes… ', 'sah! tukang jahit &amp; ketua rw tanding lawan putra presiden jokowi gibran &amp; teguh di pilkada solo  ', 'bajunya keren mas \\n\\nkenalkan seragam kampanye gibran-teguh di pilkada solo, ini maknanya ', 'ketua tim pemenangan bakal pasangan calon gibran - teguh, putut gunawan mengatakan kehadiran megawati diharapkan da… ', 'menangkan gibran-teguh, puan maharani dan megawati turun gunung jadi jurkam di pilkada solo\\n#soloraya #pilkadasolo… ', 'rt  kpu menyatakan paslon gibran-teguh dan paslon bagyo-supardjo sebagai calon wali kota solo. #publisherstory ', 'kpu tetapkan gibran-teguh dan bagyo-supardjo paslon di pilwalkot solo  ', 'kpu menyatakan paslon gibran-teguh dan paslon bagyo-supardjo sebagai calon wali kota solo. #publisherstory ', '\"ada dua pasangan yang kami tetapkan, yakni gibran-teguh dan bagyo-supardjo,\" ujar ketua kpu solo, nurul sutarti. ', 'ranting timuran bersama ibu-ibu penggerak timuran siap menangkan gibran-teguh\\n\\npemilune slamet wargane iso ngliwet… ', 'ranting timuran bersama ibu-ibu se timuran siap bergerak &amp; memenangkan gibran-teguh\\n\\n#pdiperjuangan… ', 'rt  megawati menjadi jurkam gibran-teguh di pilwalkot solo ', 'rt  paling jurus nangis yang akan diandalkan,seperti halnya waktu jadi presiden hasil dari gusdur lengser,kalau nggak nang…', 'paling jurus nangis yang akan diandalkan,seperti halnya waktu jadi presiden hasil dari gusdur lengser,kalau nggak n… ', 'nomor urut  di pilkada solo  jadi rebutan bajo independen dan pasangan calon pdip gibran-teguh ', 'ketum pdip megawati soekarno putri dan ketua dpr puan maharani disebut bakal menjadi juru kampanye gibran rakabumin… ', 'kampanye gibran-teguh, pertimbangkan gelar konser ', 'rt  pilkada solo, megawati turun tangan jadi jurkam gibran-teguh ', 'pilkada solo, megawati turun tangan jadi jurkam gibran-teguh - follow   ', 'puan hingga megawati bakal jadi juru kampanye gibran-teguh - \\n\\n#indonesia', 'tim pemenangan pasangan gibran rakabuming raka-teguh prakosa yang diusung pdip serta didukung delapan parpol tidak… ', 'pilkada solo, megawati turun tangan jadi jurkam gibran-teguh ', 'ketua dpr dan mantan presiden bakal jadi jurkam gibran-teguh di pilkada solo ', ' ashiaap', 'mantan presiden masuk tim juru kampanye gibran-teguh di pilkada solo ', 'megawati soekarnoputri dan puan maharani akan turun gunung menjadi juru kampanye gibran rakabuming-teguh prakosa di… ', 'namun, belum dipastikan apakah megawati akan datang langsung ke solo atau melalui daring. ', 'megawati menjadi jurkam gibran-teguh di pilwalkot solo ', 'kampanye gibran-teguh, pertimbangkan gelar konser ', 'kpu solo: penetapan gibran-teguh dan bagyo-suparjo tertutup ', 'dua pasangan bacalon wali kota solo usung konsep berbeda soal tata ruang. ', '#darimks ketua dpr ri hingga mantan presiden ri jadi tim jurkam gibran-teguh:  ', 'pilkada ditunda, tim pemenangan gibran-teguh: kami pasti diuntungkan\\n ', 'pilkada ditunda, tim pemenangan gibran-teguh: kami pasti diuntungkan\\n ', 'pilkada ditunda, tim pemenangan gibran-teguh: kami pasti diuntungkan\\n ', 'megawati dan para elit partai akan turun gunung kampanyekan gibran - teguh #temponasional ', 'timses paslon gibran-teguh akan menghadirkan megawati hingga puan maharani untuk menjadi juru kampanye. ', ' ayo, pilih gibran - teguh ', 'rt  pdip menyiapkan juru kampanye untuk memenangkan pilkada . di pilkada solo, ketua umum pdip megawati soekarnoputri akan me…', 'rt  para tokoh partai politik bakal berdatangan ke solo selama masa kampanye. megawati soekarnoputri juga akan dihadirkan untuk…', 'para tokoh partai politik bakal berdatangan ke solo selama masa kampanye. megawati soekarnoputri juga akan dihadirk… ', 'ketua umum pdip megawati soekarnoputri akan menjadi salah satu juru kampanye pasangan gibran rakabuming raka-teguh… ', 'pdip menyiapkan juru kampanye untuk memenangkan pilkada . di pilkada solo, ketua umum pdip megawati soekarnoput… ', 'rt  tim pemenangan gibran-teguh minta kpu gelar rapat pleno terbuka penetapan calon: pernyataan tersebut dikemukakan lo (lia…', 'tim pemenangan gibran-teguh minta kpu gelar rapat pleno terbuka penetapan calon: pernyataan tersebut dikemukakan lo… ', '#tim gibran-teguh memprotes kpu solo - jawa pos  #demokrasi #indonesia', 'gaet pemilih milenial, gibran rakabuming-teguh prakosa bakal gelar konser virtual ', 'konser musik virtual menjadi bagian dari menggalang dukungan warga terhadap pasangan gibran dan teguh. setidaknya i… ', 'megawati dan puan bakal jadi jurkam gibran-teguh: kehadiran para tokoh partai berlambang kepala banteng moncong put… ', 'rt  siapa saja yang bakal menjadi juru kampanye gibran dan teguh di pilwalkot solo? ', 'siapa saja yang bakal menjadi juru kampanye gibran dan teguh di pilwalkot solo? ', '   keren banget nih acaranya, kemaren gua nonton pengisi acaranya itu keren , semoga… ', '   keren banget nih acaranya, kemaren gua nonton pengisi acaranya itu keren , semoga… ', '   keren banget nih acaranya, kemaren gua nonton pengisi acaranya itu keren , s… ', '   keren banget nih acaranya, kemaren gua nonton pengisi acaranya itu keren , semo… ', '   keren banget nih acaranya, kemaren gua nonton pengisi acaranya itu keren , s… ', ' mantul nih film', '   keren banget nih acaranya, kemaren gua nonton pengisi acaranya itu keren , semoga… ', '   keren banget nih acaranya, kemaren gua nonton pengisi acaranya itu keren , semoga… ', '   keren banget nih acaranya, kemaren gua nonton pengisi acaranya itu keren , se… ', ' aku liat dulu ya kak ig nya', 'tim gibran-teguh memprotes kpu solo ', 'cara kampanye di tengah pandemi covid-, gibran-teguh bakal blusukan online  ', 'band apa yang cocok? \\n\\npatuhi protokol kesehatan saat kampanye di solo, gibran-teguh bakal gelar konser musik virtu… ', 'gelar konser musik virtual cara gibran-teguh lebih dekat dengan pemilih\\xa0milenial ', '   pasti seru banget acaranya apalagi ada boy william', 'rt  angkat jargon pemilune slamet wargane iso ngliwet, ketua dpc pdi perjuangan surakarta ajak penarik sampah laweyan sukse…', ' rapatkan barisan utk kemenangan gibran-teguh demi keberlanjutan program kebijakan yang pro wong cil… ', 'angkat jargon pemilune slamet wargane iso ngliwet, ketua dpc pdi perjuangan surakarta ajak penarik sampah laweyan s… ', 'patuihi protokol kesehatan saat kampanye di solo, gibran-teguh bakal gelar konser musik virtual ', 'rt  rebut hati milenial solo, gibran-teguh siapkan konser musik virtual  ', 'rt  target raih % suara, gibran-teguh andalkan jurkam nasional hingga influencer  ', 'rebut hati milenial solo, gibran-teguh siapkan konser musik virtual  ', 'silaturahmi ke tegalharjo, gibran-teguh janji lanjutkan program wmp rudy-poernomo hingga percepatan pemulihan ekon… ', 'target raih % suara, gibran-teguh andalkan jurkam nasional hingga influencer  ', 'kpu putuskan tak undang gibran-teguh dan bajo saat penetapan calon pilkada solo: “itu nanti pleno internal, kemudia… ', 'mantap jiwa! puan hingga megawati terjun jadi jurkam gibran-teguh di pilkada   ', 'perindo dukung pasangan gibran - teguh jadi wali kota dan wakil wali kota solo\\n\\n', 'saat menghadiri “deklarasi adaptasi kebiasaan baru untuk mendukung percepatan penanganan covid ” gibran - teguh j… ', 'saat menghadiri “deklarasi adaptasi kebiasaan baru untuk mendukung percepatan penanganan covid ” gibran - teguh j… ', 'saat menghadiri “deklarasi adaptasi kebiasaan baru untuk mendukung percepatan penanganan covid ” gibran - teguh j… ', 'saat menghadiri “deklarasi adaptasi kebiasaan baru untuk mendukung percepatan penanganan covid ” gibran - teguh j… ', '[hoax] presiden jadi tim sukses gibran-teguh  via ', 'visi-misi pilkada  gibran - teguh: kota solo sebagai kota budaya modern &amp; lanjutkan program rudy ', 'partai perindo resmi dukung pasangan gibran-teguh di pilwakot solo \\n\\n']\n"
          ],
          "name": "stdout"
        }
      ]
    },
    {
      "cell_type": "code",
      "metadata": {
        "id": "n1a7ufSMks_V",
        "outputId": "e98ff21f-2e71-4694-c1f8-e61279edbdca",
        "colab": {
          "base_uri": "https://localhost:8080/",
          "height": 54
        }
      },
      "source": [
        "#Menghapus \"rt\"\n",
        "tweet_data_6=[]\n",
        "for teks in tweet_data_5:\n",
        "  teks_process = [re.sub('rt ','',teks)]\n",
        "  tweet_data_6=tweet_data_6+teks_process\n",
        "print(tweet_data_6)"
      ],
      "execution_count": null,
      "outputs": [
        {
          "output_type": "stream",
          "text": [
            "['populer nusantara antara lain konlik antara kapolres blitar dengan kasat sabhara. sementara di solo, sandiaga ipers… ', ' sandiaga uno menjadi juru kampanye pasangan calon wali kota dan wakil wali kota solo, gibran rakabuming raka-teguh prakos…', ' sandiaga uno jadi juru kampanye gibran-teguh di pilkada solo, disebut ada lobi jokowi\\n', \"~ninggal tatu~\\n\\nkowe tak sayang-sayang saiki malah ngilang' \\ntresnamu karo aku, kuwi mung kiasan\\nkowe tak gadhang… \", ' sandi uno jadi juru kampanye gibran-teguh di pilkada solo, disebut ada lobi jokowi.\\n\\nperjuangan bapak perbaiki martabak anak…', 'tidur dulu ah sakit badan nihh', 'nyeri awak', 'ngantukkkk', 'sandi uno jadi juru kampanye gibran-teguh di pilkada solo, disebut ada lobi jokowi.\\n\\nperjuangan bapak perbaiki mart… ', ' selain sandiaga uno, ada nama besar lain yang juga akan menjadi jurkam paslon gibran-teguh di solo | #pilkada  \\n ', 'respons kabar sandiaga bakal jadi jurkam, gibran rancang kampanye daring: wakil ketua dewan pembina partai gerindra… ', 'selain sandiaga uno, ada nama besar lain yang juga akan menjadi jurkam paslon gibran-teguh di solo | #pilkada  \\n ', '   udah baca ini belom blog? \\n', ' sandiaga uno jadi juru kampanye gibran-teguh di pilkada solo, disebut ada lobi jokowi. borong dari medan sampai solo. \\nhtt…', 'hoammmmmm', 'gibran – teguh: pilkada sesuai jadwal, demokratis dan aman dari covid-. ', 'solo ber – satu, gibran – teguh pilihanku. ', 'gibran – teguh mendapat nomor urut satu untuk pilkada solo . pa ', 'gibran – teguh mendapat nomor urut satu untuk pilkada solo . pa ', 'gibran: saya dan pak teguh tetap berkomitmen menjaga protokol kesehatan selama kampanye. ', 'gibran – teguh: untuk mendukung pilkada aman, secret clean (pt victoria care) memberikan bantuan hand sanitizer. ', 'capek euy', 'sandiaga uno digadang-gadang menjadi jurkam paslon gibran-teguh dalam pilkada solo . sandiaga menjadi jurkam ta… ', 'mantan wakil gubernur dki jakarta sandiaga uno bakal menjadi juru kampanye pasangan calon gibran rakabuming raka-te… ', '    gk butuh jurkam dari pusat spt  \\nwarga solo cukup berdi… ', ' wakil ketua dpp gerindra  akan menjadi juru kampanye untuk pasangan calon wali kota dan wakil wali kota solo, gi…', ' sandiaga uno jadi juru kampanye gibran-teguh di pilkada solo, disebut ada lobi jokowi\\n', 'wakil ketua dpp gerindra  akan menjadi juru kampanye untuk pasangan calon wali kota dan wakil wali kota so… ', 'asyiikkk', 'laparrr', '\\U0001f970\\U0001f970\\U0001f970\\n', 'mantap! sandiaga uno jadi jurkam gibran-teguh di pilkada solo  ', 'lebih lanjut ardianto mengatakan, saat ini pihaknya sedang mengkaji persiapan deklarasi tim pemenangan untuk paslon gibran-teguh.', 'mantan wakil gubernur dki jakarta ini dimungkinkan akan mengkampanyekan pasangan gibran-teguh juga secara virtual.', 'termasuk model kampanye yang digunakan sandiaga untuk paslon gibran-teguh. menurutnya, antara gibran dengan sandi, sangat bisa disatukan.', 'menurutnya, faktor kedekatan antara sandiaga, prabowo subianto (ketua dpp partai gerindra) dengan presiden jokowi s… ', 'kabar sandiaga akan menjadi juru kampanye untuk pasangan gibran teguh, dibenarkan oleh ketua dpc partai gerindra solo ardianto kuswinarno.', 'menurutnya, faktor kedekatan antara sandiaga, prabowo subianto (ketua dpp partai gerindra) dengan presiden jokowi s… ', 'wakil ketua dewan pembina partai gerindra sandiaga salahudin uno akan menjadi juru kampanye (jurkam) untuk pasangan… ', 'menurutnya, faktor kedekatan antara sandiaga, prabowo subianto (ketua dpp partai gerindra) dengan presiden jokowi s… ', 'wakil ketua dewan pembina partai gerindra sandiaga salahudin uno akan menjadi juru kampanye (jurkam) untuk pasangan… ', 'wakil ketua dewan pembina partai gerindra sandiaga salahudin uno akan menjadi juru kampanye (jurkam) untuk pasangan… ', 'menurutnya, faktor kedekatan antara sandiaga, prabowo subianto (ketua dpp partai gerindra) dengan presiden jokowi s… ', 'menurutnya, faktor kedekatan antara sandiaga, prabowo subianto (ketua dpp partai gerindra) dengan presiden jokowi s… ', 'wakil ketua dewan pembina partai gerindra sandiaga salahudin uno akan menjadi juru kampanye (jurkam) untuk pasangan… ', 'wakil ketua dewan pembina partai gerindra sandiaga salahudin uno akan menjadi juru kampanye (jurkam) untuk pasangan… ', 'menurutnya, faktor kedekatan antara sandiaga, prabowo subianto (ketua dpp partai gerindra) dengan presiden jokowi s… ', 'wakil ketua dewan pembina partai gerindra sandiaga salahudin uno akan menjadi juru kampanye (jurkam) untuk pasangan… ', 'orang amerika mungkin jadi mikir, jangan nanti kalau biden menang dan trump kalah \\nkemudian anaknya biden nyalon… ', ' selamat bang  , semoga solo kedepan bisa bebas dari kaum intoleransi..!!\\n\\n ', '         ', 'selamat bang  , semoga solo kedepan bisa bebas dari kaum intoleransi..!!\\n\\n ', 'politisi partai gerindra sandiaga solahuddin uno akan menjadi juru kampanye (jurkam) pasangan calon wali kota dan w… ', 'sandiaga uno menjadi juru kampanye pasangan calon wali kota dan wakil wali kota solo, gibran rakabuming raka-teguh… ', 'pilwalkot solo, sandiaga uno siap diterjunkan jadi jurkam gibran-teguh  ', '   oh jadi ini ya 🤣🤣\\n ', 'sandiaga akan jadi jurkam gibran di solo dan bobby di medan: menurutnya, faktor kedekatan antara sandiaga, prabowo… ', '\\n#sandiagauno #prabowo #gerindra #pdiperjuangan', 'sandiaga uno jadi juru kampanye gibran-teguh di pilkada solo, disebut ada lobi jokowi\\n', 'politisi partai gerindra sandiaga solahuddin uno dipersiapkan menjadi jukam pasangan calon wali kota dan wakil wali… ', ' \"apbd kota solo tiap hari kita bahas dengan pak teguh, ini adalah masa-masa di mana kita harus bersabar dan banyak sekali an…', ' \"saya berkomitmen untuk menaati protokol kesehatan. setiap hari saya dengungkan ke warga program prioritas saya dan pak tegu…', 'sandiaga uno jadi juru kampanye gibran-teguh di pilkada solo, disebut ada lobi jokowi. borong dari medan sampai sol… ', ' kalau gibran nggak bermanuver kira-kira ibu ketum bakal milih dia atau enggak ya??? sementara pdip sudah ng… ', 'mantap! sandiaga uno jadi jurkam gibran-teguh di pilkada solo  ', '\"lobi-lobinya politik tingkat tinggi. karena ketum kami (prabowo subianto) dengan pak jokowi sangat dekat sekali.… ', '   wkwkw jadi jasa terawang gini dah \\n\\ngibran-teguh yang menang kalo dia kalah kalem ada leg kedua wkwkkw', ' politisi partai gerindra sandiaga solahuddin uno dipersiapkan menjadi jukam pasangan calon wali kota dan wakil wali kota sol…', 'sandiaga uno jadi juru kampanye gibran-teguh di pilkada solo, disebut ada lobi jokowi\\n', 'apa kabar papa online \\n\\n\\nsandiaga uno jadi jurkam gibran-teguh di pilkada solo \\nklik untuk baca:… ', 'politisi partai gerindra sandiaga solahuddin uno dipersiapkan menjadi jukam pasangan calon wali kota dan wakil wali… ', 'gotong royong melawan covid- bersama gibran – teguh. ', 'gibran genap  tahun, teguh doakan putra jokowi terpilih jadi wali kota dan bisa membangun solo ', ' \"apbd kota solo tiap hari kita bahas dengan pak teguh, ini adalah masa-masa di mana kita harus bersabar dan banyak sekali angga…', ' pengurus dpd psi solo dipimpin langsung bro antonius yoga melakukan fogging di permukiman warga.\\n\\npada kesempatan yang sama, me…', 'gibran-teguh melakukan blusukan ke masyarakat dalam rangka membantu masyarakat yang terkena dampak pandemi ', ' pertanyaan najwa tidak perlu kita ragukan lagi, namun apakah jawaban mas gibran n cara menjawab nya su… ', ' \"saya berkomitmen untuk menaati protokol kesehatan. setiap hari saya dengungkan ke warga program prioritas saya dan pak teguh a…', 'paslon gibran-teguh kembali melakukan blusukan online ke beberapa kelurahan di solo. dalam kesempatan itu, gibran a… ', 'paslon gibran-teguh kembali melakukan blusukan online ke beberapa kelurahan di solo. dalam kesempatan itu, gibran a… ', ' putra presiden joko widodo, gibran rakabuming raka, yang berpasangan dengan teguh prakosa di pilwalkot surakarta. / #nasiona…', 'putra presiden joko widodo, gibran rakabuming raka, yang berpasangan dengan teguh prakosa di pilwalkot surakarta. /… ', '\"apbd kota solo tiap hari kita bahas dengan pak teguh, ini adalah masa-masa di mana kita harus bersabar dan banyak… ', '\"apbd kota solo tiap hari kita bahas dengan pak teguh, ini adalah masa-masa di mana kita harus bersabar dan banyak… ', '\"saya berkomitmen untuk menaati protokol kesehatan. setiap hari saya dengungkan ke warga program prioritas saya dan… ', '\"saya berkomitmen untuk menaati protokol kesehatan. setiap hari saya dengungkan ke warga program prioritas saya dan… ', ' solo bersatu, gibran - teguh pilihanku!!\\n.\\n#solohebat #sobatsolohebat #solomelompatlebihjauh #lompatananakmudauntuksolo #…', 'bajo blusukan langsung ke tokoh agama, gibran-teguh pakai virtualbox \\n\\n', ' identitas yang satu ini akan menjadi tugas bersama masyarakat solo dan pasangan mas gibran &amp; mas teguh untuk membawa solo…', ' identitas yang satu ini akan menjadi tugas bersama masyarakat solo dan pasangan mas gibran &amp; mas teguh prakasa untuk memb…', 'amunisi bertambah, pkpi dukung gibran – teguh di pilkada solo. ', ' dana kampanye gibran-teguh &amp; bajo masing-masing dibatasi rp ,\\xa0m ', 'dana kampanye gibran-teguh &amp; bajo masing-masing dibatasi rp ,\\xa0m ', 'gibran-teguh for solo  #gibranforsolo ', 'bajo blusukan langsung ke tokoh agama, gibran-teguh pakai virtualbox \\n\\n', 'pasangan gibran-teguh dan bajo memiliki cara tersendiri untuk menggaet suara warga kota solo. simak gaya kampanye m… ', 'mas gibran mohon maaf, jadinya mas fans apa mas? kok semuanya mas wkwkwk\\n\\ngibran-teguh ! ', 'pengurus dpd psi solo dipimpin langsung bro antonius yoga melakukan fogging di permukiman warga.\\n\\npada kesempatan y… ', ' pilkada solo , sandiaga uno bakal kampanyekan gibran-teguh ', 'pilkada solo , sandiaga uno bakal kampanyekan gibran-teguh ', ' #kampanyepilkadavirtual\\nkampanye perdana gibran-teguh blusukan daring dengan virtual box\\n\\nkampanye gibran berupa blusuka…', ' rapatkan barisan, menangkan gibran-teguh', ' seluruh ranting pdi perjuangan se-kota surakarta siap memenangkan gibran-teguh dengan menaati dan patuh protokol keseha…', 'ijin bal rapopo di tahan sik , sing penting ijin dodolanku tetep metu seko polri, bekingane gibran teguh og :| ', '#pilwakotsolo kampanye, gibran-teguh bagi tugas  ', '#pilwakotsolo kampanye, gibran-teguh bagi tugas  ', '#pilwakotsolo kampanye, gibran-teguh bagi tugas  ', ' pilwakot surakarta menjadi pilkada teramai nomor pertama dengan . berita. selain membahas sosok gibran, media menyor…', 'sudahlah paslon bajo biasa gegaruk bidjie aja gegayaan luh ikutan #pilkada segala. \\n\\nkalo boleh usul mendingan… ', ' dana awal kampanye: gibran-teguh rp juta, bajo rp #pilkada ', 'dana awal kampanye: gibran-teguh rp juta, bajo rp #pilkada ', 'komisi pemilihan umum (kpu) solo, jawa tengah telah menerima pendaftaran  akun media sosial (medsos) milik kedua… ', 'megawati turun gunung jadi jurkam gibran-teguh, pengamat: kalau kalah harga diri pdip-jokowi hancur ', 'pilkada solo: lawan gibran-teguh, dana kampanye pasangan bajo rp -  ', ' siap akhi, saya masih memegang teguh sepenggal kalimat dari khalil gibran wkwk', ' warga solo antusias dengan adanya box virtual kampanye yang disediakan paslon gibran-teguh. warga pun dapat berkeluh kesah de…', 'warga solo antusias dengan adanya box virtual kampanye yang disediakan paslon gibran-teguh. warga pun dapat berkelu… ', ' ayo rapatkann barisan utk memenangkan gibran - teguh dgn menerapkan disiplin protok kesehatan.\\n\\n*sa… ', 'pilkada solo: lawan gibran-teguh, dana kampanye pasangan bajo rp #kelurahannusukan #panjipanji… ', ' seperti diberitakan, kampanye virtual antara lain sdh dilakukan oleh paslon walikota dan calon wakil walikota solo nomor u…', ' selamat berjuang gibran-teguh.\\nsemangat mewujudkan surakarta sebagai kota budaya yang modern, tangguh, gesit, kreatif, da…', ' saya optimis gibran-teguh mampu menerapkan kampanye sehat dari bahaya penularan virus korona dan menang dalam pilkada ini…', 'seluruh ranting pdi perjuangan se-kota surakarta siap memenangkan gibran-teguh dengan menaati dan patuh protokol ke… ', 'kampanye virtual gibran rakabuming-teguh prakosa dipuji warga solo ', 'kampanye virtual gibran rakabuming-teguh prakosa diapresiasi\\xa0warga ', ' kampanye virtual antara lain sdh dilakukan oleh pasangan calon walikota dan calon wakil walikota solo nomor urut , gibr…', 'selamat berjuang gibran-teguh.\\nsemangat mewujudkan surakarta sebagai kota budaya yang modern, tangguh, gesit, kreat… ', 'saya optimis gibran-teguh mampu menerapkan kampanye sehat dari bahaya penularan virus korona dan menang dalam pilka… ', ' perlu diketahui kampanye virtual antara lain sdh dilakukan oleh paslon cawalkot solo dgn no urut \\n\\ndi hari pertama kampany…', 'gibran kembali menyapa masyarakat dengan virtual box dengan keliling kampung, sedangkan teguh melakukan blusukan of… ', 'awal kampanye gibran – teguh sudah kantongi dana rp  m, bajo rp  ', ' agar tidak menimbulkan kerumunan massa, pasangan calon walikota solo gibran rakabuming raka dan teguh prakoso melakukan te…', ' dpc pdip solo menargetkan perolehan suara % untuk kemenangan gibran-teguh. perolehan suara itu tentunya dengan kontribusi y…', 'selamat berjuang mas gibran. gibran – teguh untuk solo . ', 'gibran - teguh melakukan kampanye unik blusukan online, guna menghindari pengumpulan massa dan mematuhi protocol ke… ', 'gibran - teguh melakukan kampanye unik blusukan online, guna menghindari pengumpulan massa dan mematuhi protocol ke… ', 'gibran - teguh melakukan kampanye unik blusukan online, guna menghindari pengumpulan massa dan mematuhi protocol ke… ', 'gibran - teguh melakukan kampanye unik blusukan online, guna menghindari pengumpulan massa dan mematuhi protocol ke… ', 'gibran - teguh melakukan kampanye unik blusukan online, guna menghindari pengumpulan massa dan mematuhi protocol ke… ', 'gibran - teguh melakukan kampanye unik blusukan online, guna menghindari pengumpulan massa dan mematuhi protocol ke… ', 'gibran - teguh melakukan kampanye unik blusukan online, guna menghindari pengumpulan massa dan mematuhi protocol ke… ', 'gibran - teguh melakukan kampanye unik blusukan online, guna menghindari pengumpulan massa dan mematuhi protocol ke… ', 'gibran - teguh melakukan kampanye unik blusukan online, guna menghindari pengumpulan massa dan mematuhi protocol ke… ', ' kampanye virtual sudah dilakukan oleh pasangan calon wali kota dan calon wakil wali kota solo nomor urut , gibran rakab…', 'pilwakot surakarta menjadi pilkada teramai nomor pertama dengan . berita. selain membahas sosok gibran, media… ', ' kampanye virtual sdh dilakukan oleh paslon gibran-teguh pd kampanye di bonorejo, kel nusukan, kec banjarsari, solo, jawa tenga…', ' pandemi covid- telah mengubah hampir semua mekanisme pertemuan menjadi online, ini bisa dicontoh paslon lain.\\nkampanye vi…', '     wah gibran - teguh inilah generasi yg sesungguhnya ', 'kampanye virtual antara lain sdh dilakukan oleh pasangan calon walikota dan calon wakil walikota solo nomor urut … ', ' pasangan cawali dan cawawali solo nomor urut , gibran rakabuming raka-teguh prakosa, langsung melakukan blusukan online di…', 'gibran rakabuming raka resmi menjadi calon wali kota solo dalam pemilihan kepala daerah (pilkada) serentak .\\n\\nb… ', ' #kampanyepilkadavirtual sdh dilakukan oleh paslon walikota dan calon wakil walikota solo nomor urut , gibran -teguh pd h…', 'seperti diberitakan, kampanye virtual antara lain sdh dilakukan oleh paslon walikota dan calon wakil walikota solo… ', ' seluruh ranting pdi perjuangan se-kota surakarta siap memenangkan gibran-teguh dengan menaati dan p… ', 'pasangan cawali dan cawawali solo nomor urut , gibran rakabuming raka-teguh prakosa, langsung melakukan blusukan… ', '#kampanyepilkadavirtual\\nkampanye perdana gibran-teguh blusukan daring dengan virtual box\\n\\nkampanye gibran berupa bl… ', 'agar tidak menimbulkan kerumunan massa, pasangan calon walikota solo gibran rakabuming raka dan teguh prakoso melak… ', ' #kampanyepilkadavirtual\\nkampanye virtual jg dilakukan oleh paslon gibran rakabuming raka-teguh prakosa di pilkada solo.…', ' #kampanyepilkadavirtual\\nketua tim pemenangan gibran-teguh, putut gunawan, mengatakan, pada tahapan kampanye ini timnya a…', ' #kampanyepilkadavirtual\\nkampanye virtual antara lain sudah dilakukan oleh pasangan calon wali kota dan calon wakil wali…', ' #kampanyepilkadavirtual\\npasangan calon wali kota dan wakil wali kota solo, gibran rakabuming raka-teguh prakosa, lebih b…', ' yang sudah kampanye virtual antara lain dilakukan oleh pasangan calon wali kota dan wakil walikota solo nomor urut , gibr…', ' fakta kampanye digital gibran - teguh di pilkada solo , warga bisa sampaikan keluh kesahnya ', '[nomor urut pasangan calon]\\n\\nkpu kota surakarta menetapkan nomor urut  pasangan gibran rakabuming raka - teguh pra… ', 'dana kampanye gibran-teguh &amp; bajo masing-masing dibatasi rp , m ', ' dapar nomor urut , gibran-teguh siap kampanye blusukan online\\n\\n\\n\\n#pdiperjuangan\\n#gibranteguh ht…', 'yang sudah kampanye virtual antara lain dilakukan oleh pasangan calon wali kota dan wakil walikota solo nomor urut… ', 'seluruh ranting pdi perjuangan se-kota surakarta siap memenangkan gibran-teguh dengan menaati dan patuh protokol ke… ', 'kampanye virtual sudah dilakukan oleh pasangan calon wali kota dan calon wakil wali kota solo nomor urut , gibran… ', 'ruarrrr biasahhh........ tiati nek ini jaman covid, megawati turun gunung jadi jurkam gibran-teguh, pengamat: kalau… ', 'perlu diketahui kampanye virtual antara lain sdh dilakukan oleh paslon cawalkot solo dgn no urut \\n\\ndi hari pertama… ', 'kampanye virtual sdh dilakukan oleh paslon gibran-teguh pd kampanye di bonorejo, kel nusukan, kec banjarsari, solo,… ', 'pandemi covid- telah mengubah hampir semua mekanisme pertemuan menjadi online, ini bisa dicontoh paslon lain.\\nkam… ', '#kampanyepilkadavirtual sdh dilakukan oleh paslon walikota dan calon wakil walikota solo nomor urut , gibran -teg… ', '#kampanyepilkadavirtual\\npasangan calon wali kota dan wakil wali kota solo, gibran rakabuming raka-teguh prakosa, le… ', '#kampanyepilkadavirtual\\nkampanye virtual antara lain sudah dilakukan oleh pasangan calon wali kota dan calon wakil… ', '#kampanyepilkadavirtual\\nketua tim pemenangan gibran-teguh, putut gunawan, mengatakan, pada tahapan kampanye ini tim… ', '#kampanyepilkadavirtual\\nkampanye virtual jg dilakukan oleh paslon gibran rakabuming raka-teguh prakosa di pilkada s… ', 'gibran-teguh vs bajo', 'pilkada solo: lawan gibran-teguh, dana kampanye pasangan bajo rp  #darisuara', 'gibran-teguh laporkan dana awal kampanye pilkada solo rp juta, bajo nol rupiah  ', 'gibran-teguh lakukan kampanye virtual, pakar komunikasi politik nilai kurang efektif - pikiran rakyat tasikmalaya -… ', ' lakukan kampanye virtual, pakar komunikasi politik nilai kurang efektif - pikiran rakyat ta… ', ' kampanye sehat kampanye cerdas, good luck buat gibran dan teguh semoga sukses', 'kampanye onlie dilakukan pasangan gibran-teguh prakosa untuk mencegah kerumunan. #kumparannews ', ' saluut mas gibran dan mas teguh udah bikin contoh baik cara berkampanye dimasa pandemi', ' mantap banget paslon walikota solo gibran &amp; teguh nih blusukan pun bisa via virtual ya, kampanye n… ', ' wah keren banget nih monitor nya ini bukti bahwa paslon walikota solo gibran &amp; teguh itu kreatif b… ', '  caranya bener bener keren menurut gua salut banget ama paslon gibran dan teguh', ' emang inovasi buat kampanye dimasa pandemi ini perlu dilakukan kaya ide kreatif dari paslon gibran dan teguh', ' keren nih monitor virtual paslon walikota solo gibran dan teguh semoga terpilih ya', '  salut banget dengan cara kampanyenya paslon gibran dan teguh ini guys', ' tetep bisa kampanye dimasa pandemi?? bisa banget dengan monitor virtual bisa banget buat blusukan… ', '  bagus bet ide kampanyenya paslon gibran dan teguh ini guys, patut dicontoh', 'pengambilan nomer urut paslon pilkada solo #idntimesjateng ', '. #beritasonora - pengundian nomor urut peserta pilkada , gibran-teguh dapat nomor urut … ', ' pengundian nomor urut peserta pilkada , gibran-teguh dapat nomor urut   ', 'pengundian nomor urut peserta pilkada , gibran-teguh dapat nomor urut   ', 'gibran-teguh , bagyo-supardjo , sama-sama yakin menang pilkada solo ', ' resmi ditetapkan kpu kota surakarta dengan nomor urut , gibran-teguh yakin bakal meraih kemenangan\\n\\n', 'pilkada solo: gibran-teguh dapat nomor , bajo  ', 'resmi ditetapkan kpu kota surakarta dengan nomor urut , gibran-teguh yakin bakal meraih kemenangan… ', 'calon walikota solo tuh emang gibran teguh doang? aku ga pernah liat baliho atau spanduk lawannya di sepanjang jala… ', 'kmi siap mengawal  mas gibran dan mas teguh prakosa dlm mimpin kota solo siap coblos nmor  ada pilihan kita ', 'pilkada solo, gibran-teguh dapat nomor urut   ', 'undian nomor urut gibran-teguh tampil putih hitam, apa maknanya? #gibranrakabuming #jokowidodo #sbagio… ', ' dua pasangan calon (paslon) pilkada solo mengikuti tahapan pengundian nomor urut. gibran rakabuming raka-teguh prakosa mendap…', 'dahsyat, gibran-teguh dapat nomor urut satu  ', 'dua pasangan calon (paslon) pilkada solo mengikuti tahapan pengundian nomor urut. gibran rakabuming raka-teguh prak… ', \" \\U0001f932selamat pagi assalamu'alaikum wr wb semoga kita selalu patuhi protokol kesehatan agar terhindar dari covid. tagar ha…\", 'gibran – teguh nomor , bajo  ', 'sah, gibran-teguh dapat nomor urut  #gibranrakabuming #teguhprakosa #wakilwalikota #mencucitangan #kotasurakarta… ', 'berbudaya kreatif moderen tangguh\\ngibran-teguh pasti menang\\nsolo bermanfaat\\n\\n\"all out losss ra rewel\"… ', ' gibran rakabuming raka yang maju sebagai calon wali kota solo berpasangan dengan teguh prakosa. ternyata ia mempunyai ha…', 'gibran-teguh komitmen taati protokol kesehatan\\n#covidrangerantara\\n#rangerantara\\n', 'gibran rakabuming raka yang maju sebagai calon wali kota solo berpasangan dengan teguh prakosa. ternyata ia mempuny… ', ' anda tuh anak muda milenial..cari cara yg jitu buat meraup suara dg cara daring dan virtual..\\n#partaitaatprokespilkada \\ntari…', ' setuju mas.bilngn ke semua pendukungnya juga..daring manfaatkan teknologi.anda itu calon milenial soalnya..inget prokes dan k…', 'gibran-teguh , bagyo-supardjo , sama-sama pede menang pilkada solo ', ' gw kira tuh gk ad lawanny ternyta ad juga tp lewat jalur independen toh..\\nseru juga nih lau kayak gini..jd lbh asyik dan hidu…', 'pilkada solo: gibran-teguh dapat nomor , bajo  ', 'anda tuh anak muda milenial..cari cara yg jitu buat meraup suara dg cara daring dan virtual..… ', 'pkb resmi dukung gibran-teguh di pilwakot solo ,lihat berita di tautan ', 'setuju mas.bilngn ke semua pendukungnya juga..daring manfaatkan teknologi.anda itu calon milenial soalnya..inget pr… ', 'gw kira tuh gk ad lawanny ternyta ad juga tp lewat jalur independen toh..\\nseru juga nih lau kayak gini..jd lbh asyi… ', 'selamat berjuang\\ngibran - teguh\\nsukses selalu. @ salemba raya ', '\"saya bersama pak teguh berkomitmen untuk selalu menaati protokol kesehatan, tetapi yang paling penting nomor satu… ', 'pemilune slamet rakyate iso ngeliwet, gibran-teguh bersilahturahmi ke warga keprabon kota surakarta (/)… ', 'gibran-teguh siapkan blusukan online di tengah pandemi covid- #gibranrakabumingraka #gibranrakabuming… ', ' komisi pemilihan umum (kpu) solo menggelar rapat pleno terbuka pengundian nomor urut pasangan calon wali kota dan wakil wali…', 'pilwalkot solo, gibran-teguh nomor urut  dan bajo  #ukasindonews #bangkitdaripandemi #gibran ', 'komisi pemilihan umum (kpu) solo menggelar rapat pleno terbuka pengundian nomor urut pasangan calon wali kota dan w… ', ' \\ndua pasangan calon walikota di the sunan hotel solo.\\npasangan\\xa0gibran-teguh mendapat nomor urut .… ', ' gibran-teguh nomor  dan bajo  di pilkada surakarta  ', ' gibran-teguh dapat nomor urut , sedangkan penantangnya pasangan bajo nomor . nomor mana yang dicoblos masyarakat solo?\\n\\narti…', 'gibran-teguh nomor  dan bajo  di pilkada surakarta  ', 'gibran-teguh dapat nomor urut , sedangkan penantangnya pasangan bajo nomor . nomor mana yang dicoblos masyarakat… ', 'gibran menilai nomor satu sama nomor dua sama baiknya ', 'gibran-teguh nomor  dan bajo  di pilkada surakarta - antara news bengkulu ', 'pilkada surakarta, gibran-teguh nomor  dan bajo nomor  - antara jateng ', 'pilwalkot solo, gibran-teguh nomor urut  dan bajo  ', 'naik mobil bertiga, gibran-teguh dan sukasno hadiri pleno kpu di the sunan\\xa0hotel ', 'gibran-teguh siapkan blusukan dan konser online ', 'sah, gibran-teguh nomor , lawannya bajo nomor  ', 'pasangan calon walikota dan wakil walikota surakarta periode - gibran-teguh mendapatkan nomor urut \\npasti… ', 'pilkada solo, gibran-teguh dapat nomor urut , bajo nomor \\n\\n', 'nomor urut di pilwalkot solo: gibran-teguh , bagyo-supardjo  #gibranrakabuming #disinfektan #komisipemilihanumum… ', 'pengundian nomer urut, gibran-teguh nomer urut satu, bajo nomer urut dua ', 'pilwalkot solo, gibran-teguh dapat nomor urut\\xa0 ', 'pilwalkot solo, gibran-teguh dapat nomor urut\\xa0 ', 'gibran – teguh nomor , bajo\\xa0 ', 'gibran teguh nomor urut , bajo nomor  ', 'hadiri pengambilan nomor urut paslon, begini penampilan gibran-teguh dan bajo ', 'nomer urut calon walikota &amp; wakil walikota surakarta\\n\\n. gibran rakabuming raka - teguh prakosa ( pdi perjuangan )… ', ' kpu kota solo, jawa tengah, menetapkan dua pasangan calon wali kota pilkada . dua pasangan itu yakni putra jokowi, gibran…', 'paslon gibran-teguh dapat nomor urut  di pilkada solo, tim sorak gembira ', 'kpu kota solo, jawa tengah, menetapkan dua pasangan calon wali kota pilkada . dua pasangan itu yakni putra joko… ', 'gibran-teguh dapat nomor urut  di pilkada solo #taucepattanpabatas #beritaterkini  . ', 'sah, gibran-teguh dapat nomor urut , bajo dapat nomor urut  pada pilkada solo  ', 'gibran-teguh nomor urut , bajo  pada pilwalkot solo ', ' pilkada solo, gibran-teguh dapat nomor urut , bajo nomor : kepada wartawan, gibran mengaku tidak mempermasalahkan mend…', 'rapat pleno penetapan nomor urut dan daftar pasangan calon peserta pemilihan wali kota dan wakil wali kota surakart… ', ' paslon gibran-teguh secara sah mendapat nomor urut  dalam pilkada solo . sedangkan paslon independen bajo mendapat nomor…', 'pilkada solo : gibran-teguh nomor urut , bajo  ', 'paslon gibran-teguh secara sah mendapat nomor urut  dalam pilkada solo . sedangkan paslon independen bajo mend… ', 'sah, gibran-teguh dapat nomor urut , bajo nomor\\xa0 ', 'pilkada solo, gibran-teguh dapat nomor urut , bajo nomor : kepada wartawan, gibran mengaku tidak mempermasalahkan… ', 'saat hadir dalam rapat pleno kpu pengundian nomor urut, gibran dan teguh memakai kemeja putih. berlawanan dengan wa… ', 'teguh, yang mendampingi gibran, langsung tepuk tangan saat mengetahui gibran mendapat nomor urut . tim lain yang h… ', 'pasangan calon pilkada kota solo , gibran rakabuming raka-teguh prakosa mendapat nomor urut , sementara lawann… ', '\"pengundian nomor urut paslon telah kita lakukan, paslon gibran-teguh mendapatkan nomor satu dan bajo nomor urut du… ', ' kpu tetapkan  paslon pilwakot solo, gibran-teguh dan bagyo-supardjo ', 'pasangan gibran rakabuming raka-teguh prakosa (gibran-teguh) dan bagyo wahyono-fx supardjo (bajo) menghadiri pengun… ', 'solo bersatu, gibran - teguh pilihanku!!\\n.\\n#solohebat #sobatsolohebat #solomelompatlebihjauh… ', 'kpu tetapkan  paslon pilwakot solo, gibran-teguh dan bagyo-supardjo ', ' mari kita doakan mak nek penggemar serial pembunuhan\\nini . . \\n\\npilkada solo, megawati turun tangan jadi jurkam gibran-teguh…', 'tarik pemilih milenial, gibran-teguh akan gelar konser musik virtual: tim pemenangan bakal pasangan calon wali kota… ', 'sah jadi paslon, gibran-teguh &amp; bagyo-supardjo tak soalkan nomor\\xa0urut ', ' lbp protes...\\nkarena saat\\nlbp sedang \"bla bla bla\"\\ntiba-\\nnajwa shihab\\nmenayangkan\\npelanggaran protokol covid-\\noleh peserta…', ' paslon gibran-teguh telah menyiapkan blusukan online untuk menyapa masyarakat solo. terkait bagaimana sistemnya, gibran masih…', '  ranting timuran bersama ibu-ibu penggerak timuran\\nsiap menangkan gibran-teguh\\n\\npemilune sl… ', 'paslon gibran-teguh telah menyiapkan blusukan online untuk menyapa masyarakat solo. terkait bagaimana sistemnya, gi… ', '', \"\\U0001f932selamat pagi assalamu'alaikum wr wb semoga kita selalu patuhi protokol kesehatan agar terhindar dari covid. tag… \", 'pasangan gibran-teguh dan bagyo-supardjo secara resmi akan bertarung memperebutkan kursi wali kota solo. kedua pasa… ', 'dukungan semakin gemuk, kini giliran pkpi merapat ke gibran-teguh di pilkada solo  ', 'gencarkan protokol kesehatan jelang pilkada serentak , gibran-teguh\\xa0terima hand sanitizer ', ' anak yg baik sekali mencontoh perilaku bapaknya...\\nnjrit blusukan online!!\\nsekalian gorong online!! \\n\\n', 'gibran-teguh dan bajo incar nomor urut  di pilkada solo ', ' pak purnomo. bentar lagi bisa jadi pak teguh kalau pak gibran jadi walkotnya.', ' semakin sejahtera dibawah kepemimpinan kader pdi perjuangan, petugas penarik sampah banjarsari siap memenangkan gibran-…', 'bagyo wahyono dan f.x. supardjo dipastikan menjadi lawan gibran-teguh dalam pilwalkot solo . bagyo-supardjo maj… ', 'udah kayak kepanitiaan ya ada rekening baru #merahputihcom #rekening #kampanye ', 'dukung pilkada solo aman, secret clean supohand sanitizer melalui paslon gibran-teguh ', ' kpu solo secara resmi menetapkan gibran rakabuming raka-teguh prakosa dan bagyo wahyono-fx supardjo (bajo) sebagai pasangan c…', 'anak yg baik sekali mencontoh perilaku bapaknya...\\nnjrit blusukan online!!\\nsekalian gorong online!! \\n\\n', 'mari kita doakan mak nek penggemar serial pembunuhan\\nini . . \\n\\npilkada solo, megawati turun tangan jadi jurkam gibr… ', 'kpu solo secara resmi menetapkan gibran rakabuming raka-teguh prakosa dan bagyo wahyono-fx supardjo (bajo) sebagai… ', 'dukung gibran-teguh, pkpi: pemimpin solo paling wow! ', ' sah! gibran rakabuming-teguh dan bajo jadi calon wali kota solo  ', 'gibran-teguh siapkan blusukan online ', 'kpu tetapkan gibran-teguh dan bagyo-supardjo paslon di pilwalkot solo  #gibranrakabuming #komisipemilihanumum… ', 'sah jadi paslon, gibran-teguh &amp; bagyo-supardjo tak soalkan nomor urut ', 'dukungan semakin gemuk, kini giliran pkpi merapat ke gibran-teguh di pilkada solo  ', 'gibran - teguh dan bajo resmi sebagai paslon wali kota solo di pilkada \\xa0  ', 'semua kembali pada rakyat / masyarakat.\\napakah masih mau dibodohi ?\\nfakta dan realitanya, setelah mereka menduduki… ', 'ketua tim pemenangan gibran-teguh berharap agar mendapat nomor urut . ', 'rapat pleno tertutup kpu surakarta menetapkan pasangan\\xa0gibran-teguh dan bagyo-supardjo maju dalam pilkada\\xa0 wali kot… ', ' demi memperjuangkan gibran-teguh, megawati, puan dan hasto siap jadi juru kampanye ', 'demi memperjuangkan gibran-teguh, megawati, puan dan hasto siap jadi juru kampanye\\n', 'semakin sejahtera dibawah kepemimpinan kader pdi perjuangan, petugas penarik sampah banjarsari siap memenangkan gib… ', 'demi memperjuangkan gibran-teguh, megawati, puan dan hasto siap jadi juru kampanye ', 'megawati dan puan bakal jadi jurkam gibran-teguh  ', 'megawati dan puan bakal jadi jurkam gibran-teguh  ', 'banteng solotengah\\nberhimpun &amp; bergerak \\nsiap memenangkan\\ngibran-teguh\\n\\npemilune slamet wargane iso ngliwet ', 'banteng solotengah\\nberhimpun &amp; bergerak \\nsiap memenangkan\\ngibran-teguh\\n\\npemilune slamet wargane iso ngliwet', 'konsolidasi ranting anting &amp; satgas timuran\\nsolid bergerak gibran-teguh\\n\\npemilune slamet...wargane iso ngliwet ', 'kpu tetapkan gibran-teguh dan bajo sebagai peserta pilkada solo: nurul menjelaskan, rapat pleno penetapan calon tid… ', 'bajo sah jadi lawan gibran-teguh dalam pilwakot solo  ', 'sah! gibran-teguh bakal bertemu bajo di pilkada surakarta  ', ' megawati soekarnoputri dan puan maharani akan turun gunung menjadi juru kampanye gibran rakabuming-teguh prakosa di pilkada s…', 'kpu tetapkan gibran-teguh dan bajo sebagai peserta pilkada solo: nurul menjelaskan, rapat pleno penetapan calon tid… ', ' gibran-teguh dan bagyo-suparjo ditetapkan kpu untuk bertarung dalam pilkada solo ', 'gibran-teguh dan bagyo-suparjo ditetapkan kpu untuk bertarung dalam pilkada solo ', 'resmi bersaing. pengundian nomor urut paslon akan dilakukan besok melalui pleno terbuka.\\n\\n#validnews #nasional\\n\\n', 'kpu resmikan paslon pilkada solo: teguh-gibran vs bajo #pilkadasolo #gibranrakabuming ', 'sah! gibran rakabuming-teguh dan bajo jadi calon wali kota solo  ', 'megawati dan puan bakal jadi jurkam gibran-teguh ', 'gibran-teguh dan bajo resmi jadi paslon pilkada solo ', 'sah,  gibran-teguh dan bajo jadi peserta pilkada solo ', 'kpu tetapkan gibran-teguh dan bajo calon pilkada surakarta ', ' warga solo, yang gak suka gibran, yang nuduh dinasti politik, sila pilih bajo. jangan golput. \\n\\n', 'dua paslon yakni gibran rakabuming raka-teguh prakosa dan bagyo wahyono-fx supardjo (bajo) akan bertarung dalam pil… ', 'batal lawan kotak kosong, gibran-teguh bakal ditantang bagyo-suparjo di pilkada solo  #pilkada #pilwakotsolo', 'kpu solo sahkan pertarungan gibran-teguh lawan bajo di pilkada ', 'sah! gibran-teguh vs bajo bersaing di pilkada solo   ', 'kpu tetapkan gibran-teguh dan bajo paslon pilkada solo ', 'ketua umum pdip megawati soekarnoputri dan ketua dpp puan maharani serta sekjen hasto kristianto bakal \"turun gunun… ', 'kpu tetapkan gibran-teguh dan bagyo-supardjo sebagai paslon di pilwalkot solo\\xa0 ', 'warga solo, yang gak suka gibran, yang nuduh dinasti politik, sila pilih bajo. jangan golput. \\n\\n', 'patuihi protokol kesehatan saat kampanye di solo, gibran-teguh bakal gelar konser musik virtual ', 'pengumuman penetapan calon pilkada solo online, gibran – teguh &amp; bagyo – supardjo tak datang ke kpu ', 'begini kata tim pemenangan gibran dan teguh soal penundaan pilkada   ', '\"asyik pilkadanya jadi ya...\" teriak rakyat yang lagi pusing ganti masker  scuba nya, dan di-aminin sama tenaga kes… ', 'sah! tukang jahit &amp; ketua rw tanding lawan putra presiden jokowi gibran &amp; teguh di pilkada solo  ', 'bajunya keren mas \\n\\nkenalkan seragam kampanye gibran-teguh di pilkada solo, ini maknanya ', 'ketua tim pemenangan bakal pasangan calon gibran - teguh, putut gunawan mengatakan kehadiran megawati diharapkan da… ', 'menangkan gibran-teguh, puan maharani dan megawati turun gunung jadi jurkam di pilkada solo\\n#soloraya #pilkadasolo… ', ' kpu menyatakan paslon gibran-teguh dan paslon bagyo-supardjo sebagai calon wali kota solo. #publisherstory ', 'kpu tetapkan gibran-teguh dan bagyo-supardjo paslon di pilwalkot solo  ', 'kpu menyatakan paslon gibran-teguh dan paslon bagyo-supardjo sebagai calon wali kota solo. #publisherstory ', '\"ada dua pasangan yang kami tetapkan, yakni gibran-teguh dan bagyo-supardjo,\" ujar ketua kpu solo, nurul sutarti. ', 'ranting timuran bersama ibu-ibu penggerak timuran siap menangkan gibran-teguh\\n\\npemilune slamet wargane iso ngliwet… ', 'ranting timuran bersama ibu-ibu se timuran siap bergerak &amp; memenangkan gibran-teguh\\n\\n#pdiperjuangan… ', ' megawati menjadi jurkam gibran-teguh di pilwalkot solo ', ' paling jurus nangis yang akan diandalkan,seperti halnya waktu jadi presiden hasil dari gusdur lengser,kalau nggak nang…', 'paling jurus nangis yang akan diandalkan,seperti halnya waktu jadi presiden hasil dari gusdur lengser,kalau nggak n… ', 'nomor urut  di pilkada solo  jadi rebutan bajo independen dan pasangan calon pdip gibran-teguh ', 'ketum pdip megawati soekarno putri dan ketua dpr puan maharani disebut bakal menjadi juru kampanye gibran rakabumin… ', 'kampanye gibran-teguh, pertimbangkan gelar konser ', ' pilkada solo, megawati turun tangan jadi jurkam gibran-teguh ', 'pilkada solo, megawati turun tangan jadi jurkam gibran-teguh - follow   ', 'puan hingga megawati bakal jadi juru kampanye gibran-teguh - \\n\\n#indonesia', 'tim pemenangan pasangan gibran rakabuming raka-teguh prakosa yang diusung pdip serta didukung delapan parpol tidak… ', 'pilkada solo, megawati turun tangan jadi jurkam gibran-teguh ', 'ketua dpr dan mantan presiden bakal jadi jurkam gibran-teguh di pilkada solo ', ' ashiaap', 'mantan presiden masuk tim juru kampanye gibran-teguh di pilkada solo ', 'megawati soekarnoputri dan puan maharani akan turun gunung menjadi juru kampanye gibran rakabuming-teguh prakosa di… ', 'namun, belum dipastikan apakah megawati akan datang langsung ke solo atau melalui daring. ', 'megawati menjadi jurkam gibran-teguh di pilwalkot solo ', 'kampanye gibran-teguh, pertimbangkan gelar konser ', 'kpu solo: penetapan gibran-teguh dan bagyo-suparjo tertutup ', 'dua pasangan bacalon wali kota solo usung konsep berbeda soal tata ruang. ', '#darimks ketua dpr ri hingga mantan presiden ri jadi tim jurkam gibran-teguh:  ', 'pilkada ditunda, tim pemenangan gibran-teguh: kami pasti diuntungkan\\n ', 'pilkada ditunda, tim pemenangan gibran-teguh: kami pasti diuntungkan\\n ', 'pilkada ditunda, tim pemenangan gibran-teguh: kami pasti diuntungkan\\n ', 'megawati dan para elit partai akan turun gunung kampanyekan gibran - teguh #temponasional ', 'timses paslon gibran-teguh akan menghadirkan megawati hingga puan maharani untuk menjadi juru kampanye. ', ' ayo, pilih gibran - teguh ', ' pdip menyiapkan juru kampanye untuk memenangkan pilkada . di pilkada solo, ketua umum pdip megawati soekarnoputri akan me…', ' para tokoh partai politik bakal berdatangan ke solo selama masa kampanye. megawati soekarnoputri juga akan dihadirkan untuk…', 'para tokoh partai politik bakal berdatangan ke solo selama masa kampanye. megawati soekarnoputri juga akan dihadirk… ', 'ketua umum pdip megawati soekarnoputri akan menjadi salah satu juru kampanye pasangan gibran rakabuming raka-teguh… ', 'pdip menyiapkan juru kampanye untuk memenangkan pilkada . di pilkada solo, ketua umum pdip megawati soekarnoput… ', ' tim pemenangan gibran-teguh minta kpu gelar rapat pleno terbuka penetapan calon: pernyataan tersebut dikemukakan lo (lia…', 'tim pemenangan gibran-teguh minta kpu gelar rapat pleno terbuka penetapan calon: pernyataan tersebut dikemukakan lo… ', '#tim gibran-teguh memprotes kpu solo - jawa pos  #demokrasi #indonesia', 'gaet pemilih milenial, gibran rakabuming-teguh prakosa bakal gelar konser virtual ', 'konser musik virtual menjadi bagian dari menggalang dukungan warga terhadap pasangan gibran dan teguh. setidaknya i… ', 'megawati dan puan bakal jadi jurkam gibran-teguh: kehadiran para tokoh partai berlambang kepala banteng moncong put… ', ' siapa saja yang bakal menjadi juru kampanye gibran dan teguh di pilwalkot solo? ', 'siapa saja yang bakal menjadi juru kampanye gibran dan teguh di pilwalkot solo? ', '   keren banget nih acaranya, kemaren gua nonton pengisi acaranya itu keren , semoga… ', '   keren banget nih acaranya, kemaren gua nonton pengisi acaranya itu keren , semoga… ', '   keren banget nih acaranya, kemaren gua nonton pengisi acaranya itu keren , s… ', '   keren banget nih acaranya, kemaren gua nonton pengisi acaranya itu keren , semo… ', '   keren banget nih acaranya, kemaren gua nonton pengisi acaranya itu keren , s… ', ' mantul nih film', '   keren banget nih acaranya, kemaren gua nonton pengisi acaranya itu keren , semoga… ', '   keren banget nih acaranya, kemaren gua nonton pengisi acaranya itu keren , semoga… ', '   keren banget nih acaranya, kemaren gua nonton pengisi acaranya itu keren , se… ', ' aku liat dulu ya kak ig nya', 'tim gibran-teguh memprotes kpu solo ', 'cara kampanye di tengah pandemi covid-, gibran-teguh bakal blusukan online  ', 'band apa yang cocok? \\n\\npatuhi protokol kesehatan saat kampanye di solo, gibran-teguh bakal gelar konser musik virtu… ', 'gelar konser musik virtual cara gibran-teguh lebih dekat dengan pemilih\\xa0milenial ', '   pasti seru banget acaranya apalagi ada boy william', ' angkat jargon pemilune slamet wargane iso ngliwet, ketua dpc pdi perjuangan surakarta ajak penarik sampah laweyan sukse…', ' rapatkan barisan utk kemenangan gibran-teguh demi keberlanjutan program kebijakan yang pro wong cil… ', 'angkat jargon pemilune slamet wargane iso ngliwet, ketua dpc pdi perjuangan surakarta ajak penarik sampah laweyan s… ', 'patuihi protokol kesehatan saat kampanye di solo, gibran-teguh bakal gelar konser musik virtual ', ' rebut hati milenial solo, gibran-teguh siapkan konser musik virtual  ', ' target raih % suara, gibran-teguh andalkan jurkam nasional hingga influencer  ', 'rebut hati milenial solo, gibran-teguh siapkan konser musik virtual  ', 'silaturahmi ke tegalharjo, gibran-teguh janji lanjutkan program wmp rudy-poernomo hingga percepatan pemulihan ekon… ', 'target raih % suara, gibran-teguh andalkan jurkam nasional hingga influencer  ', 'kpu putuskan tak undang gibran-teguh dan bajo saat penetapan calon pilkada solo: “itu nanti pleno internal, kemudia… ', 'mantap jiwa! puan hingga megawati terjun jadi jurkam gibran-teguh di pilkada   ', 'perindo dukung pasangan gibran - teguh jadi wali kota dan wakil wali kota solo\\n\\n', 'saat menghadiri “deklarasi adaptasi kebiasaan baru untuk mendukung percepatan penanganan covid ” gibran - teguh j… ', 'saat menghadiri “deklarasi adaptasi kebiasaan baru untuk mendukung percepatan penanganan covid ” gibran - teguh j… ', 'saat menghadiri “deklarasi adaptasi kebiasaan baru untuk mendukung percepatan penanganan covid ” gibran - teguh j… ', 'saat menghadiri “deklarasi adaptasi kebiasaan baru untuk mendukung percepatan penanganan covid ” gibran - teguh j… ', '[hoax] presiden jadi tim sukses gibran-teguh  via ', 'visi-misi pilkada  gibran - teguh: kota solo sebagai kota budaya modern &amp; lanjutkan program rudy ', 'partai perindo resmi dukung pasangan gibran-teguh di pilwakot solo \\n\\n']\n"
          ],
          "name": "stdout"
        }
      ]
    },
    {
      "cell_type": "code",
      "metadata": {
        "id": "a3qYu46hVvUr",
        "outputId": "bc90a729-7bad-4c54-b4ef-35e3e80b341b",
        "colab": {
          "base_uri": "https://localhost:8080/",
          "height": 54
        }
      },
      "source": [
        "#Menghapus \"\\n\"\n",
        "tweet_data_7=[]\n",
        "for teks in tweet_data_6:\n",
        "  teks_process = [re.sub('\\n','',teks)]\n",
        "  tweet_data_7=tweet_data_7+teks_process\n",
        "print(tweet_data_7)"
      ],
      "execution_count": null,
      "outputs": [
        {
          "output_type": "stream",
          "text": [
            "['populer nusantara antara lain konlik antara kapolres blitar dengan kasat sabhara. sementara di solo, sandiaga ipers… ', ' sandiaga uno menjadi juru kampanye pasangan calon wali kota dan wakil wali kota solo, gibran rakabuming raka-teguh prakos…', ' sandiaga uno jadi juru kampanye gibran-teguh di pilkada solo, disebut ada lobi jokowi', \"~ninggal tatu~kowe tak sayang-sayang saiki malah ngilang' tresnamu karo aku, kuwi mung kiasankowe tak gadhang… \", ' sandi uno jadi juru kampanye gibran-teguh di pilkada solo, disebut ada lobi jokowi.perjuangan bapak perbaiki martabak anak…', 'tidur dulu ah sakit badan nihh', 'nyeri awak', 'ngantukkkk', 'sandi uno jadi juru kampanye gibran-teguh di pilkada solo, disebut ada lobi jokowi.perjuangan bapak perbaiki mart… ', ' selain sandiaga uno, ada nama besar lain yang juga akan menjadi jurkam paslon gibran-teguh di solo | #pilkada   ', 'respons kabar sandiaga bakal jadi jurkam, gibran rancang kampanye daring: wakil ketua dewan pembina partai gerindra… ', 'selain sandiaga uno, ada nama besar lain yang juga akan menjadi jurkam paslon gibran-teguh di solo | #pilkada   ', '   udah baca ini belom blog? ', ' sandiaga uno jadi juru kampanye gibran-teguh di pilkada solo, disebut ada lobi jokowi. borong dari medan sampai solo. htt…', 'hoammmmmm', 'gibran – teguh: pilkada sesuai jadwal, demokratis dan aman dari covid-. ', 'solo ber – satu, gibran – teguh pilihanku. ', 'gibran – teguh mendapat nomor urut satu untuk pilkada solo . pa ', 'gibran – teguh mendapat nomor urut satu untuk pilkada solo . pa ', 'gibran: saya dan pak teguh tetap berkomitmen menjaga protokol kesehatan selama kampanye. ', 'gibran – teguh: untuk mendukung pilkada aman, secret clean (pt victoria care) memberikan bantuan hand sanitizer. ', 'capek euy', 'sandiaga uno digadang-gadang menjadi jurkam paslon gibran-teguh dalam pilkada solo . sandiaga menjadi jurkam ta… ', 'mantan wakil gubernur dki jakarta sandiaga uno bakal menjadi juru kampanye pasangan calon gibran rakabuming raka-te… ', '    gk butuh jurkam dari pusat spt  warga solo cukup berdi… ', ' wakil ketua dpp gerindra  akan menjadi juru kampanye untuk pasangan calon wali kota dan wakil wali kota solo, gi…', ' sandiaga uno jadi juru kampanye gibran-teguh di pilkada solo, disebut ada lobi jokowi', 'wakil ketua dpp gerindra  akan menjadi juru kampanye untuk pasangan calon wali kota dan wakil wali kota so… ', 'asyiikkk', 'laparrr', '\\U0001f970\\U0001f970\\U0001f970', 'mantap! sandiaga uno jadi jurkam gibran-teguh di pilkada solo  ', 'lebih lanjut ardianto mengatakan, saat ini pihaknya sedang mengkaji persiapan deklarasi tim pemenangan untuk paslon gibran-teguh.', 'mantan wakil gubernur dki jakarta ini dimungkinkan akan mengkampanyekan pasangan gibran-teguh juga secara virtual.', 'termasuk model kampanye yang digunakan sandiaga untuk paslon gibran-teguh. menurutnya, antara gibran dengan sandi, sangat bisa disatukan.', 'menurutnya, faktor kedekatan antara sandiaga, prabowo subianto (ketua dpp partai gerindra) dengan presiden jokowi s… ', 'kabar sandiaga akan menjadi juru kampanye untuk pasangan gibran teguh, dibenarkan oleh ketua dpc partai gerindra solo ardianto kuswinarno.', 'menurutnya, faktor kedekatan antara sandiaga, prabowo subianto (ketua dpp partai gerindra) dengan presiden jokowi s… ', 'wakil ketua dewan pembina partai gerindra sandiaga salahudin uno akan menjadi juru kampanye (jurkam) untuk pasangan… ', 'menurutnya, faktor kedekatan antara sandiaga, prabowo subianto (ketua dpp partai gerindra) dengan presiden jokowi s… ', 'wakil ketua dewan pembina partai gerindra sandiaga salahudin uno akan menjadi juru kampanye (jurkam) untuk pasangan… ', 'wakil ketua dewan pembina partai gerindra sandiaga salahudin uno akan menjadi juru kampanye (jurkam) untuk pasangan… ', 'menurutnya, faktor kedekatan antara sandiaga, prabowo subianto (ketua dpp partai gerindra) dengan presiden jokowi s… ', 'menurutnya, faktor kedekatan antara sandiaga, prabowo subianto (ketua dpp partai gerindra) dengan presiden jokowi s… ', 'wakil ketua dewan pembina partai gerindra sandiaga salahudin uno akan menjadi juru kampanye (jurkam) untuk pasangan… ', 'wakil ketua dewan pembina partai gerindra sandiaga salahudin uno akan menjadi juru kampanye (jurkam) untuk pasangan… ', 'menurutnya, faktor kedekatan antara sandiaga, prabowo subianto (ketua dpp partai gerindra) dengan presiden jokowi s… ', 'wakil ketua dewan pembina partai gerindra sandiaga salahudin uno akan menjadi juru kampanye (jurkam) untuk pasangan… ', 'orang amerika mungkin jadi mikir, jangan nanti kalau biden menang dan trump kalah kemudian anaknya biden nyalon… ', ' selamat bang  , semoga solo kedepan bisa bebas dari kaum intoleransi..!! ', '         ', 'selamat bang  , semoga solo kedepan bisa bebas dari kaum intoleransi..!! ', 'politisi partai gerindra sandiaga solahuddin uno akan menjadi juru kampanye (jurkam) pasangan calon wali kota dan w… ', 'sandiaga uno menjadi juru kampanye pasangan calon wali kota dan wakil wali kota solo, gibran rakabuming raka-teguh… ', 'pilwalkot solo, sandiaga uno siap diterjunkan jadi jurkam gibran-teguh  ', '   oh jadi ini ya 🤣🤣 ', 'sandiaga akan jadi jurkam gibran di solo dan bobby di medan: menurutnya, faktor kedekatan antara sandiaga, prabowo… ', '#sandiagauno #prabowo #gerindra #pdiperjuangan', 'sandiaga uno jadi juru kampanye gibran-teguh di pilkada solo, disebut ada lobi jokowi', 'politisi partai gerindra sandiaga solahuddin uno dipersiapkan menjadi jukam pasangan calon wali kota dan wakil wali… ', ' \"apbd kota solo tiap hari kita bahas dengan pak teguh, ini adalah masa-masa di mana kita harus bersabar dan banyak sekali an…', ' \"saya berkomitmen untuk menaati protokol kesehatan. setiap hari saya dengungkan ke warga program prioritas saya dan pak tegu…', 'sandiaga uno jadi juru kampanye gibran-teguh di pilkada solo, disebut ada lobi jokowi. borong dari medan sampai sol… ', ' kalau gibran nggak bermanuver kira-kira ibu ketum bakal milih dia atau enggak ya??? sementara pdip sudah ng… ', 'mantap! sandiaga uno jadi jurkam gibran-teguh di pilkada solo  ', '\"lobi-lobinya politik tingkat tinggi. karena ketum kami (prabowo subianto) dengan pak jokowi sangat dekat sekali.… ', '   wkwkw jadi jasa terawang gini dah gibran-teguh yang menang kalo dia kalah kalem ada leg kedua wkwkkw', ' politisi partai gerindra sandiaga solahuddin uno dipersiapkan menjadi jukam pasangan calon wali kota dan wakil wali kota sol…', 'sandiaga uno jadi juru kampanye gibran-teguh di pilkada solo, disebut ada lobi jokowi', 'apa kabar papa online sandiaga uno jadi jurkam gibran-teguh di pilkada solo klik untuk baca:… ', 'politisi partai gerindra sandiaga solahuddin uno dipersiapkan menjadi jukam pasangan calon wali kota dan wakil wali… ', 'gotong royong melawan covid- bersama gibran – teguh. ', 'gibran genap  tahun, teguh doakan putra jokowi terpilih jadi wali kota dan bisa membangun solo ', ' \"apbd kota solo tiap hari kita bahas dengan pak teguh, ini adalah masa-masa di mana kita harus bersabar dan banyak sekali angga…', ' pengurus dpd psi solo dipimpin langsung bro antonius yoga melakukan fogging di permukiman warga.pada kesempatan yang sama, me…', 'gibran-teguh melakukan blusukan ke masyarakat dalam rangka membantu masyarakat yang terkena dampak pandemi ', ' pertanyaan najwa tidak perlu kita ragukan lagi, namun apakah jawaban mas gibran n cara menjawab nya su… ', ' \"saya berkomitmen untuk menaati protokol kesehatan. setiap hari saya dengungkan ke warga program prioritas saya dan pak teguh a…', 'paslon gibran-teguh kembali melakukan blusukan online ke beberapa kelurahan di solo. dalam kesempatan itu, gibran a… ', 'paslon gibran-teguh kembali melakukan blusukan online ke beberapa kelurahan di solo. dalam kesempatan itu, gibran a… ', ' putra presiden joko widodo, gibran rakabuming raka, yang berpasangan dengan teguh prakosa di pilwalkot surakarta. / #nasiona…', 'putra presiden joko widodo, gibran rakabuming raka, yang berpasangan dengan teguh prakosa di pilwalkot surakarta. /… ', '\"apbd kota solo tiap hari kita bahas dengan pak teguh, ini adalah masa-masa di mana kita harus bersabar dan banyak… ', '\"apbd kota solo tiap hari kita bahas dengan pak teguh, ini adalah masa-masa di mana kita harus bersabar dan banyak… ', '\"saya berkomitmen untuk menaati protokol kesehatan. setiap hari saya dengungkan ke warga program prioritas saya dan… ', '\"saya berkomitmen untuk menaati protokol kesehatan. setiap hari saya dengungkan ke warga program prioritas saya dan… ', ' solo bersatu, gibran - teguh pilihanku!!.#solohebat #sobatsolohebat #solomelompatlebihjauh #lompatananakmudauntuksolo #…', 'bajo blusukan langsung ke tokoh agama, gibran-teguh pakai virtualbox ', ' identitas yang satu ini akan menjadi tugas bersama masyarakat solo dan pasangan mas gibran &amp; mas teguh untuk membawa solo…', ' identitas yang satu ini akan menjadi tugas bersama masyarakat solo dan pasangan mas gibran &amp; mas teguh prakasa untuk memb…', 'amunisi bertambah, pkpi dukung gibran – teguh di pilkada solo. ', ' dana kampanye gibran-teguh &amp; bajo masing-masing dibatasi rp ,\\xa0m ', 'dana kampanye gibran-teguh &amp; bajo masing-masing dibatasi rp ,\\xa0m ', 'gibran-teguh for solo  #gibranforsolo ', 'bajo blusukan langsung ke tokoh agama, gibran-teguh pakai virtualbox ', 'pasangan gibran-teguh dan bajo memiliki cara tersendiri untuk menggaet suara warga kota solo. simak gaya kampanye m… ', 'mas gibran mohon maaf, jadinya mas fans apa mas? kok semuanya mas wkwkwkgibran-teguh ! ', 'pengurus dpd psi solo dipimpin langsung bro antonius yoga melakukan fogging di permukiman warga.pada kesempatan y… ', ' pilkada solo , sandiaga uno bakal kampanyekan gibran-teguh ', 'pilkada solo , sandiaga uno bakal kampanyekan gibran-teguh ', ' #kampanyepilkadavirtualkampanye perdana gibran-teguh blusukan daring dengan virtual boxkampanye gibran berupa blusuka…', ' rapatkan barisan, menangkan gibran-teguh', ' seluruh ranting pdi perjuangan se-kota surakarta siap memenangkan gibran-teguh dengan menaati dan patuh protokol keseha…', 'ijin bal rapopo di tahan sik , sing penting ijin dodolanku tetep metu seko polri, bekingane gibran teguh og :| ', '#pilwakotsolo kampanye, gibran-teguh bagi tugas  ', '#pilwakotsolo kampanye, gibran-teguh bagi tugas  ', '#pilwakotsolo kampanye, gibran-teguh bagi tugas  ', ' pilwakot surakarta menjadi pilkada teramai nomor pertama dengan . berita. selain membahas sosok gibran, media menyor…', 'sudahlah paslon bajo biasa gegaruk bidjie aja gegayaan luh ikutan #pilkada segala. kalo boleh usul mendingan… ', ' dana awal kampanye: gibran-teguh rp juta, bajo rp #pilkada ', 'dana awal kampanye: gibran-teguh rp juta, bajo rp #pilkada ', 'komisi pemilihan umum (kpu) solo, jawa tengah telah menerima pendaftaran  akun media sosial (medsos) milik kedua… ', 'megawati turun gunung jadi jurkam gibran-teguh, pengamat: kalau kalah harga diri pdip-jokowi hancur ', 'pilkada solo: lawan gibran-teguh, dana kampanye pasangan bajo rp -  ', ' siap akhi, saya masih memegang teguh sepenggal kalimat dari khalil gibran wkwk', ' warga solo antusias dengan adanya box virtual kampanye yang disediakan paslon gibran-teguh. warga pun dapat berkeluh kesah de…', 'warga solo antusias dengan adanya box virtual kampanye yang disediakan paslon gibran-teguh. warga pun dapat berkelu… ', ' ayo rapatkann barisan utk memenangkan gibran - teguh dgn menerapkan disiplin protok kesehatan.*sa… ', 'pilkada solo: lawan gibran-teguh, dana kampanye pasangan bajo rp #kelurahannusukan #panjipanji… ', ' seperti diberitakan, kampanye virtual antara lain sdh dilakukan oleh paslon walikota dan calon wakil walikota solo nomor u…', ' selamat berjuang gibran-teguh.semangat mewujudkan surakarta sebagai kota budaya yang modern, tangguh, gesit, kreatif, da…', ' saya optimis gibran-teguh mampu menerapkan kampanye sehat dari bahaya penularan virus korona dan menang dalam pilkada ini…', 'seluruh ranting pdi perjuangan se-kota surakarta siap memenangkan gibran-teguh dengan menaati dan patuh protokol ke… ', 'kampanye virtual gibran rakabuming-teguh prakosa dipuji warga solo ', 'kampanye virtual gibran rakabuming-teguh prakosa diapresiasi\\xa0warga ', ' kampanye virtual antara lain sdh dilakukan oleh pasangan calon walikota dan calon wakil walikota solo nomor urut , gibr…', 'selamat berjuang gibran-teguh.semangat mewujudkan surakarta sebagai kota budaya yang modern, tangguh, gesit, kreat… ', 'saya optimis gibran-teguh mampu menerapkan kampanye sehat dari bahaya penularan virus korona dan menang dalam pilka… ', ' perlu diketahui kampanye virtual antara lain sdh dilakukan oleh paslon cawalkot solo dgn no urut di hari pertama kampany…', 'gibran kembali menyapa masyarakat dengan virtual box dengan keliling kampung, sedangkan teguh melakukan blusukan of… ', 'awal kampanye gibran – teguh sudah kantongi dana rp  m, bajo rp  ', ' agar tidak menimbulkan kerumunan massa, pasangan calon walikota solo gibran rakabuming raka dan teguh prakoso melakukan te…', ' dpc pdip solo menargetkan perolehan suara % untuk kemenangan gibran-teguh. perolehan suara itu tentunya dengan kontribusi y…', 'selamat berjuang mas gibran. gibran – teguh untuk solo . ', 'gibran - teguh melakukan kampanye unik blusukan online, guna menghindari pengumpulan massa dan mematuhi protocol ke… ', 'gibran - teguh melakukan kampanye unik blusukan online, guna menghindari pengumpulan massa dan mematuhi protocol ke… ', 'gibran - teguh melakukan kampanye unik blusukan online, guna menghindari pengumpulan massa dan mematuhi protocol ke… ', 'gibran - teguh melakukan kampanye unik blusukan online, guna menghindari pengumpulan massa dan mematuhi protocol ke… ', 'gibran - teguh melakukan kampanye unik blusukan online, guna menghindari pengumpulan massa dan mematuhi protocol ke… ', 'gibran - teguh melakukan kampanye unik blusukan online, guna menghindari pengumpulan massa dan mematuhi protocol ke… ', 'gibran - teguh melakukan kampanye unik blusukan online, guna menghindari pengumpulan massa dan mematuhi protocol ke… ', 'gibran - teguh melakukan kampanye unik blusukan online, guna menghindari pengumpulan massa dan mematuhi protocol ke… ', 'gibran - teguh melakukan kampanye unik blusukan online, guna menghindari pengumpulan massa dan mematuhi protocol ke… ', ' kampanye virtual sudah dilakukan oleh pasangan calon wali kota dan calon wakil wali kota solo nomor urut , gibran rakab…', 'pilwakot surakarta menjadi pilkada teramai nomor pertama dengan . berita. selain membahas sosok gibran, media… ', ' kampanye virtual sdh dilakukan oleh paslon gibran-teguh pd kampanye di bonorejo, kel nusukan, kec banjarsari, solo, jawa tenga…', ' pandemi covid- telah mengubah hampir semua mekanisme pertemuan menjadi online, ini bisa dicontoh paslon lain.kampanye vi…', '     wah gibran - teguh inilah generasi yg sesungguhnya ', 'kampanye virtual antara lain sdh dilakukan oleh pasangan calon walikota dan calon wakil walikota solo nomor urut … ', ' pasangan cawali dan cawawali solo nomor urut , gibran rakabuming raka-teguh prakosa, langsung melakukan blusukan online di…', 'gibran rakabuming raka resmi menjadi calon wali kota solo dalam pemilihan kepala daerah (pilkada) serentak .b… ', ' #kampanyepilkadavirtual sdh dilakukan oleh paslon walikota dan calon wakil walikota solo nomor urut , gibran -teguh pd h…', 'seperti diberitakan, kampanye virtual antara lain sdh dilakukan oleh paslon walikota dan calon wakil walikota solo… ', ' seluruh ranting pdi perjuangan se-kota surakarta siap memenangkan gibran-teguh dengan menaati dan p… ', 'pasangan cawali dan cawawali solo nomor urut , gibran rakabuming raka-teguh prakosa, langsung melakukan blusukan… ', '#kampanyepilkadavirtualkampanye perdana gibran-teguh blusukan daring dengan virtual boxkampanye gibran berupa bl… ', 'agar tidak menimbulkan kerumunan massa, pasangan calon walikota solo gibran rakabuming raka dan teguh prakoso melak… ', ' #kampanyepilkadavirtualkampanye virtual jg dilakukan oleh paslon gibran rakabuming raka-teguh prakosa di pilkada solo.…', ' #kampanyepilkadavirtualketua tim pemenangan gibran-teguh, putut gunawan, mengatakan, pada tahapan kampanye ini timnya a…', ' #kampanyepilkadavirtualkampanye virtual antara lain sudah dilakukan oleh pasangan calon wali kota dan calon wakil wali…', ' #kampanyepilkadavirtualpasangan calon wali kota dan wakil wali kota solo, gibran rakabuming raka-teguh prakosa, lebih b…', ' yang sudah kampanye virtual antara lain dilakukan oleh pasangan calon wali kota dan wakil walikota solo nomor urut , gibr…', ' fakta kampanye digital gibran - teguh di pilkada solo , warga bisa sampaikan keluh kesahnya ', '[nomor urut pasangan calon]kpu kota surakarta menetapkan nomor urut  pasangan gibran rakabuming raka - teguh pra… ', 'dana kampanye gibran-teguh &amp; bajo masing-masing dibatasi rp , m ', ' dapar nomor urut , gibran-teguh siap kampanye blusukan online#pdiperjuangan#gibranteguh ht…', 'yang sudah kampanye virtual antara lain dilakukan oleh pasangan calon wali kota dan wakil walikota solo nomor urut… ', 'seluruh ranting pdi perjuangan se-kota surakarta siap memenangkan gibran-teguh dengan menaati dan patuh protokol ke… ', 'kampanye virtual sudah dilakukan oleh pasangan calon wali kota dan calon wakil wali kota solo nomor urut , gibran… ', 'ruarrrr biasahhh........ tiati nek ini jaman covid, megawati turun gunung jadi jurkam gibran-teguh, pengamat: kalau… ', 'perlu diketahui kampanye virtual antara lain sdh dilakukan oleh paslon cawalkot solo dgn no urut di hari pertama… ', 'kampanye virtual sdh dilakukan oleh paslon gibran-teguh pd kampanye di bonorejo, kel nusukan, kec banjarsari, solo,… ', 'pandemi covid- telah mengubah hampir semua mekanisme pertemuan menjadi online, ini bisa dicontoh paslon lain.kam… ', '#kampanyepilkadavirtual sdh dilakukan oleh paslon walikota dan calon wakil walikota solo nomor urut , gibran -teg… ', '#kampanyepilkadavirtualpasangan calon wali kota dan wakil wali kota solo, gibran rakabuming raka-teguh prakosa, le… ', '#kampanyepilkadavirtualkampanye virtual antara lain sudah dilakukan oleh pasangan calon wali kota dan calon wakil… ', '#kampanyepilkadavirtualketua tim pemenangan gibran-teguh, putut gunawan, mengatakan, pada tahapan kampanye ini tim… ', '#kampanyepilkadavirtualkampanye virtual jg dilakukan oleh paslon gibran rakabuming raka-teguh prakosa di pilkada s… ', 'gibran-teguh vs bajo', 'pilkada solo: lawan gibran-teguh, dana kampanye pasangan bajo rp  #darisuara', 'gibran-teguh laporkan dana awal kampanye pilkada solo rp juta, bajo nol rupiah  ', 'gibran-teguh lakukan kampanye virtual, pakar komunikasi politik nilai kurang efektif - pikiran rakyat tasikmalaya -… ', ' lakukan kampanye virtual, pakar komunikasi politik nilai kurang efektif - pikiran rakyat ta… ', ' kampanye sehat kampanye cerdas, good luck buat gibran dan teguh semoga sukses', 'kampanye onlie dilakukan pasangan gibran-teguh prakosa untuk mencegah kerumunan. #kumparannews ', ' saluut mas gibran dan mas teguh udah bikin contoh baik cara berkampanye dimasa pandemi', ' mantap banget paslon walikota solo gibran &amp; teguh nih blusukan pun bisa via virtual ya, kampanye n… ', ' wah keren banget nih monitor nya ini bukti bahwa paslon walikota solo gibran &amp; teguh itu kreatif b… ', '  caranya bener bener keren menurut gua salut banget ama paslon gibran dan teguh', ' emang inovasi buat kampanye dimasa pandemi ini perlu dilakukan kaya ide kreatif dari paslon gibran dan teguh', ' keren nih monitor virtual paslon walikota solo gibran dan teguh semoga terpilih ya', '  salut banget dengan cara kampanyenya paslon gibran dan teguh ini guys', ' tetep bisa kampanye dimasa pandemi?? bisa banget dengan monitor virtual bisa banget buat blusukan… ', '  bagus bet ide kampanyenya paslon gibran dan teguh ini guys, patut dicontoh', 'pengambilan nomer urut paslon pilkada solo #idntimesjateng ', '. #beritasonora - pengundian nomor urut peserta pilkada , gibran-teguh dapat nomor urut … ', ' pengundian nomor urut peserta pilkada , gibran-teguh dapat nomor urut   ', 'pengundian nomor urut peserta pilkada , gibran-teguh dapat nomor urut   ', 'gibran-teguh , bagyo-supardjo , sama-sama yakin menang pilkada solo ', ' resmi ditetapkan kpu kota surakarta dengan nomor urut , gibran-teguh yakin bakal meraih kemenangan', 'pilkada solo: gibran-teguh dapat nomor , bajo  ', 'resmi ditetapkan kpu kota surakarta dengan nomor urut , gibran-teguh yakin bakal meraih kemenangan… ', 'calon walikota solo tuh emang gibran teguh doang? aku ga pernah liat baliho atau spanduk lawannya di sepanjang jala… ', 'kmi siap mengawal  mas gibran dan mas teguh prakosa dlm mimpin kota solo siap coblos nmor  ada pilihan kita ', 'pilkada solo, gibran-teguh dapat nomor urut   ', 'undian nomor urut gibran-teguh tampil putih hitam, apa maknanya? #gibranrakabuming #jokowidodo #sbagio… ', ' dua pasangan calon (paslon) pilkada solo mengikuti tahapan pengundian nomor urut. gibran rakabuming raka-teguh prakosa mendap…', 'dahsyat, gibran-teguh dapat nomor urut satu  ', 'dua pasangan calon (paslon) pilkada solo mengikuti tahapan pengundian nomor urut. gibran rakabuming raka-teguh prak… ', \" \\U0001f932selamat pagi assalamu'alaikum wr wb semoga kita selalu patuhi protokol kesehatan agar terhindar dari covid. tagar ha…\", 'gibran – teguh nomor , bajo  ', 'sah, gibran-teguh dapat nomor urut  #gibranrakabuming #teguhprakosa #wakilwalikota #mencucitangan #kotasurakarta… ', 'berbudaya kreatif moderen tangguhgibran-teguh pasti menangsolo bermanfaat\"all out losss ra rewel\"… ', ' gibran rakabuming raka yang maju sebagai calon wali kota solo berpasangan dengan teguh prakosa. ternyata ia mempunyai ha…', 'gibran-teguh komitmen taati protokol kesehatan#covidrangerantara#rangerantara', 'gibran rakabuming raka yang maju sebagai calon wali kota solo berpasangan dengan teguh prakosa. ternyata ia mempuny… ', ' anda tuh anak muda milenial..cari cara yg jitu buat meraup suara dg cara daring dan virtual..#partaitaatprokespilkada tari…', ' setuju mas.bilngn ke semua pendukungnya juga..daring manfaatkan teknologi.anda itu calon milenial soalnya..inget prokes dan k…', 'gibran-teguh , bagyo-supardjo , sama-sama pede menang pilkada solo ', ' gw kira tuh gk ad lawanny ternyta ad juga tp lewat jalur independen toh..seru juga nih lau kayak gini..jd lbh asyik dan hidu…', 'pilkada solo: gibran-teguh dapat nomor , bajo  ', 'anda tuh anak muda milenial..cari cara yg jitu buat meraup suara dg cara daring dan virtual..… ', 'pkb resmi dukung gibran-teguh di pilwakot solo ,lihat berita di tautan ', 'setuju mas.bilngn ke semua pendukungnya juga..daring manfaatkan teknologi.anda itu calon milenial soalnya..inget pr… ', 'gw kira tuh gk ad lawanny ternyta ad juga tp lewat jalur independen toh..seru juga nih lau kayak gini..jd lbh asyi… ', 'selamat berjuanggibran - teguhsukses selalu. @ salemba raya ', '\"saya bersama pak teguh berkomitmen untuk selalu menaati protokol kesehatan, tetapi yang paling penting nomor satu… ', 'pemilune slamet rakyate iso ngeliwet, gibran-teguh bersilahturahmi ke warga keprabon kota surakarta (/)… ', 'gibran-teguh siapkan blusukan online di tengah pandemi covid- #gibranrakabumingraka #gibranrakabuming… ', ' komisi pemilihan umum (kpu) solo menggelar rapat pleno terbuka pengundian nomor urut pasangan calon wali kota dan wakil wali…', 'pilwalkot solo, gibran-teguh nomor urut  dan bajo  #ukasindonews #bangkitdaripandemi #gibran ', 'komisi pemilihan umum (kpu) solo menggelar rapat pleno terbuka pengundian nomor urut pasangan calon wali kota dan w… ', ' dua pasangan calon walikota di the sunan hotel solo.pasangan\\xa0gibran-teguh mendapat nomor urut .… ', ' gibran-teguh nomor  dan bajo  di pilkada surakarta  ', ' gibran-teguh dapat nomor urut , sedangkan penantangnya pasangan bajo nomor . nomor mana yang dicoblos masyarakat solo?arti…', 'gibran-teguh nomor  dan bajo  di pilkada surakarta  ', 'gibran-teguh dapat nomor urut , sedangkan penantangnya pasangan bajo nomor . nomor mana yang dicoblos masyarakat… ', 'gibran menilai nomor satu sama nomor dua sama baiknya ', 'gibran-teguh nomor  dan bajo  di pilkada surakarta - antara news bengkulu ', 'pilkada surakarta, gibran-teguh nomor  dan bajo nomor  - antara jateng ', 'pilwalkot solo, gibran-teguh nomor urut  dan bajo  ', 'naik mobil bertiga, gibran-teguh dan sukasno hadiri pleno kpu di the sunan\\xa0hotel ', 'gibran-teguh siapkan blusukan dan konser online ', 'sah, gibran-teguh nomor , lawannya bajo nomor  ', 'pasangan calon walikota dan wakil walikota surakarta periode - gibran-teguh mendapatkan nomor urut pasti… ', 'pilkada solo, gibran-teguh dapat nomor urut , bajo nomor ', 'nomor urut di pilwalkot solo: gibran-teguh , bagyo-supardjo  #gibranrakabuming #disinfektan #komisipemilihanumum… ', 'pengundian nomer urut, gibran-teguh nomer urut satu, bajo nomer urut dua ', 'pilwalkot solo, gibran-teguh dapat nomor urut\\xa0 ', 'pilwalkot solo, gibran-teguh dapat nomor urut\\xa0 ', 'gibran – teguh nomor , bajo\\xa0 ', 'gibran teguh nomor urut , bajo nomor  ', 'hadiri pengambilan nomor urut paslon, begini penampilan gibran-teguh dan bajo ', 'nomer urut calon walikota &amp; wakil walikota surakarta. gibran rakabuming raka - teguh prakosa ( pdi perjuangan )… ', ' kpu kota solo, jawa tengah, menetapkan dua pasangan calon wali kota pilkada . dua pasangan itu yakni putra jokowi, gibran…', 'paslon gibran-teguh dapat nomor urut  di pilkada solo, tim sorak gembira ', 'kpu kota solo, jawa tengah, menetapkan dua pasangan calon wali kota pilkada . dua pasangan itu yakni putra joko… ', 'gibran-teguh dapat nomor urut  di pilkada solo #taucepattanpabatas #beritaterkini  . ', 'sah, gibran-teguh dapat nomor urut , bajo dapat nomor urut  pada pilkada solo  ', 'gibran-teguh nomor urut , bajo  pada pilwalkot solo ', ' pilkada solo, gibran-teguh dapat nomor urut , bajo nomor : kepada wartawan, gibran mengaku tidak mempermasalahkan mend…', 'rapat pleno penetapan nomor urut dan daftar pasangan calon peserta pemilihan wali kota dan wakil wali kota surakart… ', ' paslon gibran-teguh secara sah mendapat nomor urut  dalam pilkada solo . sedangkan paslon independen bajo mendapat nomor…', 'pilkada solo : gibran-teguh nomor urut , bajo  ', 'paslon gibran-teguh secara sah mendapat nomor urut  dalam pilkada solo . sedangkan paslon independen bajo mend… ', 'sah, gibran-teguh dapat nomor urut , bajo nomor\\xa0 ', 'pilkada solo, gibran-teguh dapat nomor urut , bajo nomor : kepada wartawan, gibran mengaku tidak mempermasalahkan… ', 'saat hadir dalam rapat pleno kpu pengundian nomor urut, gibran dan teguh memakai kemeja putih. berlawanan dengan wa… ', 'teguh, yang mendampingi gibran, langsung tepuk tangan saat mengetahui gibran mendapat nomor urut . tim lain yang h… ', 'pasangan calon pilkada kota solo , gibran rakabuming raka-teguh prakosa mendapat nomor urut , sementara lawann… ', '\"pengundian nomor urut paslon telah kita lakukan, paslon gibran-teguh mendapatkan nomor satu dan bajo nomor urut du… ', ' kpu tetapkan  paslon pilwakot solo, gibran-teguh dan bagyo-supardjo ', 'pasangan gibran rakabuming raka-teguh prakosa (gibran-teguh) dan bagyo wahyono-fx supardjo (bajo) menghadiri pengun… ', 'solo bersatu, gibran - teguh pilihanku!!.#solohebat #sobatsolohebat #solomelompatlebihjauh… ', 'kpu tetapkan  paslon pilwakot solo, gibran-teguh dan bagyo-supardjo ', ' mari kita doakan mak nek penggemar serial pembunuhanini . . pilkada solo, megawati turun tangan jadi jurkam gibran-teguh…', 'tarik pemilih milenial, gibran-teguh akan gelar konser musik virtual: tim pemenangan bakal pasangan calon wali kota… ', 'sah jadi paslon, gibran-teguh &amp; bagyo-supardjo tak soalkan nomor\\xa0urut ', ' lbp protes...karena saatlbp sedang \"bla bla bla\"tiba-najwa shihabmenayangkanpelanggaran protokol covid-oleh peserta…', ' paslon gibran-teguh telah menyiapkan blusukan online untuk menyapa masyarakat solo. terkait bagaimana sistemnya, gibran masih…', '  ranting timuran bersama ibu-ibu penggerak timuransiap menangkan gibran-teguhpemilune sl… ', 'paslon gibran-teguh telah menyiapkan blusukan online untuk menyapa masyarakat solo. terkait bagaimana sistemnya, gi… ', '', \"\\U0001f932selamat pagi assalamu'alaikum wr wb semoga kita selalu patuhi protokol kesehatan agar terhindar dari covid. tag… \", 'pasangan gibran-teguh dan bagyo-supardjo secara resmi akan bertarung memperebutkan kursi wali kota solo. kedua pasa… ', 'dukungan semakin gemuk, kini giliran pkpi merapat ke gibran-teguh di pilkada solo  ', 'gencarkan protokol kesehatan jelang pilkada serentak , gibran-teguh\\xa0terima hand sanitizer ', ' anak yg baik sekali mencontoh perilaku bapaknya...njrit blusukan online!!sekalian gorong online!! ', 'gibran-teguh dan bajo incar nomor urut  di pilkada solo ', ' pak purnomo. bentar lagi bisa jadi pak teguh kalau pak gibran jadi walkotnya.', ' semakin sejahtera dibawah kepemimpinan kader pdi perjuangan, petugas penarik sampah banjarsari siap memenangkan gibran-…', 'bagyo wahyono dan f.x. supardjo dipastikan menjadi lawan gibran-teguh dalam pilwalkot solo . bagyo-supardjo maj… ', 'udah kayak kepanitiaan ya ada rekening baru #merahputihcom #rekening #kampanye ', 'dukung pilkada solo aman, secret clean supohand sanitizer melalui paslon gibran-teguh ', ' kpu solo secara resmi menetapkan gibran rakabuming raka-teguh prakosa dan bagyo wahyono-fx supardjo (bajo) sebagai pasangan c…', 'anak yg baik sekali mencontoh perilaku bapaknya...njrit blusukan online!!sekalian gorong online!! ', 'mari kita doakan mak nek penggemar serial pembunuhanini . . pilkada solo, megawati turun tangan jadi jurkam gibr… ', 'kpu solo secara resmi menetapkan gibran rakabuming raka-teguh prakosa dan bagyo wahyono-fx supardjo (bajo) sebagai… ', 'dukung gibran-teguh, pkpi: pemimpin solo paling wow! ', ' sah! gibran rakabuming-teguh dan bajo jadi calon wali kota solo  ', 'gibran-teguh siapkan blusukan online ', 'kpu tetapkan gibran-teguh dan bagyo-supardjo paslon di pilwalkot solo  #gibranrakabuming #komisipemilihanumum… ', 'sah jadi paslon, gibran-teguh &amp; bagyo-supardjo tak soalkan nomor urut ', 'dukungan semakin gemuk, kini giliran pkpi merapat ke gibran-teguh di pilkada solo  ', 'gibran - teguh dan bajo resmi sebagai paslon wali kota solo di pilkada \\xa0  ', 'semua kembali pada rakyat / masyarakat.apakah masih mau dibodohi ?fakta dan realitanya, setelah mereka menduduki… ', 'ketua tim pemenangan gibran-teguh berharap agar mendapat nomor urut . ', 'rapat pleno tertutup kpu surakarta menetapkan pasangan\\xa0gibran-teguh dan bagyo-supardjo maju dalam pilkada\\xa0 wali kot… ', ' demi memperjuangkan gibran-teguh, megawati, puan dan hasto siap jadi juru kampanye ', 'demi memperjuangkan gibran-teguh, megawati, puan dan hasto siap jadi juru kampanye', 'semakin sejahtera dibawah kepemimpinan kader pdi perjuangan, petugas penarik sampah banjarsari siap memenangkan gib… ', 'demi memperjuangkan gibran-teguh, megawati, puan dan hasto siap jadi juru kampanye ', 'megawati dan puan bakal jadi jurkam gibran-teguh  ', 'megawati dan puan bakal jadi jurkam gibran-teguh  ', 'banteng solotengahberhimpun &amp; bergerak siap memenangkangibran-teguhpemilune slamet wargane iso ngliwet ', 'banteng solotengahberhimpun &amp; bergerak siap memenangkangibran-teguhpemilune slamet wargane iso ngliwet', 'konsolidasi ranting anting &amp; satgas timuransolid bergerak gibran-teguhpemilune slamet...wargane iso ngliwet ', 'kpu tetapkan gibran-teguh dan bajo sebagai peserta pilkada solo: nurul menjelaskan, rapat pleno penetapan calon tid… ', 'bajo sah jadi lawan gibran-teguh dalam pilwakot solo  ', 'sah! gibran-teguh bakal bertemu bajo di pilkada surakarta  ', ' megawati soekarnoputri dan puan maharani akan turun gunung menjadi juru kampanye gibran rakabuming-teguh prakosa di pilkada s…', 'kpu tetapkan gibran-teguh dan bajo sebagai peserta pilkada solo: nurul menjelaskan, rapat pleno penetapan calon tid… ', ' gibran-teguh dan bagyo-suparjo ditetapkan kpu untuk bertarung dalam pilkada solo ', 'gibran-teguh dan bagyo-suparjo ditetapkan kpu untuk bertarung dalam pilkada solo ', 'resmi bersaing. pengundian nomor urut paslon akan dilakukan besok melalui pleno terbuka.#validnews #nasional', 'kpu resmikan paslon pilkada solo: teguh-gibran vs bajo #pilkadasolo #gibranrakabuming ', 'sah! gibran rakabuming-teguh dan bajo jadi calon wali kota solo  ', 'megawati dan puan bakal jadi jurkam gibran-teguh ', 'gibran-teguh dan bajo resmi jadi paslon pilkada solo ', 'sah,  gibran-teguh dan bajo jadi peserta pilkada solo ', 'kpu tetapkan gibran-teguh dan bajo calon pilkada surakarta ', ' warga solo, yang gak suka gibran, yang nuduh dinasti politik, sila pilih bajo. jangan golput. ', 'dua paslon yakni gibran rakabuming raka-teguh prakosa dan bagyo wahyono-fx supardjo (bajo) akan bertarung dalam pil… ', 'batal lawan kotak kosong, gibran-teguh bakal ditantang bagyo-suparjo di pilkada solo  #pilkada #pilwakotsolo', 'kpu solo sahkan pertarungan gibran-teguh lawan bajo di pilkada ', 'sah! gibran-teguh vs bajo bersaing di pilkada solo   ', 'kpu tetapkan gibran-teguh dan bajo paslon pilkada solo ', 'ketua umum pdip megawati soekarnoputri dan ketua dpp puan maharani serta sekjen hasto kristianto bakal \"turun gunun… ', 'kpu tetapkan gibran-teguh dan bagyo-supardjo sebagai paslon di pilwalkot solo\\xa0 ', 'warga solo, yang gak suka gibran, yang nuduh dinasti politik, sila pilih bajo. jangan golput. ', 'patuihi protokol kesehatan saat kampanye di solo, gibran-teguh bakal gelar konser musik virtual ', 'pengumuman penetapan calon pilkada solo online, gibran – teguh &amp; bagyo – supardjo tak datang ke kpu ', 'begini kata tim pemenangan gibran dan teguh soal penundaan pilkada   ', '\"asyik pilkadanya jadi ya...\" teriak rakyat yang lagi pusing ganti masker  scuba nya, dan di-aminin sama tenaga kes… ', 'sah! tukang jahit &amp; ketua rw tanding lawan putra presiden jokowi gibran &amp; teguh di pilkada solo  ', 'bajunya keren mas kenalkan seragam kampanye gibran-teguh di pilkada solo, ini maknanya ', 'ketua tim pemenangan bakal pasangan calon gibran - teguh, putut gunawan mengatakan kehadiran megawati diharapkan da… ', 'menangkan gibran-teguh, puan maharani dan megawati turun gunung jadi jurkam di pilkada solo#soloraya #pilkadasolo… ', ' kpu menyatakan paslon gibran-teguh dan paslon bagyo-supardjo sebagai calon wali kota solo. #publisherstory ', 'kpu tetapkan gibran-teguh dan bagyo-supardjo paslon di pilwalkot solo  ', 'kpu menyatakan paslon gibran-teguh dan paslon bagyo-supardjo sebagai calon wali kota solo. #publisherstory ', '\"ada dua pasangan yang kami tetapkan, yakni gibran-teguh dan bagyo-supardjo,\" ujar ketua kpu solo, nurul sutarti. ', 'ranting timuran bersama ibu-ibu penggerak timuran siap menangkan gibran-teguhpemilune slamet wargane iso ngliwet… ', 'ranting timuran bersama ibu-ibu se timuran siap bergerak &amp; memenangkan gibran-teguh#pdiperjuangan… ', ' megawati menjadi jurkam gibran-teguh di pilwalkot solo ', ' paling jurus nangis yang akan diandalkan,seperti halnya waktu jadi presiden hasil dari gusdur lengser,kalau nggak nang…', 'paling jurus nangis yang akan diandalkan,seperti halnya waktu jadi presiden hasil dari gusdur lengser,kalau nggak n… ', 'nomor urut  di pilkada solo  jadi rebutan bajo independen dan pasangan calon pdip gibran-teguh ', 'ketum pdip megawati soekarno putri dan ketua dpr puan maharani disebut bakal menjadi juru kampanye gibran rakabumin… ', 'kampanye gibran-teguh, pertimbangkan gelar konser ', ' pilkada solo, megawati turun tangan jadi jurkam gibran-teguh ', 'pilkada solo, megawati turun tangan jadi jurkam gibran-teguh - follow   ', 'puan hingga megawati bakal jadi juru kampanye gibran-teguh - #indonesia', 'tim pemenangan pasangan gibran rakabuming raka-teguh prakosa yang diusung pdip serta didukung delapan parpol tidak… ', 'pilkada solo, megawati turun tangan jadi jurkam gibran-teguh ', 'ketua dpr dan mantan presiden bakal jadi jurkam gibran-teguh di pilkada solo ', ' ashiaap', 'mantan presiden masuk tim juru kampanye gibran-teguh di pilkada solo ', 'megawati soekarnoputri dan puan maharani akan turun gunung menjadi juru kampanye gibran rakabuming-teguh prakosa di… ', 'namun, belum dipastikan apakah megawati akan datang langsung ke solo atau melalui daring. ', 'megawati menjadi jurkam gibran-teguh di pilwalkot solo ', 'kampanye gibran-teguh, pertimbangkan gelar konser ', 'kpu solo: penetapan gibran-teguh dan bagyo-suparjo tertutup ', 'dua pasangan bacalon wali kota solo usung konsep berbeda soal tata ruang. ', '#darimks ketua dpr ri hingga mantan presiden ri jadi tim jurkam gibran-teguh:  ', 'pilkada ditunda, tim pemenangan gibran-teguh: kami pasti diuntungkan ', 'pilkada ditunda, tim pemenangan gibran-teguh: kami pasti diuntungkan ', 'pilkada ditunda, tim pemenangan gibran-teguh: kami pasti diuntungkan ', 'megawati dan para elit partai akan turun gunung kampanyekan gibran - teguh #temponasional ', 'timses paslon gibran-teguh akan menghadirkan megawati hingga puan maharani untuk menjadi juru kampanye. ', ' ayo, pilih gibran - teguh ', ' pdip menyiapkan juru kampanye untuk memenangkan pilkada . di pilkada solo, ketua umum pdip megawati soekarnoputri akan me…', ' para tokoh partai politik bakal berdatangan ke solo selama masa kampanye. megawati soekarnoputri juga akan dihadirkan untuk…', 'para tokoh partai politik bakal berdatangan ke solo selama masa kampanye. megawati soekarnoputri juga akan dihadirk… ', 'ketua umum pdip megawati soekarnoputri akan menjadi salah satu juru kampanye pasangan gibran rakabuming raka-teguh… ', 'pdip menyiapkan juru kampanye untuk memenangkan pilkada . di pilkada solo, ketua umum pdip megawati soekarnoput… ', ' tim pemenangan gibran-teguh minta kpu gelar rapat pleno terbuka penetapan calon: pernyataan tersebut dikemukakan lo (lia…', 'tim pemenangan gibran-teguh minta kpu gelar rapat pleno terbuka penetapan calon: pernyataan tersebut dikemukakan lo… ', '#tim gibran-teguh memprotes kpu solo - jawa pos  #demokrasi #indonesia', 'gaet pemilih milenial, gibran rakabuming-teguh prakosa bakal gelar konser virtual ', 'konser musik virtual menjadi bagian dari menggalang dukungan warga terhadap pasangan gibran dan teguh. setidaknya i… ', 'megawati dan puan bakal jadi jurkam gibran-teguh: kehadiran para tokoh partai berlambang kepala banteng moncong put… ', ' siapa saja yang bakal menjadi juru kampanye gibran dan teguh di pilwalkot solo? ', 'siapa saja yang bakal menjadi juru kampanye gibran dan teguh di pilwalkot solo? ', '   keren banget nih acaranya, kemaren gua nonton pengisi acaranya itu keren , semoga… ', '   keren banget nih acaranya, kemaren gua nonton pengisi acaranya itu keren , semoga… ', '   keren banget nih acaranya, kemaren gua nonton pengisi acaranya itu keren , s… ', '   keren banget nih acaranya, kemaren gua nonton pengisi acaranya itu keren , semo… ', '   keren banget nih acaranya, kemaren gua nonton pengisi acaranya itu keren , s… ', ' mantul nih film', '   keren banget nih acaranya, kemaren gua nonton pengisi acaranya itu keren , semoga… ', '   keren banget nih acaranya, kemaren gua nonton pengisi acaranya itu keren , semoga… ', '   keren banget nih acaranya, kemaren gua nonton pengisi acaranya itu keren , se… ', ' aku liat dulu ya kak ig nya', 'tim gibran-teguh memprotes kpu solo ', 'cara kampanye di tengah pandemi covid-, gibran-teguh bakal blusukan online  ', 'band apa yang cocok? patuhi protokol kesehatan saat kampanye di solo, gibran-teguh bakal gelar konser musik virtu… ', 'gelar konser musik virtual cara gibran-teguh lebih dekat dengan pemilih\\xa0milenial ', '   pasti seru banget acaranya apalagi ada boy william', ' angkat jargon pemilune slamet wargane iso ngliwet, ketua dpc pdi perjuangan surakarta ajak penarik sampah laweyan sukse…', ' rapatkan barisan utk kemenangan gibran-teguh demi keberlanjutan program kebijakan yang pro wong cil… ', 'angkat jargon pemilune slamet wargane iso ngliwet, ketua dpc pdi perjuangan surakarta ajak penarik sampah laweyan s… ', 'patuihi protokol kesehatan saat kampanye di solo, gibran-teguh bakal gelar konser musik virtual ', ' rebut hati milenial solo, gibran-teguh siapkan konser musik virtual  ', ' target raih % suara, gibran-teguh andalkan jurkam nasional hingga influencer  ', 'rebut hati milenial solo, gibran-teguh siapkan konser musik virtual  ', 'silaturahmi ke tegalharjo, gibran-teguh janji lanjutkan program wmp rudy-poernomo hingga percepatan pemulihan ekon… ', 'target raih % suara, gibran-teguh andalkan jurkam nasional hingga influencer  ', 'kpu putuskan tak undang gibran-teguh dan bajo saat penetapan calon pilkada solo: “itu nanti pleno internal, kemudia… ', 'mantap jiwa! puan hingga megawati terjun jadi jurkam gibran-teguh di pilkada   ', 'perindo dukung pasangan gibran - teguh jadi wali kota dan wakil wali kota solo', 'saat menghadiri “deklarasi adaptasi kebiasaan baru untuk mendukung percepatan penanganan covid ” gibran - teguh j… ', 'saat menghadiri “deklarasi adaptasi kebiasaan baru untuk mendukung percepatan penanganan covid ” gibran - teguh j… ', 'saat menghadiri “deklarasi adaptasi kebiasaan baru untuk mendukung percepatan penanganan covid ” gibran - teguh j… ', 'saat menghadiri “deklarasi adaptasi kebiasaan baru untuk mendukung percepatan penanganan covid ” gibran - teguh j… ', '[hoax] presiden jadi tim sukses gibran-teguh  via ', 'visi-misi pilkada  gibran - teguh: kota solo sebagai kota budaya modern &amp; lanjutkan program rudy ', 'partai perindo resmi dukung pasangan gibran-teguh di pilwakot solo ']\n"
          ],
          "name": "stdout"
        }
      ]
    },
    {
      "cell_type": "code",
      "metadata": {
        "id": "G3wzGygegHVD",
        "outputId": "36a96bc2-d027-40e0-e210-598dc0e31f91",
        "colab": {
          "base_uri": "https://localhost:8080/",
          "height": 54
        }
      },
      "source": [
        "#Menghapus tanda baca\n",
        "import string\n",
        "tweet_data_8=[]\n",
        "for teks in tweet_data_7:\n",
        "  teks_process = [teks.translate(str.maketrans(\"\",\"\",string.punctuation))]\n",
        "  tweet_data_8=tweet_data_8+teks_process\n",
        "print(tweet_data_8)\n"
      ],
      "execution_count": null,
      "outputs": [
        {
          "output_type": "stream",
          "text": [
            "['populer nusantara antara lain konlik antara kapolres blitar dengan kasat sabhara sementara di solo sandiaga ipers… ', ' sandiaga uno menjadi juru kampanye pasangan calon wali kota dan wakil wali kota solo gibran rakabuming rakateguh prakos…', ' sandiaga uno jadi juru kampanye gibranteguh di pilkada solo disebut ada lobi jokowi', 'ninggal tatukowe tak sayangsayang saiki malah ngilang tresnamu karo aku kuwi mung kiasankowe tak gadhang… ', ' sandi uno jadi juru kampanye gibranteguh di pilkada solo disebut ada lobi jokowiperjuangan bapak perbaiki martabak anak…', 'tidur dulu ah sakit badan nihh', 'nyeri awak', 'ngantukkkk', 'sandi uno jadi juru kampanye gibranteguh di pilkada solo disebut ada lobi jokowiperjuangan bapak perbaiki mart… ', ' selain sandiaga uno ada nama besar lain yang juga akan menjadi jurkam paslon gibranteguh di solo  pilkada   ', 'respons kabar sandiaga bakal jadi jurkam gibran rancang kampanye daring wakil ketua dewan pembina partai gerindra… ', 'selain sandiaga uno ada nama besar lain yang juga akan menjadi jurkam paslon gibranteguh di solo  pilkada   ', '   udah baca ini belom blog ', ' sandiaga uno jadi juru kampanye gibranteguh di pilkada solo disebut ada lobi jokowi borong dari medan sampai solo htt…', 'hoammmmmm', 'gibran – teguh pilkada sesuai jadwal demokratis dan aman dari covid ', 'solo ber – satu gibran – teguh pilihanku ', 'gibran – teguh mendapat nomor urut satu untuk pilkada solo  pa ', 'gibran – teguh mendapat nomor urut satu untuk pilkada solo  pa ', 'gibran saya dan pak teguh tetap berkomitmen menjaga protokol kesehatan selama kampanye ', 'gibran – teguh untuk mendukung pilkada aman secret clean pt victoria care memberikan bantuan hand sanitizer ', 'capek euy', 'sandiaga uno digadanggadang menjadi jurkam paslon gibranteguh dalam pilkada solo  sandiaga menjadi jurkam ta… ', 'mantan wakil gubernur dki jakarta sandiaga uno bakal menjadi juru kampanye pasangan calon gibran rakabuming rakate… ', '    gk butuh jurkam dari pusat spt  warga solo cukup berdi… ', ' wakil ketua dpp gerindra  akan menjadi juru kampanye untuk pasangan calon wali kota dan wakil wali kota solo gi…', ' sandiaga uno jadi juru kampanye gibranteguh di pilkada solo disebut ada lobi jokowi', 'wakil ketua dpp gerindra  akan menjadi juru kampanye untuk pasangan calon wali kota dan wakil wali kota so… ', 'asyiikkk', 'laparrr', '\\U0001f970\\U0001f970\\U0001f970', 'mantap sandiaga uno jadi jurkam gibranteguh di pilkada solo  ', 'lebih lanjut ardianto mengatakan saat ini pihaknya sedang mengkaji persiapan deklarasi tim pemenangan untuk paslon gibranteguh', 'mantan wakil gubernur dki jakarta ini dimungkinkan akan mengkampanyekan pasangan gibranteguh juga secara virtual', 'termasuk model kampanye yang digunakan sandiaga untuk paslon gibranteguh menurutnya antara gibran dengan sandi sangat bisa disatukan', 'menurutnya faktor kedekatan antara sandiaga prabowo subianto ketua dpp partai gerindra dengan presiden jokowi s… ', 'kabar sandiaga akan menjadi juru kampanye untuk pasangan gibran teguh dibenarkan oleh ketua dpc partai gerindra solo ardianto kuswinarno', 'menurutnya faktor kedekatan antara sandiaga prabowo subianto ketua dpp partai gerindra dengan presiden jokowi s… ', 'wakil ketua dewan pembina partai gerindra sandiaga salahudin uno akan menjadi juru kampanye jurkam untuk pasangan… ', 'menurutnya faktor kedekatan antara sandiaga prabowo subianto ketua dpp partai gerindra dengan presiden jokowi s… ', 'wakil ketua dewan pembina partai gerindra sandiaga salahudin uno akan menjadi juru kampanye jurkam untuk pasangan… ', 'wakil ketua dewan pembina partai gerindra sandiaga salahudin uno akan menjadi juru kampanye jurkam untuk pasangan… ', 'menurutnya faktor kedekatan antara sandiaga prabowo subianto ketua dpp partai gerindra dengan presiden jokowi s… ', 'menurutnya faktor kedekatan antara sandiaga prabowo subianto ketua dpp partai gerindra dengan presiden jokowi s… ', 'wakil ketua dewan pembina partai gerindra sandiaga salahudin uno akan menjadi juru kampanye jurkam untuk pasangan… ', 'wakil ketua dewan pembina partai gerindra sandiaga salahudin uno akan menjadi juru kampanye jurkam untuk pasangan… ', 'menurutnya faktor kedekatan antara sandiaga prabowo subianto ketua dpp partai gerindra dengan presiden jokowi s… ', 'wakil ketua dewan pembina partai gerindra sandiaga salahudin uno akan menjadi juru kampanye jurkam untuk pasangan… ', 'orang amerika mungkin jadi mikir jangan nanti kalau biden menang dan trump kalah kemudian anaknya biden nyalon… ', ' selamat bang   semoga solo kedepan bisa bebas dari kaum intoleransi ', '         ', 'selamat bang   semoga solo kedepan bisa bebas dari kaum intoleransi ', 'politisi partai gerindra sandiaga solahuddin uno akan menjadi juru kampanye jurkam pasangan calon wali kota dan w… ', 'sandiaga uno menjadi juru kampanye pasangan calon wali kota dan wakil wali kota solo gibran rakabuming rakateguh… ', 'pilwalkot solo sandiaga uno siap diterjunkan jadi jurkam gibranteguh  ', '   oh jadi ini ya 🤣🤣 ', 'sandiaga akan jadi jurkam gibran di solo dan bobby di medan menurutnya faktor kedekatan antara sandiaga prabowo… ', 'sandiagauno prabowo gerindra pdiperjuangan', 'sandiaga uno jadi juru kampanye gibranteguh di pilkada solo disebut ada lobi jokowi', 'politisi partai gerindra sandiaga solahuddin uno dipersiapkan menjadi jukam pasangan calon wali kota dan wakil wali… ', ' apbd kota solo tiap hari kita bahas dengan pak teguh ini adalah masamasa di mana kita harus bersabar dan banyak sekali an…', ' saya berkomitmen untuk menaati protokol kesehatan setiap hari saya dengungkan ke warga program prioritas saya dan pak tegu…', 'sandiaga uno jadi juru kampanye gibranteguh di pilkada solo disebut ada lobi jokowi borong dari medan sampai sol… ', ' kalau gibran nggak bermanuver kirakira ibu ketum bakal milih dia atau enggak ya sementara pdip sudah ng… ', 'mantap sandiaga uno jadi jurkam gibranteguh di pilkada solo  ', 'lobilobinya politik tingkat tinggi karena ketum kami prabowo subianto dengan pak jokowi sangat dekat sekali… ', '   wkwkw jadi jasa terawang gini dah gibranteguh yang menang kalo dia kalah kalem ada leg kedua wkwkkw', ' politisi partai gerindra sandiaga solahuddin uno dipersiapkan menjadi jukam pasangan calon wali kota dan wakil wali kota sol…', 'sandiaga uno jadi juru kampanye gibranteguh di pilkada solo disebut ada lobi jokowi', 'apa kabar papa online sandiaga uno jadi jurkam gibranteguh di pilkada solo klik untuk baca… ', 'politisi partai gerindra sandiaga solahuddin uno dipersiapkan menjadi jukam pasangan calon wali kota dan wakil wali… ', 'gotong royong melawan covid bersama gibran – teguh ', 'gibran genap  tahun teguh doakan putra jokowi terpilih jadi wali kota dan bisa membangun solo ', ' apbd kota solo tiap hari kita bahas dengan pak teguh ini adalah masamasa di mana kita harus bersabar dan banyak sekali angga…', ' pengurus dpd psi solo dipimpin langsung bro antonius yoga melakukan fogging di permukiman wargapada kesempatan yang sama me…', 'gibranteguh melakukan blusukan ke masyarakat dalam rangka membantu masyarakat yang terkena dampak pandemi ', ' pertanyaan najwa tidak perlu kita ragukan lagi namun apakah jawaban mas gibran n cara menjawab nya su… ', ' saya berkomitmen untuk menaati protokol kesehatan setiap hari saya dengungkan ke warga program prioritas saya dan pak teguh a…', 'paslon gibranteguh kembali melakukan blusukan online ke beberapa kelurahan di solo dalam kesempatan itu gibran a… ', 'paslon gibranteguh kembali melakukan blusukan online ke beberapa kelurahan di solo dalam kesempatan itu gibran a… ', ' putra presiden joko widodo gibran rakabuming raka yang berpasangan dengan teguh prakosa di pilwalkot surakarta  nasiona…', 'putra presiden joko widodo gibran rakabuming raka yang berpasangan dengan teguh prakosa di pilwalkot surakarta … ', 'apbd kota solo tiap hari kita bahas dengan pak teguh ini adalah masamasa di mana kita harus bersabar dan banyak… ', 'apbd kota solo tiap hari kita bahas dengan pak teguh ini adalah masamasa di mana kita harus bersabar dan banyak… ', 'saya berkomitmen untuk menaati protokol kesehatan setiap hari saya dengungkan ke warga program prioritas saya dan… ', 'saya berkomitmen untuk menaati protokol kesehatan setiap hari saya dengungkan ke warga program prioritas saya dan… ', ' solo bersatu gibran  teguh pilihankusolohebat sobatsolohebat solomelompatlebihjauh lompatananakmudauntuksolo …', 'bajo blusukan langsung ke tokoh agama gibranteguh pakai virtualbox ', ' identitas yang satu ini akan menjadi tugas bersama masyarakat solo dan pasangan mas gibran amp mas teguh untuk membawa solo…', ' identitas yang satu ini akan menjadi tugas bersama masyarakat solo dan pasangan mas gibran amp mas teguh prakasa untuk memb…', 'amunisi bertambah pkpi dukung gibran – teguh di pilkada solo ', ' dana kampanye gibranteguh amp bajo masingmasing dibatasi rp \\xa0m ', 'dana kampanye gibranteguh amp bajo masingmasing dibatasi rp \\xa0m ', 'gibranteguh for solo  gibranforsolo ', 'bajo blusukan langsung ke tokoh agama gibranteguh pakai virtualbox ', 'pasangan gibranteguh dan bajo memiliki cara tersendiri untuk menggaet suara warga kota solo simak gaya kampanye m… ', 'mas gibran mohon maaf jadinya mas fans apa mas kok semuanya mas wkwkwkgibranteguh  ', 'pengurus dpd psi solo dipimpin langsung bro antonius yoga melakukan fogging di permukiman wargapada kesempatan y… ', ' pilkada solo  sandiaga uno bakal kampanyekan gibranteguh ', 'pilkada solo  sandiaga uno bakal kampanyekan gibranteguh ', ' kampanyepilkadavirtualkampanye perdana gibranteguh blusukan daring dengan virtual boxkampanye gibran berupa blusuka…', ' rapatkan barisan menangkan gibranteguh', ' seluruh ranting pdi perjuangan sekota surakarta siap memenangkan gibranteguh dengan menaati dan patuh protokol keseha…', 'ijin bal rapopo di tahan sik  sing penting ijin dodolanku tetep metu seko polri bekingane gibran teguh og  ', 'pilwakotsolo kampanye gibranteguh bagi tugas  ', 'pilwakotsolo kampanye gibranteguh bagi tugas  ', 'pilwakotsolo kampanye gibranteguh bagi tugas  ', ' pilwakot surakarta menjadi pilkada teramai nomor pertama dengan  berita selain membahas sosok gibran media menyor…', 'sudahlah paslon bajo biasa gegaruk bidjie aja gegayaan luh ikutan pilkada segala kalo boleh usul mendingan… ', ' dana awal kampanye gibranteguh rp juta bajo rp pilkada ', 'dana awal kampanye gibranteguh rp juta bajo rp pilkada ', 'komisi pemilihan umum kpu solo jawa tengah telah menerima pendaftaran  akun media sosial medsos milik kedua… ', 'megawati turun gunung jadi jurkam gibranteguh pengamat kalau kalah harga diri pdipjokowi hancur ', 'pilkada solo lawan gibranteguh dana kampanye pasangan bajo rp   ', ' siap akhi saya masih memegang teguh sepenggal kalimat dari khalil gibran wkwk', ' warga solo antusias dengan adanya box virtual kampanye yang disediakan paslon gibranteguh warga pun dapat berkeluh kesah de…', 'warga solo antusias dengan adanya box virtual kampanye yang disediakan paslon gibranteguh warga pun dapat berkelu… ', ' ayo rapatkann barisan utk memenangkan gibran  teguh dgn menerapkan disiplin protok kesehatansa… ', 'pilkada solo lawan gibranteguh dana kampanye pasangan bajo rp kelurahannusukan panjipanji… ', ' seperti diberitakan kampanye virtual antara lain sdh dilakukan oleh paslon walikota dan calon wakil walikota solo nomor u…', ' selamat berjuang gibranteguhsemangat mewujudkan surakarta sebagai kota budaya yang modern tangguh gesit kreatif da…', ' saya optimis gibranteguh mampu menerapkan kampanye sehat dari bahaya penularan virus korona dan menang dalam pilkada ini…', 'seluruh ranting pdi perjuangan sekota surakarta siap memenangkan gibranteguh dengan menaati dan patuh protokol ke… ', 'kampanye virtual gibran rakabumingteguh prakosa dipuji warga solo ', 'kampanye virtual gibran rakabumingteguh prakosa diapresiasi\\xa0warga ', ' kampanye virtual antara lain sdh dilakukan oleh pasangan calon walikota dan calon wakil walikota solo nomor urut  gibr…', 'selamat berjuang gibranteguhsemangat mewujudkan surakarta sebagai kota budaya yang modern tangguh gesit kreat… ', 'saya optimis gibranteguh mampu menerapkan kampanye sehat dari bahaya penularan virus korona dan menang dalam pilka… ', ' perlu diketahui kampanye virtual antara lain sdh dilakukan oleh paslon cawalkot solo dgn no urut di hari pertama kampany…', 'gibran kembali menyapa masyarakat dengan virtual box dengan keliling kampung sedangkan teguh melakukan blusukan of… ', 'awal kampanye gibran – teguh sudah kantongi dana rp  m bajo rp  ', ' agar tidak menimbulkan kerumunan massa pasangan calon walikota solo gibran rakabuming raka dan teguh prakoso melakukan te…', ' dpc pdip solo menargetkan perolehan suara  untuk kemenangan gibranteguh perolehan suara itu tentunya dengan kontribusi y…', 'selamat berjuang mas gibran gibran – teguh untuk solo  ', 'gibran  teguh melakukan kampanye unik blusukan online guna menghindari pengumpulan massa dan mematuhi protocol ke… ', 'gibran  teguh melakukan kampanye unik blusukan online guna menghindari pengumpulan massa dan mematuhi protocol ke… ', 'gibran  teguh melakukan kampanye unik blusukan online guna menghindari pengumpulan massa dan mematuhi protocol ke… ', 'gibran  teguh melakukan kampanye unik blusukan online guna menghindari pengumpulan massa dan mematuhi protocol ke… ', 'gibran  teguh melakukan kampanye unik blusukan online guna menghindari pengumpulan massa dan mematuhi protocol ke… ', 'gibran  teguh melakukan kampanye unik blusukan online guna menghindari pengumpulan massa dan mematuhi protocol ke… ', 'gibran  teguh melakukan kampanye unik blusukan online guna menghindari pengumpulan massa dan mematuhi protocol ke… ', 'gibran  teguh melakukan kampanye unik blusukan online guna menghindari pengumpulan massa dan mematuhi protocol ke… ', 'gibran  teguh melakukan kampanye unik blusukan online guna menghindari pengumpulan massa dan mematuhi protocol ke… ', ' kampanye virtual sudah dilakukan oleh pasangan calon wali kota dan calon wakil wali kota solo nomor urut  gibran rakab…', 'pilwakot surakarta menjadi pilkada teramai nomor pertama dengan  berita selain membahas sosok gibran media… ', ' kampanye virtual sdh dilakukan oleh paslon gibranteguh pd kampanye di bonorejo kel nusukan kec banjarsari solo jawa tenga…', ' pandemi covid telah mengubah hampir semua mekanisme pertemuan menjadi online ini bisa dicontoh paslon lainkampanye vi…', '     wah gibran  teguh inilah generasi yg sesungguhnya ', 'kampanye virtual antara lain sdh dilakukan oleh pasangan calon walikota dan calon wakil walikota solo nomor urut … ', ' pasangan cawali dan cawawali solo nomor urut  gibran rakabuming rakateguh prakosa langsung melakukan blusukan online di…', 'gibran rakabuming raka resmi menjadi calon wali kota solo dalam pemilihan kepala daerah pilkada serentak b… ', ' kampanyepilkadavirtual sdh dilakukan oleh paslon walikota dan calon wakil walikota solo nomor urut  gibran teguh pd h…', 'seperti diberitakan kampanye virtual antara lain sdh dilakukan oleh paslon walikota dan calon wakil walikota solo… ', ' seluruh ranting pdi perjuangan sekota surakarta siap memenangkan gibranteguh dengan menaati dan p… ', 'pasangan cawali dan cawawali solo nomor urut  gibran rakabuming rakateguh prakosa langsung melakukan blusukan… ', 'kampanyepilkadavirtualkampanye perdana gibranteguh blusukan daring dengan virtual boxkampanye gibran berupa bl… ', 'agar tidak menimbulkan kerumunan massa pasangan calon walikota solo gibran rakabuming raka dan teguh prakoso melak… ', ' kampanyepilkadavirtualkampanye virtual jg dilakukan oleh paslon gibran rakabuming rakateguh prakosa di pilkada solo…', ' kampanyepilkadavirtualketua tim pemenangan gibranteguh putut gunawan mengatakan pada tahapan kampanye ini timnya a…', ' kampanyepilkadavirtualkampanye virtual antara lain sudah dilakukan oleh pasangan calon wali kota dan calon wakil wali…', ' kampanyepilkadavirtualpasangan calon wali kota dan wakil wali kota solo gibran rakabuming rakateguh prakosa lebih b…', ' yang sudah kampanye virtual antara lain dilakukan oleh pasangan calon wali kota dan wakil walikota solo nomor urut  gibr…', ' fakta kampanye digital gibran  teguh di pilkada solo  warga bisa sampaikan keluh kesahnya ', 'nomor urut pasangan calonkpu kota surakarta menetapkan nomor urut  pasangan gibran rakabuming raka  teguh pra… ', 'dana kampanye gibranteguh amp bajo masingmasing dibatasi rp  m ', ' dapar nomor urut  gibranteguh siap kampanye blusukan onlinepdiperjuangangibranteguh ht…', 'yang sudah kampanye virtual antara lain dilakukan oleh pasangan calon wali kota dan wakil walikota solo nomor urut… ', 'seluruh ranting pdi perjuangan sekota surakarta siap memenangkan gibranteguh dengan menaati dan patuh protokol ke… ', 'kampanye virtual sudah dilakukan oleh pasangan calon wali kota dan calon wakil wali kota solo nomor urut  gibran… ', 'ruarrrr biasahhh tiati nek ini jaman covid megawati turun gunung jadi jurkam gibranteguh pengamat kalau… ', 'perlu diketahui kampanye virtual antara lain sdh dilakukan oleh paslon cawalkot solo dgn no urut di hari pertama… ', 'kampanye virtual sdh dilakukan oleh paslon gibranteguh pd kampanye di bonorejo kel nusukan kec banjarsari solo… ', 'pandemi covid telah mengubah hampir semua mekanisme pertemuan menjadi online ini bisa dicontoh paslon lainkam… ', 'kampanyepilkadavirtual sdh dilakukan oleh paslon walikota dan calon wakil walikota solo nomor urut  gibran teg… ', 'kampanyepilkadavirtualpasangan calon wali kota dan wakil wali kota solo gibran rakabuming rakateguh prakosa le… ', 'kampanyepilkadavirtualkampanye virtual antara lain sudah dilakukan oleh pasangan calon wali kota dan calon wakil… ', 'kampanyepilkadavirtualketua tim pemenangan gibranteguh putut gunawan mengatakan pada tahapan kampanye ini tim… ', 'kampanyepilkadavirtualkampanye virtual jg dilakukan oleh paslon gibran rakabuming rakateguh prakosa di pilkada s… ', 'gibranteguh vs bajo', 'pilkada solo lawan gibranteguh dana kampanye pasangan bajo rp  darisuara', 'gibranteguh laporkan dana awal kampanye pilkada solo rp juta bajo nol rupiah  ', 'gibranteguh lakukan kampanye virtual pakar komunikasi politik nilai kurang efektif  pikiran rakyat tasikmalaya … ', ' lakukan kampanye virtual pakar komunikasi politik nilai kurang efektif  pikiran rakyat ta… ', ' kampanye sehat kampanye cerdas good luck buat gibran dan teguh semoga sukses', 'kampanye onlie dilakukan pasangan gibranteguh prakosa untuk mencegah kerumunan kumparannews ', ' saluut mas gibran dan mas teguh udah bikin contoh baik cara berkampanye dimasa pandemi', ' mantap banget paslon walikota solo gibran amp teguh nih blusukan pun bisa via virtual ya kampanye n… ', ' wah keren banget nih monitor nya ini bukti bahwa paslon walikota solo gibran amp teguh itu kreatif b… ', '  caranya bener bener keren menurut gua salut banget ama paslon gibran dan teguh', ' emang inovasi buat kampanye dimasa pandemi ini perlu dilakukan kaya ide kreatif dari paslon gibran dan teguh', ' keren nih monitor virtual paslon walikota solo gibran dan teguh semoga terpilih ya', '  salut banget dengan cara kampanyenya paslon gibran dan teguh ini guys', ' tetep bisa kampanye dimasa pandemi bisa banget dengan monitor virtual bisa banget buat blusukan… ', '  bagus bet ide kampanyenya paslon gibran dan teguh ini guys patut dicontoh', 'pengambilan nomer urut paslon pilkada solo idntimesjateng ', ' beritasonora  pengundian nomor urut peserta pilkada  gibranteguh dapat nomor urut … ', ' pengundian nomor urut peserta pilkada  gibranteguh dapat nomor urut   ', 'pengundian nomor urut peserta pilkada  gibranteguh dapat nomor urut   ', 'gibranteguh  bagyosupardjo  samasama yakin menang pilkada solo ', ' resmi ditetapkan kpu kota surakarta dengan nomor urut  gibranteguh yakin bakal meraih kemenangan', 'pilkada solo gibranteguh dapat nomor  bajo  ', 'resmi ditetapkan kpu kota surakarta dengan nomor urut  gibranteguh yakin bakal meraih kemenangan… ', 'calon walikota solo tuh emang gibran teguh doang aku ga pernah liat baliho atau spanduk lawannya di sepanjang jala… ', 'kmi siap mengawal  mas gibran dan mas teguh prakosa dlm mimpin kota solo siap coblos nmor  ada pilihan kita ', 'pilkada solo gibranteguh dapat nomor urut   ', 'undian nomor urut gibranteguh tampil putih hitam apa maknanya gibranrakabuming jokowidodo sbagio… ', ' dua pasangan calon paslon pilkada solo mengikuti tahapan pengundian nomor urut gibran rakabuming rakateguh prakosa mendap…', 'dahsyat gibranteguh dapat nomor urut satu  ', 'dua pasangan calon paslon pilkada solo mengikuti tahapan pengundian nomor urut gibran rakabuming rakateguh prak… ', ' \\U0001f932selamat pagi assalamualaikum wr wb semoga kita selalu patuhi protokol kesehatan agar terhindar dari covid tagar ha…', 'gibran – teguh nomor  bajo  ', 'sah gibranteguh dapat nomor urut  gibranrakabuming teguhprakosa wakilwalikota mencucitangan kotasurakarta… ', 'berbudaya kreatif moderen tangguhgibranteguh pasti menangsolo bermanfaatall out losss ra rewel… ', ' gibran rakabuming raka yang maju sebagai calon wali kota solo berpasangan dengan teguh prakosa ternyata ia mempunyai ha…', 'gibranteguh komitmen taati protokol kesehatancovidrangerantararangerantara', 'gibran rakabuming raka yang maju sebagai calon wali kota solo berpasangan dengan teguh prakosa ternyata ia mempuny… ', ' anda tuh anak muda milenialcari cara yg jitu buat meraup suara dg cara daring dan virtualpartaitaatprokespilkada tari…', ' setuju masbilngn ke semua pendukungnya jugadaring manfaatkan teknologianda itu calon milenial soalnyainget prokes dan k…', 'gibranteguh  bagyosupardjo  samasama pede menang pilkada solo ', ' gw kira tuh gk ad lawanny ternyta ad juga tp lewat jalur independen tohseru juga nih lau kayak ginijd lbh asyik dan hidu…', 'pilkada solo gibranteguh dapat nomor  bajo  ', 'anda tuh anak muda milenialcari cara yg jitu buat meraup suara dg cara daring dan virtual… ', 'pkb resmi dukung gibranteguh di pilwakot solo lihat berita di tautan ', 'setuju masbilngn ke semua pendukungnya jugadaring manfaatkan teknologianda itu calon milenial soalnyainget pr… ', 'gw kira tuh gk ad lawanny ternyta ad juga tp lewat jalur independen tohseru juga nih lau kayak ginijd lbh asyi… ', 'selamat berjuanggibran  teguhsukses selalu  salemba raya ', 'saya bersama pak teguh berkomitmen untuk selalu menaati protokol kesehatan tetapi yang paling penting nomor satu… ', 'pemilune slamet rakyate iso ngeliwet gibranteguh bersilahturahmi ke warga keprabon kota surakarta … ', 'gibranteguh siapkan blusukan online di tengah pandemi covid gibranrakabumingraka gibranrakabuming… ', ' komisi pemilihan umum kpu solo menggelar rapat pleno terbuka pengundian nomor urut pasangan calon wali kota dan wakil wali…', 'pilwalkot solo gibranteguh nomor urut  dan bajo  ukasindonews bangkitdaripandemi gibran ', 'komisi pemilihan umum kpu solo menggelar rapat pleno terbuka pengundian nomor urut pasangan calon wali kota dan w… ', ' dua pasangan calon walikota di the sunan hotel solopasangan\\xa0gibranteguh mendapat nomor urut … ', ' gibranteguh nomor  dan bajo  di pilkada surakarta  ', ' gibranteguh dapat nomor urut  sedangkan penantangnya pasangan bajo nomor  nomor mana yang dicoblos masyarakat soloarti…', 'gibranteguh nomor  dan bajo  di pilkada surakarta  ', 'gibranteguh dapat nomor urut  sedangkan penantangnya pasangan bajo nomor  nomor mana yang dicoblos masyarakat… ', 'gibran menilai nomor satu sama nomor dua sama baiknya ', 'gibranteguh nomor  dan bajo  di pilkada surakarta  antara news bengkulu ', 'pilkada surakarta gibranteguh nomor  dan bajo nomor   antara jateng ', 'pilwalkot solo gibranteguh nomor urut  dan bajo  ', 'naik mobil bertiga gibranteguh dan sukasno hadiri pleno kpu di the sunan\\xa0hotel ', 'gibranteguh siapkan blusukan dan konser online ', 'sah gibranteguh nomor  lawannya bajo nomor  ', 'pasangan calon walikota dan wakil walikota surakarta periode  gibranteguh mendapatkan nomor urut pasti… ', 'pilkada solo gibranteguh dapat nomor urut  bajo nomor ', 'nomor urut di pilwalkot solo gibranteguh  bagyosupardjo  gibranrakabuming disinfektan komisipemilihanumum… ', 'pengundian nomer urut gibranteguh nomer urut satu bajo nomer urut dua ', 'pilwalkot solo gibranteguh dapat nomor urut\\xa0 ', 'pilwalkot solo gibranteguh dapat nomor urut\\xa0 ', 'gibran – teguh nomor  bajo\\xa0 ', 'gibran teguh nomor urut  bajo nomor  ', 'hadiri pengambilan nomor urut paslon begini penampilan gibranteguh dan bajo ', 'nomer urut calon walikota amp wakil walikota surakarta gibran rakabuming raka  teguh prakosa  pdi perjuangan … ', ' kpu kota solo jawa tengah menetapkan dua pasangan calon wali kota pilkada  dua pasangan itu yakni putra jokowi gibran…', 'paslon gibranteguh dapat nomor urut  di pilkada solo tim sorak gembira ', 'kpu kota solo jawa tengah menetapkan dua pasangan calon wali kota pilkada  dua pasangan itu yakni putra joko… ', 'gibranteguh dapat nomor urut  di pilkada solo taucepattanpabatas beritaterkini   ', 'sah gibranteguh dapat nomor urut  bajo dapat nomor urut  pada pilkada solo  ', 'gibranteguh nomor urut  bajo  pada pilwalkot solo ', ' pilkada solo gibranteguh dapat nomor urut  bajo nomor  kepada wartawan gibran mengaku tidak mempermasalahkan mend…', 'rapat pleno penetapan nomor urut dan daftar pasangan calon peserta pemilihan wali kota dan wakil wali kota surakart… ', ' paslon gibranteguh secara sah mendapat nomor urut  dalam pilkada solo  sedangkan paslon independen bajo mendapat nomor…', 'pilkada solo  gibranteguh nomor urut  bajo  ', 'paslon gibranteguh secara sah mendapat nomor urut  dalam pilkada solo  sedangkan paslon independen bajo mend… ', 'sah gibranteguh dapat nomor urut  bajo nomor\\xa0 ', 'pilkada solo gibranteguh dapat nomor urut  bajo nomor  kepada wartawan gibran mengaku tidak mempermasalahkan… ', 'saat hadir dalam rapat pleno kpu pengundian nomor urut gibran dan teguh memakai kemeja putih berlawanan dengan wa… ', 'teguh yang mendampingi gibran langsung tepuk tangan saat mengetahui gibran mendapat nomor urut  tim lain yang h… ', 'pasangan calon pilkada kota solo  gibran rakabuming rakateguh prakosa mendapat nomor urut  sementara lawann… ', 'pengundian nomor urut paslon telah kita lakukan paslon gibranteguh mendapatkan nomor satu dan bajo nomor urut du… ', ' kpu tetapkan  paslon pilwakot solo gibranteguh dan bagyosupardjo ', 'pasangan gibran rakabuming rakateguh prakosa gibranteguh dan bagyo wahyonofx supardjo bajo menghadiri pengun… ', 'solo bersatu gibran  teguh pilihankusolohebat sobatsolohebat solomelompatlebihjauh… ', 'kpu tetapkan  paslon pilwakot solo gibranteguh dan bagyosupardjo ', ' mari kita doakan mak nek penggemar serial pembunuhanini   pilkada solo megawati turun tangan jadi jurkam gibranteguh…', 'tarik pemilih milenial gibranteguh akan gelar konser musik virtual tim pemenangan bakal pasangan calon wali kota… ', 'sah jadi paslon gibranteguh amp bagyosupardjo tak soalkan nomor\\xa0urut ', ' lbp proteskarena saatlbp sedang bla bla blatibanajwa shihabmenayangkanpelanggaran protokol covidoleh peserta…', ' paslon gibranteguh telah menyiapkan blusukan online untuk menyapa masyarakat solo terkait bagaimana sistemnya gibran masih…', '  ranting timuran bersama ibuibu penggerak timuransiap menangkan gibranteguhpemilune sl… ', 'paslon gibranteguh telah menyiapkan blusukan online untuk menyapa masyarakat solo terkait bagaimana sistemnya gi… ', '', '\\U0001f932selamat pagi assalamualaikum wr wb semoga kita selalu patuhi protokol kesehatan agar terhindar dari covid tag… ', 'pasangan gibranteguh dan bagyosupardjo secara resmi akan bertarung memperebutkan kursi wali kota solo kedua pasa… ', 'dukungan semakin gemuk kini giliran pkpi merapat ke gibranteguh di pilkada solo  ', 'gencarkan protokol kesehatan jelang pilkada serentak  gibranteguh\\xa0terima hand sanitizer ', ' anak yg baik sekali mencontoh perilaku bapaknyanjrit blusukan onlinesekalian gorong online ', 'gibranteguh dan bajo incar nomor urut  di pilkada solo ', ' pak purnomo bentar lagi bisa jadi pak teguh kalau pak gibran jadi walkotnya', ' semakin sejahtera dibawah kepemimpinan kader pdi perjuangan petugas penarik sampah banjarsari siap memenangkan gibran…', 'bagyo wahyono dan fx supardjo dipastikan menjadi lawan gibranteguh dalam pilwalkot solo  bagyosupardjo maj… ', 'udah kayak kepanitiaan ya ada rekening baru merahputihcom rekening kampanye ', 'dukung pilkada solo aman secret clean supohand sanitizer melalui paslon gibranteguh ', ' kpu solo secara resmi menetapkan gibran rakabuming rakateguh prakosa dan bagyo wahyonofx supardjo bajo sebagai pasangan c…', 'anak yg baik sekali mencontoh perilaku bapaknyanjrit blusukan onlinesekalian gorong online ', 'mari kita doakan mak nek penggemar serial pembunuhanini   pilkada solo megawati turun tangan jadi jurkam gibr… ', 'kpu solo secara resmi menetapkan gibran rakabuming rakateguh prakosa dan bagyo wahyonofx supardjo bajo sebagai… ', 'dukung gibranteguh pkpi pemimpin solo paling wow ', ' sah gibran rakabumingteguh dan bajo jadi calon wali kota solo  ', 'gibranteguh siapkan blusukan online ', 'kpu tetapkan gibranteguh dan bagyosupardjo paslon di pilwalkot solo  gibranrakabuming komisipemilihanumum… ', 'sah jadi paslon gibranteguh amp bagyosupardjo tak soalkan nomor urut ', 'dukungan semakin gemuk kini giliran pkpi merapat ke gibranteguh di pilkada solo  ', 'gibran  teguh dan bajo resmi sebagai paslon wali kota solo di pilkada \\xa0  ', 'semua kembali pada rakyat  masyarakatapakah masih mau dibodohi fakta dan realitanya setelah mereka menduduki… ', 'ketua tim pemenangan gibranteguh berharap agar mendapat nomor urut  ', 'rapat pleno tertutup kpu surakarta menetapkan pasangan\\xa0gibranteguh dan bagyosupardjo maju dalam pilkada\\xa0 wali kot… ', ' demi memperjuangkan gibranteguh megawati puan dan hasto siap jadi juru kampanye ', 'demi memperjuangkan gibranteguh megawati puan dan hasto siap jadi juru kampanye', 'semakin sejahtera dibawah kepemimpinan kader pdi perjuangan petugas penarik sampah banjarsari siap memenangkan gib… ', 'demi memperjuangkan gibranteguh megawati puan dan hasto siap jadi juru kampanye ', 'megawati dan puan bakal jadi jurkam gibranteguh  ', 'megawati dan puan bakal jadi jurkam gibranteguh  ', 'banteng solotengahberhimpun amp bergerak siap memenangkangibranteguhpemilune slamet wargane iso ngliwet ', 'banteng solotengahberhimpun amp bergerak siap memenangkangibranteguhpemilune slamet wargane iso ngliwet', 'konsolidasi ranting anting amp satgas timuransolid bergerak gibranteguhpemilune slametwargane iso ngliwet ', 'kpu tetapkan gibranteguh dan bajo sebagai peserta pilkada solo nurul menjelaskan rapat pleno penetapan calon tid… ', 'bajo sah jadi lawan gibranteguh dalam pilwakot solo  ', 'sah gibranteguh bakal bertemu bajo di pilkada surakarta  ', ' megawati soekarnoputri dan puan maharani akan turun gunung menjadi juru kampanye gibran rakabumingteguh prakosa di pilkada s…', 'kpu tetapkan gibranteguh dan bajo sebagai peserta pilkada solo nurul menjelaskan rapat pleno penetapan calon tid… ', ' gibranteguh dan bagyosuparjo ditetapkan kpu untuk bertarung dalam pilkada solo ', 'gibranteguh dan bagyosuparjo ditetapkan kpu untuk bertarung dalam pilkada solo ', 'resmi bersaing pengundian nomor urut paslon akan dilakukan besok melalui pleno terbukavalidnews nasional', 'kpu resmikan paslon pilkada solo teguhgibran vs bajo pilkadasolo gibranrakabuming ', 'sah gibran rakabumingteguh dan bajo jadi calon wali kota solo  ', 'megawati dan puan bakal jadi jurkam gibranteguh ', 'gibranteguh dan bajo resmi jadi paslon pilkada solo ', 'sah  gibranteguh dan bajo jadi peserta pilkada solo ', 'kpu tetapkan gibranteguh dan bajo calon pilkada surakarta ', ' warga solo yang gak suka gibran yang nuduh dinasti politik sila pilih bajo jangan golput ', 'dua paslon yakni gibran rakabuming rakateguh prakosa dan bagyo wahyonofx supardjo bajo akan bertarung dalam pil… ', 'batal lawan kotak kosong gibranteguh bakal ditantang bagyosuparjo di pilkada solo  pilkada pilwakotsolo', 'kpu solo sahkan pertarungan gibranteguh lawan bajo di pilkada ', 'sah gibranteguh vs bajo bersaing di pilkada solo   ', 'kpu tetapkan gibranteguh dan bajo paslon pilkada solo ', 'ketua umum pdip megawati soekarnoputri dan ketua dpp puan maharani serta sekjen hasto kristianto bakal turun gunun… ', 'kpu tetapkan gibranteguh dan bagyosupardjo sebagai paslon di pilwalkot solo\\xa0 ', 'warga solo yang gak suka gibran yang nuduh dinasti politik sila pilih bajo jangan golput ', 'patuihi protokol kesehatan saat kampanye di solo gibranteguh bakal gelar konser musik virtual ', 'pengumuman penetapan calon pilkada solo online gibran – teguh amp bagyo – supardjo tak datang ke kpu ', 'begini kata tim pemenangan gibran dan teguh soal penundaan pilkada   ', 'asyik pilkadanya jadi ya teriak rakyat yang lagi pusing ganti masker  scuba nya dan diaminin sama tenaga kes… ', 'sah tukang jahit amp ketua rw tanding lawan putra presiden jokowi gibran amp teguh di pilkada solo  ', 'bajunya keren mas kenalkan seragam kampanye gibranteguh di pilkada solo ini maknanya ', 'ketua tim pemenangan bakal pasangan calon gibran  teguh putut gunawan mengatakan kehadiran megawati diharapkan da… ', 'menangkan gibranteguh puan maharani dan megawati turun gunung jadi jurkam di pilkada solosoloraya pilkadasolo… ', ' kpu menyatakan paslon gibranteguh dan paslon bagyosupardjo sebagai calon wali kota solo publisherstory ', 'kpu tetapkan gibranteguh dan bagyosupardjo paslon di pilwalkot solo  ', 'kpu menyatakan paslon gibranteguh dan paslon bagyosupardjo sebagai calon wali kota solo publisherstory ', 'ada dua pasangan yang kami tetapkan yakni gibranteguh dan bagyosupardjo ujar ketua kpu solo nurul sutarti ', 'ranting timuran bersama ibuibu penggerak timuran siap menangkan gibranteguhpemilune slamet wargane iso ngliwet… ', 'ranting timuran bersama ibuibu se timuran siap bergerak amp memenangkan gibranteguhpdiperjuangan… ', ' megawati menjadi jurkam gibranteguh di pilwalkot solo ', ' paling jurus nangis yang akan diandalkanseperti halnya waktu jadi presiden hasil dari gusdur lengserkalau nggak nang…', 'paling jurus nangis yang akan diandalkanseperti halnya waktu jadi presiden hasil dari gusdur lengserkalau nggak n… ', 'nomor urut  di pilkada solo  jadi rebutan bajo independen dan pasangan calon pdip gibranteguh ', 'ketum pdip megawati soekarno putri dan ketua dpr puan maharani disebut bakal menjadi juru kampanye gibran rakabumin… ', 'kampanye gibranteguh pertimbangkan gelar konser ', ' pilkada solo megawati turun tangan jadi jurkam gibranteguh ', 'pilkada solo megawati turun tangan jadi jurkam gibranteguh  follow   ', 'puan hingga megawati bakal jadi juru kampanye gibranteguh  indonesia', 'tim pemenangan pasangan gibran rakabuming rakateguh prakosa yang diusung pdip serta didukung delapan parpol tidak… ', 'pilkada solo megawati turun tangan jadi jurkam gibranteguh ', 'ketua dpr dan mantan presiden bakal jadi jurkam gibranteguh di pilkada solo ', ' ashiaap', 'mantan presiden masuk tim juru kampanye gibranteguh di pilkada solo ', 'megawati soekarnoputri dan puan maharani akan turun gunung menjadi juru kampanye gibran rakabumingteguh prakosa di… ', 'namun belum dipastikan apakah megawati akan datang langsung ke solo atau melalui daring ', 'megawati menjadi jurkam gibranteguh di pilwalkot solo ', 'kampanye gibranteguh pertimbangkan gelar konser ', 'kpu solo penetapan gibranteguh dan bagyosuparjo tertutup ', 'dua pasangan bacalon wali kota solo usung konsep berbeda soal tata ruang ', 'darimks ketua dpr ri hingga mantan presiden ri jadi tim jurkam gibranteguh  ', 'pilkada ditunda tim pemenangan gibranteguh kami pasti diuntungkan ', 'pilkada ditunda tim pemenangan gibranteguh kami pasti diuntungkan ', 'pilkada ditunda tim pemenangan gibranteguh kami pasti diuntungkan ', 'megawati dan para elit partai akan turun gunung kampanyekan gibran  teguh temponasional ', 'timses paslon gibranteguh akan menghadirkan megawati hingga puan maharani untuk menjadi juru kampanye ', ' ayo pilih gibran  teguh ', ' pdip menyiapkan juru kampanye untuk memenangkan pilkada  di pilkada solo ketua umum pdip megawati soekarnoputri akan me…', ' para tokoh partai politik bakal berdatangan ke solo selama masa kampanye megawati soekarnoputri juga akan dihadirkan untuk…', 'para tokoh partai politik bakal berdatangan ke solo selama masa kampanye megawati soekarnoputri juga akan dihadirk… ', 'ketua umum pdip megawati soekarnoputri akan menjadi salah satu juru kampanye pasangan gibran rakabuming rakateguh… ', 'pdip menyiapkan juru kampanye untuk memenangkan pilkada  di pilkada solo ketua umum pdip megawati soekarnoput… ', ' tim pemenangan gibranteguh minta kpu gelar rapat pleno terbuka penetapan calon pernyataan tersebut dikemukakan lo lia…', 'tim pemenangan gibranteguh minta kpu gelar rapat pleno terbuka penetapan calon pernyataan tersebut dikemukakan lo… ', 'tim gibranteguh memprotes kpu solo  jawa pos  demokrasi indonesia', 'gaet pemilih milenial gibran rakabumingteguh prakosa bakal gelar konser virtual ', 'konser musik virtual menjadi bagian dari menggalang dukungan warga terhadap pasangan gibran dan teguh setidaknya i… ', 'megawati dan puan bakal jadi jurkam gibranteguh kehadiran para tokoh partai berlambang kepala banteng moncong put… ', ' siapa saja yang bakal menjadi juru kampanye gibran dan teguh di pilwalkot solo ', 'siapa saja yang bakal menjadi juru kampanye gibran dan teguh di pilwalkot solo ', '   keren banget nih acaranya kemaren gua nonton pengisi acaranya itu keren  semoga… ', '   keren banget nih acaranya kemaren gua nonton pengisi acaranya itu keren  semoga… ', '   keren banget nih acaranya kemaren gua nonton pengisi acaranya itu keren  s… ', '   keren banget nih acaranya kemaren gua nonton pengisi acaranya itu keren  semo… ', '   keren banget nih acaranya kemaren gua nonton pengisi acaranya itu keren  s… ', ' mantul nih film', '   keren banget nih acaranya kemaren gua nonton pengisi acaranya itu keren  semoga… ', '   keren banget nih acaranya kemaren gua nonton pengisi acaranya itu keren  semoga… ', '   keren banget nih acaranya kemaren gua nonton pengisi acaranya itu keren  se… ', ' aku liat dulu ya kak ig nya', 'tim gibranteguh memprotes kpu solo ', 'cara kampanye di tengah pandemi covid gibranteguh bakal blusukan online  ', 'band apa yang cocok patuhi protokol kesehatan saat kampanye di solo gibranteguh bakal gelar konser musik virtu… ', 'gelar konser musik virtual cara gibranteguh lebih dekat dengan pemilih\\xa0milenial ', '   pasti seru banget acaranya apalagi ada boy william', ' angkat jargon pemilune slamet wargane iso ngliwet ketua dpc pdi perjuangan surakarta ajak penarik sampah laweyan sukse…', ' rapatkan barisan utk kemenangan gibranteguh demi keberlanjutan program kebijakan yang pro wong cil… ', 'angkat jargon pemilune slamet wargane iso ngliwet ketua dpc pdi perjuangan surakarta ajak penarik sampah laweyan s… ', 'patuihi protokol kesehatan saat kampanye di solo gibranteguh bakal gelar konser musik virtual ', ' rebut hati milenial solo gibranteguh siapkan konser musik virtual  ', ' target raih  suara gibranteguh andalkan jurkam nasional hingga influencer  ', 'rebut hati milenial solo gibranteguh siapkan konser musik virtual  ', 'silaturahmi ke tegalharjo gibranteguh janji lanjutkan program wmp rudypoernomo hingga percepatan pemulihan ekon… ', 'target raih  suara gibranteguh andalkan jurkam nasional hingga influencer  ', 'kpu putuskan tak undang gibranteguh dan bajo saat penetapan calon pilkada solo “itu nanti pleno internal kemudia… ', 'mantap jiwa puan hingga megawati terjun jadi jurkam gibranteguh di pilkada   ', 'perindo dukung pasangan gibran  teguh jadi wali kota dan wakil wali kota solo', 'saat menghadiri “deklarasi adaptasi kebiasaan baru untuk mendukung percepatan penanganan covid ” gibran  teguh j… ', 'saat menghadiri “deklarasi adaptasi kebiasaan baru untuk mendukung percepatan penanganan covid ” gibran  teguh j… ', 'saat menghadiri “deklarasi adaptasi kebiasaan baru untuk mendukung percepatan penanganan covid ” gibran  teguh j… ', 'saat menghadiri “deklarasi adaptasi kebiasaan baru untuk mendukung percepatan penanganan covid ” gibran  teguh j… ', 'hoax presiden jadi tim sukses gibranteguh  via ', 'visimisi pilkada  gibran  teguh kota solo sebagai kota budaya modern amp lanjutkan program rudy ', 'partai perindo resmi dukung pasangan gibranteguh di pilwakot solo ']\n"
          ],
          "name": "stdout"
        }
      ]
    },
    {
      "cell_type": "code",
      "metadata": {
        "id": "2LRuMca2m39G",
        "outputId": "1756faef-c687-4e24-c2ac-5530daa62e63",
        "colab": {
          "base_uri": "https://localhost:8080/",
          "height": 71
        }
      },
      "source": [
        "#Menghapus whitepace (karakter kosong)\n",
        "tweet_data_9=[]\n",
        "for teks in tweet_data_8:\n",
        "  teks_process = [teks.strip()]\n",
        "  tweet_data_9=tweet_data_9+teks_process\n",
        "print(tweet_data_9)\n",
        "print(len(tweet_data_9))"
      ],
      "execution_count": null,
      "outputs": [
        {
          "output_type": "stream",
          "text": [
            "['populer nusantara antara lain konlik antara kapolres blitar dengan kasat sabhara sementara di solo sandiaga ipers…', 'sandiaga uno menjadi juru kampanye pasangan calon wali kota dan wakil wali kota solo gibran rakabuming rakateguh prakos…', 'sandiaga uno jadi juru kampanye gibranteguh di pilkada solo disebut ada lobi jokowi', 'ninggal tatukowe tak sayangsayang saiki malah ngilang tresnamu karo aku kuwi mung kiasankowe tak gadhang…', 'sandi uno jadi juru kampanye gibranteguh di pilkada solo disebut ada lobi jokowiperjuangan bapak perbaiki martabak anak…', 'tidur dulu ah sakit badan nihh', 'nyeri awak', 'ngantukkkk', 'sandi uno jadi juru kampanye gibranteguh di pilkada solo disebut ada lobi jokowiperjuangan bapak perbaiki mart…', 'selain sandiaga uno ada nama besar lain yang juga akan menjadi jurkam paslon gibranteguh di solo  pilkada', 'respons kabar sandiaga bakal jadi jurkam gibran rancang kampanye daring wakil ketua dewan pembina partai gerindra…', 'selain sandiaga uno ada nama besar lain yang juga akan menjadi jurkam paslon gibranteguh di solo  pilkada', 'udah baca ini belom blog', 'sandiaga uno jadi juru kampanye gibranteguh di pilkada solo disebut ada lobi jokowi borong dari medan sampai solo htt…', 'hoammmmmm', 'gibran – teguh pilkada sesuai jadwal demokratis dan aman dari covid', 'solo ber – satu gibran – teguh pilihanku', 'gibran – teguh mendapat nomor urut satu untuk pilkada solo  pa', 'gibran – teguh mendapat nomor urut satu untuk pilkada solo  pa', 'gibran saya dan pak teguh tetap berkomitmen menjaga protokol kesehatan selama kampanye', 'gibran – teguh untuk mendukung pilkada aman secret clean pt victoria care memberikan bantuan hand sanitizer', 'capek euy', 'sandiaga uno digadanggadang menjadi jurkam paslon gibranteguh dalam pilkada solo  sandiaga menjadi jurkam ta…', 'mantan wakil gubernur dki jakarta sandiaga uno bakal menjadi juru kampanye pasangan calon gibran rakabuming rakate…', 'gk butuh jurkam dari pusat spt  warga solo cukup berdi…', 'wakil ketua dpp gerindra  akan menjadi juru kampanye untuk pasangan calon wali kota dan wakil wali kota solo gi…', 'sandiaga uno jadi juru kampanye gibranteguh di pilkada solo disebut ada lobi jokowi', 'wakil ketua dpp gerindra  akan menjadi juru kampanye untuk pasangan calon wali kota dan wakil wali kota so…', 'asyiikkk', 'laparrr', '\\U0001f970\\U0001f970\\U0001f970', 'mantap sandiaga uno jadi jurkam gibranteguh di pilkada solo', 'lebih lanjut ardianto mengatakan saat ini pihaknya sedang mengkaji persiapan deklarasi tim pemenangan untuk paslon gibranteguh', 'mantan wakil gubernur dki jakarta ini dimungkinkan akan mengkampanyekan pasangan gibranteguh juga secara virtual', 'termasuk model kampanye yang digunakan sandiaga untuk paslon gibranteguh menurutnya antara gibran dengan sandi sangat bisa disatukan', 'menurutnya faktor kedekatan antara sandiaga prabowo subianto ketua dpp partai gerindra dengan presiden jokowi s…', 'kabar sandiaga akan menjadi juru kampanye untuk pasangan gibran teguh dibenarkan oleh ketua dpc partai gerindra solo ardianto kuswinarno', 'menurutnya faktor kedekatan antara sandiaga prabowo subianto ketua dpp partai gerindra dengan presiden jokowi s…', 'wakil ketua dewan pembina partai gerindra sandiaga salahudin uno akan menjadi juru kampanye jurkam untuk pasangan…', 'menurutnya faktor kedekatan antara sandiaga prabowo subianto ketua dpp partai gerindra dengan presiden jokowi s…', 'wakil ketua dewan pembina partai gerindra sandiaga salahudin uno akan menjadi juru kampanye jurkam untuk pasangan…', 'wakil ketua dewan pembina partai gerindra sandiaga salahudin uno akan menjadi juru kampanye jurkam untuk pasangan…', 'menurutnya faktor kedekatan antara sandiaga prabowo subianto ketua dpp partai gerindra dengan presiden jokowi s…', 'menurutnya faktor kedekatan antara sandiaga prabowo subianto ketua dpp partai gerindra dengan presiden jokowi s…', 'wakil ketua dewan pembina partai gerindra sandiaga salahudin uno akan menjadi juru kampanye jurkam untuk pasangan…', 'wakil ketua dewan pembina partai gerindra sandiaga salahudin uno akan menjadi juru kampanye jurkam untuk pasangan…', 'menurutnya faktor kedekatan antara sandiaga prabowo subianto ketua dpp partai gerindra dengan presiden jokowi s…', 'wakil ketua dewan pembina partai gerindra sandiaga salahudin uno akan menjadi juru kampanye jurkam untuk pasangan…', 'orang amerika mungkin jadi mikir jangan nanti kalau biden menang dan trump kalah kemudian anaknya biden nyalon…', 'selamat bang   semoga solo kedepan bisa bebas dari kaum intoleransi', '', 'selamat bang   semoga solo kedepan bisa bebas dari kaum intoleransi', 'politisi partai gerindra sandiaga solahuddin uno akan menjadi juru kampanye jurkam pasangan calon wali kota dan w…', 'sandiaga uno menjadi juru kampanye pasangan calon wali kota dan wakil wali kota solo gibran rakabuming rakateguh…', 'pilwalkot solo sandiaga uno siap diterjunkan jadi jurkam gibranteguh', 'oh jadi ini ya 🤣🤣', 'sandiaga akan jadi jurkam gibran di solo dan bobby di medan menurutnya faktor kedekatan antara sandiaga prabowo…', 'sandiagauno prabowo gerindra pdiperjuangan', 'sandiaga uno jadi juru kampanye gibranteguh di pilkada solo disebut ada lobi jokowi', 'politisi partai gerindra sandiaga solahuddin uno dipersiapkan menjadi jukam pasangan calon wali kota dan wakil wali…', 'apbd kota solo tiap hari kita bahas dengan pak teguh ini adalah masamasa di mana kita harus bersabar dan banyak sekali an…', 'saya berkomitmen untuk menaati protokol kesehatan setiap hari saya dengungkan ke warga program prioritas saya dan pak tegu…', 'sandiaga uno jadi juru kampanye gibranteguh di pilkada solo disebut ada lobi jokowi borong dari medan sampai sol…', 'kalau gibran nggak bermanuver kirakira ibu ketum bakal milih dia atau enggak ya sementara pdip sudah ng…', 'mantap sandiaga uno jadi jurkam gibranteguh di pilkada solo', 'lobilobinya politik tingkat tinggi karena ketum kami prabowo subianto dengan pak jokowi sangat dekat sekali…', 'wkwkw jadi jasa terawang gini dah gibranteguh yang menang kalo dia kalah kalem ada leg kedua wkwkkw', 'politisi partai gerindra sandiaga solahuddin uno dipersiapkan menjadi jukam pasangan calon wali kota dan wakil wali kota sol…', 'sandiaga uno jadi juru kampanye gibranteguh di pilkada solo disebut ada lobi jokowi', 'apa kabar papa online sandiaga uno jadi jurkam gibranteguh di pilkada solo klik untuk baca…', 'politisi partai gerindra sandiaga solahuddin uno dipersiapkan menjadi jukam pasangan calon wali kota dan wakil wali…', 'gotong royong melawan covid bersama gibran – teguh', 'gibran genap  tahun teguh doakan putra jokowi terpilih jadi wali kota dan bisa membangun solo', 'apbd kota solo tiap hari kita bahas dengan pak teguh ini adalah masamasa di mana kita harus bersabar dan banyak sekali angga…', 'pengurus dpd psi solo dipimpin langsung bro antonius yoga melakukan fogging di permukiman wargapada kesempatan yang sama me…', 'gibranteguh melakukan blusukan ke masyarakat dalam rangka membantu masyarakat yang terkena dampak pandemi', 'pertanyaan najwa tidak perlu kita ragukan lagi namun apakah jawaban mas gibran n cara menjawab nya su…', 'saya berkomitmen untuk menaati protokol kesehatan setiap hari saya dengungkan ke warga program prioritas saya dan pak teguh a…', 'paslon gibranteguh kembali melakukan blusukan online ke beberapa kelurahan di solo dalam kesempatan itu gibran a…', 'paslon gibranteguh kembali melakukan blusukan online ke beberapa kelurahan di solo dalam kesempatan itu gibran a…', 'putra presiden joko widodo gibran rakabuming raka yang berpasangan dengan teguh prakosa di pilwalkot surakarta  nasiona…', 'putra presiden joko widodo gibran rakabuming raka yang berpasangan dengan teguh prakosa di pilwalkot surakarta …', 'apbd kota solo tiap hari kita bahas dengan pak teguh ini adalah masamasa di mana kita harus bersabar dan banyak…', 'apbd kota solo tiap hari kita bahas dengan pak teguh ini adalah masamasa di mana kita harus bersabar dan banyak…', 'saya berkomitmen untuk menaati protokol kesehatan setiap hari saya dengungkan ke warga program prioritas saya dan…', 'saya berkomitmen untuk menaati protokol kesehatan setiap hari saya dengungkan ke warga program prioritas saya dan…', 'solo bersatu gibran  teguh pilihankusolohebat sobatsolohebat solomelompatlebihjauh lompatananakmudauntuksolo …', 'bajo blusukan langsung ke tokoh agama gibranteguh pakai virtualbox', 'identitas yang satu ini akan menjadi tugas bersama masyarakat solo dan pasangan mas gibran amp mas teguh untuk membawa solo…', 'identitas yang satu ini akan menjadi tugas bersama masyarakat solo dan pasangan mas gibran amp mas teguh prakasa untuk memb…', 'amunisi bertambah pkpi dukung gibran – teguh di pilkada solo', 'dana kampanye gibranteguh amp bajo masingmasing dibatasi rp \\xa0m', 'dana kampanye gibranteguh amp bajo masingmasing dibatasi rp \\xa0m', 'gibranteguh for solo  gibranforsolo', 'bajo blusukan langsung ke tokoh agama gibranteguh pakai virtualbox', 'pasangan gibranteguh dan bajo memiliki cara tersendiri untuk menggaet suara warga kota solo simak gaya kampanye m…', 'mas gibran mohon maaf jadinya mas fans apa mas kok semuanya mas wkwkwkgibranteguh', 'pengurus dpd psi solo dipimpin langsung bro antonius yoga melakukan fogging di permukiman wargapada kesempatan y…', 'pilkada solo  sandiaga uno bakal kampanyekan gibranteguh', 'pilkada solo  sandiaga uno bakal kampanyekan gibranteguh', 'kampanyepilkadavirtualkampanye perdana gibranteguh blusukan daring dengan virtual boxkampanye gibran berupa blusuka…', 'rapatkan barisan menangkan gibranteguh', 'seluruh ranting pdi perjuangan sekota surakarta siap memenangkan gibranteguh dengan menaati dan patuh protokol keseha…', 'ijin bal rapopo di tahan sik  sing penting ijin dodolanku tetep metu seko polri bekingane gibran teguh og', 'pilwakotsolo kampanye gibranteguh bagi tugas', 'pilwakotsolo kampanye gibranteguh bagi tugas', 'pilwakotsolo kampanye gibranteguh bagi tugas', 'pilwakot surakarta menjadi pilkada teramai nomor pertama dengan  berita selain membahas sosok gibran media menyor…', 'sudahlah paslon bajo biasa gegaruk bidjie aja gegayaan luh ikutan pilkada segala kalo boleh usul mendingan…', 'dana awal kampanye gibranteguh rp juta bajo rp pilkada', 'dana awal kampanye gibranteguh rp juta bajo rp pilkada', 'komisi pemilihan umum kpu solo jawa tengah telah menerima pendaftaran  akun media sosial medsos milik kedua…', 'megawati turun gunung jadi jurkam gibranteguh pengamat kalau kalah harga diri pdipjokowi hancur', 'pilkada solo lawan gibranteguh dana kampanye pasangan bajo rp', 'siap akhi saya masih memegang teguh sepenggal kalimat dari khalil gibran wkwk', 'warga solo antusias dengan adanya box virtual kampanye yang disediakan paslon gibranteguh warga pun dapat berkeluh kesah de…', 'warga solo antusias dengan adanya box virtual kampanye yang disediakan paslon gibranteguh warga pun dapat berkelu…', 'ayo rapatkann barisan utk memenangkan gibran  teguh dgn menerapkan disiplin protok kesehatansa…', 'pilkada solo lawan gibranteguh dana kampanye pasangan bajo rp kelurahannusukan panjipanji…', 'seperti diberitakan kampanye virtual antara lain sdh dilakukan oleh paslon walikota dan calon wakil walikota solo nomor u…', 'selamat berjuang gibranteguhsemangat mewujudkan surakarta sebagai kota budaya yang modern tangguh gesit kreatif da…', 'saya optimis gibranteguh mampu menerapkan kampanye sehat dari bahaya penularan virus korona dan menang dalam pilkada ini…', 'seluruh ranting pdi perjuangan sekota surakarta siap memenangkan gibranteguh dengan menaati dan patuh protokol ke…', 'kampanye virtual gibran rakabumingteguh prakosa dipuji warga solo', 'kampanye virtual gibran rakabumingteguh prakosa diapresiasi\\xa0warga', 'kampanye virtual antara lain sdh dilakukan oleh pasangan calon walikota dan calon wakil walikota solo nomor urut  gibr…', 'selamat berjuang gibranteguhsemangat mewujudkan surakarta sebagai kota budaya yang modern tangguh gesit kreat…', 'saya optimis gibranteguh mampu menerapkan kampanye sehat dari bahaya penularan virus korona dan menang dalam pilka…', 'perlu diketahui kampanye virtual antara lain sdh dilakukan oleh paslon cawalkot solo dgn no urut di hari pertama kampany…', 'gibran kembali menyapa masyarakat dengan virtual box dengan keliling kampung sedangkan teguh melakukan blusukan of…', 'awal kampanye gibran – teguh sudah kantongi dana rp  m bajo rp', 'agar tidak menimbulkan kerumunan massa pasangan calon walikota solo gibran rakabuming raka dan teguh prakoso melakukan te…', 'dpc pdip solo menargetkan perolehan suara  untuk kemenangan gibranteguh perolehan suara itu tentunya dengan kontribusi y…', 'selamat berjuang mas gibran gibran – teguh untuk solo', 'gibran  teguh melakukan kampanye unik blusukan online guna menghindari pengumpulan massa dan mematuhi protocol ke…', 'gibran  teguh melakukan kampanye unik blusukan online guna menghindari pengumpulan massa dan mematuhi protocol ke…', 'gibran  teguh melakukan kampanye unik blusukan online guna menghindari pengumpulan massa dan mematuhi protocol ke…', 'gibran  teguh melakukan kampanye unik blusukan online guna menghindari pengumpulan massa dan mematuhi protocol ke…', 'gibran  teguh melakukan kampanye unik blusukan online guna menghindari pengumpulan massa dan mematuhi protocol ke…', 'gibran  teguh melakukan kampanye unik blusukan online guna menghindari pengumpulan massa dan mematuhi protocol ke…', 'gibran  teguh melakukan kampanye unik blusukan online guna menghindari pengumpulan massa dan mematuhi protocol ke…', 'gibran  teguh melakukan kampanye unik blusukan online guna menghindari pengumpulan massa dan mematuhi protocol ke…', 'gibran  teguh melakukan kampanye unik blusukan online guna menghindari pengumpulan massa dan mematuhi protocol ke…', 'kampanye virtual sudah dilakukan oleh pasangan calon wali kota dan calon wakil wali kota solo nomor urut  gibran rakab…', 'pilwakot surakarta menjadi pilkada teramai nomor pertama dengan  berita selain membahas sosok gibran media…', 'kampanye virtual sdh dilakukan oleh paslon gibranteguh pd kampanye di bonorejo kel nusukan kec banjarsari solo jawa tenga…', 'pandemi covid telah mengubah hampir semua mekanisme pertemuan menjadi online ini bisa dicontoh paslon lainkampanye vi…', 'wah gibran  teguh inilah generasi yg sesungguhnya', 'kampanye virtual antara lain sdh dilakukan oleh pasangan calon walikota dan calon wakil walikota solo nomor urut …', 'pasangan cawali dan cawawali solo nomor urut  gibran rakabuming rakateguh prakosa langsung melakukan blusukan online di…', 'gibran rakabuming raka resmi menjadi calon wali kota solo dalam pemilihan kepala daerah pilkada serentak b…', 'kampanyepilkadavirtual sdh dilakukan oleh paslon walikota dan calon wakil walikota solo nomor urut  gibran teguh pd h…', 'seperti diberitakan kampanye virtual antara lain sdh dilakukan oleh paslon walikota dan calon wakil walikota solo…', 'seluruh ranting pdi perjuangan sekota surakarta siap memenangkan gibranteguh dengan menaati dan p…', 'pasangan cawali dan cawawali solo nomor urut  gibran rakabuming rakateguh prakosa langsung melakukan blusukan…', 'kampanyepilkadavirtualkampanye perdana gibranteguh blusukan daring dengan virtual boxkampanye gibran berupa bl…', 'agar tidak menimbulkan kerumunan massa pasangan calon walikota solo gibran rakabuming raka dan teguh prakoso melak…', 'kampanyepilkadavirtualkampanye virtual jg dilakukan oleh paslon gibran rakabuming rakateguh prakosa di pilkada solo…', 'kampanyepilkadavirtualketua tim pemenangan gibranteguh putut gunawan mengatakan pada tahapan kampanye ini timnya a…', 'kampanyepilkadavirtualkampanye virtual antara lain sudah dilakukan oleh pasangan calon wali kota dan calon wakil wali…', 'kampanyepilkadavirtualpasangan calon wali kota dan wakil wali kota solo gibran rakabuming rakateguh prakosa lebih b…', 'yang sudah kampanye virtual antara lain dilakukan oleh pasangan calon wali kota dan wakil walikota solo nomor urut  gibr…', 'fakta kampanye digital gibran  teguh di pilkada solo  warga bisa sampaikan keluh kesahnya', 'nomor urut pasangan calonkpu kota surakarta menetapkan nomor urut  pasangan gibran rakabuming raka  teguh pra…', 'dana kampanye gibranteguh amp bajo masingmasing dibatasi rp  m', 'dapar nomor urut  gibranteguh siap kampanye blusukan onlinepdiperjuangangibranteguh ht…', 'yang sudah kampanye virtual antara lain dilakukan oleh pasangan calon wali kota dan wakil walikota solo nomor urut…', 'seluruh ranting pdi perjuangan sekota surakarta siap memenangkan gibranteguh dengan menaati dan patuh protokol ke…', 'kampanye virtual sudah dilakukan oleh pasangan calon wali kota dan calon wakil wali kota solo nomor urut  gibran…', 'ruarrrr biasahhh tiati nek ini jaman covid megawati turun gunung jadi jurkam gibranteguh pengamat kalau…', 'perlu diketahui kampanye virtual antara lain sdh dilakukan oleh paslon cawalkot solo dgn no urut di hari pertama…', 'kampanye virtual sdh dilakukan oleh paslon gibranteguh pd kampanye di bonorejo kel nusukan kec banjarsari solo…', 'pandemi covid telah mengubah hampir semua mekanisme pertemuan menjadi online ini bisa dicontoh paslon lainkam…', 'kampanyepilkadavirtual sdh dilakukan oleh paslon walikota dan calon wakil walikota solo nomor urut  gibran teg…', 'kampanyepilkadavirtualpasangan calon wali kota dan wakil wali kota solo gibran rakabuming rakateguh prakosa le…', 'kampanyepilkadavirtualkampanye virtual antara lain sudah dilakukan oleh pasangan calon wali kota dan calon wakil…', 'kampanyepilkadavirtualketua tim pemenangan gibranteguh putut gunawan mengatakan pada tahapan kampanye ini tim…', 'kampanyepilkadavirtualkampanye virtual jg dilakukan oleh paslon gibran rakabuming rakateguh prakosa di pilkada s…', 'gibranteguh vs bajo', 'pilkada solo lawan gibranteguh dana kampanye pasangan bajo rp  darisuara', 'gibranteguh laporkan dana awal kampanye pilkada solo rp juta bajo nol rupiah', 'gibranteguh lakukan kampanye virtual pakar komunikasi politik nilai kurang efektif  pikiran rakyat tasikmalaya …', 'lakukan kampanye virtual pakar komunikasi politik nilai kurang efektif  pikiran rakyat ta…', 'kampanye sehat kampanye cerdas good luck buat gibran dan teguh semoga sukses', 'kampanye onlie dilakukan pasangan gibranteguh prakosa untuk mencegah kerumunan kumparannews', 'saluut mas gibran dan mas teguh udah bikin contoh baik cara berkampanye dimasa pandemi', 'mantap banget paslon walikota solo gibran amp teguh nih blusukan pun bisa via virtual ya kampanye n…', 'wah keren banget nih monitor nya ini bukti bahwa paslon walikota solo gibran amp teguh itu kreatif b…', 'caranya bener bener keren menurut gua salut banget ama paslon gibran dan teguh', 'emang inovasi buat kampanye dimasa pandemi ini perlu dilakukan kaya ide kreatif dari paslon gibran dan teguh', 'keren nih monitor virtual paslon walikota solo gibran dan teguh semoga terpilih ya', 'salut banget dengan cara kampanyenya paslon gibran dan teguh ini guys', 'tetep bisa kampanye dimasa pandemi bisa banget dengan monitor virtual bisa banget buat blusukan…', 'bagus bet ide kampanyenya paslon gibran dan teguh ini guys patut dicontoh', 'pengambilan nomer urut paslon pilkada solo idntimesjateng', 'beritasonora  pengundian nomor urut peserta pilkada  gibranteguh dapat nomor urut …', 'pengundian nomor urut peserta pilkada  gibranteguh dapat nomor urut', 'pengundian nomor urut peserta pilkada  gibranteguh dapat nomor urut', 'gibranteguh  bagyosupardjo  samasama yakin menang pilkada solo', 'resmi ditetapkan kpu kota surakarta dengan nomor urut  gibranteguh yakin bakal meraih kemenangan', 'pilkada solo gibranteguh dapat nomor  bajo', 'resmi ditetapkan kpu kota surakarta dengan nomor urut  gibranteguh yakin bakal meraih kemenangan…', 'calon walikota solo tuh emang gibran teguh doang aku ga pernah liat baliho atau spanduk lawannya di sepanjang jala…', 'kmi siap mengawal  mas gibran dan mas teguh prakosa dlm mimpin kota solo siap coblos nmor  ada pilihan kita', 'pilkada solo gibranteguh dapat nomor urut', 'undian nomor urut gibranteguh tampil putih hitam apa maknanya gibranrakabuming jokowidodo sbagio…', 'dua pasangan calon paslon pilkada solo mengikuti tahapan pengundian nomor urut gibran rakabuming rakateguh prakosa mendap…', 'dahsyat gibranteguh dapat nomor urut satu', 'dua pasangan calon paslon pilkada solo mengikuti tahapan pengundian nomor urut gibran rakabuming rakateguh prak…', '\\U0001f932selamat pagi assalamualaikum wr wb semoga kita selalu patuhi protokol kesehatan agar terhindar dari covid tagar ha…', 'gibran – teguh nomor  bajo', 'sah gibranteguh dapat nomor urut  gibranrakabuming teguhprakosa wakilwalikota mencucitangan kotasurakarta…', 'berbudaya kreatif moderen tangguhgibranteguh pasti menangsolo bermanfaatall out losss ra rewel…', 'gibran rakabuming raka yang maju sebagai calon wali kota solo berpasangan dengan teguh prakosa ternyata ia mempunyai ha…', 'gibranteguh komitmen taati protokol kesehatancovidrangerantararangerantara', 'gibran rakabuming raka yang maju sebagai calon wali kota solo berpasangan dengan teguh prakosa ternyata ia mempuny…', 'anda tuh anak muda milenialcari cara yg jitu buat meraup suara dg cara daring dan virtualpartaitaatprokespilkada tari…', 'setuju masbilngn ke semua pendukungnya jugadaring manfaatkan teknologianda itu calon milenial soalnyainget prokes dan k…', 'gibranteguh  bagyosupardjo  samasama pede menang pilkada solo', 'gw kira tuh gk ad lawanny ternyta ad juga tp lewat jalur independen tohseru juga nih lau kayak ginijd lbh asyik dan hidu…', 'pilkada solo gibranteguh dapat nomor  bajo', 'anda tuh anak muda milenialcari cara yg jitu buat meraup suara dg cara daring dan virtual…', 'pkb resmi dukung gibranteguh di pilwakot solo lihat berita di tautan', 'setuju masbilngn ke semua pendukungnya jugadaring manfaatkan teknologianda itu calon milenial soalnyainget pr…', 'gw kira tuh gk ad lawanny ternyta ad juga tp lewat jalur independen tohseru juga nih lau kayak ginijd lbh asyi…', 'selamat berjuanggibran  teguhsukses selalu  salemba raya', 'saya bersama pak teguh berkomitmen untuk selalu menaati protokol kesehatan tetapi yang paling penting nomor satu…', 'pemilune slamet rakyate iso ngeliwet gibranteguh bersilahturahmi ke warga keprabon kota surakarta …', 'gibranteguh siapkan blusukan online di tengah pandemi covid gibranrakabumingraka gibranrakabuming…', 'komisi pemilihan umum kpu solo menggelar rapat pleno terbuka pengundian nomor urut pasangan calon wali kota dan wakil wali…', 'pilwalkot solo gibranteguh nomor urut  dan bajo  ukasindonews bangkitdaripandemi gibran', 'komisi pemilihan umum kpu solo menggelar rapat pleno terbuka pengundian nomor urut pasangan calon wali kota dan w…', 'dua pasangan calon walikota di the sunan hotel solopasangan\\xa0gibranteguh mendapat nomor urut …', 'gibranteguh nomor  dan bajo  di pilkada surakarta', 'gibranteguh dapat nomor urut  sedangkan penantangnya pasangan bajo nomor  nomor mana yang dicoblos masyarakat soloarti…', 'gibranteguh nomor  dan bajo  di pilkada surakarta', 'gibranteguh dapat nomor urut  sedangkan penantangnya pasangan bajo nomor  nomor mana yang dicoblos masyarakat…', 'gibran menilai nomor satu sama nomor dua sama baiknya', 'gibranteguh nomor  dan bajo  di pilkada surakarta  antara news bengkulu', 'pilkada surakarta gibranteguh nomor  dan bajo nomor   antara jateng', 'pilwalkot solo gibranteguh nomor urut  dan bajo', 'naik mobil bertiga gibranteguh dan sukasno hadiri pleno kpu di the sunan\\xa0hotel', 'gibranteguh siapkan blusukan dan konser online', 'sah gibranteguh nomor  lawannya bajo nomor', 'pasangan calon walikota dan wakil walikota surakarta periode  gibranteguh mendapatkan nomor urut pasti…', 'pilkada solo gibranteguh dapat nomor urut  bajo nomor', 'nomor urut di pilwalkot solo gibranteguh  bagyosupardjo  gibranrakabuming disinfektan komisipemilihanumum…', 'pengundian nomer urut gibranteguh nomer urut satu bajo nomer urut dua', 'pilwalkot solo gibranteguh dapat nomor urut', 'pilwalkot solo gibranteguh dapat nomor urut', 'gibran – teguh nomor  bajo', 'gibran teguh nomor urut  bajo nomor', 'hadiri pengambilan nomor urut paslon begini penampilan gibranteguh dan bajo', 'nomer urut calon walikota amp wakil walikota surakarta gibran rakabuming raka  teguh prakosa  pdi perjuangan …', 'kpu kota solo jawa tengah menetapkan dua pasangan calon wali kota pilkada  dua pasangan itu yakni putra jokowi gibran…', 'paslon gibranteguh dapat nomor urut  di pilkada solo tim sorak gembira', 'kpu kota solo jawa tengah menetapkan dua pasangan calon wali kota pilkada  dua pasangan itu yakni putra joko…', 'gibranteguh dapat nomor urut  di pilkada solo taucepattanpabatas beritaterkini', 'sah gibranteguh dapat nomor urut  bajo dapat nomor urut  pada pilkada solo', 'gibranteguh nomor urut  bajo  pada pilwalkot solo', 'pilkada solo gibranteguh dapat nomor urut  bajo nomor  kepada wartawan gibran mengaku tidak mempermasalahkan mend…', 'rapat pleno penetapan nomor urut dan daftar pasangan calon peserta pemilihan wali kota dan wakil wali kota surakart…', 'paslon gibranteguh secara sah mendapat nomor urut  dalam pilkada solo  sedangkan paslon independen bajo mendapat nomor…', 'pilkada solo  gibranteguh nomor urut  bajo', 'paslon gibranteguh secara sah mendapat nomor urut  dalam pilkada solo  sedangkan paslon independen bajo mend…', 'sah gibranteguh dapat nomor urut  bajo nomor', 'pilkada solo gibranteguh dapat nomor urut  bajo nomor  kepada wartawan gibran mengaku tidak mempermasalahkan…', 'saat hadir dalam rapat pleno kpu pengundian nomor urut gibran dan teguh memakai kemeja putih berlawanan dengan wa…', 'teguh yang mendampingi gibran langsung tepuk tangan saat mengetahui gibran mendapat nomor urut  tim lain yang h…', 'pasangan calon pilkada kota solo  gibran rakabuming rakateguh prakosa mendapat nomor urut  sementara lawann…', 'pengundian nomor urut paslon telah kita lakukan paslon gibranteguh mendapatkan nomor satu dan bajo nomor urut du…', 'kpu tetapkan  paslon pilwakot solo gibranteguh dan bagyosupardjo', 'pasangan gibran rakabuming rakateguh prakosa gibranteguh dan bagyo wahyonofx supardjo bajo menghadiri pengun…', 'solo bersatu gibran  teguh pilihankusolohebat sobatsolohebat solomelompatlebihjauh…', 'kpu tetapkan  paslon pilwakot solo gibranteguh dan bagyosupardjo', 'mari kita doakan mak nek penggemar serial pembunuhanini   pilkada solo megawati turun tangan jadi jurkam gibranteguh…', 'tarik pemilih milenial gibranteguh akan gelar konser musik virtual tim pemenangan bakal pasangan calon wali kota…', 'sah jadi paslon gibranteguh amp bagyosupardjo tak soalkan nomor\\xa0urut', 'lbp proteskarena saatlbp sedang bla bla blatibanajwa shihabmenayangkanpelanggaran protokol covidoleh peserta…', 'paslon gibranteguh telah menyiapkan blusukan online untuk menyapa masyarakat solo terkait bagaimana sistemnya gibran masih…', 'ranting timuran bersama ibuibu penggerak timuransiap menangkan gibranteguhpemilune sl…', 'paslon gibranteguh telah menyiapkan blusukan online untuk menyapa masyarakat solo terkait bagaimana sistemnya gi…', '', '\\U0001f932selamat pagi assalamualaikum wr wb semoga kita selalu patuhi protokol kesehatan agar terhindar dari covid tag…', 'pasangan gibranteguh dan bagyosupardjo secara resmi akan bertarung memperebutkan kursi wali kota solo kedua pasa…', 'dukungan semakin gemuk kini giliran pkpi merapat ke gibranteguh di pilkada solo', 'gencarkan protokol kesehatan jelang pilkada serentak  gibranteguh\\xa0terima hand sanitizer', 'anak yg baik sekali mencontoh perilaku bapaknyanjrit blusukan onlinesekalian gorong online', 'gibranteguh dan bajo incar nomor urut  di pilkada solo', 'pak purnomo bentar lagi bisa jadi pak teguh kalau pak gibran jadi walkotnya', 'semakin sejahtera dibawah kepemimpinan kader pdi perjuangan petugas penarik sampah banjarsari siap memenangkan gibran…', 'bagyo wahyono dan fx supardjo dipastikan menjadi lawan gibranteguh dalam pilwalkot solo  bagyosupardjo maj…', 'udah kayak kepanitiaan ya ada rekening baru merahputihcom rekening kampanye', 'dukung pilkada solo aman secret clean supohand sanitizer melalui paslon gibranteguh', 'kpu solo secara resmi menetapkan gibran rakabuming rakateguh prakosa dan bagyo wahyonofx supardjo bajo sebagai pasangan c…', 'anak yg baik sekali mencontoh perilaku bapaknyanjrit blusukan onlinesekalian gorong online', 'mari kita doakan mak nek penggemar serial pembunuhanini   pilkada solo megawati turun tangan jadi jurkam gibr…', 'kpu solo secara resmi menetapkan gibran rakabuming rakateguh prakosa dan bagyo wahyonofx supardjo bajo sebagai…', 'dukung gibranteguh pkpi pemimpin solo paling wow', 'sah gibran rakabumingteguh dan bajo jadi calon wali kota solo', 'gibranteguh siapkan blusukan online', 'kpu tetapkan gibranteguh dan bagyosupardjo paslon di pilwalkot solo  gibranrakabuming komisipemilihanumum…', 'sah jadi paslon gibranteguh amp bagyosupardjo tak soalkan nomor urut', 'dukungan semakin gemuk kini giliran pkpi merapat ke gibranteguh di pilkada solo', 'gibran  teguh dan bajo resmi sebagai paslon wali kota solo di pilkada', 'semua kembali pada rakyat  masyarakatapakah masih mau dibodohi fakta dan realitanya setelah mereka menduduki…', 'ketua tim pemenangan gibranteguh berharap agar mendapat nomor urut', 'rapat pleno tertutup kpu surakarta menetapkan pasangan\\xa0gibranteguh dan bagyosupardjo maju dalam pilkada\\xa0 wali kot…', 'demi memperjuangkan gibranteguh megawati puan dan hasto siap jadi juru kampanye', 'demi memperjuangkan gibranteguh megawati puan dan hasto siap jadi juru kampanye', 'semakin sejahtera dibawah kepemimpinan kader pdi perjuangan petugas penarik sampah banjarsari siap memenangkan gib…', 'demi memperjuangkan gibranteguh megawati puan dan hasto siap jadi juru kampanye', 'megawati dan puan bakal jadi jurkam gibranteguh', 'megawati dan puan bakal jadi jurkam gibranteguh', 'banteng solotengahberhimpun amp bergerak siap memenangkangibranteguhpemilune slamet wargane iso ngliwet', 'banteng solotengahberhimpun amp bergerak siap memenangkangibranteguhpemilune slamet wargane iso ngliwet', 'konsolidasi ranting anting amp satgas timuransolid bergerak gibranteguhpemilune slametwargane iso ngliwet', 'kpu tetapkan gibranteguh dan bajo sebagai peserta pilkada solo nurul menjelaskan rapat pleno penetapan calon tid…', 'bajo sah jadi lawan gibranteguh dalam pilwakot solo', 'sah gibranteguh bakal bertemu bajo di pilkada surakarta', 'megawati soekarnoputri dan puan maharani akan turun gunung menjadi juru kampanye gibran rakabumingteguh prakosa di pilkada s…', 'kpu tetapkan gibranteguh dan bajo sebagai peserta pilkada solo nurul menjelaskan rapat pleno penetapan calon tid…', 'gibranteguh dan bagyosuparjo ditetapkan kpu untuk bertarung dalam pilkada solo', 'gibranteguh dan bagyosuparjo ditetapkan kpu untuk bertarung dalam pilkada solo', 'resmi bersaing pengundian nomor urut paslon akan dilakukan besok melalui pleno terbukavalidnews nasional', 'kpu resmikan paslon pilkada solo teguhgibran vs bajo pilkadasolo gibranrakabuming', 'sah gibran rakabumingteguh dan bajo jadi calon wali kota solo', 'megawati dan puan bakal jadi jurkam gibranteguh', 'gibranteguh dan bajo resmi jadi paslon pilkada solo', 'sah  gibranteguh dan bajo jadi peserta pilkada solo', 'kpu tetapkan gibranteguh dan bajo calon pilkada surakarta', 'warga solo yang gak suka gibran yang nuduh dinasti politik sila pilih bajo jangan golput', 'dua paslon yakni gibran rakabuming rakateguh prakosa dan bagyo wahyonofx supardjo bajo akan bertarung dalam pil…', 'batal lawan kotak kosong gibranteguh bakal ditantang bagyosuparjo di pilkada solo  pilkada pilwakotsolo', 'kpu solo sahkan pertarungan gibranteguh lawan bajo di pilkada', 'sah gibranteguh vs bajo bersaing di pilkada solo', 'kpu tetapkan gibranteguh dan bajo paslon pilkada solo', 'ketua umum pdip megawati soekarnoputri dan ketua dpp puan maharani serta sekjen hasto kristianto bakal turun gunun…', 'kpu tetapkan gibranteguh dan bagyosupardjo sebagai paslon di pilwalkot solo', 'warga solo yang gak suka gibran yang nuduh dinasti politik sila pilih bajo jangan golput', 'patuihi protokol kesehatan saat kampanye di solo gibranteguh bakal gelar konser musik virtual', 'pengumuman penetapan calon pilkada solo online gibran – teguh amp bagyo – supardjo tak datang ke kpu', 'begini kata tim pemenangan gibran dan teguh soal penundaan pilkada', 'asyik pilkadanya jadi ya teriak rakyat yang lagi pusing ganti masker  scuba nya dan diaminin sama tenaga kes…', 'sah tukang jahit amp ketua rw tanding lawan putra presiden jokowi gibran amp teguh di pilkada solo', 'bajunya keren mas kenalkan seragam kampanye gibranteguh di pilkada solo ini maknanya', 'ketua tim pemenangan bakal pasangan calon gibran  teguh putut gunawan mengatakan kehadiran megawati diharapkan da…', 'menangkan gibranteguh puan maharani dan megawati turun gunung jadi jurkam di pilkada solosoloraya pilkadasolo…', 'kpu menyatakan paslon gibranteguh dan paslon bagyosupardjo sebagai calon wali kota solo publisherstory', 'kpu tetapkan gibranteguh dan bagyosupardjo paslon di pilwalkot solo', 'kpu menyatakan paslon gibranteguh dan paslon bagyosupardjo sebagai calon wali kota solo publisherstory', 'ada dua pasangan yang kami tetapkan yakni gibranteguh dan bagyosupardjo ujar ketua kpu solo nurul sutarti', 'ranting timuran bersama ibuibu penggerak timuran siap menangkan gibranteguhpemilune slamet wargane iso ngliwet…', 'ranting timuran bersama ibuibu se timuran siap bergerak amp memenangkan gibranteguhpdiperjuangan…', 'megawati menjadi jurkam gibranteguh di pilwalkot solo', 'paling jurus nangis yang akan diandalkanseperti halnya waktu jadi presiden hasil dari gusdur lengserkalau nggak nang…', 'paling jurus nangis yang akan diandalkanseperti halnya waktu jadi presiden hasil dari gusdur lengserkalau nggak n…', 'nomor urut  di pilkada solo  jadi rebutan bajo independen dan pasangan calon pdip gibranteguh', 'ketum pdip megawati soekarno putri dan ketua dpr puan maharani disebut bakal menjadi juru kampanye gibran rakabumin…', 'kampanye gibranteguh pertimbangkan gelar konser', 'pilkada solo megawati turun tangan jadi jurkam gibranteguh', 'pilkada solo megawati turun tangan jadi jurkam gibranteguh  follow', 'puan hingga megawati bakal jadi juru kampanye gibranteguh  indonesia', 'tim pemenangan pasangan gibran rakabuming rakateguh prakosa yang diusung pdip serta didukung delapan parpol tidak…', 'pilkada solo megawati turun tangan jadi jurkam gibranteguh', 'ketua dpr dan mantan presiden bakal jadi jurkam gibranteguh di pilkada solo', 'ashiaap', 'mantan presiden masuk tim juru kampanye gibranteguh di pilkada solo', 'megawati soekarnoputri dan puan maharani akan turun gunung menjadi juru kampanye gibran rakabumingteguh prakosa di…', 'namun belum dipastikan apakah megawati akan datang langsung ke solo atau melalui daring', 'megawati menjadi jurkam gibranteguh di pilwalkot solo', 'kampanye gibranteguh pertimbangkan gelar konser', 'kpu solo penetapan gibranteguh dan bagyosuparjo tertutup', 'dua pasangan bacalon wali kota solo usung konsep berbeda soal tata ruang', 'darimks ketua dpr ri hingga mantan presiden ri jadi tim jurkam gibranteguh', 'pilkada ditunda tim pemenangan gibranteguh kami pasti diuntungkan', 'pilkada ditunda tim pemenangan gibranteguh kami pasti diuntungkan', 'pilkada ditunda tim pemenangan gibranteguh kami pasti diuntungkan', 'megawati dan para elit partai akan turun gunung kampanyekan gibran  teguh temponasional', 'timses paslon gibranteguh akan menghadirkan megawati hingga puan maharani untuk menjadi juru kampanye', 'ayo pilih gibran  teguh', 'pdip menyiapkan juru kampanye untuk memenangkan pilkada  di pilkada solo ketua umum pdip megawati soekarnoputri akan me…', 'para tokoh partai politik bakal berdatangan ke solo selama masa kampanye megawati soekarnoputri juga akan dihadirkan untuk…', 'para tokoh partai politik bakal berdatangan ke solo selama masa kampanye megawati soekarnoputri juga akan dihadirk…', 'ketua umum pdip megawati soekarnoputri akan menjadi salah satu juru kampanye pasangan gibran rakabuming rakateguh…', 'pdip menyiapkan juru kampanye untuk memenangkan pilkada  di pilkada solo ketua umum pdip megawati soekarnoput…', 'tim pemenangan gibranteguh minta kpu gelar rapat pleno terbuka penetapan calon pernyataan tersebut dikemukakan lo lia…', 'tim pemenangan gibranteguh minta kpu gelar rapat pleno terbuka penetapan calon pernyataan tersebut dikemukakan lo…', 'tim gibranteguh memprotes kpu solo  jawa pos  demokrasi indonesia', 'gaet pemilih milenial gibran rakabumingteguh prakosa bakal gelar konser virtual', 'konser musik virtual menjadi bagian dari menggalang dukungan warga terhadap pasangan gibran dan teguh setidaknya i…', 'megawati dan puan bakal jadi jurkam gibranteguh kehadiran para tokoh partai berlambang kepala banteng moncong put…', 'siapa saja yang bakal menjadi juru kampanye gibran dan teguh di pilwalkot solo', 'siapa saja yang bakal menjadi juru kampanye gibran dan teguh di pilwalkot solo', 'keren banget nih acaranya kemaren gua nonton pengisi acaranya itu keren  semoga…', 'keren banget nih acaranya kemaren gua nonton pengisi acaranya itu keren  semoga…', 'keren banget nih acaranya kemaren gua nonton pengisi acaranya itu keren  s…', 'keren banget nih acaranya kemaren gua nonton pengisi acaranya itu keren  semo…', 'keren banget nih acaranya kemaren gua nonton pengisi acaranya itu keren  s…', 'mantul nih film', 'keren banget nih acaranya kemaren gua nonton pengisi acaranya itu keren  semoga…', 'keren banget nih acaranya kemaren gua nonton pengisi acaranya itu keren  semoga…', 'keren banget nih acaranya kemaren gua nonton pengisi acaranya itu keren  se…', 'aku liat dulu ya kak ig nya', 'tim gibranteguh memprotes kpu solo', 'cara kampanye di tengah pandemi covid gibranteguh bakal blusukan online', 'band apa yang cocok patuhi protokol kesehatan saat kampanye di solo gibranteguh bakal gelar konser musik virtu…', 'gelar konser musik virtual cara gibranteguh lebih dekat dengan pemilih\\xa0milenial', 'pasti seru banget acaranya apalagi ada boy william', 'angkat jargon pemilune slamet wargane iso ngliwet ketua dpc pdi perjuangan surakarta ajak penarik sampah laweyan sukse…', 'rapatkan barisan utk kemenangan gibranteguh demi keberlanjutan program kebijakan yang pro wong cil…', 'angkat jargon pemilune slamet wargane iso ngliwet ketua dpc pdi perjuangan surakarta ajak penarik sampah laweyan s…', 'patuihi protokol kesehatan saat kampanye di solo gibranteguh bakal gelar konser musik virtual', 'rebut hati milenial solo gibranteguh siapkan konser musik virtual', 'target raih  suara gibranteguh andalkan jurkam nasional hingga influencer', 'rebut hati milenial solo gibranteguh siapkan konser musik virtual', 'silaturahmi ke tegalharjo gibranteguh janji lanjutkan program wmp rudypoernomo hingga percepatan pemulihan ekon…', 'target raih  suara gibranteguh andalkan jurkam nasional hingga influencer', 'kpu putuskan tak undang gibranteguh dan bajo saat penetapan calon pilkada solo “itu nanti pleno internal kemudia…', 'mantap jiwa puan hingga megawati terjun jadi jurkam gibranteguh di pilkada', 'perindo dukung pasangan gibran  teguh jadi wali kota dan wakil wali kota solo', 'saat menghadiri “deklarasi adaptasi kebiasaan baru untuk mendukung percepatan penanganan covid ” gibran  teguh j…', 'saat menghadiri “deklarasi adaptasi kebiasaan baru untuk mendukung percepatan penanganan covid ” gibran  teguh j…', 'saat menghadiri “deklarasi adaptasi kebiasaan baru untuk mendukung percepatan penanganan covid ” gibran  teguh j…', 'saat menghadiri “deklarasi adaptasi kebiasaan baru untuk mendukung percepatan penanganan covid ” gibran  teguh j…', 'hoax presiden jadi tim sukses gibranteguh  via', 'visimisi pilkada  gibran  teguh kota solo sebagai kota budaya modern amp lanjutkan program rudy', 'partai perindo resmi dukung pasangan gibranteguh di pilwakot solo']\n",
            "428\n"
          ],
          "name": "stdout"
        }
      ]
    },
    {
      "cell_type": "code",
      "metadata": {
        "id": "6jnhFu-oOaXE"
      },
      "source": [
        "tanggal=tweet_data.created_at"
      ],
      "execution_count": null,
      "outputs": []
    },
    {
      "cell_type": "code",
      "metadata": {
        "id": "jaZE6pXzP49C",
        "outputId": "c50d9e2f-f236-46c9-cd84-ef158ae56243",
        "colab": {
          "base_uri": "https://localhost:8080/",
          "height": 419
        }
      },
      "source": [
        "tweet_data1 = pd.DataFrame(list(zip(tanggal, tweet_data_9)), \n",
        "               columns =['tanggal', 'teks']) \n",
        "tweet_data1 "
      ],
      "execution_count": null,
      "outputs": [
        {
          "output_type": "execute_result",
          "data": {
            "text/html": [
              "<div>\n",
              "<style scoped>\n",
              "    .dataframe tbody tr th:only-of-type {\n",
              "        vertical-align: middle;\n",
              "    }\n",
              "\n",
              "    .dataframe tbody tr th {\n",
              "        vertical-align: top;\n",
              "    }\n",
              "\n",
              "    .dataframe thead th {\n",
              "        text-align: right;\n",
              "    }\n",
              "</style>\n",
              "<table border=\"1\" class=\"dataframe\">\n",
              "  <thead>\n",
              "    <tr style=\"text-align: right;\">\n",
              "      <th></th>\n",
              "      <th>tanggal</th>\n",
              "      <th>teks</th>\n",
              "    </tr>\n",
              "  </thead>\n",
              "  <tbody>\n",
              "    <tr>\n",
              "      <th>0</th>\n",
              "      <td>10/2/2020 22:49</td>\n",
              "      <td>populer nusantara antara lain konlik antara ka...</td>\n",
              "    </tr>\n",
              "    <tr>\n",
              "      <th>1</th>\n",
              "      <td>10/2/2020 22:16</td>\n",
              "      <td>sandiaga uno menjadi juru kampanye pasangan ca...</td>\n",
              "    </tr>\n",
              "    <tr>\n",
              "      <th>2</th>\n",
              "      <td>10/2/2020 21:51</td>\n",
              "      <td>sandiaga uno jadi juru kampanye gibranteguh di...</td>\n",
              "    </tr>\n",
              "    <tr>\n",
              "      <th>3</th>\n",
              "      <td>10/2/2020 20:43</td>\n",
              "      <td>ninggal tatukowe tak sayangsayang saiki malah ...</td>\n",
              "    </tr>\n",
              "    <tr>\n",
              "      <th>4</th>\n",
              "      <td>10/2/2020 19:31</td>\n",
              "      <td>sandi uno jadi juru kampanye gibranteguh di pi...</td>\n",
              "    </tr>\n",
              "    <tr>\n",
              "      <th>...</th>\n",
              "      <td>...</td>\n",
              "      <td>...</td>\n",
              "    </tr>\n",
              "    <tr>\n",
              "      <th>423</th>\n",
              "      <td>9/21/2020 8:28</td>\n",
              "      <td>saat menghadiri “deklarasi adaptasi kebiasaan ...</td>\n",
              "    </tr>\n",
              "    <tr>\n",
              "      <th>424</th>\n",
              "      <td>9/21/2020 8:27</td>\n",
              "      <td>saat menghadiri “deklarasi adaptasi kebiasaan ...</td>\n",
              "    </tr>\n",
              "    <tr>\n",
              "      <th>425</th>\n",
              "      <td>9/21/2020 8:13</td>\n",
              "      <td>hoax presiden jadi tim sukses gibranteguh  via</td>\n",
              "    </tr>\n",
              "    <tr>\n",
              "      <th>426</th>\n",
              "      <td>9/21/2020 3:19</td>\n",
              "      <td>visimisi pilkada  gibran  teguh kota solo seba...</td>\n",
              "    </tr>\n",
              "    <tr>\n",
              "      <th>427</th>\n",
              "      <td>9/21/2020 3:00</td>\n",
              "      <td>partai perindo resmi dukung pasangan gibranteg...</td>\n",
              "    </tr>\n",
              "  </tbody>\n",
              "</table>\n",
              "<p>428 rows × 2 columns</p>\n",
              "</div>"
            ],
            "text/plain": [
              "             tanggal                                               teks\n",
              "0    10/2/2020 22:49  populer nusantara antara lain konlik antara ka...\n",
              "1    10/2/2020 22:16  sandiaga uno menjadi juru kampanye pasangan ca...\n",
              "2    10/2/2020 21:51  sandiaga uno jadi juru kampanye gibranteguh di...\n",
              "3    10/2/2020 20:43  ninggal tatukowe tak sayangsayang saiki malah ...\n",
              "4    10/2/2020 19:31  sandi uno jadi juru kampanye gibranteguh di pi...\n",
              "..               ...                                                ...\n",
              "423   9/21/2020 8:28  saat menghadiri “deklarasi adaptasi kebiasaan ...\n",
              "424   9/21/2020 8:27  saat menghadiri “deklarasi adaptasi kebiasaan ...\n",
              "425   9/21/2020 8:13     hoax presiden jadi tim sukses gibranteguh  via\n",
              "426   9/21/2020 3:19  visimisi pilkada  gibran  teguh kota solo seba...\n",
              "427   9/21/2020 3:00  partai perindo resmi dukung pasangan gibranteg...\n",
              "\n",
              "[428 rows x 2 columns]"
            ]
          },
          "metadata": {
            "tags": []
          },
          "execution_count": 17
        }
      ]
    },
    {
      "cell_type": "code",
      "metadata": {
        "id": "dEFkiH83rjNF",
        "outputId": "21cdd5df-a322-4a37-e7eb-7be94da199d4",
        "colab": {
          "base_uri": "https://localhost:8080/",
          "height": 419
        }
      },
      "source": [
        "#Menghapus teks yang sama\n",
        "tweet_data1 = tweet_data1.drop_duplicates(subset=['teks'], keep='first')\n",
        "tweet_data1\n",
        "#print(tweet_data)\n",
        "#print(len(tweet_data0))\n",
        "#print(len(tweet_data))"
      ],
      "execution_count": null,
      "outputs": [
        {
          "output_type": "execute_result",
          "data": {
            "text/html": [
              "<div>\n",
              "<style scoped>\n",
              "    .dataframe tbody tr th:only-of-type {\n",
              "        vertical-align: middle;\n",
              "    }\n",
              "\n",
              "    .dataframe tbody tr th {\n",
              "        vertical-align: top;\n",
              "    }\n",
              "\n",
              "    .dataframe thead th {\n",
              "        text-align: right;\n",
              "    }\n",
              "</style>\n",
              "<table border=\"1\" class=\"dataframe\">\n",
              "  <thead>\n",
              "    <tr style=\"text-align: right;\">\n",
              "      <th></th>\n",
              "      <th>tanggal</th>\n",
              "      <th>teks</th>\n",
              "    </tr>\n",
              "  </thead>\n",
              "  <tbody>\n",
              "    <tr>\n",
              "      <th>0</th>\n",
              "      <td>10/2/2020 22:49</td>\n",
              "      <td>populer nusantara antara lain konlik antara ka...</td>\n",
              "    </tr>\n",
              "    <tr>\n",
              "      <th>1</th>\n",
              "      <td>10/2/2020 22:16</td>\n",
              "      <td>sandiaga uno menjadi juru kampanye pasangan ca...</td>\n",
              "    </tr>\n",
              "    <tr>\n",
              "      <th>2</th>\n",
              "      <td>10/2/2020 21:51</td>\n",
              "      <td>sandiaga uno jadi juru kampanye gibranteguh di...</td>\n",
              "    </tr>\n",
              "    <tr>\n",
              "      <th>3</th>\n",
              "      <td>10/2/2020 20:43</td>\n",
              "      <td>ninggal tatukowe tak sayangsayang saiki malah ...</td>\n",
              "    </tr>\n",
              "    <tr>\n",
              "      <th>4</th>\n",
              "      <td>10/2/2020 19:31</td>\n",
              "      <td>sandi uno jadi juru kampanye gibranteguh di pi...</td>\n",
              "    </tr>\n",
              "    <tr>\n",
              "      <th>...</th>\n",
              "      <td>...</td>\n",
              "      <td>...</td>\n",
              "    </tr>\n",
              "    <tr>\n",
              "      <th>420</th>\n",
              "      <td>9/21/2020 8:30</td>\n",
              "      <td>perindo dukung pasangan gibran  teguh jadi wal...</td>\n",
              "    </tr>\n",
              "    <tr>\n",
              "      <th>421</th>\n",
              "      <td>9/21/2020 8:29</td>\n",
              "      <td>saat menghadiri “deklarasi adaptasi kebiasaan ...</td>\n",
              "    </tr>\n",
              "    <tr>\n",
              "      <th>425</th>\n",
              "      <td>9/21/2020 8:13</td>\n",
              "      <td>hoax presiden jadi tim sukses gibranteguh  via</td>\n",
              "    </tr>\n",
              "    <tr>\n",
              "      <th>426</th>\n",
              "      <td>9/21/2020 3:19</td>\n",
              "      <td>visimisi pilkada  gibran  teguh kota solo seba...</td>\n",
              "    </tr>\n",
              "    <tr>\n",
              "      <th>427</th>\n",
              "      <td>9/21/2020 3:00</td>\n",
              "      <td>partai perindo resmi dukung pasangan gibranteg...</td>\n",
              "    </tr>\n",
              "  </tbody>\n",
              "</table>\n",
              "<p>357 rows × 2 columns</p>\n",
              "</div>"
            ],
            "text/plain": [
              "             tanggal                                               teks\n",
              "0    10/2/2020 22:49  populer nusantara antara lain konlik antara ka...\n",
              "1    10/2/2020 22:16  sandiaga uno menjadi juru kampanye pasangan ca...\n",
              "2    10/2/2020 21:51  sandiaga uno jadi juru kampanye gibranteguh di...\n",
              "3    10/2/2020 20:43  ninggal tatukowe tak sayangsayang saiki malah ...\n",
              "4    10/2/2020 19:31  sandi uno jadi juru kampanye gibranteguh di pi...\n",
              "..               ...                                                ...\n",
              "420   9/21/2020 8:30  perindo dukung pasangan gibran  teguh jadi wal...\n",
              "421   9/21/2020 8:29  saat menghadiri “deklarasi adaptasi kebiasaan ...\n",
              "425   9/21/2020 8:13     hoax presiden jadi tim sukses gibranteguh  via\n",
              "426   9/21/2020 3:19  visimisi pilkada  gibran  teguh kota solo seba...\n",
              "427   9/21/2020 3:00  partai perindo resmi dukung pasangan gibranteg...\n",
              "\n",
              "[357 rows x 2 columns]"
            ]
          },
          "metadata": {
            "tags": []
          },
          "execution_count": 18
        }
      ]
    },
    {
      "cell_type": "markdown",
      "metadata": {
        "id": "n4FBxSNNXu-3"
      },
      "source": [
        "### Stemming"
      ]
    },
    {
      "cell_type": "code",
      "metadata": {
        "id": "oRI3r7aCXwtj"
      },
      "source": [
        "import json"
      ],
      "execution_count": null,
      "outputs": []
    },
    {
      "cell_type": "code",
      "metadata": {
        "id": "Avg3Ppy8ZZ71"
      },
      "source": [
        "d = open('/content/gdrive/My Drive/Sentimen Analisis/stopword.txt', \"r\")\n",
        "root_word = set(d.read().splitlines())\n",
        "#root_word"
      ],
      "execution_count": null,
      "outputs": []
    },
    {
      "cell_type": "code",
      "metadata": {
        "id": "H00YCN04XUb1"
      },
      "source": [
        "f = open('/content/gdrive/My Drive/Sentimen Analisis/lemma_dict.json') \n",
        "lemma_dict = json.load(f)"
      ],
      "execution_count": null,
      "outputs": []
    },
    {
      "cell_type": "code",
      "metadata": {
        "id": "MQv2VEn7Z-QC"
      },
      "source": [
        "def stem1(word):\n",
        "        if word.endswith((\"lah\", \"kah\", \"pun\")):\n",
        "            return word[:-3]\n",
        "        else:\n",
        "            return word"
      ],
      "execution_count": null,
      "outputs": []
    },
    {
      "cell_type": "code",
      "metadata": {
        "id": "ry8P69x_aqo7"
      },
      "source": [
        "def stem2(word):\n",
        "        if word.startswith(\"ku\"):\n",
        "            return word[2:]\n",
        "        elif word.startswith(\"kau\"):\n",
        "            return word[3:]\n",
        "        else:\n",
        "            return word"
      ],
      "execution_count": null,
      "outputs": []
    },
    {
      "cell_type": "code",
      "metadata": {
        "id": "kpcyQ-OZat8y"
      },
      "source": [
        "def stem3(word):\n",
        "        if word.endswith((\"ku\", \"mu\")):\n",
        "            return word[:-2]\n",
        "        elif word.endswith(\"nya\"):\n",
        "            return word[:-3]\n",
        "        else:\n",
        "            return word"
      ],
      "execution_count": null,
      "outputs": []
    },
    {
      "cell_type": "code",
      "metadata": {
        "id": "abFucoavaxFT"
      },
      "source": [
        "def stem4(word):\n",
        "        if word.endswith(\"kan\"):\n",
        "            return [word[:-3], word[:-2]]\n",
        "        elif word.endswith(\"an\"):\n",
        "            return word[:-2]\n",
        "        elif word.endswith(\"isasi\"):\n",
        "            return word[:-5]\n",
        "        elif word.endswith(\"i\"):\n",
        "            return word[:-1]\n",
        "        elif word.endswith(\"isme\"):\n",
        "            return word[:-4]\n",
        "        else:\n",
        "            return word"
      ],
      "execution_count": null,
      "outputs": []
    },
    {
      "cell_type": "code",
      "metadata": {
        "id": "A-TLncfta06d"
      },
      "source": [
        "def stem5(word):\n",
        "        if word.startswith((\"di\", \"ke\", \"se\")):\n",
        "            return word[2:]\n",
        "        else:\n",
        "            return word"
      ],
      "execution_count": null,
      "outputs": []
    },
    {
      "cell_type": "code",
      "metadata": {
        "id": "GSVYwScua4K_"
      },
      "source": [
        "def lemmatize(text):\n",
        "        final_result = \"\"\n",
        "        suffix = set([\"lah\", \"kah\", \"pun\", \"ku\", \"mu\", \"nya\"])\n",
        "        text = text.lower()\n",
        "        text = re.sub(\"[^a-zA-Z0-9-]+\", \" \", text)\n",
        "        for word in text.split():\n",
        "            result = word.lower()\n",
        "            if word.isdigit() or len(word) <= 3 or word in root_word:\n",
        "                result = word.lower()\n",
        "            elif word in lemma_dict:\n",
        "                result = lemma_dict[word]\n",
        "            else:\n",
        "                word1 = stem1(word)\n",
        "                word2 = stem2(word)\n",
        "                word13 = stem3(word1)\n",
        "                word134 = stem4(word13)\n",
        "                word25 = stem5(word2)\n",
        "                if word1 in root_word:\n",
        "                    result = word1\n",
        "                elif word1 in lemma_dict:\n",
        "                    result = lemma_dict[word1]\n",
        "                elif word2 in root_word:\n",
        "                    result = word2\n",
        "                elif word2 in lemma_dict:\n",
        "                    result = lemma_dict[word2]\n",
        "                elif word13 in root_word:\n",
        "                    result = word13\n",
        "                elif word13 in lemma_dict:\n",
        "                    result = lemma_dict[word13]\n",
        "                elif len(word134) > 0:\n",
        "                    if isinstance(word134, list):\n",
        "                        for w in word134:\n",
        "                            if w in root_word:\n",
        "                                result = w\n",
        "                            elif w in lemma_dict:\n",
        "                                result = lemma_dict[w]\n",
        "                    elif word134 in root_word:\n",
        "                        result = word134\n",
        "                    elif word134 in lemma_dict:\n",
        "                        result = lemma_dict[word134]\n",
        "                if result == word.lower():\n",
        "                    if word25 in root_word:\n",
        "                        result = word25\n",
        "                    elif word25 in lemma_dict:\n",
        "                        result = lemma_dict[word25]\n",
        "                    else:\n",
        "                        word12 = stem2(word1)\n",
        "                        word125 = stem1(word25)\n",
        "                        if word12 in root_word:\n",
        "                            result = word12\n",
        "                        elif word12 in lemma_dict:\n",
        "                            result = lemma_dict[word12]\n",
        "                        elif word125 in root_word:\n",
        "                            result = word125\n",
        "                        elif word125 in lemma_dict:\n",
        "                            result = lemma_dict[word125]\n",
        "                        else:\n",
        "                            word123 = stem3(word12)\n",
        "                            word1234 = stem4(word123)\n",
        "                            word1235 = stem5(word123)\n",
        "                            if word123 in root_word:\n",
        "                                result = word123\n",
        "                            elif word123 in lemma_dict:\n",
        "                                result = lemma_dict[word123]\n",
        "                            elif len(word1234) > 0:\n",
        "                                if isinstance(word1234, list):\n",
        "                                    for w in word1234:\n",
        "                                        if w in root_word:\n",
        "                                            result = w\n",
        "                                        elif w in lemma_dict:\n",
        "                                            result = lemma_dict[w]\n",
        "                                elif word1234 in root_word:\n",
        "                                    result = word1234\n",
        "                                elif word1234 in lemma_dict:\n",
        "                                    result = lemma_dict[word1234]\n",
        "                            if result == word.lower():\n",
        "                                if word1235 in root_word:\n",
        "                                    result = word1235\n",
        "                                elif word1235 in lemma_dict:\n",
        "                                    result = lemma_dict[word1235]\n",
        "                                else:\n",
        "                                    word12345 = stem4(word1235)\n",
        "                                    if len(word12345) > 0:\n",
        "                                        if isinstance(word12345, list):\n",
        "                                            for w in word12345:\n",
        "                                                if w in root_word:\n",
        "                                                    result = w\n",
        "                                                elif w in lemma_dict:\n",
        "                                                    result = lemma_dict[\n",
        "                                                        w\n",
        "                                                    ]\n",
        "                                        elif word12345 in root_word:\n",
        "                                            result = word12345\n",
        "                                        elif word12345 in lemma_dict:\n",
        "                                            result = lemma_dict[\n",
        "                                                word12345\n",
        "                                            ]\n",
        "                                    # kepada-Nya --> kepada\n",
        "                                    # anggota-anggota --> anggota\n",
        "                                    if result == word.lower() and \"-\" in word:\n",
        "                                        lemma_list = [\n",
        "                                            lemma_dict.get(i, i)\n",
        "                                            for i in word.split(\"-\")\n",
        "                                        ]\n",
        "                                        if (\n",
        "                                            len(set(lemma_list)) == 2\n",
        "                                            and word.split(\"-\")[1] in suffix\n",
        "                                        ) or len(set(lemma_list)) == 1:\n",
        "                                            if (\n",
        "                                                lemma_list[0]\n",
        "                                                in root_word\n",
        "                                            ):\n",
        "                                                result = lemma_list[0]\n",
        "            final_result += \" {}\".format(result)\n",
        "        return final_result.strip()"
      ],
      "execution_count": null,
      "outputs": []
    },
    {
      "cell_type": "code",
      "metadata": {
        "id": "q4w3ujTia7y-",
        "outputId": "a7c683af-a619-47f8-a2bc-339789634622",
        "colab": {
          "base_uri": "https://localhost:8080/",
          "height": 51
        }
      },
      "source": [
        "print(len(tweet_data))\n",
        "lemm=[]\n",
        "for teks in tweet_data1.teks:\n",
        "  lemm1=[lemmatize(teks)]\n",
        "  lemm=lemm+lemm1\n",
        "print(len(lemm))\n",
        "tweet_data=lemm"
      ],
      "execution_count": null,
      "outputs": [
        {
          "output_type": "stream",
          "text": [
            "357\n",
            "357\n"
          ],
          "name": "stdout"
        }
      ]
    },
    {
      "cell_type": "code",
      "metadata": {
        "id": "ppih5wSUVc1H",
        "outputId": "a6fc0283-c077-48c8-ddcf-23778cd7695e",
        "colab": {
          "base_uri": "https://localhost:8080/",
          "height": 419
        }
      },
      "source": [
        "tweet_data1"
      ],
      "execution_count": null,
      "outputs": [
        {
          "output_type": "execute_result",
          "data": {
            "text/html": [
              "<div>\n",
              "<style scoped>\n",
              "    .dataframe tbody tr th:only-of-type {\n",
              "        vertical-align: middle;\n",
              "    }\n",
              "\n",
              "    .dataframe tbody tr th {\n",
              "        vertical-align: top;\n",
              "    }\n",
              "\n",
              "    .dataframe thead th {\n",
              "        text-align: right;\n",
              "    }\n",
              "</style>\n",
              "<table border=\"1\" class=\"dataframe\">\n",
              "  <thead>\n",
              "    <tr style=\"text-align: right;\">\n",
              "      <th></th>\n",
              "      <th>tanggal</th>\n",
              "      <th>teks</th>\n",
              "    </tr>\n",
              "  </thead>\n",
              "  <tbody>\n",
              "    <tr>\n",
              "      <th>0</th>\n",
              "      <td>10/2/2020 22:49</td>\n",
              "      <td>populer nusantara antara lain konlik antara ka...</td>\n",
              "    </tr>\n",
              "    <tr>\n",
              "      <th>1</th>\n",
              "      <td>10/2/2020 22:16</td>\n",
              "      <td>sandiaga uno menjadi juru kampanye pasangan ca...</td>\n",
              "    </tr>\n",
              "    <tr>\n",
              "      <th>2</th>\n",
              "      <td>10/2/2020 21:51</td>\n",
              "      <td>sandiaga uno jadi juru kampanye gibranteguh di...</td>\n",
              "    </tr>\n",
              "    <tr>\n",
              "      <th>3</th>\n",
              "      <td>10/2/2020 20:43</td>\n",
              "      <td>ninggal tatukowe tak sayangsayang saiki malah ...</td>\n",
              "    </tr>\n",
              "    <tr>\n",
              "      <th>4</th>\n",
              "      <td>10/2/2020 19:31</td>\n",
              "      <td>sandi uno jadi juru kampanye gibranteguh di pi...</td>\n",
              "    </tr>\n",
              "    <tr>\n",
              "      <th>...</th>\n",
              "      <td>...</td>\n",
              "      <td>...</td>\n",
              "    </tr>\n",
              "    <tr>\n",
              "      <th>420</th>\n",
              "      <td>9/21/2020 8:30</td>\n",
              "      <td>perindo dukung pasangan gibran  teguh jadi wal...</td>\n",
              "    </tr>\n",
              "    <tr>\n",
              "      <th>421</th>\n",
              "      <td>9/21/2020 8:29</td>\n",
              "      <td>saat menghadiri “deklarasi adaptasi kebiasaan ...</td>\n",
              "    </tr>\n",
              "    <tr>\n",
              "      <th>425</th>\n",
              "      <td>9/21/2020 8:13</td>\n",
              "      <td>hoax presiden jadi tim sukses gibranteguh  via</td>\n",
              "    </tr>\n",
              "    <tr>\n",
              "      <th>426</th>\n",
              "      <td>9/21/2020 3:19</td>\n",
              "      <td>visimisi pilkada  gibran  teguh kota solo seba...</td>\n",
              "    </tr>\n",
              "    <tr>\n",
              "      <th>427</th>\n",
              "      <td>9/21/2020 3:00</td>\n",
              "      <td>partai perindo resmi dukung pasangan gibranteg...</td>\n",
              "    </tr>\n",
              "  </tbody>\n",
              "</table>\n",
              "<p>357 rows × 2 columns</p>\n",
              "</div>"
            ],
            "text/plain": [
              "             tanggal                                               teks\n",
              "0    10/2/2020 22:49  populer nusantara antara lain konlik antara ka...\n",
              "1    10/2/2020 22:16  sandiaga uno menjadi juru kampanye pasangan ca...\n",
              "2    10/2/2020 21:51  sandiaga uno jadi juru kampanye gibranteguh di...\n",
              "3    10/2/2020 20:43  ninggal tatukowe tak sayangsayang saiki malah ...\n",
              "4    10/2/2020 19:31  sandi uno jadi juru kampanye gibranteguh di pi...\n",
              "..               ...                                                ...\n",
              "420   9/21/2020 8:30  perindo dukung pasangan gibran  teguh jadi wal...\n",
              "421   9/21/2020 8:29  saat menghadiri “deklarasi adaptasi kebiasaan ...\n",
              "425   9/21/2020 8:13     hoax presiden jadi tim sukses gibranteguh  via\n",
              "426   9/21/2020 3:19  visimisi pilkada  gibran  teguh kota solo seba...\n",
              "427   9/21/2020 3:00  partai perindo resmi dukung pasangan gibranteg...\n",
              "\n",
              "[357 rows x 2 columns]"
            ]
          },
          "metadata": {
            "tags": []
          },
          "execution_count": 34
        }
      ]
    },
    {
      "cell_type": "markdown",
      "metadata": {
        "id": "YfbAj0Vgsaik"
      },
      "source": [
        "### Stopword"
      ]
    },
    {
      "cell_type": "code",
      "metadata": {
        "id": "FOibtwngvVe0"
      },
      "source": [
        "s = open('/content/gdrive/My Drive/Sentimen Analisis/stopword.txt', \"r\")\n",
        "stopword = set(s.read().splitlines())\n",
        "#stopword"
      ],
      "execution_count": null,
      "outputs": []
    },
    {
      "cell_type": "code",
      "metadata": {
        "id": "jZhs9lFusZ-n"
      },
      "source": [
        "def remove_stopword(text):\n",
        "  temp_result = []\n",
        "  parts = []\n",
        "  for match in re.finditer(r'[^.,?!\\s]+|[.,?!]', text):\n",
        "    parts.append(match.group())\n",
        "  \n",
        "  for word in parts:\n",
        "    if word.casefold() not in stopword:\n",
        "      temp_result.append(word)\n",
        "\n",
        "  result_cand = ' '.join(temp_result)\n",
        "  result = re.sub(r' ([^A-Za-z0-9])', r'\\1', result_cand)\n",
        "\n",
        "  return result"
      ],
      "execution_count": null,
      "outputs": []
    },
    {
      "cell_type": "code",
      "metadata": {
        "id": "VEdqTDyRuGPi",
        "outputId": "886c09b9-3391-404d-d37f-4c69cf98fe0e",
        "colab": {
          "base_uri": "https://localhost:8080/",
          "height": 51
        }
      },
      "source": [
        "coba=tweet_data[2]\n",
        "coba1=remove_stopword(coba)\n",
        "print(coba)\n",
        "print(coba1)"
      ],
      "execution_count": null,
      "outputs": [
        {
          "output_type": "stream",
          "text": [
            "sandiaga uno jadi juru kampanye gibranteguh di pilkada solo disebut ada lobi jokowi\n",
            "sandiaga uno kampanye gibranteguh pilkada solo lobi jokowi\n"
          ],
          "name": "stdout"
        }
      ]
    },
    {
      "cell_type": "code",
      "metadata": {
        "id": "pPzRNR6mcUli",
        "outputId": "13d4e872-b26f-4e6e-a619-8457a72edfeb",
        "colab": {
          "base_uri": "https://localhost:8080/",
          "height": 34
        }
      },
      "source": [
        "sw=[]\n",
        "for teks in tweet_data:\n",
        "  sw1=[remove_stopword(teks)]\n",
        "  sw=sw+sw1\n",
        "print(len(sw))\n",
        "sw\n",
        "tweet_data=sw"
      ],
      "execution_count": null,
      "outputs": [
        {
          "output_type": "stream",
          "text": [
            "357\n"
          ],
          "name": "stdout"
        }
      ]
    },
    {
      "cell_type": "code",
      "metadata": {
        "id": "g5osq_3D24ez",
        "outputId": "735639a6-0040-4c14-b050-6eab2dff6363",
        "colab": {
          "base_uri": "https://localhost:8080/",
          "height": 1000
        }
      },
      "source": [
        "sw"
      ],
      "execution_count": null,
      "outputs": [
        {
          "output_type": "execute_result",
          "data": {
            "text/plain": [
              "['populer nusantara konlik kapolres blitar kasat sabhara solo sandiaga ipers',\n",
              " 'sandiaga uno kampanye pasang calon wali kota wakil wali kota solo gibran rakabuming rakateguh prakos',\n",
              " 'sandiaga uno kampanye gibranteguh pilkada solo lobi jokowi',\n",
              " 'ninggal tatukowe tak sayangsayang saiki ngilang tresnamu karo kuwi mung kiasankowe tak gadhang',\n",
              " 'sandi uno kampanye gibranteguh pilkada solo lobi jokowiperjuangan bapak martabak anak',\n",
              " 'tidur ah sakit badan nihh',\n",
              " 'nyeri awak',\n",
              " 'ngantukkkk',\n",
              " 'sandi uno kampanye gibranteguh pilkada solo lobi jokowiperjuangan bapak mart',\n",
              " 'sandiaga uno nama besar jurkam paslon gibranteguh solo pilkada',\n",
              " 'respons kabar sandiaga jurkam gibran rancang kampanye daring wakil ketua dewan bina partai gerindra',\n",
              " 'baca bom blog',\n",
              " 'sandiaga uno kampanye gibranteguh pilkada solo lobi jokowi borong medan solo htt',\n",
              " 'hoammmmmm',\n",
              " 'gibran teguh pilkada sesuai jadwal demokratis aman covid',\n",
              " 'solo ber gibran teguh pilih',\n",
              " 'gibran teguh nomor urut pilkada solo pa',\n",
              " 'gibran teguh komitmen jaga protokol sehat kampanye',\n",
              " 'gibran teguh dukung pilkada aman secret clean pt victoria care bantu hand sanitizer',\n",
              " 'capek euy',\n",
              " 'sandiaga uno digadanggadang jurkam paslon gibranteguh pilkada solo sandiaga jurkam ta',\n",
              " 'mantan wakil gubernur dki jakarta sandiaga uno kampanye pasang calon gibran rakabuming rakate',\n",
              " 'gk butuh jurkam pusat spt warga solo berdi',\n",
              " 'wakil ketua dpp gerindra kampanye pasang calon wali kota wakil wali kota solo gi',\n",
              " 'wakil ketua dpp gerindra kampanye pasang calon wali kota wakil wali kota so',\n",
              " 'asyiikkk',\n",
              " 'laparrr',\n",
              " '',\n",
              " 'mantap sandiaga uno jurkam gibranteguh pilkada solo',\n",
              " 'ardianto kaji deklarasi tim menang paslon gibranteguh',\n",
              " 'mantan wakil gubernur dki jakarta mengkampanyekan pasang gibranteguh virtual',\n",
              " 'model kampanye sandiaga paslon gibranteguh gibran sandi',\n",
              " 'faktor sandiaga prabowo subianto ketua dpp partai gerindra presiden jokowi s',\n",
              " 'kabar sandiaga kampanye pasang gibran teguh ketua dpc partai gerindra solo ardianto kuswinarno',\n",
              " 'wakil ketua dewan bina partai gerindra sandiaga salahudin uno kampanye jurkam pasang',\n",
              " 'orang amerika mikir biden menang trump kalah anaknya biden nyalon',\n",
              " 'selamat bang moga solo bebas kaum intoleransi',\n",
              " '',\n",
              " 'politis partai gerindra sandiaga solahuddin uno kampanye jurkam pasang calon wali kota w',\n",
              " 'sandiaga uno kampanye pasang calon wali kota wakil wali kota solo gibran rakabuming rakateguh',\n",
              " 'pilwalkot solo sandiaga uno terjun jurkam gibranteguh',\n",
              " 'oh',\n",
              " 'sandiaga jurkam gibran solo bobby medan faktor sandiaga prabowo',\n",
              " 'sandiagauno prabowo gerindra pdiperjuangan',\n",
              " 'politis partai gerindra sandiaga solahuddin uno jukam pasang calon wali kota wakil wali',\n",
              " 'apbd kota solo bahas teguh masamasa sabar an',\n",
              " 'komitmen taat protokol sehat dengung warga program prioritas tegu',\n",
              " 'sandiaga uno kampanye gibranteguh pilkada solo lobi jokowi borong medan sol',\n",
              " 'gibran nggak manuver kirakira tum enggak pdip ng',\n",
              " 'lobilobinya politik tingkat tum prabowo subianto jokowi',\n",
              " 'wkwkw jasa terawang gin dah gibranteguh menang kalo kalah kalem leg wkwkkw',\n",
              " 'politis partai gerindra sandiaga solahuddin uno jukam pasang calon wali kota wakil wali kota sol',\n",
              " 'kabar papa online sandiaga uno jurkam gibranteguh pilkada solo klik baca',\n",
              " 'gotong royong lawan covid gibran teguh',\n",
              " 'gibran genap teguh doa putra jokowi pilih wali kota bangun solo',\n",
              " 'apbd kota solo bahas teguh masamasa sabar angga',\n",
              " 'urus dpd psi solo pimpin langsung bro antonius yoga fogging mukim wargapada me',\n",
              " 'gibranteguh blusukan masyarakat rangka bantu masyarakat kena dampak pandemi',\n",
              " 'najwa raguk gibran n su',\n",
              " 'komitmen taat protokol sehat dengung warga program prioritas teguh a',\n",
              " 'paslon gibranteguh blusukan online lurah solo gibran a',\n",
              " 'putra presiden joko widodo gibran rakabuming raka pasang teguh prakosa pilwalkot surakarta nasiona',\n",
              " 'putra presiden joko widodo gibran rakabuming raka pasang teguh prakosa pilwalkot surakarta',\n",
              " 'apbd kota solo bahas teguh masamasa sabar',\n",
              " 'komitmen taat protokol sehat dengung warga program prioritas',\n",
              " 'solo gibran teguh pilihankusolohebat sobatsolohebat solomelompatlebihjauh lompatananakmudauntuksolo',\n",
              " 'bajo blusukan langsung tokoh agama gibranteguh pakai virtualbox',\n",
              " 'identitas tugas masyarakat solo pasang gibran amp teguh bawa solo',\n",
              " 'identitas tugas masyarakat solo pasang gibran amp teguh prakasa memb',\n",
              " 'amunisi pkpi dukung gibran teguh pilkada solo',\n",
              " 'dana kampanye gibranteguh amp bajo masingmasing batas rp m',\n",
              " 'gibranteguh for solo gibranforsolo',\n",
              " 'pasang gibranteguh bajo milik gaet warga kota solo simak gaya kampanye m',\n",
              " 'gibran mohon maaf fans wkwkwkgibranteguh',\n",
              " 'urus dpd psi solo pimpin langsung bro antonius yoga fogging mukim wargapada y',\n",
              " 'pilkada solo sandiaga uno kampanye gibranteguh',\n",
              " 'kampanyepilkadavirtualkampanye perdana gibranteguh blusukan daring virtual boxkampanye gibran blusuka',\n",
              " 'rapat baris menang gibranteguh',\n",
              " 'ranting pdi juang sekota surakarta menang gibranteguh taat patuh protokol keseha',\n",
              " 'ijin bal rapopo tahan sik sing ijin dodol tetep metu seko polri bekingane gibran teguh og',\n",
              " 'pilwakotsolo kampanye gibranteguh tugas',\n",
              " 'pilwakot surakarta pilkada ramai nomor berita bahas sosok gibran media menyor',\n",
              " 'paslon bajo gegaruk bidjie gegayaan luh pilkada kalo usul mending',\n",
              " 'dana kampanye gibranteguh rp juta bajo rp pilkada',\n",
              " 'komisi pilih kpu solo jawa terima daftar akun media sosial medsos milik',\n",
              " 'megawati turun gunung jurkam gibranteguh kalah harga pdipjokowi hancur',\n",
              " 'pilkada solo lawan gibranteguh dana kampanye pasang bajo rp',\n",
              " 'akh pegang teguh penggal kalimat khalil gibran wkwk',\n",
              " 'warga solo antusias box virtual kampanye sedia paslon gibranteguh warga keluh kesah de',\n",
              " 'warga solo antusias box virtual kampanye sedia paslon gibranteguh warga kelu',\n",
              " 'ayo rapatkann baris utk menang gibran teguh dgn terap disiplin protok kesehatansa',\n",
              " 'pilkada solo lawan gibranteguh dana kampanye pasang bajo rp kelurahannusukan panjipanji',\n",
              " 'berita kampanye virtual sdh paslon walikota calon wakil walikota solo nomor u',\n",
              " 'selamat juang gibranteguhsemangat wujud surakarta kota budaya modern tangguh gesit kreatif da',\n",
              " 'optimis gibranteguh terap kampanye sehat bahaya tular virus korona menang pilkada',\n",
              " 'ranting pdi juang sekota surakarta menang gibranteguh taat patuh protokol',\n",
              " 'kampanye virtual gibran rakabumingteguh prakosa puji warga solo',\n",
              " 'kampanye virtual gibran rakabumingteguh prakosa apresiasi warga',\n",
              " 'kampanye virtual sdh pasang calon walikota calon wakil walikota solo nomor urut gibr',\n",
              " 'selamat juang gibranteguhsemangat wujud surakarta kota budaya modern tangguh gesit kreat',\n",
              " 'optimis gibranteguh terap kampanye sehat bahaya tular virus korona menang pilka',\n",
              " 'kampanye virtual sdh paslon cawalkot solo dgn no urut kampany',\n",
              " 'gibran sapa masyarakat virtual box keliling kampung teguh blusukan of',\n",
              " 'kampanye gibran teguh kantong dana rp m bajo rp',\n",
              " 'timbul kerumun massa pasang calon walikota solo gibran rakabuming raka teguh prakoso te',\n",
              " 'dpc pdip solo target menang gibranteguh kontribusi y',\n",
              " 'selamat juang gibran gibran teguh solo',\n",
              " 'gibran teguh kampanye unik blusukan online hindar kumpul massa patuh protocol',\n",
              " 'kampanye virtual pasang calon wali kota calon wakil wali kota solo nomor urut gibran rakab',\n",
              " 'pilwakot surakarta pilkada ramai nomor berita bahas sosok gibran media',\n",
              " 'kampanye virtual sdh paslon gibranteguh pd kampanye bonorejo kel nusukan kec banjarsari solo jawa tenga',\n",
              " 'pandemi covid ubah mek temu online paslon lainkampanye vi',\n",
              " 'gibran teguh generasi',\n",
              " 'kampanye virtual sdh pasang calon walikota calon wakil walikota solo nomor urut',\n",
              " 'pasang cawali cawawali solo nomor urut gibran rakabuming rakateguh prakosa langsung blusukan online',\n",
              " 'gibran rakabuming raka resmi calon wali kota solo pilih kepala daerah pilkada serentak b',\n",
              " 'kampanyepilkadavirtual sdh paslon walikota calon wakil walikota solo nomor urut gibran teguh pd h',\n",
              " 'berita kampanye virtual sdh paslon walikota calon wakil walikota solo',\n",
              " 'ranting pdi juang sekota surakarta menang gibranteguh taat p',\n",
              " 'pasang cawali cawawali solo nomor urut gibran rakabuming rakateguh prakosa langsung blusukan',\n",
              " 'kampanyepilkadavirtualkampanye perdana gibranteguh blusukan daring virtual boxkampanye gibran bl',\n",
              " 'timbul kerumun massa pasang calon walikota solo gibran rakabuming raka teguh prakoso lak',\n",
              " 'kampanyepilkadavirtualkampanye virtual jg paslon gibran rakabuming rakateguh prakosa pilkada solo',\n",
              " 'kampanyepilkadavirtualketua tim menang gibranteguh putut gunawan tahap kampanye timnya a',\n",
              " 'kampanyepilkadavirtualkampanye virtual pasang calon wali kota calon wakil wali',\n",
              " 'kampanyepilkadavirtualpasangan calon wali kota wakil wali kota solo gibran rakabuming rakateguh prakosa b',\n",
              " 'kampanye virtual pasang calon wali kota wakil walikota solo nomor urut gibr',\n",
              " 'fakta kampanye digital gibran teguh pilkada solo warga keluh kesahnya',\n",
              " 'nomor urut pasang calonkpu kota surakarta nomor urut pasang gibran rakabuming raka teguh pra',\n",
              " 'dana kampanye gibranteguh amp bajo masingmasing batas rp m',\n",
              " 'dapar nomor urut gibranteguh kampanye blusukan onlinepdiperjuangangibranteguh ht',\n",
              " 'kampanye virtual pasang calon wali kota wakil walikota solo nomor urut',\n",
              " 'kampanye virtual pasang calon wali kota calon wakil wali kota solo nomor urut gibran',\n",
              " 'ruarrrr biasahhh tiati nek jaman covid megawati turun gunung jurkam gibranteguh',\n",
              " 'kampanye virtual sdh paslon cawalkot solo dgn no urut',\n",
              " 'kampanye virtual sdh paslon gibranteguh pd kampanye bonorejo kel nusukan kec banjarsari solo',\n",
              " 'pandemi covid ubah mek temu online paslon lainkam',\n",
              " 'kampanyepilkadavirtual sdh paslon walikota calon wakil walikota solo nomor urut gibran teg',\n",
              " 'kampanyepilkadavirtualpasangan calon wali kota wakil wali kota solo gibran rakabuming rakateguh prakosa le',\n",
              " 'kampanyepilkadavirtualkampanye virtual pasang calon wali kota calon wakil',\n",
              " 'kampanyepilkadavirtualketua tim menang gibranteguh putut gunawan tahap kampanye tim',\n",
              " 'kampanyepilkadavirtualkampanye virtual jg paslon gibran rakabuming rakateguh prakosa pilkada s',\n",
              " 'gibranteguh vs bajo',\n",
              " 'pilkada solo lawan gibranteguh dana kampanye pasang bajo rp darisuara',\n",
              " 'gibranteguh lapor dana kampanye pilkada solo rp juta bajo nol rupiah',\n",
              " 'gibranteguh laku kampanye virtual pakar komunikasi politik nilai efektif pikir rakyat tasikmalaya',\n",
              " 'laku kampanye virtual pakar komunikasi politik nilai efektif pikir rakyat ta',\n",
              " 'kampanye sehat kampanye cerdas good luck gibran teguh moga sukses',\n",
              " 'kampanye onlie pasang gibranteguh prakosa cegah kerumun kumparannews',\n",
              " 'saluut gibran teguh bikin kampanye pandemi',\n",
              " 'mantap paslon walikota solo gibran amp teguh nih blusukan virtual kampanye n',\n",
              " 'keren nih monitor bukti paslon walikota solo gibran amp teguh kreatif b',\n",
              " 'bener bener keren salut ama paslon gibran teguh',\n",
              " 'inovasi kampanye pandemi kaya ide kreatif paslon gibran teguh',\n",
              " 'keren nih monitor virtual paslon walikota solo gibran teguh moga pilih',\n",
              " 'salut kampanyenya paslon gibran teguh guys',\n",
              " 'tetep kampanye pandemi monitor virtual blusukan',\n",
              " 'bagus bet ide kampanyenya paslon gibran teguh guys patut',\n",
              " 'ambil nomer urut paslon pilkada solo idntimesjateng',\n",
              " 'beritasonora undi nomor urut pilkada gibranteguh nomor urut',\n",
              " 'undi nomor urut pilkada gibranteguh nomor urut',\n",
              " 'gibranteguh bagyosupardjo samasama menang pilkada solo',\n",
              " 'resmi kpu kota surakarta nomor urut gibranteguh raih menang',\n",
              " 'pilkada solo gibranteguh nomor bajo',\n",
              " 'resmi kpu kota surakarta nomor urut gibranteguh raih menang',\n",
              " 'calon walikota solo tuh gibran teguh ga liat baliho spanduk lawannya jala',\n",
              " 'kmi kawal gibran teguh prakosa dlm mimpin kota solo coblos nmor pilih',\n",
              " 'pilkada solo gibranteguh nomor urut',\n",
              " 'undi nomor urut gibranteguh tampil putih hitam maknanya gibranrakabuming jokowidodo sbagio',\n",
              " 'pasang calon paslon pilkada solo tahap undi nomor urut gibran rakabuming rakateguh prakosa mendap',\n",
              " 'dahsyat gibranteguh nomor urut',\n",
              " 'pasang calon paslon pilkada solo tahap undi nomor urut gibran rakabuming rakateguh prak',\n",
              " 'selamat pagi assalamualaikum wr wb moga patuh protokol sehat hindar covid tagar ha',\n",
              " 'gibran teguh nomor bajo',\n",
              " 'sah gibranteguh nomor urut gibranrakabuming teguhprakosa wakilwalikota mencucitangan kotasurakarta',\n",
              " 'budaya kreatif moderen tangguhgibranteguh menangsolo bermanfaatall out losss ra rewel',\n",
              " 'gibran rakabuming raka maju calon wali kota solo pasang teguh prakosa ha',\n",
              " 'gibranteguh komitmen taat protokol kesehatancovidrangerantararangerantara',\n",
              " 'gibran rakabuming raka maju calon wali kota solo pasang teguh prakosa mempuny',\n",
              " 'tuh anak muda milenialcari jitu raup dg daring virtualpartaitaatprokespilkada tari',\n",
              " 'tuju masbilngn dukung jugadaring manfaat teknologianda calon milenial soalnyainget prokes k',\n",
              " 'gibranteguh bagyosupardjo samasama pede menang pilkada solo',\n",
              " 'gw tuh gk ad lawanny ternyta ad tp jalur independen tohseru nih lau kayak ginijd lbh asyik hidu',\n",
              " 'tuh anak muda milenialcari jitu raup dg daring virtual',\n",
              " 'pkb resmi dukung gibranteguh pilwakot solo lihat berita taut',\n",
              " 'tuju masbilngn dukung jugadaring manfaat teknologianda calon milenial soalnyainget pr',\n",
              " 'gw tuh gk ad lawanny ternyta ad tp jalur independen tohseru nih lau kayak ginijd lbh asyi',\n",
              " 'selamat berjuanggibran teguhsukses salemba raya',\n",
              " 'teguh komitmen taat protokol sehat nomor',\n",
              " 'pemilune slamet rakyate iso ngeliwet gibranteguh bersilahturahmi warga keprabon kota surakarta',\n",
              " 'gibranteguh blusukan online pandemi covid gibranrakabumingraka gibranrakabuming',\n",
              " 'komisi pilih kpu solo gelar rapat pleno buka undi nomor urut pasang calon wali kota wakil wali',\n",
              " 'pilwalkot solo gibranteguh nomor urut bajo ukasindonews bangkitdaripandemi gibran',\n",
              " 'komisi pilih kpu solo gelar rapat pleno buka undi nomor urut pasang calon wali kota w',\n",
              " 'pasang calon walikota the sunan hotel solopasangan gibranteguh nomor urut',\n",
              " 'gibranteguh nomor bajo pilkada surakarta',\n",
              " 'gibranteguh nomor urut tantang pasang bajo nomor nomor coblos masyarakat soloarti',\n",
              " 'gibranteguh nomor urut tantang pasang bajo nomor nomor coblos masyarakat',\n",
              " 'gibran nilai nomor nomor',\n",
              " 'gibranteguh nomor bajo pilkada surakarta news bengkulu',\n",
              " 'pilkada surakarta gibranteguh nomor bajo nomor jateng',\n",
              " 'pilwalkot solo gibranteguh nomor urut bajo',\n",
              " 'mobil gibranteguh sukasno hadir pleno kpu the sunan hotel',\n",
              " 'gibranteguh blusukan konser online',\n",
              " 'sah gibranteguh nomor lawannya bajo nomor',\n",
              " 'pasang calon walikota wakil walikota surakarta periode gibranteguh nomor urut',\n",
              " 'pilkada solo gibranteguh nomor urut bajo nomor',\n",
              " 'nomor urut pilwalkot solo gibranteguh bagyosupardjo gibranrakabuming disinfektan komisipemilihanumum',\n",
              " 'undi nomer urut gibranteguh nomer urut bajo nomer urut',\n",
              " 'pilwalkot solo gibranteguh nomor urut',\n",
              " 'gibran teguh nomor urut bajo nomor',\n",
              " 'hadir ambil nomor urut paslon tampil gibranteguh bajo',\n",
              " 'nomer urut calon walikota amp wakil walikota surakarta gibran rakabuming raka teguh prakosa pdi juang',\n",
              " 'kpu kota solo jawa pasang calon wali kota pilkada pasang putra jokowi gibran',\n",
              " 'paslon gibranteguh nomor urut pilkada solo tim sorak gembira',\n",
              " 'kpu kota solo jawa pasang calon wali kota pilkada pasang putra joko',\n",
              " 'gibranteguh nomor urut pilkada solo taucepattanpabatas beritaterkini',\n",
              " 'sah gibranteguh nomor urut bajo nomor urut pilkada solo',\n",
              " 'gibranteguh nomor urut bajo pilwalkot solo',\n",
              " 'pilkada solo gibranteguh nomor urut bajo nomor wartawan gibran mend',\n",
              " 'rapat pleno nomor urut daftar pasang calon pilih wali kota wakil wali kota surakart',\n",
              " 'paslon gibranteguh sah nomor urut pilkada solo paslon independen bajo nomor',\n",
              " 'pilkada solo gibranteguh nomor urut bajo',\n",
              " 'paslon gibranteguh sah nomor urut pilkada solo paslon independen bajo mend',\n",
              " 'sah gibranteguh nomor urut bajo nomor',\n",
              " 'pilkada solo gibranteguh nomor urut bajo nomor wartawan gibran',\n",
              " 'hadir rapat pleno kpu undi nomor urut gibran teguh pakai kemeja putih lawan wa',\n",
              " 'teguh damping gibran langsung tepuk tangan gibran nomor urut tim h',\n",
              " 'pasang calon pilkada kota solo gibran rakabuming rakateguh prakosa nomor urut lawann',\n",
              " 'undi nomor urut paslon laku paslon gibranteguh nomor bajo nomor urut du',\n",
              " 'kpu paslon pilwakot solo gibranteguh bagyosupardjo',\n",
              " 'pasang gibran rakabuming rakateguh prakosa gibranteguh bagyo wahyonofx supardjo bajo hadir pengun',\n",
              " 'solo gibran teguh pilihankusolohebat sobatsolohebat solomelompatlebihjauh',\n",
              " 'mari doa mak nek gemar serial pembunuhanini pilkada solo megawati turun tangan jurkam gibranteguh',\n",
              " 'tarik pilih milenial gibranteguh gelar konser musik virtual tim menang pasang calon wali kota',\n",
              " 'sah paslon gibranteguh amp bagyosupardjo tak nomor urut',\n",
              " 'lbp proteskarena saatlbp bla bla blatibanajwa shihabmenayangkanpelanggaran protokol covidoleh',\n",
              " 'paslon gibranteguh blusukan online sapa masyarakat solo kait sistemnya gibran',\n",
              " 'ranting timur ibuibu gerak timuransiap menang gibranteguhpemilune sl',\n",
              " 'paslon gibranteguh blusukan online sapa masyarakat solo kait sistemnya gi',\n",
              " 'selamat pagi assalamualaikum wr wb moga patuh protokol sehat hindar covid tag',\n",
              " 'pasang gibranteguh bagyosupardjo resmi tarung rebut kursi wali kota solo pasa',\n",
              " 'dukung gemuk gilir pkpi rapat gibranteguh pilkada solo',\n",
              " 'gencar protokol sehat jelang pilkada serentak gibranteguh terima hand sanitizer',\n",
              " 'anak perilaku bapaknyanjrit blusukan onlinesekalian gorong online',\n",
              " 'gibranteguh bajo incar nomor urut pilkada solo',\n",
              " 'purnomo bentar teguh gibran walkotnya',\n",
              " 'sejahtera pimpin kader pdi juang tugas tarik sampah banjarsari menang gibran',\n",
              " 'bagyo wahyono fx supardjo lawan gibranteguh pilwalkot solo bagyosupardjo maj',\n",
              " 'kayak panitia rekening merahputihcom rekening kampanye',\n",
              " 'dukung pilkada solo aman secret clean supohand sanitizer paslon gibranteguh',\n",
              " 'kpu solo resmi gibran rakabuming rakateguh prakosa bagyo wahyonofx supardjo bajo pasang c',\n",
              " 'mari doa mak nek gemar serial pembunuhanini pilkada solo megawati turun tangan jurkam gibr',\n",
              " 'kpu solo resmi gibran rakabuming rakateguh prakosa bagyo wahyonofx supardjo bajo',\n",
              " 'dukung gibranteguh pkpi pimpin solo',\n",
              " 'sah gibran rakabumingteguh bajo calon wali kota solo',\n",
              " 'gibranteguh blusukan online',\n",
              " 'kpu gibranteguh bagyosupardjo paslon pilwalkot solo gibranrakabuming komisipemilihanumum',\n",
              " 'sah paslon gibranteguh amp bagyosupardjo tak nomor urut',\n",
              " 'gibran teguh bajo resmi paslon wali kota solo pilkada',\n",
              " 'rakyat masyarakatapakah bodoh fakta realitanya duduk',\n",
              " 'ketua tim menang gibranteguh harap nomor urut',\n",
              " 'rapat pleno tutup kpu surakarta pasang gibranteguh bagyosupardjo maju pilkada wali kot',\n",
              " 'juang gibranteguh megawati puan hasto kampanye',\n",
              " 'sejahtera pimpin kader pdi juang tugas tarik sampah banjarsari menang gib',\n",
              " 'megawati puan jurkam gibranteguh',\n",
              " 'banteng solotengahberhimpun amp gerak memenangkangibranteguhpemilune slamet wargane iso ngliwet',\n",
              " 'konsolidasi ranting anting amp satgas timuransolid gerak gibranteguhpemilune slametwargane iso ngliwet',\n",
              " 'kpu gibranteguh bajo pilkada solo nurul rapat pleno calon tid',\n",
              " 'bajo sah lawan gibranteguh pilwakot solo',\n",
              " 'sah gibranteguh temu bajo pilkada surakarta',\n",
              " 'megawati soekarnoputri puan mahar turun gunung kampanye gibran rakabumingteguh prakosa pilkada s',\n",
              " 'gibranteguh bagyosuparjo kpu tarung pilkada solo',\n",
              " 'resmi saing undi nomor urut paslon besok pleno terbukavalidnews nasional',\n",
              " 'kpu resmi paslon pilkada solo teguhgibran vs bajo pilkadasolo gibranrakabuming',\n",
              " 'gibranteguh bajo resmi paslon pilkada solo',\n",
              " 'sah gibranteguh bajo pilkada solo',\n",
              " 'kpu gibranteguh bajo calon pilkada surakarta',\n",
              " 'warga solo gak suka gibran nuduh dinasti politik sila pilih bajo golput',\n",
              " 'paslon gibran rakabuming rakateguh prakosa bagyo wahyonofx supardjo bajo tarung pil',\n",
              " 'batal lawan kotak kosong gibranteguh tantang bagyosuparjo pilkada solo pilkada pilwakotsolo',\n",
              " 'kpu solo sahkan tarung gibranteguh lawan bajo pilkada',\n",
              " 'sah gibranteguh vs bajo saing pilkada solo',\n",
              " 'kpu gibranteguh bajo paslon pilkada solo',\n",
              " 'ketua pdip megawati soekarnoputri ketua dpp puan mahar sekjen hasto kristianto turun gunun',\n",
              " 'kpu gibranteguh bagyosupardjo paslon pilwalkot solo',\n",
              " 'patuihi protokol sehat kampanye solo gibranteguh gelar konser musik virtual',\n",
              " 'calon pilkada solo online gibran teguh amp bagyo supardjo tak kpu',\n",
              " 'tim menang gibran teguh tunda pilkada',\n",
              " 'asyik pilkadanya teriak rakyat pusing ganti masker scuba diaminin tenaga kes',\n",
              " 'sah tukang jahit amp ketua rw tanding lawan putra presiden jokowi gibran amp teguh pilkada solo',\n",
              " 'bajunya keren kenal seragam kampanye gibranteguh pilkada solo maknanya',\n",
              " 'ketua tim menang pasang calon gibran teguh putut gunawan hadir megawati harap da',\n",
              " 'menang gibranteguh puan mahar megawati turun gunung jurkam pilkada solosoloraya pilkadasolo',\n",
              " 'kpu paslon gibranteguh paslon bagyosupardjo calon wali kota solo publisherstory',\n",
              " 'kpu gibranteguh bagyosupardjo paslon pilwalkot solo',\n",
              " 'pasang gibranteguh bagyosupardjo ketua kpu solo nurul sutarti',\n",
              " 'ranting timur ibuibu gerak timur menang gibranteguhpemilune slamet wargane iso ngliwet',\n",
              " 'ranting timur ibuibu timur gerak amp menang gibranteguhpdiperjuangan',\n",
              " 'megawati jurkam gibranteguh pilwalkot solo',\n",
              " 'jurus nangis diandalkanseperti halnya presiden hasil gusdur lengserkalau nggak nang',\n",
              " 'jurus nangis diandalkanseperti halnya presiden hasil gusdur lengserkalau nggak n',\n",
              " 'nomor urut pilkada solo rebut bajo independen pasang calon pdip gibranteguh',\n",
              " 'tum pdip megawati soekarno putri ketua dpr puan mahar kampanye gibran rakabumin',\n",
              " 'kampanye gibranteguh timbang gelar konser',\n",
              " 'pilkada solo megawati turun tangan jurkam gibranteguh',\n",
              " 'pilkada solo megawati turun tangan jurkam gibranteguh follow',\n",
              " 'puan hingga megawati kampanye gibranteguh indonesia',\n",
              " 'tim menang pasang gibran rakabuming rakateguh prakosa usung pdip dukung delapan parpol',\n",
              " 'ketua dpr mantan presiden jurkam gibranteguh pilkada solo',\n",
              " 'ashiaap',\n",
              " 'mantan presiden masuk tim kampanye gibranteguh pilkada solo',\n",
              " 'megawati soekarnoputri puan mahar turun gunung kampanye gibran rakabumingteguh prakosa',\n",
              " 'megawati langsung solo daring',\n",
              " 'kpu solo gibranteguh bagyosuparjo tutup',\n",
              " 'pasang bacalon wali kota solo usung konsep beda tata ruang',\n",
              " 'darimks ketua dpr ri hingga mantan presiden ri tim jurkam gibranteguh',\n",
              " 'pilkada tunda tim menang gibranteguh untung',\n",
              " 'megawati elit partai turun gunung kampanye gibran teguh temponasional',\n",
              " 'timses paslon gibranteguh hadir megawati hingga puan mahar kampanye',\n",
              " 'ayo pilih gibran teguh',\n",
              " 'pdip kampanye menang pilkada pilkada solo ketua pdip megawati soekarnoputri me',\n",
              " 'tokoh partai politik solo kampanye megawati soekarnoputri hadir',\n",
              " 'tokoh partai politik solo kampanye megawati soekarnoputri dihadirk',\n",
              " 'ketua pdip megawati soekarnoputri salah kampanye pasang gibran rakabuming rakateguh',\n",
              " 'pdip kampanye menang pilkada pilkada solo ketua pdip megawati soekarnoput',\n",
              " 'tim menang gibranteguh kpu gelar rapat pleno buka calon nyata muka lo lia',\n",
              " 'tim menang gibranteguh kpu gelar rapat pleno buka calon nyata muka lo',\n",
              " 'tim gibranteguh protes kpu solo jawa pos demokrasi indonesia',\n",
              " 'gaet pilih milenial gibran rakabumingteguh prakosa gelar konser virtual',\n",
              " 'konser musik virtual galang dukung warga pasang gibran teguh i',\n",
              " 'megawati puan jurkam gibranteguh hadir tokoh partai lambang kepala banteng moncong put',\n",
              " 'kampanye gibran teguh pilwalkot solo',\n",
              " 'keren nih acaranya kemaren nonton isi acaranya keren moga',\n",
              " 'keren nih acaranya kemaren nonton isi acaranya keren s',\n",
              " 'keren nih acaranya kemaren nonton isi acaranya keren semo',\n",
              " 'mantul nih film',\n",
              " 'keren nih acaranya kemaren nonton isi acaranya keren',\n",
              " 'liat kak ig',\n",
              " 'tim gibranteguh protes kpu solo',\n",
              " 'kampanye pandemi covid gibranteguh blusukan online',\n",
              " 'band cocok patuh protokol sehat kampanye solo gibranteguh gelar konser musik virtu',\n",
              " 'gelar konser musik virtual gibranteguh pilih milenial',\n",
              " 'seru acaranya boy william',\n",
              " 'angkat jargon pemilune slamet wargane iso ngliwet ketua dpc pdi juang surakarta ajak tarik sampah laweyan sukse',\n",
              " 'rapat baris utk menang gibranteguh program bijak pro wong cil',\n",
              " 'angkat jargon pemilune slamet wargane iso ngliwet ketua dpc pdi juang surakarta ajak tarik sampah laweyan s',\n",
              " 'rebut hati milenial solo gibranteguh konser musik virtual',\n",
              " 'target raih gibranteguh andal jurkam nasional hingga influencer',\n",
              " 'silaturahmi tegalharjo gibranteguh janji program wmp rudypoernomo hingga cepat pulih ekon',\n",
              " 'kpu putus tak undang gibranteguh bajo calon pilkada solo pleno internal kemudia',\n",
              " 'mantap jiwa puan hingga megawati terjun jurkam gibranteguh pilkada',\n",
              " 'perindo dukung pasang gibran teguh wali kota wakil wali kota solo',\n",
              " 'hadir deklarasi adaptasi dukung cepat tangan covid gibran teguh j',\n",
              " 'hoax presiden tim sukses gibranteguh',\n",
              " 'visimisi pilkada gibran teguh kota solo kota budaya modern amp program rudy',\n",
              " 'partai perindo resmi dukung pasang gibranteguh pilwakot solo']"
            ]
          },
          "metadata": {
            "tags": []
          },
          "execution_count": 41
        }
      ]
    },
    {
      "cell_type": "code",
      "metadata": {
        "id": "PuGufN90Tetf",
        "outputId": "0d67f9fe-bd0a-4438-a7b7-e0ece5952015",
        "colab": {
          "base_uri": "https://localhost:8080/",
          "height": 419
        }
      },
      "source": [
        "tanggal1 = tweet_data1.tanggal\n",
        "tweet_data2 = pd.DataFrame(list(zip(tanggal1, tweet_data)), \n",
        "               columns =['tanggal', 'teks']) \n",
        "tweet_data2 "
      ],
      "execution_count": null,
      "outputs": [
        {
          "output_type": "execute_result",
          "data": {
            "text/html": [
              "<div>\n",
              "<style scoped>\n",
              "    .dataframe tbody tr th:only-of-type {\n",
              "        vertical-align: middle;\n",
              "    }\n",
              "\n",
              "    .dataframe tbody tr th {\n",
              "        vertical-align: top;\n",
              "    }\n",
              "\n",
              "    .dataframe thead th {\n",
              "        text-align: right;\n",
              "    }\n",
              "</style>\n",
              "<table border=\"1\" class=\"dataframe\">\n",
              "  <thead>\n",
              "    <tr style=\"text-align: right;\">\n",
              "      <th></th>\n",
              "      <th>tanggal</th>\n",
              "      <th>teks</th>\n",
              "    </tr>\n",
              "  </thead>\n",
              "  <tbody>\n",
              "    <tr>\n",
              "      <th>0</th>\n",
              "      <td>10/2/2020 22:49</td>\n",
              "      <td>populer nusantara konlik kapolres blitar kasat...</td>\n",
              "    </tr>\n",
              "    <tr>\n",
              "      <th>1</th>\n",
              "      <td>10/2/2020 22:16</td>\n",
              "      <td>sandiaga uno kampanye pasang calon wali kota w...</td>\n",
              "    </tr>\n",
              "    <tr>\n",
              "      <th>2</th>\n",
              "      <td>10/2/2020 21:51</td>\n",
              "      <td>sandiaga uno kampanye gibranteguh pilkada solo...</td>\n",
              "    </tr>\n",
              "    <tr>\n",
              "      <th>3</th>\n",
              "      <td>10/2/2020 20:43</td>\n",
              "      <td>ninggal tatukowe tak sayangsayang saiki ngilan...</td>\n",
              "    </tr>\n",
              "    <tr>\n",
              "      <th>4</th>\n",
              "      <td>10/2/2020 19:31</td>\n",
              "      <td>sandi uno kampanye gibranteguh pilkada solo lo...</td>\n",
              "    </tr>\n",
              "    <tr>\n",
              "      <th>...</th>\n",
              "      <td>...</td>\n",
              "      <td>...</td>\n",
              "    </tr>\n",
              "    <tr>\n",
              "      <th>352</th>\n",
              "      <td>9/21/2020 8:30</td>\n",
              "      <td>perindo dukung pasang gibran teguh wali kota w...</td>\n",
              "    </tr>\n",
              "    <tr>\n",
              "      <th>353</th>\n",
              "      <td>9/21/2020 8:29</td>\n",
              "      <td>hadir deklarasi adaptasi dukung cepat tangan c...</td>\n",
              "    </tr>\n",
              "    <tr>\n",
              "      <th>354</th>\n",
              "      <td>9/21/2020 8:13</td>\n",
              "      <td>hoax presiden tim sukses gibranteguh</td>\n",
              "    </tr>\n",
              "    <tr>\n",
              "      <th>355</th>\n",
              "      <td>9/21/2020 3:19</td>\n",
              "      <td>visimisi pilkada gibran teguh kota solo kota b...</td>\n",
              "    </tr>\n",
              "    <tr>\n",
              "      <th>356</th>\n",
              "      <td>9/21/2020 3:00</td>\n",
              "      <td>partai perindo resmi dukung pasang gibranteguh...</td>\n",
              "    </tr>\n",
              "  </tbody>\n",
              "</table>\n",
              "<p>357 rows × 2 columns</p>\n",
              "</div>"
            ],
            "text/plain": [
              "             tanggal                                               teks\n",
              "0    10/2/2020 22:49  populer nusantara konlik kapolres blitar kasat...\n",
              "1    10/2/2020 22:16  sandiaga uno kampanye pasang calon wali kota w...\n",
              "2    10/2/2020 21:51  sandiaga uno kampanye gibranteguh pilkada solo...\n",
              "3    10/2/2020 20:43  ninggal tatukowe tak sayangsayang saiki ngilan...\n",
              "4    10/2/2020 19:31  sandi uno kampanye gibranteguh pilkada solo lo...\n",
              "..               ...                                                ...\n",
              "352   9/21/2020 8:30  perindo dukung pasang gibran teguh wali kota w...\n",
              "353   9/21/2020 8:29  hadir deklarasi adaptasi dukung cepat tangan c...\n",
              "354   9/21/2020 8:13               hoax presiden tim sukses gibranteguh\n",
              "355   9/21/2020 3:19  visimisi pilkada gibran teguh kota solo kota b...\n",
              "356   9/21/2020 3:00  partai perindo resmi dukung pasang gibranteguh...\n",
              "\n",
              "[357 rows x 2 columns]"
            ]
          },
          "metadata": {
            "tags": []
          },
          "execution_count": 42
        }
      ]
    },
    {
      "cell_type": "markdown",
      "metadata": {
        "id": "hPae_JUZvz_u"
      },
      "source": [
        "## Text Data Visualization"
      ]
    },
    {
      "cell_type": "markdown",
      "metadata": {
        "id": "Udm5kHF6XMTJ"
      },
      "source": [
        "### Bar Chart"
      ]
    },
    {
      "cell_type": "code",
      "metadata": {
        "id": "ysSSzMRay2xO",
        "outputId": "9bc058f2-375d-4e0f-ef43-f6285b875ab4",
        "colab": {
          "base_uri": "https://localhost:8080/",
          "height": 34
        }
      },
      "source": [
        "token=[]\n",
        "for teks in tweet_data2.teks:\n",
        "  token1=teks.split()\n",
        "  token=token+token1\n",
        "print(len(token))\n",
        "tweet_data_token=token"
      ],
      "execution_count": null,
      "outputs": [
        {
          "output_type": "stream",
          "text": [
            "3268\n"
          ],
          "name": "stdout"
        }
      ]
    },
    {
      "cell_type": "code",
      "metadata": {
        "id": "2Zt7hbQitn-k",
        "outputId": "a34967eb-8a27-4015-b8f8-88acbf929703",
        "colab": {
          "base_uri": "https://localhost:8080/",
          "height": 265
        }
      },
      "source": [
        "from collections import Counter\n",
        "import numpy as np\n",
        "import matplotlib.pyplot as plt\n",
        "\n",
        "word_list = token\n",
        "\n",
        "counts = Counter(word_list)\n",
        "\n",
        "labels, values = zip(*counts.items())\n",
        "\n",
        "# sort your values in descending order\n",
        "indSort = np.argsort(values)[::-1]\n",
        "indSort = indSort[0:10]\n",
        "\n",
        "# rearrange your data\n",
        "labels = np.array(labels)[indSort]\n",
        "values = np.array(values)[indSort]\n",
        "\n",
        "indexes = np.arange(len(labels))\n",
        "\n",
        "bar_width = 0.6\n",
        "\n",
        "plt.bar(indexes, values)\n",
        "\n",
        "# add labels\n",
        "plt.xticks(indexes + bar_width, labels)\n",
        "plt.show()"
      ],
      "execution_count": null,
      "outputs": [
        {
          "output_type": "display_data",
          "data": {
            "image/png": "[encoded data removed]",
            "text/plain": [
              "<Figure size 432x288 with 1 Axes>"
            ]
          },
          "metadata": {
            "tags": [],
            "needs_background": "light"
          }
        }
      ]
    },
    {
      "cell_type": "code",
      "metadata": {
        "id": "r2K330Rj36Xl",
        "outputId": "4127d6c5-e1de-4897-e7fc-73b1d3051a98",
        "colab": {
          "base_uri": "https://localhost:8080/",
          "height": 51
        }
      },
      "source": [
        "labels"
      ],
      "execution_count": null,
      "outputs": [
        {
          "output_type": "execute_result",
          "data": {
            "text/plain": [
              "array(['solo', 'gibranteguh', 'gibran', 'pilkada', 'nomor', 'kampanye',\n",
              "       'urut', 'teguh', 'pasang', 'kota'], dtype='<U38')"
            ]
          },
          "metadata": {
            "tags": []
          },
          "execution_count": 45
        }
      ]
    },
    {
      "cell_type": "code",
      "metadata": {
        "id": "nNhQFmuiykvX",
        "outputId": "628eeb26-02c3-4bf2-aad7-fe59b7aa2cd2",
        "colab": {
          "base_uri": "https://localhost:8080/",
          "height": 34
        }
      },
      "source": [
        "values"
      ],
      "execution_count": null,
      "outputs": [
        {
          "output_type": "execute_result",
          "data": {
            "text/plain": [
              "array([161, 159, 109,  90,  87,  81,  69,  64,  64,  58])"
            ]
          },
          "metadata": {
            "tags": []
          },
          "execution_count": 46
        }
      ]
    },
    {
      "cell_type": "markdown",
      "metadata": {
        "id": "CjrOUzjFJ10B"
      },
      "source": [
        "# **Sentiment Generation Using Lexicon Based Method**"
      ]
    },
    {
      "cell_type": "code",
      "metadata": {
        "id": "alWa3Bds4LU_"
      },
      "source": [
        "positive = pd.read_csv('/content/gdrive/My Drive/Sentimen Analisis/positive.txt', header=None)\n",
        "positive = positive[0].values.tolist()\n",
        "positive = '|'.join(positive)\n",
        "\n",
        "negative = pd.read_csv('/content/gdrive/My Drive/Sentimen Analisis/negative.txt', header=None)\n",
        "negative = negative[0].values.tolist()\n",
        "negative = '|'.join(negative)"
      ],
      "execution_count": null,
      "outputs": []
    },
    {
      "cell_type": "code",
      "metadata": {
        "id": "cdYmUP3gLCua",
        "outputId": "c1add8fa-8046-4ab5-a996-b941bdc62b63",
        "colab": {
          "base_uri": "https://localhost:8080/",
          "height": 204
        }
      },
      "source": [
        "tweet_data2.head()"
      ],
      "execution_count": null,
      "outputs": [
        {
          "output_type": "execute_result",
          "data": {
            "text/html": [
              "<div>\n",
              "<style scoped>\n",
              "    .dataframe tbody tr th:only-of-type {\n",
              "        vertical-align: middle;\n",
              "    }\n",
              "\n",
              "    .dataframe tbody tr th {\n",
              "        vertical-align: top;\n",
              "    }\n",
              "\n",
              "    .dataframe thead th {\n",
              "        text-align: right;\n",
              "    }\n",
              "</style>\n",
              "<table border=\"1\" class=\"dataframe\">\n",
              "  <thead>\n",
              "    <tr style=\"text-align: right;\">\n",
              "      <th></th>\n",
              "      <th>tanggal</th>\n",
              "      <th>teks</th>\n",
              "    </tr>\n",
              "  </thead>\n",
              "  <tbody>\n",
              "    <tr>\n",
              "      <th>0</th>\n",
              "      <td>10/2/2020 22:49</td>\n",
              "      <td>populer nusantara konlik kapolres blitar kasat...</td>\n",
              "    </tr>\n",
              "    <tr>\n",
              "      <th>1</th>\n",
              "      <td>10/2/2020 22:16</td>\n",
              "      <td>sandiaga uno kampanye pasang calon wali kota w...</td>\n",
              "    </tr>\n",
              "    <tr>\n",
              "      <th>2</th>\n",
              "      <td>10/2/2020 21:51</td>\n",
              "      <td>sandiaga uno kampanye gibranteguh pilkada solo...</td>\n",
              "    </tr>\n",
              "    <tr>\n",
              "      <th>3</th>\n",
              "      <td>10/2/2020 20:43</td>\n",
              "      <td>ninggal tatukowe tak sayangsayang saiki ngilan...</td>\n",
              "    </tr>\n",
              "    <tr>\n",
              "      <th>4</th>\n",
              "      <td>10/2/2020 19:31</td>\n",
              "      <td>sandi uno kampanye gibranteguh pilkada solo lo...</td>\n",
              "    </tr>\n",
              "  </tbody>\n",
              "</table>\n",
              "</div>"
            ],
            "text/plain": [
              "           tanggal                                               teks\n",
              "0  10/2/2020 22:49  populer nusantara konlik kapolres blitar kasat...\n",
              "1  10/2/2020 22:16  sandiaga uno kampanye pasang calon wali kota w...\n",
              "2  10/2/2020 21:51  sandiaga uno kampanye gibranteguh pilkada solo...\n",
              "3  10/2/2020 20:43  ninggal tatukowe tak sayangsayang saiki ngilan...\n",
              "4  10/2/2020 19:31  sandi uno kampanye gibranteguh pilkada solo lo..."
            ]
          },
          "metadata": {
            "tags": []
          },
          "execution_count": 49
        }
      ]
    },
    {
      "cell_type": "code",
      "metadata": {
        "id": "MsYJM2MVOurW"
      },
      "source": [
        "tweet_data2=tweet_data2.drop(tweet_data2[tweet_data2.teks.map(len)==0].index)"
      ],
      "execution_count": null,
      "outputs": []
    },
    {
      "cell_type": "code",
      "metadata": {
        "id": "_BDIg8sQNagG"
      },
      "source": [
        "a=0\n",
        "for i in df.clean_text:\n",
        "  kata_positif= len(re.findall(positive, i))\n",
        "  #print(kata_positif)\n",
        "  jumlah_kata = len(i.split())\n",
        "  #print(jumlah_kata)\n",
        "  positive_score = kata_positif/jumlah_kata\n",
        "  #print(positive_score)\n",
        "  a=a+1\n",
        "  #print(a)"
      ],
      "execution_count": null,
      "outputs": []
    },
    {
      "cell_type": "code",
      "metadata": {
        "id": "uHlzR0wvLWeG"
      },
      "source": [
        "tweet_data2['positive'] = [len(re.findall(positive, i.lower())) / len(i.split()) for i in tweet_data2.teks]\n",
        "tweet_data2['negative'] = [len(re.findall(negative, i.lower())) / len(i.split()) for i in tweet_data2.teks]"
      ],
      "execution_count": null,
      "outputs": []
    },
    {
      "cell_type": "code",
      "metadata": {
        "id": "jWnproENMHPA"
      },
      "source": [
        "tweet_data2['label'] = ['positive' if tweet_data2.iloc[i].positive >= tweet_data2.iloc[i].negative else 'negative' for i in range(tweet_data2.shape[0])]"
      ],
      "execution_count": null,
      "outputs": []
    },
    {
      "cell_type": "code",
      "metadata": {
        "id": "t8IwiEgFRY5O"
      },
      "source": [
        "tweet_data2['score'] = tweet_data2['positive']- tweet_data2['negative']"
      ],
      "execution_count": null,
      "outputs": []
    },
    {
      "cell_type": "code",
      "metadata": {
        "id": "-3z2UH0aRa92"
      },
      "source": [
        "def sentimen(df):\n",
        "    if tweet_data2['score'] > 0:\n",
        "        val = \"Positive\"\n",
        "    elif tweet_data2['score'] == 0:\n",
        "        val = \"Neutral\"\n",
        "    else:\n",
        "        val = \"Negative\"\n",
        "    return val"
      ],
      "execution_count": null,
      "outputs": []
    },
    {
      "cell_type": "code",
      "metadata": {
        "id": "tVM9fNAcSB3R"
      },
      "source": [
        "import matplotlib.pyplot as plt\n",
        "import pandas as pd\n",
        "import seaborn as sns"
      ],
      "execution_count": null,
      "outputs": []
    },
    {
      "cell_type": "code",
      "metadata": {
        "id": "Ak3Hayn3RgmZ",
        "outputId": "b378478c-25e9-4a51-d4fc-7a82bdeff372",
        "colab": {
          "base_uri": "https://localhost:8080/",
          "height": 68
        }
      },
      "source": [
        "tweet_data2['label'].value_counts()"
      ],
      "execution_count": null,
      "outputs": [
        {
          "output_type": "execute_result",
          "data": {
            "text/plain": [
              "positive    298\n",
              "negative     57\n",
              "Name: label, dtype: int64"
            ]
          },
          "metadata": {
            "tags": []
          },
          "execution_count": 56
        }
      ]
    },
    {
      "cell_type": "code",
      "metadata": {
        "id": "duVoIAFASKmC",
        "outputId": "1c843403-cc62-4bf6-e2b6-1185a8ad73d4",
        "colab": {
          "base_uri": "https://localhost:8080/",
          "height": 299
        }
      },
      "source": [
        "tweet_data2['label'].value_counts().plot(kind='bar');"
      ],
      "execution_count": null,
      "outputs": [
        {
          "output_type": "display_data",
          "data": {
            "image/png": "[encoded data removed]",
            "text/plain": [
              "<Figure size 432x288 with 1 Axes>"
            ]
          },
          "metadata": {
            "tags": [],
            "needs_background": "light"
          }
        }
      ]
    },
    {
      "cell_type": "code",
      "metadata": {
        "id": "MKfEqj5q5zFZ",
        "outputId": "84f66122-2051-4929-b8db-f3ca9262a290",
        "colab": {
          "base_uri": "https://localhost:8080/",
          "height": 589
        }
      },
      "source": [
        "tweet_data2"
      ],
      "execution_count": null,
      "outputs": [
        {
          "output_type": "execute_result",
          "data": {
            "text/html": [
              "<div>\n",
              "<style scoped>\n",
              "    .dataframe tbody tr th:only-of-type {\n",
              "        vertical-align: middle;\n",
              "    }\n",
              "\n",
              "    .dataframe tbody tr th {\n",
              "        vertical-align: top;\n",
              "    }\n",
              "\n",
              "    .dataframe thead th {\n",
              "        text-align: right;\n",
              "    }\n",
              "</style>\n",
              "<table border=\"1\" class=\"dataframe\">\n",
              "  <thead>\n",
              "    <tr style=\"text-align: right;\">\n",
              "      <th></th>\n",
              "      <th>tanggal</th>\n",
              "      <th>teks</th>\n",
              "      <th>positive</th>\n",
              "      <th>negative</th>\n",
              "      <th>label</th>\n",
              "      <th>score</th>\n",
              "    </tr>\n",
              "  </thead>\n",
              "  <tbody>\n",
              "    <tr>\n",
              "      <th>0</th>\n",
              "      <td>10/2/2020 22:49</td>\n",
              "      <td>populer nusantara konlik kapolres blitar kasat...</td>\n",
              "      <td>0.100000</td>\n",
              "      <td>0.000000</td>\n",
              "      <td>positive</td>\n",
              "      <td>0.100000</td>\n",
              "    </tr>\n",
              "    <tr>\n",
              "      <th>1</th>\n",
              "      <td>10/2/2020 22:16</td>\n",
              "      <td>sandiaga uno kampanye pasang calon wali kota w...</td>\n",
              "      <td>0.266667</td>\n",
              "      <td>0.066667</td>\n",
              "      <td>positive</td>\n",
              "      <td>0.200000</td>\n",
              "    </tr>\n",
              "    <tr>\n",
              "      <th>2</th>\n",
              "      <td>10/2/2020 21:51</td>\n",
              "      <td>sandiaga uno kampanye gibranteguh pilkada solo...</td>\n",
              "      <td>0.125000</td>\n",
              "      <td>0.000000</td>\n",
              "      <td>positive</td>\n",
              "      <td>0.125000</td>\n",
              "    </tr>\n",
              "    <tr>\n",
              "      <th>3</th>\n",
              "      <td>10/2/2020 20:43</td>\n",
              "      <td>ninggal tatukowe tak sayangsayang saiki ngilan...</td>\n",
              "      <td>0.153846</td>\n",
              "      <td>0.153846</td>\n",
              "      <td>positive</td>\n",
              "      <td>0.000000</td>\n",
              "    </tr>\n",
              "    <tr>\n",
              "      <th>4</th>\n",
              "      <td>10/2/2020 19:31</td>\n",
              "      <td>sandi uno kampanye gibranteguh pilkada solo lo...</td>\n",
              "      <td>0.090909</td>\n",
              "      <td>0.181818</td>\n",
              "      <td>negative</td>\n",
              "      <td>-0.090909</td>\n",
              "    </tr>\n",
              "    <tr>\n",
              "      <th>...</th>\n",
              "      <td>...</td>\n",
              "      <td>...</td>\n",
              "      <td>...</td>\n",
              "      <td>...</td>\n",
              "      <td>...</td>\n",
              "      <td>...</td>\n",
              "    </tr>\n",
              "    <tr>\n",
              "      <th>352</th>\n",
              "      <td>9/21/2020 8:30</td>\n",
              "      <td>perindo dukung pasang gibran teguh wali kota w...</td>\n",
              "      <td>0.090909</td>\n",
              "      <td>0.090909</td>\n",
              "      <td>positive</td>\n",
              "      <td>0.000000</td>\n",
              "    </tr>\n",
              "    <tr>\n",
              "      <th>353</th>\n",
              "      <td>9/21/2020 8:29</td>\n",
              "      <td>hadir deklarasi adaptasi dukung cepat tangan c...</td>\n",
              "      <td>0.200000</td>\n",
              "      <td>0.100000</td>\n",
              "      <td>positive</td>\n",
              "      <td>0.100000</td>\n",
              "    </tr>\n",
              "    <tr>\n",
              "      <th>354</th>\n",
              "      <td>9/21/2020 8:13</td>\n",
              "      <td>hoax presiden tim sukses gibranteguh</td>\n",
              "      <td>0.400000</td>\n",
              "      <td>0.000000</td>\n",
              "      <td>positive</td>\n",
              "      <td>0.400000</td>\n",
              "    </tr>\n",
              "    <tr>\n",
              "      <th>355</th>\n",
              "      <td>9/21/2020 3:19</td>\n",
              "      <td>visimisi pilkada gibran teguh kota solo kota b...</td>\n",
              "      <td>0.250000</td>\n",
              "      <td>0.000000</td>\n",
              "      <td>positive</td>\n",
              "      <td>0.250000</td>\n",
              "    </tr>\n",
              "    <tr>\n",
              "      <th>356</th>\n",
              "      <td>9/21/2020 3:00</td>\n",
              "      <td>partai perindo resmi dukung pasang gibranteguh...</td>\n",
              "      <td>0.125000</td>\n",
              "      <td>0.250000</td>\n",
              "      <td>negative</td>\n",
              "      <td>-0.125000</td>\n",
              "    </tr>\n",
              "  </tbody>\n",
              "</table>\n",
              "<p>355 rows × 6 columns</p>\n",
              "</div>"
            ],
            "text/plain": [
              "             tanggal  ...     score\n",
              "0    10/2/2020 22:49  ...  0.100000\n",
              "1    10/2/2020 22:16  ...  0.200000\n",
              "2    10/2/2020 21:51  ...  0.125000\n",
              "3    10/2/2020 20:43  ...  0.000000\n",
              "4    10/2/2020 19:31  ... -0.090909\n",
              "..               ...  ...       ...\n",
              "352   9/21/2020 8:30  ...  0.000000\n",
              "353   9/21/2020 8:29  ...  0.100000\n",
              "354   9/21/2020 8:13  ...  0.400000\n",
              "355   9/21/2020 3:19  ...  0.250000\n",
              "356   9/21/2020 3:00  ... -0.125000\n",
              "\n",
              "[355 rows x 6 columns]"
            ]
          },
          "metadata": {
            "tags": []
          },
          "execution_count": 61
        }
      ]
    },
    {
      "cell_type": "markdown",
      "metadata": {
        "id": "Ikrnm6hiskYj"
      },
      "source": [
        "## DATA KEDUA"
      ]
    },
    {
      "cell_type": "code",
      "metadata": {
        "id": "dStsnCo9rS41"
      },
      "source": [
        "df=pd.read_csv(\"https://raw.githubusercontent.com/eliyanto29/My-Academics-Paper-On-Data-Science/master/Sentiment%20Analisis/21Sept-2Okt/Gibran-Teguh-21Sept-2Okt.csv\")\n",
        "df.tail()"
      ],
      "execution_count": null,
      "outputs": []
    },
    {
      "cell_type": "code",
      "metadata": {
        "id": "h6yblmasra-h"
      },
      "source": [
        "#Menghapus teks yang sama\n",
        "tweet_data = tweet_data0.drop_duplicates(subset=['text'], keep='first')\n",
        "tweet_data\n",
        "#print(tweet_data)\n",
        "#print(len(tweet_data0))\n",
        "#print(len(tweet_data))"
      ],
      "execution_count": null,
      "outputs": []
    },
    {
      "cell_type": "code",
      "metadata": {
        "id": "CEgSdapyra39"
      },
      "source": [
        "tweet_data_1=[]\n",
        "for teks in tweet_data.text:\n",
        "  teks_process = [teks.lower()]\n",
        "  tweet_data_1=tweet_data_1+teks_process\n",
        "print(tweet_data_1)"
      ],
      "execution_count": null,
      "outputs": []
    },
    {
      "cell_type": "code",
      "metadata": {
        "id": "bd8feZonra0-"
      },
      "source": [
        "#Menghapus alamat web\n",
        "tweet_data_2=[]\n",
        "for teks in tweet_data_1:\n",
        "  teks_process = [re.sub(r\"http\\S+\", \"\", teks)]\n",
        "  tweet_data_2=tweet_data_2+teks_process\n",
        "print(tweet_data_2)"
      ],
      "execution_count": null,
      "outputs": []
    },
    {
      "cell_type": "code",
      "metadata": {
        "id": "K2BWNwnirax9"
      },
      "source": [
        "#Menghapus emoji\n",
        "tweet_data_3=[]\n",
        "for teks in tweet_data_2:\n",
        "  regrex_pattern = re.compile(pattern = \"[\"\n",
        "        u\"\\U0001F600-\\U0001F64F\"  # emoticons\n",
        "        u\"\\U0001F300-\\U0001F5FF\"  # symbols & pictographs\n",
        "        u\"\\U0001F680-\\U0001F6FF\"  # transport & map symbols\n",
        "        u\"\\U0001F1E0-\\U0001F1FF\"  # flags (iOS)\n",
        "                           \"]+\", flags = re.UNICODE)\n",
        "  teks_process = [regrex_pattern.sub(r'',teks)]\n",
        "  tweet_data_3=tweet_data_3+teks_process\n",
        "print(tweet_data_3)"
      ],
      "execution_count": null,
      "outputs": []
    },
    {
      "cell_type": "code",
      "metadata": {
        "id": "relKb7o-rauv"
      },
      "source": [
        "#Menghapus angka\n",
        "tweet_data_4=[]\n",
        "for teks in tweet_data_3:\n",
        "  teks_process = [re.sub(r\"\\d+\", \"\", teks)]\n",
        "  tweet_data_4=tweet_data_4+teks_process\n",
        "print(tweet_data_4)"
      ],
      "execution_count": null,
      "outputs": []
    },
    {
      "cell_type": "code",
      "metadata": {
        "id": "MQE2fZXkrarh"
      },
      "source": [
        "#Menghapus @akun_name\n",
        "tweet_data_5=[]\n",
        "for teks in tweet_data_4:\n",
        "  teks_process = [re.sub('@[^\\s]+','',teks)]\n",
        "  tweet_data_5=tweet_data_5+teks_process\n",
        "print(tweet_data_5)"
      ],
      "execution_count": null,
      "outputs": []
    },
    {
      "cell_type": "code",
      "metadata": {
        "id": "fIkAK1sjszpH"
      },
      "source": [
        "#Menghapus \"rt\"\n",
        "tweet_data_6=[]\n",
        "for teks in tweet_data_5:\n",
        "  teks_process = [re.sub('rt ','',teks)]\n",
        "  tweet_data_6=tweet_data_6+teks_process\n",
        "print(tweet_data_6)"
      ],
      "execution_count": null,
      "outputs": []
    },
    {
      "cell_type": "code",
      "metadata": {
        "id": "rcg55BSQsz3B"
      },
      "source": [
        "#Menghapus \"\\n\"\n",
        "tweet_data_7=[]\n",
        "for teks in tweet_data_6:\n",
        "  teks_process = [re.sub('\\n','',teks)]\n",
        "  tweet_data_7=tweet_data_7+teks_process\n",
        "print(tweet_data_7)"
      ],
      "execution_count": null,
      "outputs": []
    },
    {
      "cell_type": "code",
      "metadata": {
        "id": "9N13fpWesz0k"
      },
      "source": [
        "#Menghapus tanda baca\n",
        "import string\n",
        "tweet_data_8=[]\n",
        "for teks in tweet_data_7:\n",
        "  teks_process = [teks.translate(str.maketrans(\"\",\"\",string.punctuation))]\n",
        "  tweet_data_8=tweet_data_8+teks_process\n",
        "print(tweet_data_8)"
      ],
      "execution_count": null,
      "outputs": []
    },
    {
      "cell_type": "code",
      "metadata": {
        "id": "YSsp9UOnszxn"
      },
      "source": [
        "#Menghapus whitepace (karakter kosong)\n",
        "tweet_data_9=[]\n",
        "for teks in tweet_data_8:\n",
        "  teks_process = [teks.strip()]\n",
        "  tweet_data_9=tweet_data_9+teks_process\n",
        "print(tweet_data_9)\n",
        "print(len(tweet_data_9))"
      ],
      "execution_count": null,
      "outputs": []
    },
    {
      "cell_type": "code",
      "metadata": {
        "id": "pp10cA_aszuh"
      },
      "source": [
        "tanggal=tweet_data.created_at"
      ],
      "execution_count": null,
      "outputs": []
    },
    {
      "cell_type": "code",
      "metadata": {
        "id": "opK46Br1szlg"
      },
      "source": [
        "tweet_data1 = pd.DataFrame(list(zip(tanggal, tweet_data_9)), \n",
        "               columns =['tanggal', 'teks']) \n",
        "tweet_data1 "
      ],
      "execution_count": null,
      "outputs": []
    },
    {
      "cell_type": "code",
      "metadata": {
        "id": "uUqyVngxraoY"
      },
      "source": [
        "#Menghapus teks yang sama\n",
        "tweet_data1 = tweet_data1.drop_duplicates(subset=['teks'], keep='first')\n",
        "tweet_data1\n",
        "#print(tweet_data)\n",
        "#print(len(tweet_data0))\n",
        "#print(len(tweet_data))"
      ],
      "execution_count": null,
      "outputs": []
    },
    {
      "cell_type": "markdown",
      "metadata": {
        "id": "ahoS1GXlt4qA"
      },
      "source": [
        "## STEMMING"
      ]
    },
    {
      "cell_type": "code",
      "metadata": {
        "id": "DJmQd1DZtn6f"
      },
      "source": [
        "import json"
      ],
      "execution_count": null,
      "outputs": []
    },
    {
      "cell_type": "code",
      "metadata": {
        "id": "p9Q0bvc9tn2s"
      },
      "source": [
        "d = open('/content/gdrive/My Drive/Sentimen Analisis/stopword.txt', \"r\")\n",
        "root_word = set(d.read().splitlines())\n",
        "#root_word"
      ],
      "execution_count": null,
      "outputs": []
    },
    {
      "cell_type": "code",
      "metadata": {
        "id": "YeYG4oSOt-se"
      },
      "source": [
        "f = open('/content/gdrive/My Drive/Sentimen Analisis/lemma_dict.json') \n",
        "lemma_dict = json.load(f)"
      ],
      "execution_count": null,
      "outputs": []
    },
    {
      "cell_type": "code",
      "metadata": {
        "id": "kQnHoptGt-4u"
      },
      "source": [
        "def stem1(word):\n",
        "        if word.endswith((\"lah\", \"kah\", \"pun\")):\n",
        "            return word[:-3]\n",
        "        else:\n",
        "            return word"
      ],
      "execution_count": null,
      "outputs": []
    },
    {
      "cell_type": "code",
      "metadata": {
        "id": "GY_lCieFt-1N"
      },
      "source": [
        "def stem2(word):\n",
        "        if word.startswith(\"ku\"):\n",
        "            return word[2:]\n",
        "        elif word.startswith(\"kau\"):\n",
        "            return word[3:]\n",
        "        else:\n",
        "            return word"
      ],
      "execution_count": null,
      "outputs": []
    },
    {
      "cell_type": "code",
      "metadata": {
        "id": "ZqQ0m4tauO1t"
      },
      "source": [
        "def stem3(word):\n",
        "        if word.endswith((\"ku\", \"mu\")):\n",
        "            return word[:-2]\n",
        "        elif word.endswith(\"nya\"):\n",
        "            return word[:-3]\n",
        "        else:\n",
        "            return word"
      ],
      "execution_count": null,
      "outputs": []
    },
    {
      "cell_type": "code",
      "metadata": {
        "id": "90rduIVAuOyt"
      },
      "source": [
        "def stem4(word):\n",
        "        if word.endswith(\"kan\"):\n",
        "            return [word[:-3], word[:-2]]\n",
        "        elif word.endswith(\"an\"):\n",
        "            return word[:-2]\n",
        "        elif word.endswith(\"isasi\"):\n",
        "            return word[:-5]\n",
        "        elif word.endswith(\"i\"):\n",
        "            return word[:-1]\n",
        "        elif word.endswith(\"isme\"):\n",
        "            return word[:-4]\n",
        "        else:\n",
        "            return word"
      ],
      "execution_count": null,
      "outputs": []
    },
    {
      "cell_type": "code",
      "metadata": {
        "id": "qVikTnSVuOvp"
      },
      "source": [
        "def stem5(word):\n",
        "        if word.startswith((\"di\", \"ke\", \"se\")):\n",
        "            return word[2:]\n",
        "        else:\n",
        "            return word"
      ],
      "execution_count": null,
      "outputs": []
    },
    {
      "cell_type": "code",
      "metadata": {
        "id": "TEis1kgMuOsb"
      },
      "source": [
        "def lemmatize(text):\n",
        "        final_result = \"\"\n",
        "        suffix = set([\"lah\", \"kah\", \"pun\", \"ku\", \"mu\", \"nya\"])\n",
        "        text = text.lower()\n",
        "        text = re.sub(\"[^a-zA-Z0-9-]+\", \" \", text)\n",
        "        for word in text.split():\n",
        "            result = word.lower()\n",
        "            if word.isdigit() or len(word) <= 3 or word in root_word:\n",
        "                result = word.lower()\n",
        "            elif word in lemma_dict:\n",
        "                result = lemma_dict[word]\n",
        "            else:\n",
        "                word1 = stem1(word)\n",
        "                word2 = stem2(word)\n",
        "                word13 = stem3(word1)\n",
        "                word134 = stem4(word13)\n",
        "                word25 = stem5(word2)\n",
        "                if word1 in root_word:\n",
        "                    result = word1\n",
        "                elif word1 in lemma_dict:\n",
        "                    result = lemma_dict[word1]\n",
        "                elif word2 in root_word:\n",
        "                    result = word2\n",
        "                elif word2 in lemma_dict:\n",
        "                    result = lemma_dict[word2]\n",
        "                elif word13 in root_word:\n",
        "                    result = word13\n",
        "                elif word13 in lemma_dict:\n",
        "                    result = lemma_dict[word13]\n",
        "                elif len(word134) > 0:\n",
        "                    if isinstance(word134, list):\n",
        "                        for w in word134:\n",
        "                            if w in root_word:\n",
        "                                result = w\n",
        "                            elif w in lemma_dict:\n",
        "                                result = lemma_dict[w]\n",
        "                    elif word134 in root_word:\n",
        "                        result = word134\n",
        "                    elif word134 in lemma_dict:\n",
        "                        result = lemma_dict[word134]\n",
        "                if result == word.lower():\n",
        "                    if word25 in root_word:\n",
        "                        result = word25\n",
        "                    elif word25 in lemma_dict:\n",
        "                        result = lemma_dict[word25]\n",
        "                    else:\n",
        "                        word12 = stem2(word1)\n",
        "                        word125 = stem1(word25)\n",
        "                        if word12 in root_word:\n",
        "                            result = word12\n",
        "                        elif word12 in lemma_dict:\n",
        "                            result = lemma_dict[word12]\n",
        "                        elif word125 in root_word:\n",
        "                            result = word125\n",
        "                        elif word125 in lemma_dict:\n",
        "                            result = lemma_dict[word125]\n",
        "                        else:\n",
        "                            word123 = stem3(word12)\n",
        "                            word1234 = stem4(word123)\n",
        "                            word1235 = stem5(word123)\n",
        "                            if word123 in root_word:\n",
        "                                result = word123\n",
        "                            elif word123 in lemma_dict:\n",
        "                                result = lemma_dict[word123]\n",
        "                            elif len(word1234) > 0:\n",
        "                                if isinstance(word1234, list):\n",
        "                                    for w in word1234:\n",
        "                                        if w in root_word:\n",
        "                                            result = w\n",
        "                                        elif w in lemma_dict:\n",
        "                                            result = lemma_dict[w]\n",
        "                                elif word1234 in root_word:\n",
        "                                    result = word1234\n",
        "                                elif word1234 in lemma_dict:\n",
        "                                    result = lemma_dict[word1234]\n",
        "                            if result == word.lower():\n",
        "                                if word1235 in root_word:\n",
        "                                    result = word1235\n",
        "                                elif word1235 in lemma_dict:\n",
        "                                    result = lemma_dict[word1235]\n",
        "                                else:\n",
        "                                    word12345 = stem4(word1235)\n",
        "                                    if len(word12345) > 0:\n",
        "                                        if isinstance(word12345, list):\n",
        "                                            for w in word12345:\n",
        "                                                if w in root_word:\n",
        "                                                    result = w\n",
        "                                                elif w in lemma_dict:\n",
        "                                                    result = lemma_dict[\n",
        "                                                        w\n",
        "                                                    ]\n",
        "                                        elif word12345 in root_word:\n",
        "                                            result = word12345\n",
        "                                        elif word12345 in lemma_dict:\n",
        "                                            result = lemma_dict[\n",
        "                                                word12345\n",
        "                                            ]\n",
        "                                    # kepada-Nya --> kepada\n",
        "                                    # anggota-anggota --> anggota\n",
        "                                    if result == word.lower() and \"-\" in word:\n",
        "                                        lemma_list = [\n",
        "                                            lemma_dict.get(i, i)\n",
        "                                            for i in word.split(\"-\")\n",
        "                                        ]\n",
        "                                        if (\n",
        "                                            len(set(lemma_list)) == 2\n",
        "                                            and word.split(\"-\")[1] in suffix\n",
        "                                        ) or len(set(lemma_list)) == 1:\n",
        "                                            if (\n",
        "                                                lemma_list[0]\n",
        "                                                in root_word\n",
        "                                            ):\n",
        "                                                result = lemma_list[0]\n",
        "            final_result += \" {}\".format(result)\n",
        "        return final_result.strip()"
      ],
      "execution_count": null,
      "outputs": []
    },
    {
      "cell_type": "code",
      "metadata": {
        "id": "Qn_tCRtNuOon"
      },
      "source": [
        "print(len(tweet_data))\n",
        "lemm=[]\n",
        "for teks in tweet_data1.teks:\n",
        "  lemm1=[lemmatize(teks)]\n",
        "  lemm=lemm+lemm1\n",
        "print(len(lemm))\n",
        "tweet_data=lemm"
      ],
      "execution_count": null,
      "outputs": []
    },
    {
      "cell_type": "markdown",
      "metadata": {
        "id": "93p_zpl-u13E"
      },
      "source": [
        "## Stopword"
      ]
    },
    {
      "cell_type": "code",
      "metadata": {
        "id": "U8kSZBTouOkU"
      },
      "source": [
        "s = open('/content/gdrive/My Drive/Sentimen Analisis/stopword.txt', \"r\")\n",
        "stopword = set(s.read().splitlines())\n",
        "#stopword"
      ],
      "execution_count": null,
      "outputs": []
    },
    {
      "cell_type": "code",
      "metadata": {
        "id": "LbaLDJkju4V6"
      },
      "source": [
        "def remove_stopword(text):\n",
        "  temp_result = []\n",
        "  parts = []\n",
        "  for match in re.finditer(r'[^.,?!\\s]+|[.,?!]', text):\n",
        "    parts.append(match.group())\n",
        "  \n",
        "  for word in parts:\n",
        "    if word.casefold() not in stopword:\n",
        "      temp_result.append(word)\n",
        "\n",
        "  result_cand = ' '.join(temp_result)\n",
        "  result = re.sub(r' ([^A-Za-z0-9])', r'\\1', result_cand)\n",
        "\n",
        "  return result"
      ],
      "execution_count": null,
      "outputs": []
    },
    {
      "cell_type": "code",
      "metadata": {
        "id": "F-Zpg0rLu4cD"
      },
      "source": [
        "coba=tweet_data[2]\n",
        "coba1=remove_stopword(coba)\n",
        "print(coba)\n",
        "print(coba1)"
      ],
      "execution_count": null,
      "outputs": []
    },
    {
      "cell_type": "code",
      "metadata": {
        "id": "Pb3uFE5ru47z"
      },
      "source": [
        "sw=[]\n",
        "for teks in tweet_data:\n",
        "  sw1=[remove_stopword(teks)]\n",
        "  sw=sw+sw1\n",
        "print(len(sw))\n",
        "sw\n",
        "tweet_data=sw"
      ],
      "execution_count": null,
      "outputs": []
    },
    {
      "cell_type": "code",
      "metadata": {
        "id": "kF7hQs_Eu44W"
      },
      "source": [
        "tanggal1 = tweet_data1.tanggal\n",
        "tweet_data3 = pd.DataFrame(list(zip(tanggal1, tweet_data)), \n",
        "               columns =['tanggal', 'teks']) \n",
        "tweet_data3 "
      ],
      "execution_count": null,
      "outputs": []
    },
    {
      "cell_type": "markdown",
      "metadata": {
        "id": "MZAzFP_Uv3Gk"
      },
      "source": [
        "## PELABELAN"
      ]
    },
    {
      "cell_type": "code",
      "metadata": {
        "id": "pOc3gM4sv0s6"
      },
      "source": [
        "positive = pd.read_csv('/content/gdrive/My Drive/Sentimen Analisis/positive.txt', header=None)\n",
        "positive = positive[0].values.tolist()\n",
        "positive = '|'.join(positive)\n",
        "\n",
        "negative = pd.read_csv('/content/gdrive/My Drive/Sentimen Analisis/negative.txt', header=None)\n",
        "negative = negative[0].values.tolist()\n",
        "negative = '|'.join(negative)"
      ],
      "execution_count": null,
      "outputs": []
    },
    {
      "cell_type": "code",
      "metadata": {
        "id": "E0w-iWXqu41a"
      },
      "source": [
        "tweet_data3=tweet_data3.drop(tweet_data2[tweet_data3.teks.map(len)==0].index)"
      ],
      "execution_count": null,
      "outputs": []
    },
    {
      "cell_type": "code",
      "metadata": {
        "id": "cHNFaAtlu4Qs"
      },
      "source": [
        "a=0\n",
        "for i in df.clean_text:\n",
        "  kata_positif= len(re.findall(positive, i))\n",
        "  #print(kata_positif)\n",
        "  jumlah_kata = len(i.split())\n",
        "  #print(jumlah_kata)\n",
        "  positive_score = kata_positif/jumlah_kata\n",
        "  #print(positive_score)\n",
        "  a=a+1\n",
        "  #print(a)"
      ],
      "execution_count": null,
      "outputs": []
    },
    {
      "cell_type": "code",
      "metadata": {
        "id": "G71i_jdTw3XB"
      },
      "source": [
        "tweet_data3['positive'] = [len(re.findall(positive, i.lower())) / len(i.split()) for i in tweet_data3.teks]\n",
        "tweet_data3['negative'] = [len(re.findall(negative, i.lower())) / len(i.split()) for i in tweet_data3.teks]"
      ],
      "execution_count": null,
      "outputs": []
    },
    {
      "cell_type": "code",
      "metadata": {
        "id": "LV8DitX9w368"
      },
      "source": [
        "tweet_data2['label'] = ['positive' if tweet_data3.iloc[i].positive >= tweet_data3.iloc[i].negative else 'negative' for i in range(tweet_data3.shape[0])]"
      ],
      "execution_count": null,
      "outputs": []
    },
    {
      "cell_type": "code",
      "metadata": {
        "id": "GZsNoI3qw3TO"
      },
      "source": [
        "tweet_data3['score'] = tweet_data3['positive']- tweet_data3['negative']"
      ],
      "execution_count": null,
      "outputs": []
    },
    {
      "cell_type": "code",
      "metadata": {
        "id": "FDIrGPhMw3OZ"
      },
      "source": [
        "def sentimen(df):\n",
        "    if tweet_data3['score'] > 0:\n",
        "        val = \"Positive\"\n",
        "    elif tweet_data3['score'] == 0:\n",
        "        val = \"Neutral\"\n",
        "    else:\n",
        "        val = \"Negative\"\n",
        "    return val"
      ],
      "execution_count": null,
      "outputs": []
    },
    {
      "cell_type": "markdown",
      "metadata": {
        "id": "6_zsVM0xyJkR"
      },
      "source": [
        "## combine tweet_data2 n tweet_data3"
      ]
    },
    {
      "cell_type": "code",
      "metadata": {
        "id": "rZSU9nhjyFdB"
      },
      "source": [
        "A=tweet_data2\n",
        "B=tweet_data3\n",
        "tweet_data4=pd.concat([A,B])"
      ],
      "execution_count": null,
      "outputs": []
    },
    {
      "cell_type": "code",
      "metadata": {
        "id": "x2_Sai9DyGpE"
      },
      "source": [
        "tweet_data4"
      ],
      "execution_count": null,
      "outputs": []
    }
  ]
}