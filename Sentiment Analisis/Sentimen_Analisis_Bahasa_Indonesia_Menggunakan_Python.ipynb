{
  "nbformat": 4,
  "nbformat_minor": 0,
  "metadata": {
    "kernelspec": {
      "display_name": "Python 3",
      "language": "python",
      "name": "python3"
    },
    "language_info": {
      "codemirror_mode": {
        "name": "ipython",
        "version": 3
      },
      "file_extension": ".py",
      "mimetype": "text/x-python",
      "name": "python",
      "nbconvert_exporter": "python",
      "pygments_lexer": "ipython3",
      "version": "3.7.4"
    },
    "colab": {
      "name": "Sentimen Analisis Bahasa Indonesia Menggunakan Python.ipynb",
      "provenance": [],
      "collapsed_sections": [
        "SOF6SEQSOwit",
        "ReTyxtXrQh3t",
        "-frCkgBoQnOr",
        "n4FBxSNNXu-3",
        "YfbAj0Vgsaik",
        "hPae_JUZvz_u",
        "Udm5kHF6XMTJ",
        "CjrOUzjFJ10B"
      ]
    }
  },
  "cells": [
    {
      "cell_type": "markdown",
      "metadata": {
        "id": "w6kc1X5FOmM6"
      },
      "source": [
        "# **Sentimen Analisis Bahasa Indonesia Menggunakan Python**"
      ]
    },
    {
      "cell_type": "markdown",
      "metadata": {
        "id": "SOF6SEQSOwit"
      },
      "source": [
        "## Data Cleansing & Preparation"
      ]
    },
    {
      "cell_type": "markdown",
      "metadata": {
        "id": "ReTyxtXrQh3t"
      },
      "source": [
        "### Mengakses Dataset"
      ]
    },
    {
      "cell_type": "code",
      "metadata": {
        "id": "vR4SGoGcUReW",
        "outputId": "dda84457-3d7c-4573-96db-240038c9bedf",
        "colab": {
          "base_uri": "https://localhost:8080/",
          "height": 34
        }
      },
      "source": [
        "from google.colab import drive\n",
        "#Membuka akses ke google drive\n",
        "drive.mount('/content/gdrive')"
      ],
      "execution_count": null,
      "outputs": [
        {
          "output_type": "stream",
          "text": [
            "Drive already mounted at /content/gdrive; to attempt to forcibly remount, call drive.mount(\"/content/gdrive\", force_remount=True).\n"
          ],
          "name": "stdout"
        }
      ]
    },
    {
      "cell_type": "code",
      "metadata": {
        "id": "98ltDYXqW-A2"
      },
      "source": [
        "import pandas as pd\n",
        "import numpy as np\n",
        "import re"
      ],
      "execution_count": null,
      "outputs": []
    },
    {
      "cell_type": "code",
      "metadata": {
        "id": "CXCnnThXXI3K",
        "outputId": "dcf96d78-de6c-4fe1-b6bf-6ed7bf06360e",
        "colab": {
          "base_uri": "https://localhost:8080/",
          "height": 306
        }
      },
      "source": [
        "df=pd.read_csv(\"/content/gdrive/My Drive/Sentimen Analisis/Bagyo-Supardjo_25_Sept.csv\")\n",
        "df.head()"
      ],
      "execution_count": null,
      "outputs": [
        {
          "output_type": "execute_result",
          "data": {
            "text/html": [
              "<div>\n",
              "<style scoped>\n",
              "    .dataframe tbody tr th:only-of-type {\n",
              "        vertical-align: middle;\n",
              "    }\n",
              "\n",
              "    .dataframe tbody tr th {\n",
              "        vertical-align: top;\n",
              "    }\n",
              "\n",
              "    .dataframe thead th {\n",
              "        text-align: right;\n",
              "    }\n",
              "</style>\n",
              "<table border=\"1\" class=\"dataframe\">\n",
              "  <thead>\n",
              "    <tr style=\"text-align: right;\">\n",
              "      <th></th>\n",
              "      <th>Unnamed: 0</th>\n",
              "      <th>screen_name</th>\n",
              "      <th>lang</th>\n",
              "      <th>created_at</th>\n",
              "      <th>fav_count</th>\n",
              "      <th>retweet_count</th>\n",
              "      <th>text</th>\n",
              "      <th>location</th>\n",
              "    </tr>\n",
              "  </thead>\n",
              "  <tbody>\n",
              "    <tr>\n",
              "      <th>0</th>\n",
              "      <td>0</td>\n",
              "      <td>jawapos</td>\n",
              "      <td>in</td>\n",
              "      <td>2020-09-25 03:01:40</td>\n",
              "      <td>1</td>\n",
              "      <td>0</td>\n",
              "      <td>Gibran-Teguh 1, Bagyo-Supardjo 2, Sama-sama Ya...</td>\n",
              "      <td>Gedung Graha Pena Lt.10, Jl. Raya Kebayoran La...</td>\n",
              "    </tr>\n",
              "    <tr>\n",
              "      <th>1</th>\n",
              "      <td>1</td>\n",
              "      <td>JoniArizal1</td>\n",
              "      <td>in</td>\n",
              "      <td>2020-09-24 20:59:33</td>\n",
              "      <td>0</td>\n",
              "      <td>3</td>\n",
              "      <td>RT @detikcom: Dua pasangan calon (paslon) Pilk...</td>\n",
              "      <td>NaN</td>\n",
              "    </tr>\n",
              "    <tr>\n",
              "      <th>2</th>\n",
              "      <td>2</td>\n",
              "      <td>detikcom</td>\n",
              "      <td>in</td>\n",
              "      <td>2020-09-24 19:50:51</td>\n",
              "      <td>7</td>\n",
              "      <td>3</td>\n",
              "      <td>Dua pasangan calon (paslon) Pilkada Solo mengi...</td>\n",
              "      <td>Jakarta, Indonesia</td>\n",
              "    </tr>\n",
              "    <tr>\n",
              "      <th>3</th>\n",
              "      <td>3</td>\n",
              "      <td>StalistS</td>\n",
              "      <td>in</td>\n",
              "      <td>2020-09-24 19:48:19</td>\n",
              "      <td>0</td>\n",
              "      <td>18</td>\n",
              "      <td>RT @FatimahSw33ty: 😇🤲Selamat pagi Assalamu'ala...</td>\n",
              "      <td>NaN</td>\n",
              "    </tr>\n",
              "    <tr>\n",
              "      <th>4</th>\n",
              "      <td>4</td>\n",
              "      <td>jawapos</td>\n",
              "      <td>in</td>\n",
              "      <td>2020-09-24 14:20:58</td>\n",
              "      <td>3</td>\n",
              "      <td>0</td>\n",
              "      <td>Gibran-Teguh 1, Bagyo-Supardjo 2, Sama-Sama Pe...</td>\n",
              "      <td>Gedung Graha Pena Lt.10, Jl. Raya Kebayoran La...</td>\n",
              "    </tr>\n",
              "  </tbody>\n",
              "</table>\n",
              "</div>"
            ],
            "text/plain": [
              "   Unnamed: 0  ...                                           location\n",
              "0           0  ...  Gedung Graha Pena Lt.10, Jl. Raya Kebayoran La...\n",
              "1           1  ...                                                NaN\n",
              "2           2  ...                                 Jakarta, Indonesia\n",
              "3           3  ...                                                NaN\n",
              "4           4  ...  Gedung Graha Pena Lt.10, Jl. Raya Kebayoran La...\n",
              "\n",
              "[5 rows x 8 columns]"
            ]
          },
          "metadata": {
            "tags": []
          },
          "execution_count": 3
        }
      ]
    },
    {
      "cell_type": "code",
      "metadata": {
        "id": "tM_ulomDXOJT",
        "outputId": "d2b09719-9a8a-4974-dd68-37aeb8236cf6",
        "colab": {
          "base_uri": "https://localhost:8080/",
          "height": 221
        }
      },
      "source": [
        "tweet_data0=df.text\n",
        "tweet_data0"
      ],
      "execution_count": null,
      "outputs": [
        {
          "output_type": "execute_result",
          "data": {
            "text/plain": [
              "0     Gibran-Teguh 1, Bagyo-Supardjo 2, Sama-sama Ya...\n",
              "1     RT @detikcom: Dua pasangan calon (paslon) Pilk...\n",
              "2     Dua pasangan calon (paslon) Pilkada Solo mengi...\n",
              "3     RT @FatimahSw33ty: 😇🤲Selamat pagi Assalamu'ala...\n",
              "4     Gibran-Teguh 1, Bagyo-Supardjo 2, Sama-Sama Pe...\n",
              "                            ...                        \n",
              "76    RT @kumparan: Apa saja kisah 5 warga Solo yang...\n",
              "77    Pasangan Bagyo Wahyono dan FX Supardjo (Bajo) ...\n",
              "78    Apa saja kisah 5 warga Solo yang rela menyerah...\n",
              "79    Begini Cara KPU Verifikasi 38.831 KTP Warga So...\n",
              "80    RT @VriGim: Meski Rival dlm Pencalonan... Namu...\n",
              "Name: text, Length: 81, dtype: object"
            ]
          },
          "metadata": {
            "tags": []
          },
          "execution_count": 4
        }
      ]
    },
    {
      "cell_type": "code",
      "metadata": {
        "id": "oRALNS4to_4M",
        "outputId": "5990361c-9401-482d-f944-68e5f07cc8ca",
        "colab": {
          "base_uri": "https://localhost:8080/",
          "height": 88
        }
      },
      "source": [
        "#Menghapus teks yang sama\n",
        "tweet_data = list(dict.fromkeys(tweet_data0))\n",
        "print(tweet_data)\n",
        "print(len(tweet_data0))\n",
        "print(len(tweet_data))"
      ],
      "execution_count": null,
      "outputs": [
        {
          "output_type": "stream",
          "text": [
            "['Gibran-Teguh 1, Bagyo-Supardjo 2, Sama-sama Yakin Menang Pilkada Solo https://t.co/FMg0IUXr8g', 'RT @detikcom: Dua pasangan calon (paslon) Pilkada Solo mengikuti tahapan pengundian nomor urut. Gibran Rakabuming Raka-Teguh Prakosa mendap…', 'Dua pasangan calon (paslon) Pilkada Solo mengikuti tahapan pengundian nomor urut. Gibran Rakabuming Raka-Teguh Prak… https://t.co/OMWTVs8Ohc', \"RT @FatimahSw33ty: 😇\\U0001f932Selamat pagi Assalamu'alaikum wr wb Semoga kita selalu patuhi Protokol kesehatan agar terhindar dari Covid19. Tagar ha…\", 'Gibran-Teguh 1, Bagyo-Supardjo 2, Sama-Sama Pede Menang Pilkada Solo https://t.co/CVShWTfNmc', 'RT @myCaffe0: Gw kira tuh gk ad lawanny ternyta ad juga tp lewat jalur independen toh..\\nSeru juga nih lau kayak gini..jd lbh asyik dan hidu…', 'Gw kira tuh gk ad lawanny ternyta ad juga tp lewat jalur independen toh..\\nSeru juga nih lau kayak gini..jd lbh asyi… https://t.co/px9GHlBQYo', '@_AwasiPilkada \\nDua pasangan calon walikota di The Sunan Hotel Solo.\\nPasangan\\xa0Gibran-Teguh mendapat nomor urut 01.… https://t.co/Us2GdVZv9s', 'Paslon Bagyo Wahyono-FX Supardjo (Bajo) mengincar nomor urut 1 dalam Pilkada Solo. Meski pada kenyataannya mendapat… https://t.co/QGC2x2K30p', 'Nomor Urut di Pilwalkot Solo: Gibran-Teguh 1, Bagyo-Supardjo 2 #GibranRakabuming #Disinfektan #KomisiPemilihanUmum… https://t.co/rLSBA9YlfU', 'Nomer Urut Calon Walikota &amp; Wakil Walikota Surakarta\\n\\n1. Gibran Rakabuming Raka - Teguh Prakosa ( PDI Perjuangan )… https://t.co/lf1egCAHMc', 'RT @KompasTV: KPU Kota Solo, Jawa Tengah, menetapkan dua pasangan calon Wali Kota Pilkada 2020. Dua pasangan itu yakni Putra Jokowi, Gibran…', 'KPU Kota Solo, Jawa Tengah, menetapkan dua pasangan calon Wali Kota Pilkada 2020. Dua pasangan itu yakni Putra Joko… https://t.co/sUM0dQ6xKy', 'Pasangan calon Pilkada Kota Solo 2020, Gibran Rakabuming Raka-Teguh Prakosa mendapat nomor urut 1, sementara lawann… https://t.co/VZ24dYdyBr', '\"Pengundian nomor urut paslon telah kita lakukan, paslon Gibran-Teguh mendapatkan nomor satu dan Bajo nomor urut du… https://t.co/9XotHM4wjn', 'RT @KompasTV: KPU Tetapkan 2 Paslon Pilwakot Solo, Gibran-Teguh dan Bagyo-Supardjo https://t.co/bu7Hn0gEZX', 'Pasangan Gibran Rakabuming Raka-Teguh Prakosa (Gibran-Teguh) dan Bagyo Wahyono-FX Supardjo (Bajo) menghadiri pengun… https://t.co/52Cd2Ynbup', 'KPU Tetapkan 2 Paslon Pilwakot Solo, Gibran-Teguh dan Bagyo-Supardjo https://t.co/bu7Hn0gEZX', 'Sah Jadi Paslon, Gibran-Teguh &amp; Bagyo-Supardjo Tak Soalkan Nomor\\xa0Urut https://t.co/Dal12YHApy', \"😇\\U0001f932Selamat pagi Assalamu'alaikum wr wb Semoga kita selalu patuhi Protokol kesehatan agar terhindar dari Covid19. Tag… https://t.co/wf9dtRuflF\", 'Pasangan Gibran-Teguh dan Bagyo-Supardjo secara resmi akan bertarung memperebutkan kursi Wali Kota Solo. Kedua pasa… https://t.co/jruNxEwlUi', 'Bagyo Wahyono dan F.X. Supardjo dipastikan menjadi lawan Gibran-Teguh dalam Pilwalkot Solo 2020. Bagyo-Supardjo maj… https://t.co/QGqKGnE46z', 'RT @detikcom: KPU Solo secara resmi menetapkan Gibran Rakabuming Raka-Teguh Prakosa dan Bagyo Wahyono-FX Supardjo (Bajo) sebagai pasangan c…', 'KPU Solo secara resmi menetapkan Gibran Rakabuming Raka-Teguh Prakosa dan Bagyo Wahyono-FX Supardjo (Bajo) sebagai… https://t.co/7UKKblRscP', 'KPU Tetapkan Gibran-Teguh dan Bagyo-Supardjo Paslon di Pilwalkot Solo 2020 #GibranRakabuming #KomisiPemilihanUmum… https://t.co/fPOvZrBRVA', 'Sah Jadi Paslon, Gibran-Teguh &amp; Bagyo-Supardjo Tak Soalkan Nomor Urut https://t.co/qPEtnj0ZQn', 'Rapat Pleno tertutup KPU Surakarta menetapkan pasangan\\xa0Gibran-Teguh dan Bagyo-Supardjo maju dalam Pilkada\\xa0 Wali Kot… https://t.co/GAcUyhTATN', 'Dua paslon yakni Gibran Rakabuming Raka-Teguh Prakosa dan Bagyo Wahyono-FX Supardjo (Bajo) akan bertarung dalam Pil… https://t.co/Ybj8o8pX8s', 'KPU Tetapkan Gibran-Teguh dan Bagyo-Supardjo Sebagai Paslon Di Pilwalkot Solo\\xa02020 https://t.co/nazT7TH5xR', 'Pengumuman Penetapan Calon Pilkada Solo Online, Gibran – Teguh &amp; Bagyo – Supardjo Tak Datang ke KPU https://t.co/tClDtJQ2uM', '\"Asyik pilkadanya jadi ya...\" teriak rakyat yang lagi pusing ganti masker  scuba nya, dan di-aminin sama tenaga kes… https://t.co/eLNJ4H9zEv', 'RT @kumparan: KPU menyatakan paslon Gibran-Teguh dan paslon Bagyo-Supardjo sebagai Calon Wali Kota Solo. #publisherstory https://t.co/iWBLw…', 'KPU Tetapkan Gibran-Teguh dan Bagyo-Supardjo Paslon di Pilwalkot Solo 2020 https://t.co/LWViK7RR0O', 'KPU menyatakan paslon Gibran-Teguh dan paslon Bagyo-Supardjo sebagai Calon Wali Kota Solo. #publisherstory https://t.co/iWBLwfFFpA', '\"Ada dua pasangan yang kami tetapkan, yakni Gibran-Teguh dan Bagyo-Supardjo,\" ujar Ketua KPU Solo, Nurul Sutarti. https://t.co/pL5hiaWAK7', 'RT @kumparan: FX Supardjo, pasangan Bagyo Wahyono di Pilkada Solo menanggapi terkait ditundanya pelaksanaan Pilkada 2020, salah satunya ber…', 'FX Supardjo, pasangan Bagyo Wahyono di Pilkada Solo menanggapi terkait ditundanya pelaksanaan Pilkada 2020, salah s… https://t.co/YYnPD4l6AC', 'The local election commission (KPUD) of Surakarta announced that the independent candidate Bagyo Wahyono and his ru… https://t.co/R7XDvTTKx7', 'RT @CNNIndonesia: Melenggang ke Pilkada Solo 2020 dari jalur independen, pasangan Bagyo Wahyono-FX Supardjo cukup mengejutkan publik karena…', 'Melenggang ke Pilkada Solo 2020 dari jalur independen, pasangan Bagyo Wahyono-FX Supardjo cukup mengejutkan publik… https://t.co/xDQmmUEo0b', 'RT @detikcom: Pasangan Bagyo Wahyono dan FX Supardjo (Bajo) bakal meramaikan Pilkada Kota Solo 2020. Pasangan yang muncul lewat jalur indep…', 'Melenggang ke Pilkada Solo 2020 dari jalur independen, pasangan Bagyo Wahyono-FX Supardjo cukup mengejutkan publik… https://t.co/TTZ00Kza1T', 'Pasangan Bagyo Wahyono dan FX Supardjo (Bajo) bakal meramaikan Pilkada Kota Solo 2020. Pasangan yang muncul lewat j… https://t.co/8OB59hPrbV', 'Melenggang ke Pilkada Solo 2020 dari jalur independen, pasangan Bagyo Wahyono-FX Supardjo cukup mengejutkan publik… https://t.co/aHV9RaxPzd', 'Contohnya Gibran Rakabuming dan Teguh Prakosa dan Bagyo Wahyono-FX Supardjo sama-sama pasangan baru yang belum puny… https://t.co/MfbBa3nuxr', 'Contohnya Gibran Rakabuming dan Teguh Prakosa dan Bagyo Wahyono-FX Supardjo sama-sama pasangan baru yang belum puny… https://t.co/ufZFLzgqQs', 'RT @jawapos: Gibran-Teguh &amp; Bagyo-Supardjo Sama-Sama Mengaku Tak Punya Uang https://t.co/F1PWQ15OB1', 'RT @CNNIndonesia: Pasangan Bagyo Wahyono dan FX Supardjo (Bajo) bakal meramaikan Pilkada Kota Solo 2020. Pasangan yang muncul lewat jalur i…', 'Pasangan Bagyo Wahyono dan FX Supardjo (Bajo) bakal meramaikan Pilkada Kota Solo 2020. Pasangan yang muncul lewat j… https://t.co/GuX1AjxOlr', 'Gibran-Teguh &amp; Bagyo-Supardjo Sama-Sama Mengaku Tak Punya Uang https://t.co/F1PWQ15OB1', 'RT @kumparan: Apa saja kisah 5 warga Solo yang rela menyerahkan KTP dan mendukung calon independen Bagyo-Supardjo? #kumparanNews https://t.…', 'Pasangan Bagyo Wahyono dan FX Supardjo (Bajo) bakal meramaikan Pilkada Kota Solo 2020. Pasangan yang muncul lewat j… https://t.co/YadW8eGTo3', 'Apa saja kisah 5 warga Solo yang rela menyerahkan KTP dan mendukung calon independen Bagyo-Supardjo? #kumparanNews https://t.co/19nJGxwJeM', 'Begini Cara KPU Verifikasi 38.831 KTP Warga Solo yang Dukung Bagyo-Supardjo https://t.co/1lBMHMbXYV https://t.co/kAfLpKwzEh', 'RT @VriGim: Meski Rival dlm Pencalonan... Namun Mereka :\\n-Gibran Rakabuming Raka - Teguh Prakosa\\n-Teguh Prakosa - Bagyo Wahyono-FX Supardjo…']\n",
            "81\n",
            "55\n"
          ],
          "name": "stdout"
        }
      ]
    },
    {
      "cell_type": "markdown",
      "metadata": {
        "id": "-frCkgBoQnOr"
      },
      "source": [
        "### Case Folding"
      ]
    },
    {
      "cell_type": "markdown",
      "metadata": {
        "id": "Do99xmbcekVb"
      },
      "source": [
        "\n",
        "\n",
        "Case folding adalah salah satu bentuk text preprocessing yang paling sederhana dan efektif meskipun sering diabaikan. Tujuan dari case folding untuk mengubah semua huruf dalam dokumen menjadi huruf kecil. Hanya huruf ‘a’ sampai ‘z’ yang diterima. Karakter selain huruf dihilangkan dan dianggap delimiter. \n",
        "\n",
        "Ada beberapa cara yang dapat digunakan dalam tahap case folding, diantaranya:\n",
        "* Mengubah text menjadi lowercase\n",
        "* Menghapus alamat web\n",
        "* Menghapus emotikon\n",
        "* Menghapus angka\n",
        "* Menghapus akun name\n",
        "* Menghapus rt tag\n",
        "* Menghapus tanda baca\n",
        "* Menghapus whitepace (karakter kosong)\n"
      ]
    },
    {
      "cell_type": "code",
      "metadata": {
        "id": "IrWHNaeNejxQ",
        "outputId": "6e9b88d2-b06f-4c11-e847-c3425f76d2d3",
        "colab": {
          "base_uri": "https://localhost:8080/",
          "height": 54
        }
      },
      "source": [
        "#Mengubah text menjadi lowercase\n",
        "tweet_data_1=[]\n",
        "for teks in tweet_data:\n",
        "  teks_process = [teks.lower()]\n",
        "  tweet_data_1=tweet_data_1+teks_process\n",
        "print(tweet_data_1)\n",
        "#tweet_data_1"
      ],
      "execution_count": null,
      "outputs": [
        {
          "output_type": "stream",
          "text": [
            "['gibran-teguh 1, bagyo-supardjo 2, sama-sama yakin menang pilkada solo https://t.co/fmg0iuxr8g', 'rt @detikcom: dua pasangan calon (paslon) pilkada solo mengikuti tahapan pengundian nomor urut. gibran rakabuming raka-teguh prakosa mendap…', 'dua pasangan calon (paslon) pilkada solo mengikuti tahapan pengundian nomor urut. gibran rakabuming raka-teguh prak… https://t.co/omwtvs8ohc', \"rt @fatimahsw33ty: 😇\\U0001f932selamat pagi assalamu'alaikum wr wb semoga kita selalu patuhi protokol kesehatan agar terhindar dari covid19. tagar ha…\", 'gibran-teguh 1, bagyo-supardjo 2, sama-sama pede menang pilkada solo https://t.co/cvshwtfnmc', 'rt @mycaffe0: gw kira tuh gk ad lawanny ternyta ad juga tp lewat jalur independen toh..\\nseru juga nih lau kayak gini..jd lbh asyik dan hidu…', 'gw kira tuh gk ad lawanny ternyta ad juga tp lewat jalur independen toh..\\nseru juga nih lau kayak gini..jd lbh asyi… https://t.co/px9ghlbqyo', '@_awasipilkada \\ndua pasangan calon walikota di the sunan hotel solo.\\npasangan\\xa0gibran-teguh mendapat nomor urut 01.… https://t.co/us2gdvzv9s', 'paslon bagyo wahyono-fx supardjo (bajo) mengincar nomor urut 1 dalam pilkada solo. meski pada kenyataannya mendapat… https://t.co/qgc2x2k30p', 'nomor urut di pilwalkot solo: gibran-teguh 1, bagyo-supardjo 2 #gibranrakabuming #disinfektan #komisipemilihanumum… https://t.co/rlsba9ylfu', 'nomer urut calon walikota &amp; wakil walikota surakarta\\n\\n1. gibran rakabuming raka - teguh prakosa ( pdi perjuangan )… https://t.co/lf1egcahmc', 'rt @kompastv: kpu kota solo, jawa tengah, menetapkan dua pasangan calon wali kota pilkada 2020. dua pasangan itu yakni putra jokowi, gibran…', 'kpu kota solo, jawa tengah, menetapkan dua pasangan calon wali kota pilkada 2020. dua pasangan itu yakni putra joko… https://t.co/sum0dq6xky', 'pasangan calon pilkada kota solo 2020, gibran rakabuming raka-teguh prakosa mendapat nomor urut 1, sementara lawann… https://t.co/vz24dydybr', '\"pengundian nomor urut paslon telah kita lakukan, paslon gibran-teguh mendapatkan nomor satu dan bajo nomor urut du… https://t.co/9xothm4wjn', 'rt @kompastv: kpu tetapkan 2 paslon pilwakot solo, gibran-teguh dan bagyo-supardjo https://t.co/bu7hn0gezx', 'pasangan gibran rakabuming raka-teguh prakosa (gibran-teguh) dan bagyo wahyono-fx supardjo (bajo) menghadiri pengun… https://t.co/52cd2ynbup', 'kpu tetapkan 2 paslon pilwakot solo, gibran-teguh dan bagyo-supardjo https://t.co/bu7hn0gezx', 'sah jadi paslon, gibran-teguh &amp; bagyo-supardjo tak soalkan nomor\\xa0urut https://t.co/dal12yhapy', \"😇\\U0001f932selamat pagi assalamu'alaikum wr wb semoga kita selalu patuhi protokol kesehatan agar terhindar dari covid19. tag… https://t.co/wf9dtruflf\", 'pasangan gibran-teguh dan bagyo-supardjo secara resmi akan bertarung memperebutkan kursi wali kota solo. kedua pasa… https://t.co/jrunxewlui', 'bagyo wahyono dan f.x. supardjo dipastikan menjadi lawan gibran-teguh dalam pilwalkot solo 2020. bagyo-supardjo maj… https://t.co/qgqkgne46z', 'rt @detikcom: kpu solo secara resmi menetapkan gibran rakabuming raka-teguh prakosa dan bagyo wahyono-fx supardjo (bajo) sebagai pasangan c…', 'kpu solo secara resmi menetapkan gibran rakabuming raka-teguh prakosa dan bagyo wahyono-fx supardjo (bajo) sebagai… https://t.co/7ukkblrscp', 'kpu tetapkan gibran-teguh dan bagyo-supardjo paslon di pilwalkot solo 2020 #gibranrakabuming #komisipemilihanumum… https://t.co/fpovzrbrva', 'sah jadi paslon, gibran-teguh &amp; bagyo-supardjo tak soalkan nomor urut https://t.co/qpetnj0zqn', 'rapat pleno tertutup kpu surakarta menetapkan pasangan\\xa0gibran-teguh dan bagyo-supardjo maju dalam pilkada\\xa0 wali kot… https://t.co/gacuyhtatn', 'dua paslon yakni gibran rakabuming raka-teguh prakosa dan bagyo wahyono-fx supardjo (bajo) akan bertarung dalam pil… https://t.co/ybj8o8px8s', 'kpu tetapkan gibran-teguh dan bagyo-supardjo sebagai paslon di pilwalkot solo\\xa02020 https://t.co/nazt7th5xr', 'pengumuman penetapan calon pilkada solo online, gibran – teguh &amp; bagyo – supardjo tak datang ke kpu https://t.co/tcldtjq2um', '\"asyik pilkadanya jadi ya...\" teriak rakyat yang lagi pusing ganti masker  scuba nya, dan di-aminin sama tenaga kes… https://t.co/elnj4h9zev', 'rt @kumparan: kpu menyatakan paslon gibran-teguh dan paslon bagyo-supardjo sebagai calon wali kota solo. #publisherstory https://t.co/iwblw…', 'kpu tetapkan gibran-teguh dan bagyo-supardjo paslon di pilwalkot solo 2020 https://t.co/lwvik7rr0o', 'kpu menyatakan paslon gibran-teguh dan paslon bagyo-supardjo sebagai calon wali kota solo. #publisherstory https://t.co/iwblwfffpa', '\"ada dua pasangan yang kami tetapkan, yakni gibran-teguh dan bagyo-supardjo,\" ujar ketua kpu solo, nurul sutarti. https://t.co/pl5hiawak7', 'rt @kumparan: fx supardjo, pasangan bagyo wahyono di pilkada solo menanggapi terkait ditundanya pelaksanaan pilkada 2020, salah satunya ber…', 'fx supardjo, pasangan bagyo wahyono di pilkada solo menanggapi terkait ditundanya pelaksanaan pilkada 2020, salah s… https://t.co/yynpd4l6ac', 'the local election commission (kpud) of surakarta announced that the independent candidate bagyo wahyono and his ru… https://t.co/r7xdvttkx7', 'rt @cnnindonesia: melenggang ke pilkada solo 2020 dari jalur independen, pasangan bagyo wahyono-fx supardjo cukup mengejutkan publik karena…', 'melenggang ke pilkada solo 2020 dari jalur independen, pasangan bagyo wahyono-fx supardjo cukup mengejutkan publik… https://t.co/xdqmmueo0b', 'rt @detikcom: pasangan bagyo wahyono dan fx supardjo (bajo) bakal meramaikan pilkada kota solo 2020. pasangan yang muncul lewat jalur indep…', 'melenggang ke pilkada solo 2020 dari jalur independen, pasangan bagyo wahyono-fx supardjo cukup mengejutkan publik… https://t.co/ttz00kza1t', 'pasangan bagyo wahyono dan fx supardjo (bajo) bakal meramaikan pilkada kota solo 2020. pasangan yang muncul lewat j… https://t.co/8ob59hprbv', 'melenggang ke pilkada solo 2020 dari jalur independen, pasangan bagyo wahyono-fx supardjo cukup mengejutkan publik… https://t.co/ahv9raxpzd', 'contohnya gibran rakabuming dan teguh prakosa dan bagyo wahyono-fx supardjo sama-sama pasangan baru yang belum puny… https://t.co/mfbba3nuxr', 'contohnya gibran rakabuming dan teguh prakosa dan bagyo wahyono-fx supardjo sama-sama pasangan baru yang belum puny… https://t.co/ufzflzgqqs', 'rt @jawapos: gibran-teguh &amp; bagyo-supardjo sama-sama mengaku tak punya uang https://t.co/f1pwq15ob1', 'rt @cnnindonesia: pasangan bagyo wahyono dan fx supardjo (bajo) bakal meramaikan pilkada kota solo 2020. pasangan yang muncul lewat jalur i…', 'pasangan bagyo wahyono dan fx supardjo (bajo) bakal meramaikan pilkada kota solo 2020. pasangan yang muncul lewat j… https://t.co/gux1ajxolr', 'gibran-teguh &amp; bagyo-supardjo sama-sama mengaku tak punya uang https://t.co/f1pwq15ob1', 'rt @kumparan: apa saja kisah 5 warga solo yang rela menyerahkan ktp dan mendukung calon independen bagyo-supardjo? #kumparannews https://t.…', 'pasangan bagyo wahyono dan fx supardjo (bajo) bakal meramaikan pilkada kota solo 2020. pasangan yang muncul lewat j… https://t.co/yadw8egto3', 'apa saja kisah 5 warga solo yang rela menyerahkan ktp dan mendukung calon independen bagyo-supardjo? #kumparannews https://t.co/19njgxwjem', 'begini cara kpu verifikasi 38.831 ktp warga solo yang dukung bagyo-supardjo https://t.co/1lbmhmbxyv https://t.co/kaflpkwzeh', 'rt @vrigim: meski rival dlm pencalonan... namun mereka :\\n-gibran rakabuming raka - teguh prakosa\\n-teguh prakosa - bagyo wahyono-fx supardjo…']\n"
          ],
          "name": "stdout"
        }
      ]
    },
    {
      "cell_type": "code",
      "metadata": {
        "id": "sbIsBkEAh718",
        "outputId": "d5d398da-7d7d-4b80-8426-0c5bfdfa7199",
        "colab": {
          "base_uri": "https://localhost:8080/",
          "height": 54
        }
      },
      "source": [
        "#Menghapus alamat web\n",
        "tweet_data_2=[]\n",
        "for teks in tweet_data_1:\n",
        "  teks_process = [re.sub(r\"http\\S+\", \"\", teks)]\n",
        "  tweet_data_2=tweet_data_2+teks_process\n",
        "print(tweet_data_2)\n",
        "#tweet_data_2"
      ],
      "execution_count": null,
      "outputs": [
        {
          "output_type": "stream",
          "text": [
            "['gibran-teguh 1, bagyo-supardjo 2, sama-sama yakin menang pilkada solo ', 'rt @detikcom: dua pasangan calon (paslon) pilkada solo mengikuti tahapan pengundian nomor urut. gibran rakabuming raka-teguh prakosa mendap…', 'dua pasangan calon (paslon) pilkada solo mengikuti tahapan pengundian nomor urut. gibran rakabuming raka-teguh prak… ', \"rt @fatimahsw33ty: 😇\\U0001f932selamat pagi assalamu'alaikum wr wb semoga kita selalu patuhi protokol kesehatan agar terhindar dari covid19. tagar ha…\", 'gibran-teguh 1, bagyo-supardjo 2, sama-sama pede menang pilkada solo ', 'rt @mycaffe0: gw kira tuh gk ad lawanny ternyta ad juga tp lewat jalur independen toh..\\nseru juga nih lau kayak gini..jd lbh asyik dan hidu…', 'gw kira tuh gk ad lawanny ternyta ad juga tp lewat jalur independen toh..\\nseru juga nih lau kayak gini..jd lbh asyi… ', '@_awasipilkada \\ndua pasangan calon walikota di the sunan hotel solo.\\npasangan\\xa0gibran-teguh mendapat nomor urut 01.… ', 'paslon bagyo wahyono-fx supardjo (bajo) mengincar nomor urut 1 dalam pilkada solo. meski pada kenyataannya mendapat… ', 'nomor urut di pilwalkot solo: gibran-teguh 1, bagyo-supardjo 2 #gibranrakabuming #disinfektan #komisipemilihanumum… ', 'nomer urut calon walikota &amp; wakil walikota surakarta\\n\\n1. gibran rakabuming raka - teguh prakosa ( pdi perjuangan )… ', 'rt @kompastv: kpu kota solo, jawa tengah, menetapkan dua pasangan calon wali kota pilkada 2020. dua pasangan itu yakni putra jokowi, gibran…', 'kpu kota solo, jawa tengah, menetapkan dua pasangan calon wali kota pilkada 2020. dua pasangan itu yakni putra joko… ', 'pasangan calon pilkada kota solo 2020, gibran rakabuming raka-teguh prakosa mendapat nomor urut 1, sementara lawann… ', '\"pengundian nomor urut paslon telah kita lakukan, paslon gibran-teguh mendapatkan nomor satu dan bajo nomor urut du… ', 'rt @kompastv: kpu tetapkan 2 paslon pilwakot solo, gibran-teguh dan bagyo-supardjo ', 'pasangan gibran rakabuming raka-teguh prakosa (gibran-teguh) dan bagyo wahyono-fx supardjo (bajo) menghadiri pengun… ', 'kpu tetapkan 2 paslon pilwakot solo, gibran-teguh dan bagyo-supardjo ', 'sah jadi paslon, gibran-teguh &amp; bagyo-supardjo tak soalkan nomor\\xa0urut ', \"😇\\U0001f932selamat pagi assalamu'alaikum wr wb semoga kita selalu patuhi protokol kesehatan agar terhindar dari covid19. tag… \", 'pasangan gibran-teguh dan bagyo-supardjo secara resmi akan bertarung memperebutkan kursi wali kota solo. kedua pasa… ', 'bagyo wahyono dan f.x. supardjo dipastikan menjadi lawan gibran-teguh dalam pilwalkot solo 2020. bagyo-supardjo maj… ', 'rt @detikcom: kpu solo secara resmi menetapkan gibran rakabuming raka-teguh prakosa dan bagyo wahyono-fx supardjo (bajo) sebagai pasangan c…', 'kpu solo secara resmi menetapkan gibran rakabuming raka-teguh prakosa dan bagyo wahyono-fx supardjo (bajo) sebagai… ', 'kpu tetapkan gibran-teguh dan bagyo-supardjo paslon di pilwalkot solo 2020 #gibranrakabuming #komisipemilihanumum… ', 'sah jadi paslon, gibran-teguh &amp; bagyo-supardjo tak soalkan nomor urut ', 'rapat pleno tertutup kpu surakarta menetapkan pasangan\\xa0gibran-teguh dan bagyo-supardjo maju dalam pilkada\\xa0 wali kot… ', 'dua paslon yakni gibran rakabuming raka-teguh prakosa dan bagyo wahyono-fx supardjo (bajo) akan bertarung dalam pil… ', 'kpu tetapkan gibran-teguh dan bagyo-supardjo sebagai paslon di pilwalkot solo\\xa02020 ', 'pengumuman penetapan calon pilkada solo online, gibran – teguh &amp; bagyo – supardjo tak datang ke kpu ', '\"asyik pilkadanya jadi ya...\" teriak rakyat yang lagi pusing ganti masker  scuba nya, dan di-aminin sama tenaga kes… ', 'rt @kumparan: kpu menyatakan paslon gibran-teguh dan paslon bagyo-supardjo sebagai calon wali kota solo. #publisherstory ', 'kpu tetapkan gibran-teguh dan bagyo-supardjo paslon di pilwalkot solo 2020 ', 'kpu menyatakan paslon gibran-teguh dan paslon bagyo-supardjo sebagai calon wali kota solo. #publisherstory ', '\"ada dua pasangan yang kami tetapkan, yakni gibran-teguh dan bagyo-supardjo,\" ujar ketua kpu solo, nurul sutarti. ', 'rt @kumparan: fx supardjo, pasangan bagyo wahyono di pilkada solo menanggapi terkait ditundanya pelaksanaan pilkada 2020, salah satunya ber…', 'fx supardjo, pasangan bagyo wahyono di pilkada solo menanggapi terkait ditundanya pelaksanaan pilkada 2020, salah s… ', 'the local election commission (kpud) of surakarta announced that the independent candidate bagyo wahyono and his ru… ', 'rt @cnnindonesia: melenggang ke pilkada solo 2020 dari jalur independen, pasangan bagyo wahyono-fx supardjo cukup mengejutkan publik karena…', 'melenggang ke pilkada solo 2020 dari jalur independen, pasangan bagyo wahyono-fx supardjo cukup mengejutkan publik… ', 'rt @detikcom: pasangan bagyo wahyono dan fx supardjo (bajo) bakal meramaikan pilkada kota solo 2020. pasangan yang muncul lewat jalur indep…', 'melenggang ke pilkada solo 2020 dari jalur independen, pasangan bagyo wahyono-fx supardjo cukup mengejutkan publik… ', 'pasangan bagyo wahyono dan fx supardjo (bajo) bakal meramaikan pilkada kota solo 2020. pasangan yang muncul lewat j… ', 'melenggang ke pilkada solo 2020 dari jalur independen, pasangan bagyo wahyono-fx supardjo cukup mengejutkan publik… ', 'contohnya gibran rakabuming dan teguh prakosa dan bagyo wahyono-fx supardjo sama-sama pasangan baru yang belum puny… ', 'contohnya gibran rakabuming dan teguh prakosa dan bagyo wahyono-fx supardjo sama-sama pasangan baru yang belum puny… ', 'rt @jawapos: gibran-teguh &amp; bagyo-supardjo sama-sama mengaku tak punya uang ', 'rt @cnnindonesia: pasangan bagyo wahyono dan fx supardjo (bajo) bakal meramaikan pilkada kota solo 2020. pasangan yang muncul lewat jalur i…', 'pasangan bagyo wahyono dan fx supardjo (bajo) bakal meramaikan pilkada kota solo 2020. pasangan yang muncul lewat j… ', 'gibran-teguh &amp; bagyo-supardjo sama-sama mengaku tak punya uang ', 'rt @kumparan: apa saja kisah 5 warga solo yang rela menyerahkan ktp dan mendukung calon independen bagyo-supardjo? #kumparannews ', 'pasangan bagyo wahyono dan fx supardjo (bajo) bakal meramaikan pilkada kota solo 2020. pasangan yang muncul lewat j… ', 'apa saja kisah 5 warga solo yang rela menyerahkan ktp dan mendukung calon independen bagyo-supardjo? #kumparannews ', 'begini cara kpu verifikasi 38.831 ktp warga solo yang dukung bagyo-supardjo  ', 'rt @vrigim: meski rival dlm pencalonan... namun mereka :\\n-gibran rakabuming raka - teguh prakosa\\n-teguh prakosa - bagyo wahyono-fx supardjo…']\n"
          ],
          "name": "stdout"
        }
      ]
    },
    {
      "cell_type": "code",
      "metadata": {
        "id": "iEP6F18rjl_F",
        "outputId": "2ed3d32c-f2d0-4730-f479-1f8f91d92c2a",
        "colab": {
          "base_uri": "https://localhost:8080/",
          "height": 54
        }
      },
      "source": [
        "#Menghapus emoji\n",
        "tweet_data_3=[]\n",
        "for teks in tweet_data_2:\n",
        "  regrex_pattern = re.compile(pattern = \"[\"\n",
        "        u\"\\U0001F600-\\U0001F64F\"  # emoticons\n",
        "        u\"\\U0001F300-\\U0001F5FF\"  # symbols & pictographs\n",
        "        u\"\\U0001F680-\\U0001F6FF\"  # transport & map symbols\n",
        "        u\"\\U0001F1E0-\\U0001F1FF\"  # flags (iOS)\n",
        "                           \"]+\", flags = re.UNICODE)\n",
        "  teks_process = [regrex_pattern.sub(r'',teks)]\n",
        "  tweet_data_3=tweet_data_3+teks_process\n",
        "print(tweet_data_3)\n",
        "#tweet_data_3"
      ],
      "execution_count": null,
      "outputs": [
        {
          "output_type": "stream",
          "text": [
            "['gibran-teguh 1, bagyo-supardjo 2, sama-sama yakin menang pilkada solo ', 'rt @detikcom: dua pasangan calon (paslon) pilkada solo mengikuti tahapan pengundian nomor urut. gibran rakabuming raka-teguh prakosa mendap…', 'dua pasangan calon (paslon) pilkada solo mengikuti tahapan pengundian nomor urut. gibran rakabuming raka-teguh prak… ', \"rt @fatimahsw33ty: \\U0001f932selamat pagi assalamu'alaikum wr wb semoga kita selalu patuhi protokol kesehatan agar terhindar dari covid19. tagar ha…\", 'gibran-teguh 1, bagyo-supardjo 2, sama-sama pede menang pilkada solo ', 'rt @mycaffe0: gw kira tuh gk ad lawanny ternyta ad juga tp lewat jalur independen toh..\\nseru juga nih lau kayak gini..jd lbh asyik dan hidu…', 'gw kira tuh gk ad lawanny ternyta ad juga tp lewat jalur independen toh..\\nseru juga nih lau kayak gini..jd lbh asyi… ', '@_awasipilkada \\ndua pasangan calon walikota di the sunan hotel solo.\\npasangan\\xa0gibran-teguh mendapat nomor urut 01.… ', 'paslon bagyo wahyono-fx supardjo (bajo) mengincar nomor urut 1 dalam pilkada solo. meski pada kenyataannya mendapat… ', 'nomor urut di pilwalkot solo: gibran-teguh 1, bagyo-supardjo 2 #gibranrakabuming #disinfektan #komisipemilihanumum… ', 'nomer urut calon walikota &amp; wakil walikota surakarta\\n\\n1. gibran rakabuming raka - teguh prakosa ( pdi perjuangan )… ', 'rt @kompastv: kpu kota solo, jawa tengah, menetapkan dua pasangan calon wali kota pilkada 2020. dua pasangan itu yakni putra jokowi, gibran…', 'kpu kota solo, jawa tengah, menetapkan dua pasangan calon wali kota pilkada 2020. dua pasangan itu yakni putra joko… ', 'pasangan calon pilkada kota solo 2020, gibran rakabuming raka-teguh prakosa mendapat nomor urut 1, sementara lawann… ', '\"pengundian nomor urut paslon telah kita lakukan, paslon gibran-teguh mendapatkan nomor satu dan bajo nomor urut du… ', 'rt @kompastv: kpu tetapkan 2 paslon pilwakot solo, gibran-teguh dan bagyo-supardjo ', 'pasangan gibran rakabuming raka-teguh prakosa (gibran-teguh) dan bagyo wahyono-fx supardjo (bajo) menghadiri pengun… ', 'kpu tetapkan 2 paslon pilwakot solo, gibran-teguh dan bagyo-supardjo ', 'sah jadi paslon, gibran-teguh &amp; bagyo-supardjo tak soalkan nomor\\xa0urut ', \"\\U0001f932selamat pagi assalamu'alaikum wr wb semoga kita selalu patuhi protokol kesehatan agar terhindar dari covid19. tag… \", 'pasangan gibran-teguh dan bagyo-supardjo secara resmi akan bertarung memperebutkan kursi wali kota solo. kedua pasa… ', 'bagyo wahyono dan f.x. supardjo dipastikan menjadi lawan gibran-teguh dalam pilwalkot solo 2020. bagyo-supardjo maj… ', 'rt @detikcom: kpu solo secara resmi menetapkan gibran rakabuming raka-teguh prakosa dan bagyo wahyono-fx supardjo (bajo) sebagai pasangan c…', 'kpu solo secara resmi menetapkan gibran rakabuming raka-teguh prakosa dan bagyo wahyono-fx supardjo (bajo) sebagai… ', 'kpu tetapkan gibran-teguh dan bagyo-supardjo paslon di pilwalkot solo 2020 #gibranrakabuming #komisipemilihanumum… ', 'sah jadi paslon, gibran-teguh &amp; bagyo-supardjo tak soalkan nomor urut ', 'rapat pleno tertutup kpu surakarta menetapkan pasangan\\xa0gibran-teguh dan bagyo-supardjo maju dalam pilkada\\xa0 wali kot… ', 'dua paslon yakni gibran rakabuming raka-teguh prakosa dan bagyo wahyono-fx supardjo (bajo) akan bertarung dalam pil… ', 'kpu tetapkan gibran-teguh dan bagyo-supardjo sebagai paslon di pilwalkot solo\\xa02020 ', 'pengumuman penetapan calon pilkada solo online, gibran – teguh &amp; bagyo – supardjo tak datang ke kpu ', '\"asyik pilkadanya jadi ya...\" teriak rakyat yang lagi pusing ganti masker  scuba nya, dan di-aminin sama tenaga kes… ', 'rt @kumparan: kpu menyatakan paslon gibran-teguh dan paslon bagyo-supardjo sebagai calon wali kota solo. #publisherstory ', 'kpu tetapkan gibran-teguh dan bagyo-supardjo paslon di pilwalkot solo 2020 ', 'kpu menyatakan paslon gibran-teguh dan paslon bagyo-supardjo sebagai calon wali kota solo. #publisherstory ', '\"ada dua pasangan yang kami tetapkan, yakni gibran-teguh dan bagyo-supardjo,\" ujar ketua kpu solo, nurul sutarti. ', 'rt @kumparan: fx supardjo, pasangan bagyo wahyono di pilkada solo menanggapi terkait ditundanya pelaksanaan pilkada 2020, salah satunya ber…', 'fx supardjo, pasangan bagyo wahyono di pilkada solo menanggapi terkait ditundanya pelaksanaan pilkada 2020, salah s… ', 'the local election commission (kpud) of surakarta announced that the independent candidate bagyo wahyono and his ru… ', 'rt @cnnindonesia: melenggang ke pilkada solo 2020 dari jalur independen, pasangan bagyo wahyono-fx supardjo cukup mengejutkan publik karena…', 'melenggang ke pilkada solo 2020 dari jalur independen, pasangan bagyo wahyono-fx supardjo cukup mengejutkan publik… ', 'rt @detikcom: pasangan bagyo wahyono dan fx supardjo (bajo) bakal meramaikan pilkada kota solo 2020. pasangan yang muncul lewat jalur indep…', 'melenggang ke pilkada solo 2020 dari jalur independen, pasangan bagyo wahyono-fx supardjo cukup mengejutkan publik… ', 'pasangan bagyo wahyono dan fx supardjo (bajo) bakal meramaikan pilkada kota solo 2020. pasangan yang muncul lewat j… ', 'melenggang ke pilkada solo 2020 dari jalur independen, pasangan bagyo wahyono-fx supardjo cukup mengejutkan publik… ', 'contohnya gibran rakabuming dan teguh prakosa dan bagyo wahyono-fx supardjo sama-sama pasangan baru yang belum puny… ', 'contohnya gibran rakabuming dan teguh prakosa dan bagyo wahyono-fx supardjo sama-sama pasangan baru yang belum puny… ', 'rt @jawapos: gibran-teguh &amp; bagyo-supardjo sama-sama mengaku tak punya uang ', 'rt @cnnindonesia: pasangan bagyo wahyono dan fx supardjo (bajo) bakal meramaikan pilkada kota solo 2020. pasangan yang muncul lewat jalur i…', 'pasangan bagyo wahyono dan fx supardjo (bajo) bakal meramaikan pilkada kota solo 2020. pasangan yang muncul lewat j… ', 'gibran-teguh &amp; bagyo-supardjo sama-sama mengaku tak punya uang ', 'rt @kumparan: apa saja kisah 5 warga solo yang rela menyerahkan ktp dan mendukung calon independen bagyo-supardjo? #kumparannews ', 'pasangan bagyo wahyono dan fx supardjo (bajo) bakal meramaikan pilkada kota solo 2020. pasangan yang muncul lewat j… ', 'apa saja kisah 5 warga solo yang rela menyerahkan ktp dan mendukung calon independen bagyo-supardjo? #kumparannews ', 'begini cara kpu verifikasi 38.831 ktp warga solo yang dukung bagyo-supardjo  ', 'rt @vrigim: meski rival dlm pencalonan... namun mereka :\\n-gibran rakabuming raka - teguh prakosa\\n-teguh prakosa - bagyo wahyono-fx supardjo…']\n"
          ],
          "name": "stdout"
        }
      ]
    },
    {
      "cell_type": "code",
      "metadata": {
        "id": "vwoMsAQkflRO",
        "outputId": "d2ed96d7-131c-4b62-f048-a7173ed6612b",
        "colab": {
          "base_uri": "https://localhost:8080/",
          "height": 54
        }
      },
      "source": [
        "#Menghapus angka\n",
        "tweet_data_4=[]\n",
        "for teks in tweet_data_3:\n",
        "  teks_process = [re.sub(r\"\\d+\", \"\", teks)]\n",
        "  tweet_data_4=tweet_data_4+teks_process\n",
        "print(tweet_data_4)\n",
        "#tweet_data_4"
      ],
      "execution_count": null,
      "outputs": [
        {
          "output_type": "stream",
          "text": [
            "['gibran-teguh , bagyo-supardjo , sama-sama yakin menang pilkada solo ', 'rt @detikcom: dua pasangan calon (paslon) pilkada solo mengikuti tahapan pengundian nomor urut. gibran rakabuming raka-teguh prakosa mendap…', 'dua pasangan calon (paslon) pilkada solo mengikuti tahapan pengundian nomor urut. gibran rakabuming raka-teguh prak… ', \"rt @fatimahswty: \\U0001f932selamat pagi assalamu'alaikum wr wb semoga kita selalu patuhi protokol kesehatan agar terhindar dari covid. tagar ha…\", 'gibran-teguh , bagyo-supardjo , sama-sama pede menang pilkada solo ', 'rt @mycaffe: gw kira tuh gk ad lawanny ternyta ad juga tp lewat jalur independen toh..\\nseru juga nih lau kayak gini..jd lbh asyik dan hidu…', 'gw kira tuh gk ad lawanny ternyta ad juga tp lewat jalur independen toh..\\nseru juga nih lau kayak gini..jd lbh asyi… ', '@_awasipilkada \\ndua pasangan calon walikota di the sunan hotel solo.\\npasangan\\xa0gibran-teguh mendapat nomor urut .… ', 'paslon bagyo wahyono-fx supardjo (bajo) mengincar nomor urut  dalam pilkada solo. meski pada kenyataannya mendapat… ', 'nomor urut di pilwalkot solo: gibran-teguh , bagyo-supardjo  #gibranrakabuming #disinfektan #komisipemilihanumum… ', 'nomer urut calon walikota &amp; wakil walikota surakarta\\n\\n. gibran rakabuming raka - teguh prakosa ( pdi perjuangan )… ', 'rt @kompastv: kpu kota solo, jawa tengah, menetapkan dua pasangan calon wali kota pilkada . dua pasangan itu yakni putra jokowi, gibran…', 'kpu kota solo, jawa tengah, menetapkan dua pasangan calon wali kota pilkada . dua pasangan itu yakni putra joko… ', 'pasangan calon pilkada kota solo , gibran rakabuming raka-teguh prakosa mendapat nomor urut , sementara lawann… ', '\"pengundian nomor urut paslon telah kita lakukan, paslon gibran-teguh mendapatkan nomor satu dan bajo nomor urut du… ', 'rt @kompastv: kpu tetapkan  paslon pilwakot solo, gibran-teguh dan bagyo-supardjo ', 'pasangan gibran rakabuming raka-teguh prakosa (gibran-teguh) dan bagyo wahyono-fx supardjo (bajo) menghadiri pengun… ', 'kpu tetapkan  paslon pilwakot solo, gibran-teguh dan bagyo-supardjo ', 'sah jadi paslon, gibran-teguh &amp; bagyo-supardjo tak soalkan nomor\\xa0urut ', \"\\U0001f932selamat pagi assalamu'alaikum wr wb semoga kita selalu patuhi protokol kesehatan agar terhindar dari covid. tag… \", 'pasangan gibran-teguh dan bagyo-supardjo secara resmi akan bertarung memperebutkan kursi wali kota solo. kedua pasa… ', 'bagyo wahyono dan f.x. supardjo dipastikan menjadi lawan gibran-teguh dalam pilwalkot solo . bagyo-supardjo maj… ', 'rt @detikcom: kpu solo secara resmi menetapkan gibran rakabuming raka-teguh prakosa dan bagyo wahyono-fx supardjo (bajo) sebagai pasangan c…', 'kpu solo secara resmi menetapkan gibran rakabuming raka-teguh prakosa dan bagyo wahyono-fx supardjo (bajo) sebagai… ', 'kpu tetapkan gibran-teguh dan bagyo-supardjo paslon di pilwalkot solo  #gibranrakabuming #komisipemilihanumum… ', 'sah jadi paslon, gibran-teguh &amp; bagyo-supardjo tak soalkan nomor urut ', 'rapat pleno tertutup kpu surakarta menetapkan pasangan\\xa0gibran-teguh dan bagyo-supardjo maju dalam pilkada\\xa0 wali kot… ', 'dua paslon yakni gibran rakabuming raka-teguh prakosa dan bagyo wahyono-fx supardjo (bajo) akan bertarung dalam pil… ', 'kpu tetapkan gibran-teguh dan bagyo-supardjo sebagai paslon di pilwalkot solo\\xa0 ', 'pengumuman penetapan calon pilkada solo online, gibran – teguh &amp; bagyo – supardjo tak datang ke kpu ', '\"asyik pilkadanya jadi ya...\" teriak rakyat yang lagi pusing ganti masker  scuba nya, dan di-aminin sama tenaga kes… ', 'rt @kumparan: kpu menyatakan paslon gibran-teguh dan paslon bagyo-supardjo sebagai calon wali kota solo. #publisherstory ', 'kpu tetapkan gibran-teguh dan bagyo-supardjo paslon di pilwalkot solo  ', 'kpu menyatakan paslon gibran-teguh dan paslon bagyo-supardjo sebagai calon wali kota solo. #publisherstory ', '\"ada dua pasangan yang kami tetapkan, yakni gibran-teguh dan bagyo-supardjo,\" ujar ketua kpu solo, nurul sutarti. ', 'rt @kumparan: fx supardjo, pasangan bagyo wahyono di pilkada solo menanggapi terkait ditundanya pelaksanaan pilkada , salah satunya ber…', 'fx supardjo, pasangan bagyo wahyono di pilkada solo menanggapi terkait ditundanya pelaksanaan pilkada , salah s… ', 'the local election commission (kpud) of surakarta announced that the independent candidate bagyo wahyono and his ru… ', 'rt @cnnindonesia: melenggang ke pilkada solo  dari jalur independen, pasangan bagyo wahyono-fx supardjo cukup mengejutkan publik karena…', 'melenggang ke pilkada solo  dari jalur independen, pasangan bagyo wahyono-fx supardjo cukup mengejutkan publik… ', 'rt @detikcom: pasangan bagyo wahyono dan fx supardjo (bajo) bakal meramaikan pilkada kota solo . pasangan yang muncul lewat jalur indep…', 'melenggang ke pilkada solo  dari jalur independen, pasangan bagyo wahyono-fx supardjo cukup mengejutkan publik… ', 'pasangan bagyo wahyono dan fx supardjo (bajo) bakal meramaikan pilkada kota solo . pasangan yang muncul lewat j… ', 'melenggang ke pilkada solo  dari jalur independen, pasangan bagyo wahyono-fx supardjo cukup mengejutkan publik… ', 'contohnya gibran rakabuming dan teguh prakosa dan bagyo wahyono-fx supardjo sama-sama pasangan baru yang belum puny… ', 'contohnya gibran rakabuming dan teguh prakosa dan bagyo wahyono-fx supardjo sama-sama pasangan baru yang belum puny… ', 'rt @jawapos: gibran-teguh &amp; bagyo-supardjo sama-sama mengaku tak punya uang ', 'rt @cnnindonesia: pasangan bagyo wahyono dan fx supardjo (bajo) bakal meramaikan pilkada kota solo . pasangan yang muncul lewat jalur i…', 'pasangan bagyo wahyono dan fx supardjo (bajo) bakal meramaikan pilkada kota solo . pasangan yang muncul lewat j… ', 'gibran-teguh &amp; bagyo-supardjo sama-sama mengaku tak punya uang ', 'rt @kumparan: apa saja kisah  warga solo yang rela menyerahkan ktp dan mendukung calon independen bagyo-supardjo? #kumparannews ', 'pasangan bagyo wahyono dan fx supardjo (bajo) bakal meramaikan pilkada kota solo . pasangan yang muncul lewat j… ', 'apa saja kisah  warga solo yang rela menyerahkan ktp dan mendukung calon independen bagyo-supardjo? #kumparannews ', 'begini cara kpu verifikasi . ktp warga solo yang dukung bagyo-supardjo  ', 'rt @vrigim: meski rival dlm pencalonan... namun mereka :\\n-gibran rakabuming raka - teguh prakosa\\n-teguh prakosa - bagyo wahyono-fx supardjo…']\n"
          ],
          "name": "stdout"
        }
      ]
    },
    {
      "cell_type": "code",
      "metadata": {
        "id": "YaOpLi32kESj",
        "outputId": "069a9278-b2bb-4d61-b740-8257c0ec9085",
        "colab": {
          "base_uri": "https://localhost:8080/",
          "height": 54
        }
      },
      "source": [
        "#Menghapus @akun_name\n",
        "tweet_data_5=[]\n",
        "for teks in tweet_data_4:\n",
        "  teks_process = [re.sub('@[^\\s]+','',teks)]\n",
        "  tweet_data_5=tweet_data_5+teks_process\n",
        "print(tweet_data_5)\n",
        "#tweet_data_5"
      ],
      "execution_count": null,
      "outputs": [
        {
          "output_type": "stream",
          "text": [
            "['gibran-teguh , bagyo-supardjo , sama-sama yakin menang pilkada solo ', 'rt  dua pasangan calon (paslon) pilkada solo mengikuti tahapan pengundian nomor urut. gibran rakabuming raka-teguh prakosa mendap…', 'dua pasangan calon (paslon) pilkada solo mengikuti tahapan pengundian nomor urut. gibran rakabuming raka-teguh prak… ', \"rt  \\U0001f932selamat pagi assalamu'alaikum wr wb semoga kita selalu patuhi protokol kesehatan agar terhindar dari covid. tagar ha…\", 'gibran-teguh , bagyo-supardjo , sama-sama pede menang pilkada solo ', 'rt  gw kira tuh gk ad lawanny ternyta ad juga tp lewat jalur independen toh..\\nseru juga nih lau kayak gini..jd lbh asyik dan hidu…', 'gw kira tuh gk ad lawanny ternyta ad juga tp lewat jalur independen toh..\\nseru juga nih lau kayak gini..jd lbh asyi… ', ' \\ndua pasangan calon walikota di the sunan hotel solo.\\npasangan\\xa0gibran-teguh mendapat nomor urut .… ', 'paslon bagyo wahyono-fx supardjo (bajo) mengincar nomor urut  dalam pilkada solo. meski pada kenyataannya mendapat… ', 'nomor urut di pilwalkot solo: gibran-teguh , bagyo-supardjo  #gibranrakabuming #disinfektan #komisipemilihanumum… ', 'nomer urut calon walikota &amp; wakil walikota surakarta\\n\\n. gibran rakabuming raka - teguh prakosa ( pdi perjuangan )… ', 'rt  kpu kota solo, jawa tengah, menetapkan dua pasangan calon wali kota pilkada . dua pasangan itu yakni putra jokowi, gibran…', 'kpu kota solo, jawa tengah, menetapkan dua pasangan calon wali kota pilkada . dua pasangan itu yakni putra joko… ', 'pasangan calon pilkada kota solo , gibran rakabuming raka-teguh prakosa mendapat nomor urut , sementara lawann… ', '\"pengundian nomor urut paslon telah kita lakukan, paslon gibran-teguh mendapatkan nomor satu dan bajo nomor urut du… ', 'rt  kpu tetapkan  paslon pilwakot solo, gibran-teguh dan bagyo-supardjo ', 'pasangan gibran rakabuming raka-teguh prakosa (gibran-teguh) dan bagyo wahyono-fx supardjo (bajo) menghadiri pengun… ', 'kpu tetapkan  paslon pilwakot solo, gibran-teguh dan bagyo-supardjo ', 'sah jadi paslon, gibran-teguh &amp; bagyo-supardjo tak soalkan nomor\\xa0urut ', \"\\U0001f932selamat pagi assalamu'alaikum wr wb semoga kita selalu patuhi protokol kesehatan agar terhindar dari covid. tag… \", 'pasangan gibran-teguh dan bagyo-supardjo secara resmi akan bertarung memperebutkan kursi wali kota solo. kedua pasa… ', 'bagyo wahyono dan f.x. supardjo dipastikan menjadi lawan gibran-teguh dalam pilwalkot solo . bagyo-supardjo maj… ', 'rt  kpu solo secara resmi menetapkan gibran rakabuming raka-teguh prakosa dan bagyo wahyono-fx supardjo (bajo) sebagai pasangan c…', 'kpu solo secara resmi menetapkan gibran rakabuming raka-teguh prakosa dan bagyo wahyono-fx supardjo (bajo) sebagai… ', 'kpu tetapkan gibran-teguh dan bagyo-supardjo paslon di pilwalkot solo  #gibranrakabuming #komisipemilihanumum… ', 'sah jadi paslon, gibran-teguh &amp; bagyo-supardjo tak soalkan nomor urut ', 'rapat pleno tertutup kpu surakarta menetapkan pasangan\\xa0gibran-teguh dan bagyo-supardjo maju dalam pilkada\\xa0 wali kot… ', 'dua paslon yakni gibran rakabuming raka-teguh prakosa dan bagyo wahyono-fx supardjo (bajo) akan bertarung dalam pil… ', 'kpu tetapkan gibran-teguh dan bagyo-supardjo sebagai paslon di pilwalkot solo\\xa0 ', 'pengumuman penetapan calon pilkada solo online, gibran – teguh &amp; bagyo – supardjo tak datang ke kpu ', '\"asyik pilkadanya jadi ya...\" teriak rakyat yang lagi pusing ganti masker  scuba nya, dan di-aminin sama tenaga kes… ', 'rt  kpu menyatakan paslon gibran-teguh dan paslon bagyo-supardjo sebagai calon wali kota solo. #publisherstory ', 'kpu tetapkan gibran-teguh dan bagyo-supardjo paslon di pilwalkot solo  ', 'kpu menyatakan paslon gibran-teguh dan paslon bagyo-supardjo sebagai calon wali kota solo. #publisherstory ', '\"ada dua pasangan yang kami tetapkan, yakni gibran-teguh dan bagyo-supardjo,\" ujar ketua kpu solo, nurul sutarti. ', 'rt  fx supardjo, pasangan bagyo wahyono di pilkada solo menanggapi terkait ditundanya pelaksanaan pilkada , salah satunya ber…', 'fx supardjo, pasangan bagyo wahyono di pilkada solo menanggapi terkait ditundanya pelaksanaan pilkada , salah s… ', 'the local election commission (kpud) of surakarta announced that the independent candidate bagyo wahyono and his ru… ', 'rt  melenggang ke pilkada solo  dari jalur independen, pasangan bagyo wahyono-fx supardjo cukup mengejutkan publik karena…', 'melenggang ke pilkada solo  dari jalur independen, pasangan bagyo wahyono-fx supardjo cukup mengejutkan publik… ', 'rt  pasangan bagyo wahyono dan fx supardjo (bajo) bakal meramaikan pilkada kota solo . pasangan yang muncul lewat jalur indep…', 'melenggang ke pilkada solo  dari jalur independen, pasangan bagyo wahyono-fx supardjo cukup mengejutkan publik… ', 'pasangan bagyo wahyono dan fx supardjo (bajo) bakal meramaikan pilkada kota solo . pasangan yang muncul lewat j… ', 'melenggang ke pilkada solo  dari jalur independen, pasangan bagyo wahyono-fx supardjo cukup mengejutkan publik… ', 'contohnya gibran rakabuming dan teguh prakosa dan bagyo wahyono-fx supardjo sama-sama pasangan baru yang belum puny… ', 'contohnya gibran rakabuming dan teguh prakosa dan bagyo wahyono-fx supardjo sama-sama pasangan baru yang belum puny… ', 'rt  gibran-teguh &amp; bagyo-supardjo sama-sama mengaku tak punya uang ', 'rt  pasangan bagyo wahyono dan fx supardjo (bajo) bakal meramaikan pilkada kota solo . pasangan yang muncul lewat jalur i…', 'pasangan bagyo wahyono dan fx supardjo (bajo) bakal meramaikan pilkada kota solo . pasangan yang muncul lewat j… ', 'gibran-teguh &amp; bagyo-supardjo sama-sama mengaku tak punya uang ', 'rt  apa saja kisah  warga solo yang rela menyerahkan ktp dan mendukung calon independen bagyo-supardjo? #kumparannews ', 'pasangan bagyo wahyono dan fx supardjo (bajo) bakal meramaikan pilkada kota solo . pasangan yang muncul lewat j… ', 'apa saja kisah  warga solo yang rela menyerahkan ktp dan mendukung calon independen bagyo-supardjo? #kumparannews ', 'begini cara kpu verifikasi . ktp warga solo yang dukung bagyo-supardjo  ', 'rt  meski rival dlm pencalonan... namun mereka :\\n-gibran rakabuming raka - teguh prakosa\\n-teguh prakosa - bagyo wahyono-fx supardjo…']\n"
          ],
          "name": "stdout"
        }
      ]
    },
    {
      "cell_type": "code",
      "metadata": {
        "id": "n1a7ufSMks_V",
        "outputId": "be261f9a-c419-4590-dc32-040c5bc9791d",
        "colab": {
          "base_uri": "https://localhost:8080/",
          "height": 54
        }
      },
      "source": [
        "#Menghapus \"rt\"\n",
        "tweet_data_6=[]\n",
        "for teks in tweet_data_5:\n",
        "  teks_process = [re.sub('rt ','',teks)]\n",
        "  tweet_data_6=tweet_data_6+teks_process\n",
        "print(tweet_data_6)\n",
        "#tweet_data_6"
      ],
      "execution_count": null,
      "outputs": [
        {
          "output_type": "stream",
          "text": [
            "['gibran-teguh , bagyo-supardjo , sama-sama yakin menang pilkada solo ', ' dua pasangan calon (paslon) pilkada solo mengikuti tahapan pengundian nomor urut. gibran rakabuming raka-teguh prakosa mendap…', 'dua pasangan calon (paslon) pilkada solo mengikuti tahapan pengundian nomor urut. gibran rakabuming raka-teguh prak… ', \" \\U0001f932selamat pagi assalamu'alaikum wr wb semoga kita selalu patuhi protokol kesehatan agar terhindar dari covid. tagar ha…\", 'gibran-teguh , bagyo-supardjo , sama-sama pede menang pilkada solo ', ' gw kira tuh gk ad lawanny ternyta ad juga tp lewat jalur independen toh..\\nseru juga nih lau kayak gini..jd lbh asyik dan hidu…', 'gw kira tuh gk ad lawanny ternyta ad juga tp lewat jalur independen toh..\\nseru juga nih lau kayak gini..jd lbh asyi… ', ' \\ndua pasangan calon walikota di the sunan hotel solo.\\npasangan\\xa0gibran-teguh mendapat nomor urut .… ', 'paslon bagyo wahyono-fx supardjo (bajo) mengincar nomor urut  dalam pilkada solo. meski pada kenyataannya mendapat… ', 'nomor urut di pilwalkot solo: gibran-teguh , bagyo-supardjo  #gibranrakabuming #disinfektan #komisipemilihanumum… ', 'nomer urut calon walikota &amp; wakil walikota surakarta\\n\\n. gibran rakabuming raka - teguh prakosa ( pdi perjuangan )… ', ' kpu kota solo, jawa tengah, menetapkan dua pasangan calon wali kota pilkada . dua pasangan itu yakni putra jokowi, gibran…', 'kpu kota solo, jawa tengah, menetapkan dua pasangan calon wali kota pilkada . dua pasangan itu yakni putra joko… ', 'pasangan calon pilkada kota solo , gibran rakabuming raka-teguh prakosa mendapat nomor urut , sementara lawann… ', '\"pengundian nomor urut paslon telah kita lakukan, paslon gibran-teguh mendapatkan nomor satu dan bajo nomor urut du… ', ' kpu tetapkan  paslon pilwakot solo, gibran-teguh dan bagyo-supardjo ', 'pasangan gibran rakabuming raka-teguh prakosa (gibran-teguh) dan bagyo wahyono-fx supardjo (bajo) menghadiri pengun… ', 'kpu tetapkan  paslon pilwakot solo, gibran-teguh dan bagyo-supardjo ', 'sah jadi paslon, gibran-teguh &amp; bagyo-supardjo tak soalkan nomor\\xa0urut ', \"\\U0001f932selamat pagi assalamu'alaikum wr wb semoga kita selalu patuhi protokol kesehatan agar terhindar dari covid. tag… \", 'pasangan gibran-teguh dan bagyo-supardjo secara resmi akan bertarung memperebutkan kursi wali kota solo. kedua pasa… ', 'bagyo wahyono dan f.x. supardjo dipastikan menjadi lawan gibran-teguh dalam pilwalkot solo . bagyo-supardjo maj… ', ' kpu solo secara resmi menetapkan gibran rakabuming raka-teguh prakosa dan bagyo wahyono-fx supardjo (bajo) sebagai pasangan c…', 'kpu solo secara resmi menetapkan gibran rakabuming raka-teguh prakosa dan bagyo wahyono-fx supardjo (bajo) sebagai… ', 'kpu tetapkan gibran-teguh dan bagyo-supardjo paslon di pilwalkot solo  #gibranrakabuming #komisipemilihanumum… ', 'sah jadi paslon, gibran-teguh &amp; bagyo-supardjo tak soalkan nomor urut ', 'rapat pleno tertutup kpu surakarta menetapkan pasangan\\xa0gibran-teguh dan bagyo-supardjo maju dalam pilkada\\xa0 wali kot… ', 'dua paslon yakni gibran rakabuming raka-teguh prakosa dan bagyo wahyono-fx supardjo (bajo) akan bertarung dalam pil… ', 'kpu tetapkan gibran-teguh dan bagyo-supardjo sebagai paslon di pilwalkot solo\\xa0 ', 'pengumuman penetapan calon pilkada solo online, gibran – teguh &amp; bagyo – supardjo tak datang ke kpu ', '\"asyik pilkadanya jadi ya...\" teriak rakyat yang lagi pusing ganti masker  scuba nya, dan di-aminin sama tenaga kes… ', ' kpu menyatakan paslon gibran-teguh dan paslon bagyo-supardjo sebagai calon wali kota solo. #publisherstory ', 'kpu tetapkan gibran-teguh dan bagyo-supardjo paslon di pilwalkot solo  ', 'kpu menyatakan paslon gibran-teguh dan paslon bagyo-supardjo sebagai calon wali kota solo. #publisherstory ', '\"ada dua pasangan yang kami tetapkan, yakni gibran-teguh dan bagyo-supardjo,\" ujar ketua kpu solo, nurul sutarti. ', ' fx supardjo, pasangan bagyo wahyono di pilkada solo menanggapi terkait ditundanya pelaksanaan pilkada , salah satunya ber…', 'fx supardjo, pasangan bagyo wahyono di pilkada solo menanggapi terkait ditundanya pelaksanaan pilkada , salah s… ', 'the local election commission (kpud) of surakarta announced that the independent candidate bagyo wahyono and his ru… ', ' melenggang ke pilkada solo  dari jalur independen, pasangan bagyo wahyono-fx supardjo cukup mengejutkan publik karena…', 'melenggang ke pilkada solo  dari jalur independen, pasangan bagyo wahyono-fx supardjo cukup mengejutkan publik… ', ' pasangan bagyo wahyono dan fx supardjo (bajo) bakal meramaikan pilkada kota solo . pasangan yang muncul lewat jalur indep…', 'melenggang ke pilkada solo  dari jalur independen, pasangan bagyo wahyono-fx supardjo cukup mengejutkan publik… ', 'pasangan bagyo wahyono dan fx supardjo (bajo) bakal meramaikan pilkada kota solo . pasangan yang muncul lewat j… ', 'melenggang ke pilkada solo  dari jalur independen, pasangan bagyo wahyono-fx supardjo cukup mengejutkan publik… ', 'contohnya gibran rakabuming dan teguh prakosa dan bagyo wahyono-fx supardjo sama-sama pasangan baru yang belum puny… ', 'contohnya gibran rakabuming dan teguh prakosa dan bagyo wahyono-fx supardjo sama-sama pasangan baru yang belum puny… ', ' gibran-teguh &amp; bagyo-supardjo sama-sama mengaku tak punya uang ', ' pasangan bagyo wahyono dan fx supardjo (bajo) bakal meramaikan pilkada kota solo . pasangan yang muncul lewat jalur i…', 'pasangan bagyo wahyono dan fx supardjo (bajo) bakal meramaikan pilkada kota solo . pasangan yang muncul lewat j… ', 'gibran-teguh &amp; bagyo-supardjo sama-sama mengaku tak punya uang ', ' apa saja kisah  warga solo yang rela menyerahkan ktp dan mendukung calon independen bagyo-supardjo? #kumparannews ', 'pasangan bagyo wahyono dan fx supardjo (bajo) bakal meramaikan pilkada kota solo . pasangan yang muncul lewat j… ', 'apa saja kisah  warga solo yang rela menyerahkan ktp dan mendukung calon independen bagyo-supardjo? #kumparannews ', 'begini cara kpu verifikasi . ktp warga solo yang dukung bagyo-supardjo  ', ' meski rival dlm pencalonan... namun mereka :\\n-gibran rakabuming raka - teguh prakosa\\n-teguh prakosa - bagyo wahyono-fx supardjo…']\n"
          ],
          "name": "stdout"
        }
      ]
    },
    {
      "cell_type": "code",
      "metadata": {
        "id": "a3qYu46hVvUr",
        "outputId": "b4be3d77-2fec-4fd1-f10b-402d86c9da16",
        "colab": {
          "base_uri": "https://localhost:8080/",
          "height": 54
        }
      },
      "source": [
        "#Menghapus \"\\n\"\n",
        "tweet_data_7=[]\n",
        "for teks in tweet_data_6:\n",
        "  teks_process = [re.sub('\\n','',teks)]\n",
        "  tweet_data_7=tweet_data_7+teks_process\n",
        "print(tweet_data_7)\n",
        "#tweet_data_7"
      ],
      "execution_count": null,
      "outputs": [
        {
          "output_type": "stream",
          "text": [
            "['gibran-teguh , bagyo-supardjo , sama-sama yakin menang pilkada solo ', ' dua pasangan calon (paslon) pilkada solo mengikuti tahapan pengundian nomor urut. gibran rakabuming raka-teguh prakosa mendap…', 'dua pasangan calon (paslon) pilkada solo mengikuti tahapan pengundian nomor urut. gibran rakabuming raka-teguh prak… ', \" \\U0001f932selamat pagi assalamu'alaikum wr wb semoga kita selalu patuhi protokol kesehatan agar terhindar dari covid. tagar ha…\", 'gibran-teguh , bagyo-supardjo , sama-sama pede menang pilkada solo ', ' gw kira tuh gk ad lawanny ternyta ad juga tp lewat jalur independen toh..seru juga nih lau kayak gini..jd lbh asyik dan hidu…', 'gw kira tuh gk ad lawanny ternyta ad juga tp lewat jalur independen toh..seru juga nih lau kayak gini..jd lbh asyi… ', ' dua pasangan calon walikota di the sunan hotel solo.pasangan\\xa0gibran-teguh mendapat nomor urut .… ', 'paslon bagyo wahyono-fx supardjo (bajo) mengincar nomor urut  dalam pilkada solo. meski pada kenyataannya mendapat… ', 'nomor urut di pilwalkot solo: gibran-teguh , bagyo-supardjo  #gibranrakabuming #disinfektan #komisipemilihanumum… ', 'nomer urut calon walikota &amp; wakil walikota surakarta. gibran rakabuming raka - teguh prakosa ( pdi perjuangan )… ', ' kpu kota solo, jawa tengah, menetapkan dua pasangan calon wali kota pilkada . dua pasangan itu yakni putra jokowi, gibran…', 'kpu kota solo, jawa tengah, menetapkan dua pasangan calon wali kota pilkada . dua pasangan itu yakni putra joko… ', 'pasangan calon pilkada kota solo , gibran rakabuming raka-teguh prakosa mendapat nomor urut , sementara lawann… ', '\"pengundian nomor urut paslon telah kita lakukan, paslon gibran-teguh mendapatkan nomor satu dan bajo nomor urut du… ', ' kpu tetapkan  paslon pilwakot solo, gibran-teguh dan bagyo-supardjo ', 'pasangan gibran rakabuming raka-teguh prakosa (gibran-teguh) dan bagyo wahyono-fx supardjo (bajo) menghadiri pengun… ', 'kpu tetapkan  paslon pilwakot solo, gibran-teguh dan bagyo-supardjo ', 'sah jadi paslon, gibran-teguh &amp; bagyo-supardjo tak soalkan nomor\\xa0urut ', \"\\U0001f932selamat pagi assalamu'alaikum wr wb semoga kita selalu patuhi protokol kesehatan agar terhindar dari covid. tag… \", 'pasangan gibran-teguh dan bagyo-supardjo secara resmi akan bertarung memperebutkan kursi wali kota solo. kedua pasa… ', 'bagyo wahyono dan f.x. supardjo dipastikan menjadi lawan gibran-teguh dalam pilwalkot solo . bagyo-supardjo maj… ', ' kpu solo secara resmi menetapkan gibran rakabuming raka-teguh prakosa dan bagyo wahyono-fx supardjo (bajo) sebagai pasangan c…', 'kpu solo secara resmi menetapkan gibran rakabuming raka-teguh prakosa dan bagyo wahyono-fx supardjo (bajo) sebagai… ', 'kpu tetapkan gibran-teguh dan bagyo-supardjo paslon di pilwalkot solo  #gibranrakabuming #komisipemilihanumum… ', 'sah jadi paslon, gibran-teguh &amp; bagyo-supardjo tak soalkan nomor urut ', 'rapat pleno tertutup kpu surakarta menetapkan pasangan\\xa0gibran-teguh dan bagyo-supardjo maju dalam pilkada\\xa0 wali kot… ', 'dua paslon yakni gibran rakabuming raka-teguh prakosa dan bagyo wahyono-fx supardjo (bajo) akan bertarung dalam pil… ', 'kpu tetapkan gibran-teguh dan bagyo-supardjo sebagai paslon di pilwalkot solo\\xa0 ', 'pengumuman penetapan calon pilkada solo online, gibran – teguh &amp; bagyo – supardjo tak datang ke kpu ', '\"asyik pilkadanya jadi ya...\" teriak rakyat yang lagi pusing ganti masker  scuba nya, dan di-aminin sama tenaga kes… ', ' kpu menyatakan paslon gibran-teguh dan paslon bagyo-supardjo sebagai calon wali kota solo. #publisherstory ', 'kpu tetapkan gibran-teguh dan bagyo-supardjo paslon di pilwalkot solo  ', 'kpu menyatakan paslon gibran-teguh dan paslon bagyo-supardjo sebagai calon wali kota solo. #publisherstory ', '\"ada dua pasangan yang kami tetapkan, yakni gibran-teguh dan bagyo-supardjo,\" ujar ketua kpu solo, nurul sutarti. ', ' fx supardjo, pasangan bagyo wahyono di pilkada solo menanggapi terkait ditundanya pelaksanaan pilkada , salah satunya ber…', 'fx supardjo, pasangan bagyo wahyono di pilkada solo menanggapi terkait ditundanya pelaksanaan pilkada , salah s… ', 'the local election commission (kpud) of surakarta announced that the independent candidate bagyo wahyono and his ru… ', ' melenggang ke pilkada solo  dari jalur independen, pasangan bagyo wahyono-fx supardjo cukup mengejutkan publik karena…', 'melenggang ke pilkada solo  dari jalur independen, pasangan bagyo wahyono-fx supardjo cukup mengejutkan publik… ', ' pasangan bagyo wahyono dan fx supardjo (bajo) bakal meramaikan pilkada kota solo . pasangan yang muncul lewat jalur indep…', 'melenggang ke pilkada solo  dari jalur independen, pasangan bagyo wahyono-fx supardjo cukup mengejutkan publik… ', 'pasangan bagyo wahyono dan fx supardjo (bajo) bakal meramaikan pilkada kota solo . pasangan yang muncul lewat j… ', 'melenggang ke pilkada solo  dari jalur independen, pasangan bagyo wahyono-fx supardjo cukup mengejutkan publik… ', 'contohnya gibran rakabuming dan teguh prakosa dan bagyo wahyono-fx supardjo sama-sama pasangan baru yang belum puny… ', 'contohnya gibran rakabuming dan teguh prakosa dan bagyo wahyono-fx supardjo sama-sama pasangan baru yang belum puny… ', ' gibran-teguh &amp; bagyo-supardjo sama-sama mengaku tak punya uang ', ' pasangan bagyo wahyono dan fx supardjo (bajo) bakal meramaikan pilkada kota solo . pasangan yang muncul lewat jalur i…', 'pasangan bagyo wahyono dan fx supardjo (bajo) bakal meramaikan pilkada kota solo . pasangan yang muncul lewat j… ', 'gibran-teguh &amp; bagyo-supardjo sama-sama mengaku tak punya uang ', ' apa saja kisah  warga solo yang rela menyerahkan ktp dan mendukung calon independen bagyo-supardjo? #kumparannews ', 'pasangan bagyo wahyono dan fx supardjo (bajo) bakal meramaikan pilkada kota solo . pasangan yang muncul lewat j… ', 'apa saja kisah  warga solo yang rela menyerahkan ktp dan mendukung calon independen bagyo-supardjo? #kumparannews ', 'begini cara kpu verifikasi . ktp warga solo yang dukung bagyo-supardjo  ', ' meski rival dlm pencalonan... namun mereka :-gibran rakabuming raka - teguh prakosa-teguh prakosa - bagyo wahyono-fx supardjo…']\n"
          ],
          "name": "stdout"
        }
      ]
    },
    {
      "cell_type": "code",
      "metadata": {
        "id": "G3wzGygegHVD",
        "outputId": "2de0ac4c-d3a1-4b5c-a0dc-eca0bf555858",
        "colab": {
          "base_uri": "https://localhost:8080/",
          "height": 54
        }
      },
      "source": [
        "#Menghapus tanda baca\n",
        "import string\n",
        "tweet_data_8=[]\n",
        "for teks in tweet_data_7:\n",
        "  teks_process = [teks.translate(str.maketrans(\"\",\"\",string.punctuation))]\n",
        "  tweet_data_8=tweet_data_8+teks_process\n",
        "print(tweet_data_8)\n",
        "#tweet_data_8"
      ],
      "execution_count": null,
      "outputs": [
        {
          "output_type": "stream",
          "text": [
            "['gibranteguh  bagyosupardjo  samasama yakin menang pilkada solo ', ' dua pasangan calon paslon pilkada solo mengikuti tahapan pengundian nomor urut gibran rakabuming rakateguh prakosa mendap…', 'dua pasangan calon paslon pilkada solo mengikuti tahapan pengundian nomor urut gibran rakabuming rakateguh prak… ', ' \\U0001f932selamat pagi assalamualaikum wr wb semoga kita selalu patuhi protokol kesehatan agar terhindar dari covid tagar ha…', 'gibranteguh  bagyosupardjo  samasama pede menang pilkada solo ', ' gw kira tuh gk ad lawanny ternyta ad juga tp lewat jalur independen tohseru juga nih lau kayak ginijd lbh asyik dan hidu…', 'gw kira tuh gk ad lawanny ternyta ad juga tp lewat jalur independen tohseru juga nih lau kayak ginijd lbh asyi… ', ' dua pasangan calon walikota di the sunan hotel solopasangan\\xa0gibranteguh mendapat nomor urut … ', 'paslon bagyo wahyonofx supardjo bajo mengincar nomor urut  dalam pilkada solo meski pada kenyataannya mendapat… ', 'nomor urut di pilwalkot solo gibranteguh  bagyosupardjo  gibranrakabuming disinfektan komisipemilihanumum… ', 'nomer urut calon walikota amp wakil walikota surakarta gibran rakabuming raka  teguh prakosa  pdi perjuangan … ', ' kpu kota solo jawa tengah menetapkan dua pasangan calon wali kota pilkada  dua pasangan itu yakni putra jokowi gibran…', 'kpu kota solo jawa tengah menetapkan dua pasangan calon wali kota pilkada  dua pasangan itu yakni putra joko… ', 'pasangan calon pilkada kota solo  gibran rakabuming rakateguh prakosa mendapat nomor urut  sementara lawann… ', 'pengundian nomor urut paslon telah kita lakukan paslon gibranteguh mendapatkan nomor satu dan bajo nomor urut du… ', ' kpu tetapkan  paslon pilwakot solo gibranteguh dan bagyosupardjo ', 'pasangan gibran rakabuming rakateguh prakosa gibranteguh dan bagyo wahyonofx supardjo bajo menghadiri pengun… ', 'kpu tetapkan  paslon pilwakot solo gibranteguh dan bagyosupardjo ', 'sah jadi paslon gibranteguh amp bagyosupardjo tak soalkan nomor\\xa0urut ', '\\U0001f932selamat pagi assalamualaikum wr wb semoga kita selalu patuhi protokol kesehatan agar terhindar dari covid tag… ', 'pasangan gibranteguh dan bagyosupardjo secara resmi akan bertarung memperebutkan kursi wali kota solo kedua pasa… ', 'bagyo wahyono dan fx supardjo dipastikan menjadi lawan gibranteguh dalam pilwalkot solo  bagyosupardjo maj… ', ' kpu solo secara resmi menetapkan gibran rakabuming rakateguh prakosa dan bagyo wahyonofx supardjo bajo sebagai pasangan c…', 'kpu solo secara resmi menetapkan gibran rakabuming rakateguh prakosa dan bagyo wahyonofx supardjo bajo sebagai… ', 'kpu tetapkan gibranteguh dan bagyosupardjo paslon di pilwalkot solo  gibranrakabuming komisipemilihanumum… ', 'sah jadi paslon gibranteguh amp bagyosupardjo tak soalkan nomor urut ', 'rapat pleno tertutup kpu surakarta menetapkan pasangan\\xa0gibranteguh dan bagyosupardjo maju dalam pilkada\\xa0 wali kot… ', 'dua paslon yakni gibran rakabuming rakateguh prakosa dan bagyo wahyonofx supardjo bajo akan bertarung dalam pil… ', 'kpu tetapkan gibranteguh dan bagyosupardjo sebagai paslon di pilwalkot solo\\xa0 ', 'pengumuman penetapan calon pilkada solo online gibran – teguh amp bagyo – supardjo tak datang ke kpu ', 'asyik pilkadanya jadi ya teriak rakyat yang lagi pusing ganti masker  scuba nya dan diaminin sama tenaga kes… ', ' kpu menyatakan paslon gibranteguh dan paslon bagyosupardjo sebagai calon wali kota solo publisherstory ', 'kpu tetapkan gibranteguh dan bagyosupardjo paslon di pilwalkot solo  ', 'kpu menyatakan paslon gibranteguh dan paslon bagyosupardjo sebagai calon wali kota solo publisherstory ', 'ada dua pasangan yang kami tetapkan yakni gibranteguh dan bagyosupardjo ujar ketua kpu solo nurul sutarti ', ' fx supardjo pasangan bagyo wahyono di pilkada solo menanggapi terkait ditundanya pelaksanaan pilkada  salah satunya ber…', 'fx supardjo pasangan bagyo wahyono di pilkada solo menanggapi terkait ditundanya pelaksanaan pilkada  salah s… ', 'the local election commission kpud of surakarta announced that the independent candidate bagyo wahyono and his ru… ', ' melenggang ke pilkada solo  dari jalur independen pasangan bagyo wahyonofx supardjo cukup mengejutkan publik karena…', 'melenggang ke pilkada solo  dari jalur independen pasangan bagyo wahyonofx supardjo cukup mengejutkan publik… ', ' pasangan bagyo wahyono dan fx supardjo bajo bakal meramaikan pilkada kota solo  pasangan yang muncul lewat jalur indep…', 'melenggang ke pilkada solo  dari jalur independen pasangan bagyo wahyonofx supardjo cukup mengejutkan publik… ', 'pasangan bagyo wahyono dan fx supardjo bajo bakal meramaikan pilkada kota solo  pasangan yang muncul lewat j… ', 'melenggang ke pilkada solo  dari jalur independen pasangan bagyo wahyonofx supardjo cukup mengejutkan publik… ', 'contohnya gibran rakabuming dan teguh prakosa dan bagyo wahyonofx supardjo samasama pasangan baru yang belum puny… ', 'contohnya gibran rakabuming dan teguh prakosa dan bagyo wahyonofx supardjo samasama pasangan baru yang belum puny… ', ' gibranteguh amp bagyosupardjo samasama mengaku tak punya uang ', ' pasangan bagyo wahyono dan fx supardjo bajo bakal meramaikan pilkada kota solo  pasangan yang muncul lewat jalur i…', 'pasangan bagyo wahyono dan fx supardjo bajo bakal meramaikan pilkada kota solo  pasangan yang muncul lewat j… ', 'gibranteguh amp bagyosupardjo samasama mengaku tak punya uang ', ' apa saja kisah  warga solo yang rela menyerahkan ktp dan mendukung calon independen bagyosupardjo kumparannews ', 'pasangan bagyo wahyono dan fx supardjo bajo bakal meramaikan pilkada kota solo  pasangan yang muncul lewat j… ', 'apa saja kisah  warga solo yang rela menyerahkan ktp dan mendukung calon independen bagyosupardjo kumparannews ', 'begini cara kpu verifikasi  ktp warga solo yang dukung bagyosupardjo  ', ' meski rival dlm pencalonan namun mereka gibran rakabuming raka  teguh prakosateguh prakosa  bagyo wahyonofx supardjo…']\n"
          ],
          "name": "stdout"
        }
      ]
    },
    {
      "cell_type": "code",
      "metadata": {
        "id": "2LRuMca2m39G",
        "outputId": "8533e50b-cae5-4441-ddb0-43b8f77beb98",
        "colab": {
          "base_uri": "https://localhost:8080/",
          "height": 71
        }
      },
      "source": [
        "#Menghapus whitepace (karakter kosong)\n",
        "tweet_data_9=[]\n",
        "for teks in tweet_data_8:\n",
        "  teks_process = [teks.strip()]\n",
        "  tweet_data_9=tweet_data_9+teks_process\n",
        "print(tweet_data_9)\n",
        "print(len(tweet_data_9))"
      ],
      "execution_count": null,
      "outputs": [
        {
          "output_type": "stream",
          "text": [
            "['gibranteguh  bagyosupardjo  samasama yakin menang pilkada solo', 'dua pasangan calon paslon pilkada solo mengikuti tahapan pengundian nomor urut gibran rakabuming rakateguh prakosa mendap…', 'dua pasangan calon paslon pilkada solo mengikuti tahapan pengundian nomor urut gibran rakabuming rakateguh prak…', '\\U0001f932selamat pagi assalamualaikum wr wb semoga kita selalu patuhi protokol kesehatan agar terhindar dari covid tagar ha…', 'gibranteguh  bagyosupardjo  samasama pede menang pilkada solo', 'gw kira tuh gk ad lawanny ternyta ad juga tp lewat jalur independen tohseru juga nih lau kayak ginijd lbh asyik dan hidu…', 'gw kira tuh gk ad lawanny ternyta ad juga tp lewat jalur independen tohseru juga nih lau kayak ginijd lbh asyi…', 'dua pasangan calon walikota di the sunan hotel solopasangan\\xa0gibranteguh mendapat nomor urut …', 'paslon bagyo wahyonofx supardjo bajo mengincar nomor urut  dalam pilkada solo meski pada kenyataannya mendapat…', 'nomor urut di pilwalkot solo gibranteguh  bagyosupardjo  gibranrakabuming disinfektan komisipemilihanumum…', 'nomer urut calon walikota amp wakil walikota surakarta gibran rakabuming raka  teguh prakosa  pdi perjuangan …', 'kpu kota solo jawa tengah menetapkan dua pasangan calon wali kota pilkada  dua pasangan itu yakni putra jokowi gibran…', 'kpu kota solo jawa tengah menetapkan dua pasangan calon wali kota pilkada  dua pasangan itu yakni putra joko…', 'pasangan calon pilkada kota solo  gibran rakabuming rakateguh prakosa mendapat nomor urut  sementara lawann…', 'pengundian nomor urut paslon telah kita lakukan paslon gibranteguh mendapatkan nomor satu dan bajo nomor urut du…', 'kpu tetapkan  paslon pilwakot solo gibranteguh dan bagyosupardjo', 'pasangan gibran rakabuming rakateguh prakosa gibranteguh dan bagyo wahyonofx supardjo bajo menghadiri pengun…', 'kpu tetapkan  paslon pilwakot solo gibranteguh dan bagyosupardjo', 'sah jadi paslon gibranteguh amp bagyosupardjo tak soalkan nomor\\xa0urut', '\\U0001f932selamat pagi assalamualaikum wr wb semoga kita selalu patuhi protokol kesehatan agar terhindar dari covid tag…', 'pasangan gibranteguh dan bagyosupardjo secara resmi akan bertarung memperebutkan kursi wali kota solo kedua pasa…', 'bagyo wahyono dan fx supardjo dipastikan menjadi lawan gibranteguh dalam pilwalkot solo  bagyosupardjo maj…', 'kpu solo secara resmi menetapkan gibran rakabuming rakateguh prakosa dan bagyo wahyonofx supardjo bajo sebagai pasangan c…', 'kpu solo secara resmi menetapkan gibran rakabuming rakateguh prakosa dan bagyo wahyonofx supardjo bajo sebagai…', 'kpu tetapkan gibranteguh dan bagyosupardjo paslon di pilwalkot solo  gibranrakabuming komisipemilihanumum…', 'sah jadi paslon gibranteguh amp bagyosupardjo tak soalkan nomor urut', 'rapat pleno tertutup kpu surakarta menetapkan pasangan\\xa0gibranteguh dan bagyosupardjo maju dalam pilkada\\xa0 wali kot…', 'dua paslon yakni gibran rakabuming rakateguh prakosa dan bagyo wahyonofx supardjo bajo akan bertarung dalam pil…', 'kpu tetapkan gibranteguh dan bagyosupardjo sebagai paslon di pilwalkot solo', 'pengumuman penetapan calon pilkada solo online gibran – teguh amp bagyo – supardjo tak datang ke kpu', 'asyik pilkadanya jadi ya teriak rakyat yang lagi pusing ganti masker  scuba nya dan diaminin sama tenaga kes…', 'kpu menyatakan paslon gibranteguh dan paslon bagyosupardjo sebagai calon wali kota solo publisherstory', 'kpu tetapkan gibranteguh dan bagyosupardjo paslon di pilwalkot solo', 'kpu menyatakan paslon gibranteguh dan paslon bagyosupardjo sebagai calon wali kota solo publisherstory', 'ada dua pasangan yang kami tetapkan yakni gibranteguh dan bagyosupardjo ujar ketua kpu solo nurul sutarti', 'fx supardjo pasangan bagyo wahyono di pilkada solo menanggapi terkait ditundanya pelaksanaan pilkada  salah satunya ber…', 'fx supardjo pasangan bagyo wahyono di pilkada solo menanggapi terkait ditundanya pelaksanaan pilkada  salah s…', 'the local election commission kpud of surakarta announced that the independent candidate bagyo wahyono and his ru…', 'melenggang ke pilkada solo  dari jalur independen pasangan bagyo wahyonofx supardjo cukup mengejutkan publik karena…', 'melenggang ke pilkada solo  dari jalur independen pasangan bagyo wahyonofx supardjo cukup mengejutkan publik…', 'pasangan bagyo wahyono dan fx supardjo bajo bakal meramaikan pilkada kota solo  pasangan yang muncul lewat jalur indep…', 'melenggang ke pilkada solo  dari jalur independen pasangan bagyo wahyonofx supardjo cukup mengejutkan publik…', 'pasangan bagyo wahyono dan fx supardjo bajo bakal meramaikan pilkada kota solo  pasangan yang muncul lewat j…', 'melenggang ke pilkada solo  dari jalur independen pasangan bagyo wahyonofx supardjo cukup mengejutkan publik…', 'contohnya gibran rakabuming dan teguh prakosa dan bagyo wahyonofx supardjo samasama pasangan baru yang belum puny…', 'contohnya gibran rakabuming dan teguh prakosa dan bagyo wahyonofx supardjo samasama pasangan baru yang belum puny…', 'gibranteguh amp bagyosupardjo samasama mengaku tak punya uang', 'pasangan bagyo wahyono dan fx supardjo bajo bakal meramaikan pilkada kota solo  pasangan yang muncul lewat jalur i…', 'pasangan bagyo wahyono dan fx supardjo bajo bakal meramaikan pilkada kota solo  pasangan yang muncul lewat j…', 'gibranteguh amp bagyosupardjo samasama mengaku tak punya uang', 'apa saja kisah  warga solo yang rela menyerahkan ktp dan mendukung calon independen bagyosupardjo kumparannews', 'pasangan bagyo wahyono dan fx supardjo bajo bakal meramaikan pilkada kota solo  pasangan yang muncul lewat j…', 'apa saja kisah  warga solo yang rela menyerahkan ktp dan mendukung calon independen bagyosupardjo kumparannews', 'begini cara kpu verifikasi  ktp warga solo yang dukung bagyosupardjo', 'meski rival dlm pencalonan namun mereka gibran rakabuming raka  teguh prakosateguh prakosa  bagyo wahyonofx supardjo…']\n",
            "55\n"
          ],
          "name": "stdout"
        }
      ]
    },
    {
      "cell_type": "code",
      "metadata": {
        "id": "dEFkiH83rjNF",
        "outputId": "e0c02d19-757a-4b56-f134-0e28f9a36d87",
        "colab": {
          "base_uri": "https://localhost:8080/",
          "height": 88
        }
      },
      "source": [
        "#Menghapus teks yang sama\n",
        "tweet_data = list(dict.fromkeys(tweet_data_9))\n",
        "print(tweet_data)\n",
        "print(len(tweet_data_8))\n",
        "print(len(tweet_data))\n",
        "#tweet_data"
      ],
      "execution_count": null,
      "outputs": [
        {
          "output_type": "stream",
          "text": [
            "['gibranteguh  bagyosupardjo  samasama yakin menang pilkada solo', 'dua pasangan calon paslon pilkada solo mengikuti tahapan pengundian nomor urut gibran rakabuming rakateguh prakosa mendap…', 'dua pasangan calon paslon pilkada solo mengikuti tahapan pengundian nomor urut gibran rakabuming rakateguh prak…', '\\U0001f932selamat pagi assalamualaikum wr wb semoga kita selalu patuhi protokol kesehatan agar terhindar dari covid tagar ha…', 'gibranteguh  bagyosupardjo  samasama pede menang pilkada solo', 'gw kira tuh gk ad lawanny ternyta ad juga tp lewat jalur independen tohseru juga nih lau kayak ginijd lbh asyik dan hidu…', 'gw kira tuh gk ad lawanny ternyta ad juga tp lewat jalur independen tohseru juga nih lau kayak ginijd lbh asyi…', 'dua pasangan calon walikota di the sunan hotel solopasangan\\xa0gibranteguh mendapat nomor urut …', 'paslon bagyo wahyonofx supardjo bajo mengincar nomor urut  dalam pilkada solo meski pada kenyataannya mendapat…', 'nomor urut di pilwalkot solo gibranteguh  bagyosupardjo  gibranrakabuming disinfektan komisipemilihanumum…', 'nomer urut calon walikota amp wakil walikota surakarta gibran rakabuming raka  teguh prakosa  pdi perjuangan …', 'kpu kota solo jawa tengah menetapkan dua pasangan calon wali kota pilkada  dua pasangan itu yakni putra jokowi gibran…', 'kpu kota solo jawa tengah menetapkan dua pasangan calon wali kota pilkada  dua pasangan itu yakni putra joko…', 'pasangan calon pilkada kota solo  gibran rakabuming rakateguh prakosa mendapat nomor urut  sementara lawann…', 'pengundian nomor urut paslon telah kita lakukan paslon gibranteguh mendapatkan nomor satu dan bajo nomor urut du…', 'kpu tetapkan  paslon pilwakot solo gibranteguh dan bagyosupardjo', 'pasangan gibran rakabuming rakateguh prakosa gibranteguh dan bagyo wahyonofx supardjo bajo menghadiri pengun…', 'sah jadi paslon gibranteguh amp bagyosupardjo tak soalkan nomor\\xa0urut', '\\U0001f932selamat pagi assalamualaikum wr wb semoga kita selalu patuhi protokol kesehatan agar terhindar dari covid tag…', 'pasangan gibranteguh dan bagyosupardjo secara resmi akan bertarung memperebutkan kursi wali kota solo kedua pasa…', 'bagyo wahyono dan fx supardjo dipastikan menjadi lawan gibranteguh dalam pilwalkot solo  bagyosupardjo maj…', 'kpu solo secara resmi menetapkan gibran rakabuming rakateguh prakosa dan bagyo wahyonofx supardjo bajo sebagai pasangan c…', 'kpu solo secara resmi menetapkan gibran rakabuming rakateguh prakosa dan bagyo wahyonofx supardjo bajo sebagai…', 'kpu tetapkan gibranteguh dan bagyosupardjo paslon di pilwalkot solo  gibranrakabuming komisipemilihanumum…', 'sah jadi paslon gibranteguh amp bagyosupardjo tak soalkan nomor urut', 'rapat pleno tertutup kpu surakarta menetapkan pasangan\\xa0gibranteguh dan bagyosupardjo maju dalam pilkada\\xa0 wali kot…', 'dua paslon yakni gibran rakabuming rakateguh prakosa dan bagyo wahyonofx supardjo bajo akan bertarung dalam pil…', 'kpu tetapkan gibranteguh dan bagyosupardjo sebagai paslon di pilwalkot solo', 'pengumuman penetapan calon pilkada solo online gibran – teguh amp bagyo – supardjo tak datang ke kpu', 'asyik pilkadanya jadi ya teriak rakyat yang lagi pusing ganti masker  scuba nya dan diaminin sama tenaga kes…', 'kpu menyatakan paslon gibranteguh dan paslon bagyosupardjo sebagai calon wali kota solo publisherstory', 'kpu tetapkan gibranteguh dan bagyosupardjo paslon di pilwalkot solo', 'ada dua pasangan yang kami tetapkan yakni gibranteguh dan bagyosupardjo ujar ketua kpu solo nurul sutarti', 'fx supardjo pasangan bagyo wahyono di pilkada solo menanggapi terkait ditundanya pelaksanaan pilkada  salah satunya ber…', 'fx supardjo pasangan bagyo wahyono di pilkada solo menanggapi terkait ditundanya pelaksanaan pilkada  salah s…', 'the local election commission kpud of surakarta announced that the independent candidate bagyo wahyono and his ru…', 'melenggang ke pilkada solo  dari jalur independen pasangan bagyo wahyonofx supardjo cukup mengejutkan publik karena…', 'melenggang ke pilkada solo  dari jalur independen pasangan bagyo wahyonofx supardjo cukup mengejutkan publik…', 'pasangan bagyo wahyono dan fx supardjo bajo bakal meramaikan pilkada kota solo  pasangan yang muncul lewat jalur indep…', 'pasangan bagyo wahyono dan fx supardjo bajo bakal meramaikan pilkada kota solo  pasangan yang muncul lewat j…', 'contohnya gibran rakabuming dan teguh prakosa dan bagyo wahyonofx supardjo samasama pasangan baru yang belum puny…', 'gibranteguh amp bagyosupardjo samasama mengaku tak punya uang', 'pasangan bagyo wahyono dan fx supardjo bajo bakal meramaikan pilkada kota solo  pasangan yang muncul lewat jalur i…', 'apa saja kisah  warga solo yang rela menyerahkan ktp dan mendukung calon independen bagyosupardjo kumparannews', 'begini cara kpu verifikasi  ktp warga solo yang dukung bagyosupardjo', 'meski rival dlm pencalonan namun mereka gibran rakabuming raka  teguh prakosateguh prakosa  bagyo wahyonofx supardjo…']\n",
            "55\n",
            "46\n"
          ],
          "name": "stdout"
        }
      ]
    },
    {
      "cell_type": "markdown",
      "metadata": {
        "id": "n4FBxSNNXu-3"
      },
      "source": [
        "### Stemming"
      ]
    },
    {
      "cell_type": "code",
      "metadata": {
        "id": "oRI3r7aCXwtj"
      },
      "source": [
        "import json"
      ],
      "execution_count": null,
      "outputs": []
    },
    {
      "cell_type": "code",
      "metadata": {
        "id": "Avg3Ppy8ZZ71"
      },
      "source": [
        "d = open('/content/gdrive/My Drive/Sentimen Analisis/root-word.txt', \"r\")\n",
        "root_word = set(d.read().splitlines())\n",
        "#root_word"
      ],
      "execution_count": null,
      "outputs": []
    },
    {
      "cell_type": "code",
      "metadata": {
        "id": "H00YCN04XUb1"
      },
      "source": [
        "f = open('/content/gdrive/My Drive/Sentimen Analisis/lemma_dict.json') \n",
        "lemma_dict = json.load(f)"
      ],
      "execution_count": null,
      "outputs": []
    },
    {
      "cell_type": "code",
      "metadata": {
        "id": "MQv2VEn7Z-QC"
      },
      "source": [
        "def stem1(word):\n",
        "        if word.endswith((\"lah\", \"kah\", \"pun\")):\n",
        "            return word[:-3]\n",
        "        else:\n",
        "            return word"
      ],
      "execution_count": null,
      "outputs": []
    },
    {
      "cell_type": "code",
      "metadata": {
        "id": "ry8P69x_aqo7"
      },
      "source": [
        "def stem2(word):\n",
        "        if word.startswith(\"ku\"):\n",
        "            return word[2:]\n",
        "        elif word.startswith(\"kau\"):\n",
        "            return word[3:]\n",
        "        else:\n",
        "            return word"
      ],
      "execution_count": null,
      "outputs": []
    },
    {
      "cell_type": "code",
      "metadata": {
        "id": "kpcyQ-OZat8y"
      },
      "source": [
        "def stem3(word):\n",
        "        if word.endswith((\"ku\", \"mu\")):\n",
        "            return word[:-2]\n",
        "        elif word.endswith(\"nya\"):\n",
        "            return word[:-3]\n",
        "        else:\n",
        "            return word"
      ],
      "execution_count": null,
      "outputs": []
    },
    {
      "cell_type": "code",
      "metadata": {
        "id": "abFucoavaxFT"
      },
      "source": [
        "def stem4(word):\n",
        "        if word.endswith(\"kan\"):\n",
        "            return [word[:-3], word[:-2]]\n",
        "        elif word.endswith(\"an\"):\n",
        "            return word[:-2]\n",
        "        elif word.endswith(\"isasi\"):\n",
        "            return word[:-5]\n",
        "        elif word.endswith(\"i\"):\n",
        "            return word[:-1]\n",
        "        elif word.endswith(\"isme\"):\n",
        "            return word[:-4]\n",
        "        else:\n",
        "            return word"
      ],
      "execution_count": null,
      "outputs": []
    },
    {
      "cell_type": "code",
      "metadata": {
        "id": "A-TLncfta06d"
      },
      "source": [
        "def stem5(word):\n",
        "        if word.startswith((\"di\", \"ke\", \"se\")):\n",
        "            return word[2:]\n",
        "        else:\n",
        "            return word"
      ],
      "execution_count": null,
      "outputs": []
    },
    {
      "cell_type": "code",
      "metadata": {
        "id": "GSVYwScua4K_"
      },
      "source": [
        "def lemmatize(text):\n",
        "        final_result = \"\"\n",
        "        suffix = set([\"lah\", \"kah\", \"pun\", \"ku\", \"mu\", \"nya\"])\n",
        "        text = text.lower()\n",
        "        text = re.sub(\"[^a-zA-Z0-9-]+\", \" \", text)\n",
        "        for word in text.split():\n",
        "            result = word.lower()\n",
        "            if word.isdigit() or len(word) <= 3 or word in root_word:\n",
        "                result = word.lower()\n",
        "            elif word in lemma_dict:\n",
        "                result = lemma_dict[word]\n",
        "            else:\n",
        "                word1 = stem1(word)\n",
        "                word2 = stem2(word)\n",
        "                word13 = stem3(word1)\n",
        "                word134 = stem4(word13)\n",
        "                word25 = stem5(word2)\n",
        "                if word1 in root_word:\n",
        "                    result = word1\n",
        "                elif word1 in lemma_dict:\n",
        "                    result = lemma_dict[word1]\n",
        "                elif word2 in root_word:\n",
        "                    result = word2\n",
        "                elif word2 in lemma_dict:\n",
        "                    result = lemma_dict[word2]\n",
        "                elif word13 in root_word:\n",
        "                    result = word13\n",
        "                elif word13 in lemma_dict:\n",
        "                    result = lemma_dict[word13]\n",
        "                elif len(word134) > 0:\n",
        "                    if isinstance(word134, list):\n",
        "                        for w in word134:\n",
        "                            if w in root_word:\n",
        "                                result = w\n",
        "                            elif w in lemma_dict:\n",
        "                                result = lemma_dict[w]\n",
        "                    elif word134 in root_word:\n",
        "                        result = word134\n",
        "                    elif word134 in lemma_dict:\n",
        "                        result = lemma_dict[word134]\n",
        "                if result == word.lower():\n",
        "                    if word25 in root_word:\n",
        "                        result = word25\n",
        "                    elif word25 in lemma_dict:\n",
        "                        result = lemma_dict[word25]\n",
        "                    else:\n",
        "                        word12 = stem2(word1)\n",
        "                        word125 = stem1(word25)\n",
        "                        if word12 in root_word:\n",
        "                            result = word12\n",
        "                        elif word12 in lemma_dict:\n",
        "                            result = lemma_dict[word12]\n",
        "                        elif word125 in root_word:\n",
        "                            result = word125\n",
        "                        elif word125 in lemma_dict:\n",
        "                            result = lemma_dict[word125]\n",
        "                        else:\n",
        "                            word123 = stem3(word12)\n",
        "                            word1234 = stem4(word123)\n",
        "                            word1235 = stem5(word123)\n",
        "                            if word123 in root_word:\n",
        "                                result = word123\n",
        "                            elif word123 in lemma_dict:\n",
        "                                result = lemma_dict[word123]\n",
        "                            elif len(word1234) > 0:\n",
        "                                if isinstance(word1234, list):\n",
        "                                    for w in word1234:\n",
        "                                        if w in root_word:\n",
        "                                            result = w\n",
        "                                        elif w in lemma_dict:\n",
        "                                            result = lemma_dict[w]\n",
        "                                elif word1234 in root_word:\n",
        "                                    result = word1234\n",
        "                                elif word1234 in lemma_dict:\n",
        "                                    result = lemma_dict[word1234]\n",
        "                            if result == word.lower():\n",
        "                                if word1235 in root_word:\n",
        "                                    result = word1235\n",
        "                                elif word1235 in lemma_dict:\n",
        "                                    result = lemma_dict[word1235]\n",
        "                                else:\n",
        "                                    word12345 = stem4(word1235)\n",
        "                                    if len(word12345) > 0:\n",
        "                                        if isinstance(word12345, list):\n",
        "                                            for w in word12345:\n",
        "                                                if w in root_word:\n",
        "                                                    result = w\n",
        "                                                elif w in lemma_dict:\n",
        "                                                    result = lemma_dict[\n",
        "                                                        w\n",
        "                                                    ]\n",
        "                                        elif word12345 in root_word:\n",
        "                                            result = word12345\n",
        "                                        elif word12345 in lemma_dict:\n",
        "                                            result = self.lemma_dict[\n",
        "                                                word12345\n",
        "                                            ]\n",
        "                                    # kepada-Nya --> kepada\n",
        "                                    # anggota-anggota --> anggota\n",
        "                                    if result == word.lower() and \"-\" in word:\n",
        "                                        lemma_list = [\n",
        "                                            lemma_dict.get(i, i)\n",
        "                                            for i in word.split(\"-\")\n",
        "                                        ]\n",
        "                                        if (\n",
        "                                            len(set(lemma_list)) == 2\n",
        "                                            and word.split(\"-\")[1] in suffix\n",
        "                                        ) or len(set(lemma_list)) == 1:\n",
        "                                            if (\n",
        "                                                lemma_list[0]\n",
        "                                                in root_word\n",
        "                                            ):\n",
        "                                                result = lemma_list[0]\n",
        "            final_result += \" {}\".format(result)\n",
        "        return final_result.strip()"
      ],
      "execution_count": null,
      "outputs": []
    },
    {
      "cell_type": "code",
      "metadata": {
        "id": "q4w3ujTia7y-",
        "outputId": "1e8b1938-8f9f-4b56-96cb-120f9ddb1b43",
        "colab": {
          "base_uri": "https://localhost:8080/",
          "height": 51
        }
      },
      "source": [
        "print(len(tweet_data))\n",
        "lemm=[]\n",
        "for teks in tweet_data:\n",
        "  lemm1=[lemmatize(teks)]\n",
        "  lemm=lemm+lemm1\n",
        "print(len(lemm))\n",
        "tweet_data=lemm"
      ],
      "execution_count": null,
      "outputs": [
        {
          "output_type": "stream",
          "text": [
            "46\n",
            "46\n"
          ],
          "name": "stdout"
        }
      ]
    },
    {
      "cell_type": "code",
      "metadata": {
        "id": "ppih5wSUVc1H"
      },
      "source": [
        "#tweet_data"
      ],
      "execution_count": null,
      "outputs": []
    },
    {
      "cell_type": "markdown",
      "metadata": {
        "id": "YfbAj0Vgsaik"
      },
      "source": [
        "### Stopword"
      ]
    },
    {
      "cell_type": "code",
      "metadata": {
        "id": "FOibtwngvVe0"
      },
      "source": [
        "s = open('/content/gdrive/My Drive/Sentimen Analisis/stopword.txt', \"r\")\n",
        "stopword = set(s.read().splitlines())\n",
        "#stopword"
      ],
      "execution_count": null,
      "outputs": []
    },
    {
      "cell_type": "code",
      "metadata": {
        "id": "jZhs9lFusZ-n"
      },
      "source": [
        "def remove_stopword(text):\n",
        "  temp_result = []\n",
        "  parts = []\n",
        "  for match in re.finditer(r'[^.,?!\\s]+|[.,?!]', text):\n",
        "    parts.append(match.group())\n",
        "  \n",
        "  for word in parts:\n",
        "    if word.casefold() not in stopword:\n",
        "      temp_result.append(word)\n",
        "\n",
        "  result_cand = ' '.join(temp_result)\n",
        "  result = re.sub(r' ([^A-Za-z0-9])', r'\\1', result_cand)\n",
        "\n",
        "  return result"
      ],
      "execution_count": null,
      "outputs": []
    },
    {
      "cell_type": "code",
      "metadata": {
        "id": "VEdqTDyRuGPi",
        "outputId": "dbeb9de8-f075-4df3-85d9-0c1bae64c265",
        "colab": {
          "base_uri": "https://localhost:8080/",
          "height": 51
        }
      },
      "source": [
        "coba=tweet_data[2]\n",
        "coba1=remove_stopword(coba)\n",
        "print(coba)\n",
        "print(coba1)"
      ],
      "execution_count": null,
      "outputs": [
        {
          "output_type": "stream",
          "text": [
            "dua pasang calon paslon pilkada solo ikut tahap undi nomor urut gibran rakabuming rakateguh prak\n",
            "pasang calon paslon pilkada solo tahap undi nomor urut gibran rakabuming rakateguh prak\n"
          ],
          "name": "stdout"
        }
      ]
    },
    {
      "cell_type": "code",
      "metadata": {
        "id": "pPzRNR6mcUli",
        "outputId": "bfc235fd-fb62-44a2-f3bf-d1f8ec7f8578",
        "colab": {
          "base_uri": "https://localhost:8080/",
          "height": 34
        }
      },
      "source": [
        "sw=[]\n",
        "for teks in tweet_data:\n",
        "  sw1=[remove_stopword(teks)]\n",
        "  sw=sw+sw1\n",
        "print(len(sw))\n",
        "sw\n",
        "tweet_data=sw"
      ],
      "execution_count": null,
      "outputs": [
        {
          "output_type": "stream",
          "text": [
            "46\n"
          ],
          "name": "stdout"
        }
      ]
    },
    {
      "cell_type": "code",
      "metadata": {
        "id": "g5osq_3D24ez"
      },
      "source": [
        "#sw"
      ],
      "execution_count": null,
      "outputs": []
    },
    {
      "cell_type": "markdown",
      "metadata": {
        "id": "hPae_JUZvz_u"
      },
      "source": [
        "## Text Data Visualization"
      ]
    },
    {
      "cell_type": "markdown",
      "metadata": {
        "id": "Udm5kHF6XMTJ"
      },
      "source": [
        "### Bar Chart"
      ]
    },
    {
      "cell_type": "code",
      "metadata": {
        "id": "ysSSzMRay2xO",
        "outputId": "059271a1-53da-425c-c626-fb4bdd9350d5",
        "colab": {
          "base_uri": "https://localhost:8080/",
          "height": 34
        }
      },
      "source": [
        "token=[]\n",
        "for teks in tweet_data:\n",
        "  token1=teks.split()\n",
        "  token=token+token1\n",
        "print(len(token))\n",
        "tweet_data_token=token"
      ],
      "execution_count": null,
      "outputs": [
        {
          "output_type": "stream",
          "text": [
            "511\n"
          ],
          "name": "stdout"
        }
      ]
    },
    {
      "cell_type": "code",
      "metadata": {
        "id": "2Zt7hbQitn-k",
        "outputId": "68d5a90a-94fd-4f71-9989-9eb6dfbba0e7",
        "colab": {
          "base_uri": "https://localhost:8080/",
          "height": 266
        }
      },
      "source": [
        "from collections import Counter\n",
        "import numpy as np\n",
        "import matplotlib.pyplot as plt\n",
        "\n",
        "word_list = token\n",
        "\n",
        "counts = Counter(word_list)\n",
        "\n",
        "labels, values = zip(*counts.items())\n",
        "\n",
        "# sort your values in descending order\n",
        "indSort = np.argsort(values)[::-1]\n",
        "indSort = indSort[0:10]\n",
        "\n",
        "# rearrange your data\n",
        "labels = np.array(labels)[indSort]\n",
        "values = np.array(values)[indSort]\n",
        "\n",
        "indexes = np.arange(len(labels))\n",
        "\n",
        "bar_width = 0.6\n",
        "\n",
        "plt.bar(indexes, values)\n",
        "\n",
        "# add labels\n",
        "plt.xticks(indexes + bar_width, labels)\n",
        "plt.show()"
      ],
      "execution_count": null,
      "outputs": [
        {
          "output_type": "display_data",
          "data": {
            "image/png": "[encoded data removed]",
            "text/plain": [
              "<Figure size 432x288 with 1 Axes>"
            ]
          },
          "metadata": {
            "tags": [],
            "needs_background": "light"
          }
        }
      ]
    },
    {
      "cell_type": "code",
      "metadata": {
        "id": "r2K330Rj36Xl",
        "outputId": "496a91c7-968f-47a0-8f77-22bb1a7736ac",
        "colab": {
          "base_uri": "https://localhost:8080/",
          "height": 51
        }
      },
      "source": [
        "labels"
      ],
      "execution_count": null,
      "outputs": [
        {
          "output_type": "execute_result",
          "data": {
            "text/plain": [
              "array(['solo', 'pasang', 'pilkada', 'gibranteguh', 'bagyosupardjo',\n",
              "       'bagyo', 'supardjo', 'paslon', 'kpu', 'gibran'], dtype='<U19')"
            ]
          },
          "metadata": {
            "tags": []
          },
          "execution_count": 34
        }
      ]
    },
    {
      "cell_type": "code",
      "metadata": {
        "id": "nNhQFmuiykvX",
        "outputId": "b8422d37-bda6-4572-cbbf-e2161a152cc0",
        "colab": {
          "base_uri": "https://localhost:8080/",
          "height": 34
        }
      },
      "source": [
        "values"
      ],
      "execution_count": null,
      "outputs": [
        {
          "output_type": "execute_result",
          "data": {
            "text/plain": [
              "array([29, 24, 19, 18, 17, 17, 16, 14, 13, 12])"
            ]
          },
          "metadata": {
            "tags": []
          },
          "execution_count": 35
        }
      ]
    },
    {
      "cell_type": "markdown",
      "metadata": {
        "id": "CjrOUzjFJ10B"
      },
      "source": [
        "## Sentiment Generation Using Lexicon Based Method"
      ]
    },
    {
      "cell_type": "code",
      "metadata": {
        "id": "alWa3Bds4LU_"
      },
      "source": [
        "positive = pd.read_csv('/content/gdrive/My Drive/Sentimen Analisis/positive.txt', header=None)\n",
        "positive = positive[0].values.tolist()\n",
        "positive = '|'.join(positive)\n",
        "\n",
        "negative = pd.read_csv('/content/gdrive/My Drive/Sentimen Analisis/negative.txt', header=None)\n",
        "negative = negative[0].values.tolist()\n",
        "negative = '|'.join(negative)"
      ],
      "execution_count": null,
      "outputs": []
    },
    {
      "cell_type": "code",
      "metadata": {
        "id": "cdYmUP3gLCua",
        "outputId": "ae1b22d1-5f04-428a-984e-17e057435dc5",
        "colab": {
          "base_uri": "https://localhost:8080/",
          "height": 204
        }
      },
      "source": [
        "df = pd.DataFrame(sw) \n",
        "df.head()"
      ],
      "execution_count": null,
      "outputs": [
        {
          "output_type": "execute_result",
          "data": {
            "text/html": [
              "<div>\n",
              "<style scoped>\n",
              "    .dataframe tbody tr th:only-of-type {\n",
              "        vertical-align: middle;\n",
              "    }\n",
              "\n",
              "    .dataframe tbody tr th {\n",
              "        vertical-align: top;\n",
              "    }\n",
              "\n",
              "    .dataframe thead th {\n",
              "        text-align: right;\n",
              "    }\n",
              "</style>\n",
              "<table border=\"1\" class=\"dataframe\">\n",
              "  <thead>\n",
              "    <tr style=\"text-align: right;\">\n",
              "      <th></th>\n",
              "      <th>0</th>\n",
              "    </tr>\n",
              "  </thead>\n",
              "  <tbody>\n",
              "    <tr>\n",
              "      <th>0</th>\n",
              "      <td>gibranteguh bagyosupardjo samasama menang pilk...</td>\n",
              "    </tr>\n",
              "    <tr>\n",
              "      <th>1</th>\n",
              "      <td>pasang calon paslon pilkada solo tahap undi no...</td>\n",
              "    </tr>\n",
              "    <tr>\n",
              "      <th>2</th>\n",
              "      <td>pasang calon paslon pilkada solo tahap undi no...</td>\n",
              "    </tr>\n",
              "    <tr>\n",
              "      <th>3</th>\n",
              "      <td>selamat pagi assalamualaikum wr wb moga patuh ...</td>\n",
              "    </tr>\n",
              "    <tr>\n",
              "      <th>4</th>\n",
              "      <td>gibranteguh bagyosupardjo samasama pede menang...</td>\n",
              "    </tr>\n",
              "  </tbody>\n",
              "</table>\n",
              "</div>"
            ],
            "text/plain": [
              "                                                   0\n",
              "0  gibranteguh bagyosupardjo samasama menang pilk...\n",
              "1  pasang calon paslon pilkada solo tahap undi no...\n",
              "2  pasang calon paslon pilkada solo tahap undi no...\n",
              "3  selamat pagi assalamualaikum wr wb moga patuh ...\n",
              "4  gibranteguh bagyosupardjo samasama pede menang..."
            ]
          },
          "metadata": {
            "tags": []
          },
          "execution_count": 37
        }
      ]
    },
    {
      "cell_type": "code",
      "metadata": {
        "id": "Gh19CMBIMih6",
        "outputId": "dfeadc45-d9ae-4f63-e42b-a0166aab272b",
        "colab": {
          "base_uri": "https://localhost:8080/",
          "height": 34
        }
      },
      "source": [
        "names = df.columns.tolist()\n",
        "names[names.index(0)] = 'clean_text'\n",
        "df.columns = names\n",
        "names"
      ],
      "execution_count": null,
      "outputs": [
        {
          "output_type": "execute_result",
          "data": {
            "text/plain": [
              "['clean_text']"
            ]
          },
          "metadata": {
            "tags": []
          },
          "execution_count": 38
        }
      ]
    },
    {
      "cell_type": "code",
      "metadata": {
        "id": "cPC1eYvqMyqy",
        "outputId": "0c3ffe3b-1379-45ec-878d-115e590de31f",
        "colab": {
          "base_uri": "https://localhost:8080/",
          "height": 204
        }
      },
      "source": [
        "df.tail()"
      ],
      "execution_count": null,
      "outputs": [
        {
          "output_type": "execute_result",
          "data": {
            "text/html": [
              "<div>\n",
              "<style scoped>\n",
              "    .dataframe tbody tr th:only-of-type {\n",
              "        vertical-align: middle;\n",
              "    }\n",
              "\n",
              "    .dataframe tbody tr th {\n",
              "        vertical-align: top;\n",
              "    }\n",
              "\n",
              "    .dataframe thead th {\n",
              "        text-align: right;\n",
              "    }\n",
              "</style>\n",
              "<table border=\"1\" class=\"dataframe\">\n",
              "  <thead>\n",
              "    <tr style=\"text-align: right;\">\n",
              "      <th></th>\n",
              "      <th>clean_text</th>\n",
              "    </tr>\n",
              "  </thead>\n",
              "  <tbody>\n",
              "    <tr>\n",
              "      <th>41</th>\n",
              "      <td>gibranteguh amp bagyosupardjo samasama tak uang</td>\n",
              "    </tr>\n",
              "    <tr>\n",
              "      <th>42</th>\n",
              "      <td>pasang bagyo wahyono fx supardjo bajo ramai pi...</td>\n",
              "    </tr>\n",
              "    <tr>\n",
              "      <th>43</th>\n",
              "      <td>kisah warga solo rela serah ktp dukung calon i...</td>\n",
              "    </tr>\n",
              "    <tr>\n",
              "      <th>44</th>\n",
              "      <td>kpu verifikasi ktp warga solo dukung bagyosupa...</td>\n",
              "    </tr>\n",
              "    <tr>\n",
              "      <th>45</th>\n",
              "      <td>rival dlm calon gibran rakabuming raka teguh p...</td>\n",
              "    </tr>\n",
              "  </tbody>\n",
              "</table>\n",
              "</div>"
            ],
            "text/plain": [
              "                                           clean_text\n",
              "41    gibranteguh amp bagyosupardjo samasama tak uang\n",
              "42  pasang bagyo wahyono fx supardjo bajo ramai pi...\n",
              "43  kisah warga solo rela serah ktp dukung calon i...\n",
              "44  kpu verifikasi ktp warga solo dukung bagyosupa...\n",
              "45  rival dlm calon gibran rakabuming raka teguh p..."
            ]
          },
          "metadata": {
            "tags": []
          },
          "execution_count": 39
        }
      ]
    },
    {
      "cell_type": "code",
      "metadata": {
        "id": "MsYJM2MVOurW"
      },
      "source": [
        "df=df.drop(df[df.clean_text.map(len)==0].index)"
      ],
      "execution_count": null,
      "outputs": []
    },
    {
      "cell_type": "code",
      "metadata": {
        "id": "_BDIg8sQNagG"
      },
      "source": [
        "a=0\n",
        "for i in df.clean_text:\n",
        "  kata_positif= len(re.findall(positive, i))\n",
        "  #print(kata_positif)\n",
        "  jumlah_kata = len(i.split())\n",
        "  #print(jumlah_kata)\n",
        "  positive_score = kata_positif/jumlah_kata\n",
        "  #print(positive_score)\n",
        "  a=a+1\n",
        "  #print(a)"
      ],
      "execution_count": null,
      "outputs": []
    },
    {
      "cell_type": "code",
      "metadata": {
        "id": "uHlzR0wvLWeG"
      },
      "source": [
        "df['positive'] = [len(re.findall(positive, i.lower())) / len(i.split()) for i in df.clean_text]\n",
        "df['negative'] = [len(re.findall(negative, i.lower())) / len(i.split()) for i in df.clean_text]"
      ],
      "execution_count": null,
      "outputs": []
    },
    {
      "cell_type": "code",
      "metadata": {
        "id": "jWnproENMHPA"
      },
      "source": [
        "df['sentimen'] = ['positive' if df.iloc[i].positive >= df.iloc[i].negative else 'negative' for i in range(df.shape[0])]"
      ],
      "execution_count": null,
      "outputs": []
    },
    {
      "cell_type": "code",
      "metadata": {
        "id": "t8IwiEgFRY5O"
      },
      "source": [
        "df['score'] = df['positive']- df['negative']"
      ],
      "execution_count": null,
      "outputs": []
    },
    {
      "cell_type": "code",
      "metadata": {
        "id": "-3z2UH0aRa92"
      },
      "source": [
        "def sentimen(df):\n",
        "    if df['score'] > 0:\n",
        "        val = \"Positive\"\n",
        "    elif df['score'] == 0:\n",
        "        val = \"Neutral\"\n",
        "    else:\n",
        "        val = \"Negative\"\n",
        "    return val"
      ],
      "execution_count": null,
      "outputs": []
    },
    {
      "cell_type": "code",
      "metadata": {
        "id": "jjFxOtuFRcwF",
        "outputId": "3c058f38-54c6-4ffd-d44a-20a35cde8081",
        "colab": {
          "base_uri": "https://localhost:8080/",
          "height": 204
        }
      },
      "source": [
        "df.head()"
      ],
      "execution_count": null,
      "outputs": [
        {
          "output_type": "execute_result",
          "data": {
            "text/html": [
              "<div>\n",
              "<style scoped>\n",
              "    .dataframe tbody tr th:only-of-type {\n",
              "        vertical-align: middle;\n",
              "    }\n",
              "\n",
              "    .dataframe tbody tr th {\n",
              "        vertical-align: top;\n",
              "    }\n",
              "\n",
              "    .dataframe thead th {\n",
              "        text-align: right;\n",
              "    }\n",
              "</style>\n",
              "<table border=\"1\" class=\"dataframe\">\n",
              "  <thead>\n",
              "    <tr style=\"text-align: right;\">\n",
              "      <th></th>\n",
              "      <th>clean_text</th>\n",
              "      <th>positive</th>\n",
              "      <th>negative</th>\n",
              "      <th>sentimen</th>\n",
              "      <th>score</th>\n",
              "    </tr>\n",
              "  </thead>\n",
              "  <tbody>\n",
              "    <tr>\n",
              "      <th>0</th>\n",
              "      <td>gibranteguh bagyosupardjo samasama menang pilk...</td>\n",
              "      <td>0.333333</td>\n",
              "      <td>0.166667</td>\n",
              "      <td>positive</td>\n",
              "      <td>0.166667</td>\n",
              "    </tr>\n",
              "    <tr>\n",
              "      <th>1</th>\n",
              "      <td>pasang calon paslon pilkada solo tahap undi no...</td>\n",
              "      <td>0.285714</td>\n",
              "      <td>0.071429</td>\n",
              "      <td>positive</td>\n",
              "      <td>0.214286</td>\n",
              "    </tr>\n",
              "    <tr>\n",
              "      <th>2</th>\n",
              "      <td>pasang calon paslon pilkada solo tahap undi no...</td>\n",
              "      <td>0.307692</td>\n",
              "      <td>0.076923</td>\n",
              "      <td>positive</td>\n",
              "      <td>0.230769</td>\n",
              "    </tr>\n",
              "    <tr>\n",
              "      <th>3</th>\n",
              "      <td>selamat pagi assalamualaikum wr wb moga patuh ...</td>\n",
              "      <td>0.307692</td>\n",
              "      <td>0.153846</td>\n",
              "      <td>positive</td>\n",
              "      <td>0.153846</td>\n",
              "    </tr>\n",
              "    <tr>\n",
              "      <th>4</th>\n",
              "      <td>gibranteguh bagyosupardjo samasama pede menang...</td>\n",
              "      <td>0.285714</td>\n",
              "      <td>0.142857</td>\n",
              "      <td>positive</td>\n",
              "      <td>0.142857</td>\n",
              "    </tr>\n",
              "  </tbody>\n",
              "</table>\n",
              "</div>"
            ],
            "text/plain": [
              "                                          clean_text  ...     score\n",
              "0  gibranteguh bagyosupardjo samasama menang pilk...  ...  0.166667\n",
              "1  pasang calon paslon pilkada solo tahap undi no...  ...  0.214286\n",
              "2  pasang calon paslon pilkada solo tahap undi no...  ...  0.230769\n",
              "3  selamat pagi assalamualaikum wr wb moga patuh ...  ...  0.153846\n",
              "4  gibranteguh bagyosupardjo samasama pede menang...  ...  0.142857\n",
              "\n",
              "[5 rows x 5 columns]"
            ]
          },
          "metadata": {
            "tags": []
          },
          "execution_count": 47
        }
      ]
    },
    {
      "cell_type": "code",
      "metadata": {
        "id": "tVM9fNAcSB3R",
        "outputId": "dd7e5cc6-3d27-4e5e-dee5-a8e8b6a40c5f",
        "colab": {
          "base_uri": "https://localhost:8080/",
          "height": 71
        }
      },
      "source": [
        "import matplotlib.pyplot as plt\n",
        "import pandas as pd\n",
        "import seaborn as sns"
      ],
      "execution_count": null,
      "outputs": [
        {
          "output_type": "stream",
          "text": [
            "/usr/local/lib/python3.6/dist-packages/statsmodels/tools/_testing.py:19: FutureWarning: pandas.util.testing is deprecated. Use the functions in the public API at pandas.testing instead.\n",
            "  import pandas.util.testing as tm\n"
          ],
          "name": "stderr"
        }
      ]
    },
    {
      "cell_type": "code",
      "metadata": {
        "id": "Ak3Hayn3RgmZ",
        "outputId": "5995cdb3-1fe6-4ab1-87e6-7f7d067031e2",
        "colab": {
          "base_uri": "https://localhost:8080/",
          "height": 68
        }
      },
      "source": [
        "df['sentimen'].value_counts()"
      ],
      "execution_count": null,
      "outputs": [
        {
          "output_type": "execute_result",
          "data": {
            "text/plain": [
              "positive    42\n",
              "negative     4\n",
              "Name: sentimen, dtype: int64"
            ]
          },
          "metadata": {
            "tags": []
          },
          "execution_count": 49
        }
      ]
    },
    {
      "cell_type": "code",
      "metadata": {
        "id": "duVoIAFASKmC",
        "outputId": "25640160-6cc8-4bbe-a735-4c0e4a9209a9",
        "colab": {
          "base_uri": "https://localhost:8080/",
          "height": 299
        }
      },
      "source": [
        "df['sentimen'].value_counts().plot(kind='bar');"
      ],
      "execution_count": null,
      "outputs": [
        {
          "output_type": "display_data",
          "data": {
            "image/png": "[encoded data removed]",
            "text/plain": [
              "<Figure size 432x288 with 1 Axes>"
            ]
          },
          "metadata": {
            "tags": [],
            "needs_background": "light"
          }
        }
      ]
    },
    {
      "cell_type": "code",
      "metadata": {
        "id": "iaZsUwonSqiU"
      },
      "source": [
        ""
      ],
      "execution_count": null,
      "outputs": []
    }
  ]
}